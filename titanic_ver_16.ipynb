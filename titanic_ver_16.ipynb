{
  "nbformat": 4,
  "nbformat_minor": 0,
  "metadata": {
    "colab": {
      "name": "titanic_ver 16.ipynb",
      "provenance": [],
      "authorship_tag": "ABX9TyPpgI6OYV6ueoWNfiTOgBbW",
      "include_colab_link": true
    },
    "kernelspec": {
      "name": "python3",
      "display_name": "Python 3"
    }
  },
  "cells": [
    {
      "cell_type": "markdown",
      "metadata": {
        "id": "view-in-github",
        "colab_type": "text"
      },
      "source": [
        "<a href=\"https://colab.research.google.com/github/cjstntjd/machine/blob/master/titanic_ver_16.ipynb\" target=\"_parent\"><img src=\"https://colab.research.google.com/assets/colab-badge.svg\" alt=\"Open In Colab\"/></a>"
      ]
    },
    {
      "cell_type": "code",
      "metadata": {
        "id": "QhefEw01zjhn",
        "colab_type": "code",
        "outputId": "b49d2920-2df6-466d-9a05-6c397c44a18b",
        "colab": {
          "base_uri": "https://localhost:8080/",
          "height": 125
        }
      },
      "source": [
        "from google.colab import drive\n",
        "drive.mount('/gdrive',force_remount=True)"
      ],
      "execution_count": 1,
      "outputs": [
        {
          "output_type": "stream",
          "text": [
            "Go to this URL in a browser: https://accounts.google.com/o/oauth2/auth?client_id=947318989803-6bn6qk8qdgf4n4g3pfee6491hc0brc4i.apps.googleusercontent.com&redirect_uri=urn%3aietf%3awg%3aoauth%3a2.0%3aoob&response_type=code&scope=email%20https%3a%2f%2fwww.googleapis.com%2fauth%2fdocs.test%20https%3a%2f%2fwww.googleapis.com%2fauth%2fdrive%20https%3a%2f%2fwww.googleapis.com%2fauth%2fdrive.photos.readonly%20https%3a%2f%2fwww.googleapis.com%2fauth%2fpeopleapi.readonly\n",
            "\n",
            "Enter your authorization code:\n",
            "··········\n",
            "Mounted at /gdrive\n"
          ],
          "name": "stdout"
        }
      ]
    },
    {
      "cell_type": "code",
      "metadata": {
        "id": "vYFudphl2cYR",
        "colab_type": "code",
        "outputId": "0238ac1a-42c7-4b54-f6db-431315e87804",
        "colab": {
          "resources": {
            "http://localhost:8080/nbextensions/google.colab/files.js": {
              "data": "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",
              "ok": true,
              "headers": [
                [
                  "content-type",
                  "application/javascript"
                ]
              ],
              "status": 200,
              "status_text": ""
            }
          },
          "base_uri": "https://localhost:8080/",
          "height": 310
        }
      },
      "source": [
        "!pip install kaggle\n",
        "from google.colab import files\n",
        "files.upload()"
      ],
      "execution_count": 2,
      "outputs": [
        {
          "output_type": "stream",
          "text": [
            "Requirement already satisfied: kaggle in /usr/local/lib/python3.6/dist-packages (1.5.6)\n",
            "Requirement already satisfied: requests in /usr/local/lib/python3.6/dist-packages (from kaggle) (2.21.0)\n",
            "Requirement already satisfied: python-dateutil in /usr/local/lib/python3.6/dist-packages (from kaggle) (2.6.1)\n",
            "Requirement already satisfied: tqdm in /usr/local/lib/python3.6/dist-packages (from kaggle) (4.28.1)\n",
            "Requirement already satisfied: python-slugify in /usr/local/lib/python3.6/dist-packages (from kaggle) (4.0.0)\n",
            "Requirement already satisfied: certifi in /usr/local/lib/python3.6/dist-packages (from kaggle) (2019.11.28)\n",
            "Requirement already satisfied: six>=1.10 in /usr/local/lib/python3.6/dist-packages (from kaggle) (1.12.0)\n",
            "Requirement already satisfied: urllib3<1.25,>=1.21.1 in /usr/local/lib/python3.6/dist-packages (from kaggle) (1.24.3)\n",
            "Requirement already satisfied: chardet<3.1.0,>=3.0.2 in /usr/local/lib/python3.6/dist-packages (from requests->kaggle) (3.0.4)\n",
            "Requirement already satisfied: idna<2.9,>=2.5 in /usr/local/lib/python3.6/dist-packages (from requests->kaggle) (2.8)\n",
            "Requirement already satisfied: text-unidecode>=1.3 in /usr/local/lib/python3.6/dist-packages (from python-slugify->kaggle) (1.3)\n"
          ],
          "name": "stdout"
        },
        {
          "output_type": "display_data",
          "data": {
            "text/html": [
              "\n",
              "     <input type=\"file\" id=\"files-3c86b3f6-f72a-40a0-8979-9a4116740eb1\" name=\"files[]\" multiple disabled />\n",
              "     <output id=\"result-3c86b3f6-f72a-40a0-8979-9a4116740eb1\">\n",
              "      Upload widget is only available when the cell has been executed in the\n",
              "      current browser session. Please rerun this cell to enable.\n",
              "      </output>\n",
              "      <script src=\"/nbextensions/google.colab/files.js\"></script> "
            ],
            "text/plain": [
              "<IPython.core.display.HTML object>"
            ]
          },
          "metadata": {
            "tags": []
          }
        },
        {
          "output_type": "stream",
          "text": [
            "Saving kaggle.json to kaggle.json\n"
          ],
          "name": "stdout"
        },
        {
          "output_type": "execute_result",
          "data": {
            "text/plain": [
              "{'kaggle.json': b'{\"username\":\"jeongneopzi\",\"key\":\"414dfe513ba5e8a72f586027365c5089\"}'}"
            ]
          },
          "metadata": {
            "tags": []
          },
          "execution_count": 2
        }
      ]
    },
    {
      "cell_type": "code",
      "metadata": {
        "id": "lqoAMJGSEFVU",
        "colab_type": "code",
        "outputId": "7a9863ef-3aa9-479c-d222-66b066c8f0bf",
        "colab": {
          "base_uri": "https://localhost:8080/",
          "height": 194
        }
      },
      "source": [
        "!mkdir -p ~/.kaggle\n",
        "!cp kaggle.json ~/.kaggle/\n",
        "\n",
        "!chmod 600 ~/.kaggle/kaggle.json\n",
        "\n",
        "!kaggle competitions download -c titanic"
      ],
      "execution_count": 3,
      "outputs": [
        {
          "output_type": "stream",
          "text": [
            "Warning: Looks like you're using an outdated API Version, please consider updating (server 1.5.6 / client 1.5.4)\n",
            "Downloading train.csv to /content\n",
            "  0% 0.00/59.8k [00:00<?, ?B/s]\n",
            "100% 59.8k/59.8k [00:00<00:00, 50.4MB/s]\n",
            "Downloading gender_submission.csv to /content\n",
            "  0% 0.00/3.18k [00:00<?, ?B/s]\n",
            "100% 3.18k/3.18k [00:00<00:00, 3.08MB/s]\n",
            "Downloading test.csv to /content\n",
            "  0% 0.00/28.0k [00:00<?, ?B/s]\n",
            "100% 28.0k/28.0k [00:00<00:00, 24.0MB/s]\n"
          ],
          "name": "stdout"
        }
      ]
    },
    {
      "cell_type": "markdown",
      "metadata": {
        "id": "uY03lv4GJri-",
        "colab_type": "text"
      },
      "source": [
        "# 타이타닉 모델링\n",
        "\n",
        "1. 들어가기 \n",
        "\n",
        "2. 데이터 불러오기 \n",
        "\n",
        "3. 특성분석\n",
        "\n",
        "4. 빈칸채우기\n",
        "\n",
        "5. feature engineering\n",
        "\n",
        "6. 모델링\n"
      ]
    },
    {
      "cell_type": "markdown",
      "metadata": {
        "id": "EJEY8YEQKwY6",
        "colab_type": "text"
      },
      "source": [
        "# 들어가기\n",
        "\n",
        "### 타이타닉????\n",
        "\n",
        "RMS 타이타닉(통용: RMS 타이타닉, 영어: RMS Titanic)은 영국의 화이트 스타 라인이 운영한 북대서양 횡단 여객선이다. \n",
        "\n",
        "1912년 4월 10일 영국의 사우샘프턴을 떠나 미국의 뉴욕으로 향하던 첫 항해 중에 4월 15일 빙산과 충돌하여 침몰하였다. \n",
        "\n",
        "타이타닉의 침몰로 1,514명이 사망하였으며, 이는 평화시 해난 사고 가운데 가장 큰 인명피해이다.\n",
        "\n",
        "RMS 타이타닉은 첫 항해 당시 세계에서 가장 큰 배 가운데 하나였다.\n",
        "\n",
        " 화이트 스타 라인 사는 RMS 올림픽을 시작으로 세 척의 올림픽급 여객선을 운용하였으며, RMS 타이타닉 역시 그 가운데 하나였다.\n",
        " \n",
        "  RMS 타이타닉은 벨파스트에 있는 해럴드 앤 울프 사가 1909년 건조를 시작하여 1911년 5월 31일 진수하였다.\n",
        "\n",
        "첫 항해에 오른 승객은 다양했으며 이 가운데에는 매우 부유한 사람들도 있었다. \n",
        "\n",
        "대다수는 영국과 스칸다나비아 반도 등에서 새로운 삶을 찾아 미국으로 가는 이민자들이었다. 출항 당시 승선 인원은 2,223 명이었다.\n",
        "\n",
        "타이타닉호는 선내에 체육관과 수영장, 그외 호화로운 부대시설을 갖추고 있었다.\n",
        "\n",
        "그런데 느슨한 규제 때문에 구명정은 20척 밖에 없었다. 구명정의 정원은 1,178명이었다. 1912년 4월 14일 오후 11시 40분(선내 시각, GMT -3)빙산과 충돌하였고 이 때문에 주갑판이 함몰되면서 우현에 구멍이 났다.\n",
        "\n",
        " 구멍으로 물이 들어오기 시작한 지 2시간 40분만에 완전히 침수되어 침몰하였다. \n",
        " \n",
        " 타이타닉호는 방수용 격벽이 설계되어 있었고 문들도 물을 차단할 수 있도록 설계되었으나 실제 사고에선 역부족이었다.\n",
        " \n",
        "  구명정에 타지 못한 채 바다로 뛰어든 수많은 사람들은 수 분 내에 저체온증으로 사망하였다.\n",
        "  \n",
        "   침몰할 당시까지도 배에는 1000여명의 사람들이 남아 있었다. 구명정을 타고 있다가 몇 시간 뒤에 RMS 카르파티아에 의해 구조된 사람은 706명에 불과하였다."
      ]
    },
    {
      "cell_type": "markdown",
      "metadata": {
        "id": "tKI8bKGdLO9g",
        "colab_type": "text"
      },
      "source": [
        "# 라이브러리 import + 데이터 불러오기"
      ]
    },
    {
      "cell_type": "code",
      "metadata": {
        "id": "GiLp4p5oIq-m",
        "colab_type": "code",
        "colab": {}
      },
      "source": [
        "import pandas as pd\n",
        "import numpy as np\n",
        "import matplotlib.pyplot as plt\n",
        "import seaborn as sns\n",
        "%matplotlib inline\n",
        "\n",
        "from collections import Counter\n",
        "\n",
        "from sklearn.ensemble import RandomForestClassifier, AdaBoostClassifier, GradientBoostingClassifier, ExtraTreesClassifier, VotingClassifier\n",
        "from sklearn.discriminant_analysis import LinearDiscriminantAnalysis\n",
        "from sklearn.linear_model import LogisticRegression\n",
        "from sklearn.neighbors import KNeighborsClassifier\n",
        "from sklearn.tree import DecisionTreeClassifier\n",
        "from sklearn.neural_network import MLPClassifier\n",
        "from sklearn.svm import SVC\n",
        "from sklearn.model_selection import GridSearchCV, cross_val_score, StratifiedKFold, learning_curve\n",
        "\n",
        "sns.set(style='white', context='notebook', palette='deep')\n",
        "\n"
      ],
      "execution_count": 0,
      "outputs": []
    },
    {
      "cell_type": "code",
      "metadata": {
        "id": "WYC2RA9RJYin",
        "colab_type": "code",
        "colab": {}
      },
      "source": [
        "train = pd.read_csv('train.csv')\n",
        "test  = pd.read_csv('test.csv')\n",
        "IDtest = test[\"PassengerId\"]"
      ],
      "execution_count": 0,
      "outputs": []
    },
    {
      "cell_type": "code",
      "metadata": {
        "id": "ikhFLCoHOgi6",
        "colab_type": "code",
        "outputId": "755ca350-7c06-4026-d090-739cad2eaf69",
        "colab": {
          "base_uri": "https://localhost:8080/",
          "height": 297
        }
      },
      "source": [
        "train.head()"
      ],
      "execution_count": 6,
      "outputs": [
        {
          "output_type": "execute_result",
          "data": {
            "text/html": [
              "<div>\n",
              "<style scoped>\n",
              "    .dataframe tbody tr th:only-of-type {\n",
              "        vertical-align: middle;\n",
              "    }\n",
              "\n",
              "    .dataframe tbody tr th {\n",
              "        vertical-align: top;\n",
              "    }\n",
              "\n",
              "    .dataframe thead th {\n",
              "        text-align: right;\n",
              "    }\n",
              "</style>\n",
              "<table border=\"1\" class=\"dataframe\">\n",
              "  <thead>\n",
              "    <tr style=\"text-align: right;\">\n",
              "      <th></th>\n",
              "      <th>PassengerId</th>\n",
              "      <th>Survived</th>\n",
              "      <th>Pclass</th>\n",
              "      <th>Name</th>\n",
              "      <th>Sex</th>\n",
              "      <th>Age</th>\n",
              "      <th>SibSp</th>\n",
              "      <th>Parch</th>\n",
              "      <th>Ticket</th>\n",
              "      <th>Fare</th>\n",
              "      <th>Cabin</th>\n",
              "      <th>Embarked</th>\n",
              "    </tr>\n",
              "  </thead>\n",
              "  <tbody>\n",
              "    <tr>\n",
              "      <th>0</th>\n",
              "      <td>1</td>\n",
              "      <td>0</td>\n",
              "      <td>3</td>\n",
              "      <td>Braund, Mr. Owen Harris</td>\n",
              "      <td>male</td>\n",
              "      <td>22.0</td>\n",
              "      <td>1</td>\n",
              "      <td>0</td>\n",
              "      <td>A/5 21171</td>\n",
              "      <td>7.2500</td>\n",
              "      <td>NaN</td>\n",
              "      <td>S</td>\n",
              "    </tr>\n",
              "    <tr>\n",
              "      <th>1</th>\n",
              "      <td>2</td>\n",
              "      <td>1</td>\n",
              "      <td>1</td>\n",
              "      <td>Cumings, Mrs. John Bradley (Florence Briggs Th...</td>\n",
              "      <td>female</td>\n",
              "      <td>38.0</td>\n",
              "      <td>1</td>\n",
              "      <td>0</td>\n",
              "      <td>PC 17599</td>\n",
              "      <td>71.2833</td>\n",
              "      <td>C85</td>\n",
              "      <td>C</td>\n",
              "    </tr>\n",
              "    <tr>\n",
              "      <th>2</th>\n",
              "      <td>3</td>\n",
              "      <td>1</td>\n",
              "      <td>3</td>\n",
              "      <td>Heikkinen, Miss. Laina</td>\n",
              "      <td>female</td>\n",
              "      <td>26.0</td>\n",
              "      <td>0</td>\n",
              "      <td>0</td>\n",
              "      <td>STON/O2. 3101282</td>\n",
              "      <td>7.9250</td>\n",
              "      <td>NaN</td>\n",
              "      <td>S</td>\n",
              "    </tr>\n",
              "    <tr>\n",
              "      <th>3</th>\n",
              "      <td>4</td>\n",
              "      <td>1</td>\n",
              "      <td>1</td>\n",
              "      <td>Futrelle, Mrs. Jacques Heath (Lily May Peel)</td>\n",
              "      <td>female</td>\n",
              "      <td>35.0</td>\n",
              "      <td>1</td>\n",
              "      <td>0</td>\n",
              "      <td>113803</td>\n",
              "      <td>53.1000</td>\n",
              "      <td>C123</td>\n",
              "      <td>S</td>\n",
              "    </tr>\n",
              "    <tr>\n",
              "      <th>4</th>\n",
              "      <td>5</td>\n",
              "      <td>0</td>\n",
              "      <td>3</td>\n",
              "      <td>Allen, Mr. William Henry</td>\n",
              "      <td>male</td>\n",
              "      <td>35.0</td>\n",
              "      <td>0</td>\n",
              "      <td>0</td>\n",
              "      <td>373450</td>\n",
              "      <td>8.0500</td>\n",
              "      <td>NaN</td>\n",
              "      <td>S</td>\n",
              "    </tr>\n",
              "  </tbody>\n",
              "</table>\n",
              "</div>"
            ],
            "text/plain": [
              "   PassengerId  Survived  Pclass  ...     Fare Cabin  Embarked\n",
              "0            1         0       3  ...   7.2500   NaN         S\n",
              "1            2         1       1  ...  71.2833   C85         C\n",
              "2            3         1       3  ...   7.9250   NaN         S\n",
              "3            4         1       1  ...  53.1000  C123         S\n",
              "4            5         0       3  ...   8.0500   NaN         S\n",
              "\n",
              "[5 rows x 12 columns]"
            ]
          },
          "metadata": {
            "tags": []
          },
          "execution_count": 6
        }
      ]
    },
    {
      "cell_type": "code",
      "metadata": {
        "id": "SfnyRuvGOjoa",
        "colab_type": "code",
        "outputId": "03044862-8762-4baf-e75a-72db920fe1f0",
        "colab": {
          "base_uri": "https://localhost:8080/",
          "height": 214
        }
      },
      "source": [
        "test.head()"
      ],
      "execution_count": 7,
      "outputs": [
        {
          "output_type": "execute_result",
          "data": {
            "text/html": [
              "<div>\n",
              "<style scoped>\n",
              "    .dataframe tbody tr th:only-of-type {\n",
              "        vertical-align: middle;\n",
              "    }\n",
              "\n",
              "    .dataframe tbody tr th {\n",
              "        vertical-align: top;\n",
              "    }\n",
              "\n",
              "    .dataframe thead th {\n",
              "        text-align: right;\n",
              "    }\n",
              "</style>\n",
              "<table border=\"1\" class=\"dataframe\">\n",
              "  <thead>\n",
              "    <tr style=\"text-align: right;\">\n",
              "      <th></th>\n",
              "      <th>PassengerId</th>\n",
              "      <th>Pclass</th>\n",
              "      <th>Name</th>\n",
              "      <th>Sex</th>\n",
              "      <th>Age</th>\n",
              "      <th>SibSp</th>\n",
              "      <th>Parch</th>\n",
              "      <th>Ticket</th>\n",
              "      <th>Fare</th>\n",
              "      <th>Cabin</th>\n",
              "      <th>Embarked</th>\n",
              "    </tr>\n",
              "  </thead>\n",
              "  <tbody>\n",
              "    <tr>\n",
              "      <th>0</th>\n",
              "      <td>892</td>\n",
              "      <td>3</td>\n",
              "      <td>Kelly, Mr. James</td>\n",
              "      <td>male</td>\n",
              "      <td>34.5</td>\n",
              "      <td>0</td>\n",
              "      <td>0</td>\n",
              "      <td>330911</td>\n",
              "      <td>7.8292</td>\n",
              "      <td>NaN</td>\n",
              "      <td>Q</td>\n",
              "    </tr>\n",
              "    <tr>\n",
              "      <th>1</th>\n",
              "      <td>893</td>\n",
              "      <td>3</td>\n",
              "      <td>Wilkes, Mrs. James (Ellen Needs)</td>\n",
              "      <td>female</td>\n",
              "      <td>47.0</td>\n",
              "      <td>1</td>\n",
              "      <td>0</td>\n",
              "      <td>363272</td>\n",
              "      <td>7.0000</td>\n",
              "      <td>NaN</td>\n",
              "      <td>S</td>\n",
              "    </tr>\n",
              "    <tr>\n",
              "      <th>2</th>\n",
              "      <td>894</td>\n",
              "      <td>2</td>\n",
              "      <td>Myles, Mr. Thomas Francis</td>\n",
              "      <td>male</td>\n",
              "      <td>62.0</td>\n",
              "      <td>0</td>\n",
              "      <td>0</td>\n",
              "      <td>240276</td>\n",
              "      <td>9.6875</td>\n",
              "      <td>NaN</td>\n",
              "      <td>Q</td>\n",
              "    </tr>\n",
              "    <tr>\n",
              "      <th>3</th>\n",
              "      <td>895</td>\n",
              "      <td>3</td>\n",
              "      <td>Wirz, Mr. Albert</td>\n",
              "      <td>male</td>\n",
              "      <td>27.0</td>\n",
              "      <td>0</td>\n",
              "      <td>0</td>\n",
              "      <td>315154</td>\n",
              "      <td>8.6625</td>\n",
              "      <td>NaN</td>\n",
              "      <td>S</td>\n",
              "    </tr>\n",
              "    <tr>\n",
              "      <th>4</th>\n",
              "      <td>896</td>\n",
              "      <td>3</td>\n",
              "      <td>Hirvonen, Mrs. Alexander (Helga E Lindqvist)</td>\n",
              "      <td>female</td>\n",
              "      <td>22.0</td>\n",
              "      <td>1</td>\n",
              "      <td>1</td>\n",
              "      <td>3101298</td>\n",
              "      <td>12.2875</td>\n",
              "      <td>NaN</td>\n",
              "      <td>S</td>\n",
              "    </tr>\n",
              "  </tbody>\n",
              "</table>\n",
              "</div>"
            ],
            "text/plain": [
              "   PassengerId  Pclass  ... Cabin Embarked\n",
              "0          892       3  ...   NaN        Q\n",
              "1          893       3  ...   NaN        S\n",
              "2          894       2  ...   NaN        Q\n",
              "3          895       3  ...   NaN        S\n",
              "4          896       3  ...   NaN        S\n",
              "\n",
              "[5 rows x 11 columns]"
            ]
          },
          "metadata": {
            "tags": []
          },
          "execution_count": 7
        }
      ]
    },
    {
      "cell_type": "markdown",
      "metadata": {
        "id": "DgRXY7W0Otsu",
        "colab_type": "text"
      },
      "source": [
        "# Feature 설명\n",
        "\n",
        "survived : 생존=1, 죽음=0\n",
        "\n",
        "pclass : 승객 등급. 1등급=1, 2등급=2, 3등급=3\n",
        "\n",
        "sibsp : 함께 탑승한 형제 또는 배우자 수\n",
        "\n",
        "parch : 함께 탑승한 부모 또는 자녀 수\n",
        "\n",
        "ticket : 티켓 번호\n",
        "\n",
        "cabin : 선실 번호\n",
        "\n",
        "Fare : 요금\n",
        "\n",
        "embarked : 탑승장소 S=Southhampton, C=Cherbourg, \n",
        "Q=Queenstown\n",
        "\n",
        "1등급의 가격은 3등급의 10배 \n",
        "\n",
        "no value끼리 연관성을 파악해서 데이터 끼리의 연관성을 검증할것"
      ]
    },
    {
      "cell_type": "code",
      "metadata": {
        "id": "l-SgX-TDOntp",
        "colab_type": "code",
        "outputId": "8e1fa916-307c-43f3-ef81-fa656f764ecf",
        "colab": {
          "base_uri": "https://localhost:8080/",
          "height": 318
        }
      },
      "source": [
        "train.info()"
      ],
      "execution_count": 8,
      "outputs": [
        {
          "output_type": "stream",
          "text": [
            "<class 'pandas.core.frame.DataFrame'>\n",
            "RangeIndex: 891 entries, 0 to 890\n",
            "Data columns (total 12 columns):\n",
            "PassengerId    891 non-null int64\n",
            "Survived       891 non-null int64\n",
            "Pclass         891 non-null int64\n",
            "Name           891 non-null object\n",
            "Sex            891 non-null object\n",
            "Age            714 non-null float64\n",
            "SibSp          891 non-null int64\n",
            "Parch          891 non-null int64\n",
            "Ticket         891 non-null object\n",
            "Fare           891 non-null float64\n",
            "Cabin          204 non-null object\n",
            "Embarked       889 non-null object\n",
            "dtypes: float64(2), int64(5), object(5)\n",
            "memory usage: 83.7+ KB\n"
          ],
          "name": "stdout"
        }
      ]
    },
    {
      "cell_type": "code",
      "metadata": {
        "id": "bvidDa3ROqTw",
        "colab_type": "code",
        "colab": {}
      },
      "source": [
        ""
      ],
      "execution_count": 0,
      "outputs": []
    },
    {
      "cell_type": "markdown",
      "metadata": {
        "id": "h86BpptkLoOg",
        "colab_type": "text"
      },
      "source": [
        "# 데이터 특성 분석 및 결측값 찾기 \n",
        "\n",
        "##결측치와 이상치 처리\n",
        "\n",
        "결측치 비율에 따른 변수 제거\n",
        "\n",
        "결측치가 10%이하인 경우 : 해당 표본을 제거하거나 imputation\n",
        "결측치가 20%이상인 경우 : 해당 변수 제거 or imputation\n",
        "데이터량 확인\n",
        "\n",
        "통상적으로 변수 수의 최소 3배 이상이 되어야 한다.\n",
        "데이터량이 충분히 확보될 수 있도록 기준 기간을 산정하여야 한다.\n",
        "\n",
        "##이상치 \n",
        "\n",
        "변수의 분포에서 비정상적으로 벗어난 값. \n",
        "\n",
        "## 이상치 판정 방법론\n",
        "\n",
        "Box-plot : (제3분위수 - 제1분위수) *1.5 + (제1분위수) < x 이거나 제3분위수 - 제1분위수) *1.5 + (제3분위수) > x이면 이상치\n",
        "\n",
        "3-sigma : 일변량 자료들 중 평균 ± 3*표준편차를 벗어나는 것들을 비정상이라 규정(정규분포 기반)\n",
        "\n",
        "## 이상치 처리 방법\n",
        "\n",
        "제거 : 자료가 많지 않은 경우 권장하지 않음\n",
        "\n",
        "대체 : 자료의 하한 또는 상한값으로 대체"
      ]
    },
    {
      "cell_type": "code",
      "metadata": {
        "id": "J6iqnzD1LxRF",
        "colab_type": "code",
        "colab": {}
      },
      "source": [
        "#위에 적힌 그대로 코드화 시키자 \n",
        "def detect_outliers(df,n,features):\n",
        "    \n",
        "    outlier_list = []\n",
        "    \n",
        "    \n",
        "    for col in features:\n",
        "        # 25% 1분위수찾기\n",
        "        Q1 = np.percentile(df[col], 25)\n",
        "\n",
        "        # 75% 3분위수 찾기\n",
        "        Q3 = np.percentile(df[col],75)\n",
        "\n",
        "        # 두개 빼기 이걸 IQR이라고 부름\n",
        "        IQR = Q3 - Q1\n",
        "        \n",
        "        # 이상치 범위\n",
        "        outlier_step = 1.5 * IQR\n",
        "        \n",
        "        # 그 안에 포함되는지 아니면 벗어나는지 찾기\n",
        "        outlier_list_col = df[(df[col] < Q1 - outlier_step) | (df[col] > Q3 + outlier_step )].index\n",
        "        \n",
        "        # 집어넣기\n",
        "        outlier_list.extend(outlier_list_col)\n",
        "        \n",
        "   \n",
        "    outlier_list = Counter(outlier_list)        \n",
        "    multiple_outliers = list( k for k, v in outlier_list.items() if v > n )\n",
        "    \n",
        "    return multiple_outliers   \n",
        "\n",
        "\n",
        "Outliers_to_drop = detect_outliers(train,2,[\"Age\",\"SibSp\",\"Parch\",\"Fare\"])\n"
      ],
      "execution_count": 0,
      "outputs": []
    },
    {
      "cell_type": "code",
      "metadata": {
        "id": "vFZeKep5Nwl6",
        "colab_type": "code",
        "outputId": "07142e2d-f154-4263-e219-1b047a620552",
        "colab": {
          "base_uri": "https://localhost:8080/",
          "height": 564
        }
      },
      "source": [
        "train.loc[Outliers_to_drop]"
      ],
      "execution_count": 10,
      "outputs": [
        {
          "output_type": "execute_result",
          "data": {
            "text/html": [
              "<div>\n",
              "<style scoped>\n",
              "    .dataframe tbody tr th:only-of-type {\n",
              "        vertical-align: middle;\n",
              "    }\n",
              "\n",
              "    .dataframe tbody tr th {\n",
              "        vertical-align: top;\n",
              "    }\n",
              "\n",
              "    .dataframe thead th {\n",
              "        text-align: right;\n",
              "    }\n",
              "</style>\n",
              "<table border=\"1\" class=\"dataframe\">\n",
              "  <thead>\n",
              "    <tr style=\"text-align: right;\">\n",
              "      <th></th>\n",
              "      <th>PassengerId</th>\n",
              "      <th>Survived</th>\n",
              "      <th>Pclass</th>\n",
              "      <th>Name</th>\n",
              "      <th>Sex</th>\n",
              "      <th>Age</th>\n",
              "      <th>SibSp</th>\n",
              "      <th>Parch</th>\n",
              "      <th>Ticket</th>\n",
              "      <th>Fare</th>\n",
              "      <th>Cabin</th>\n",
              "      <th>Embarked</th>\n",
              "    </tr>\n",
              "  </thead>\n",
              "  <tbody>\n",
              "    <tr>\n",
              "      <th>27</th>\n",
              "      <td>28</td>\n",
              "      <td>0</td>\n",
              "      <td>1</td>\n",
              "      <td>Fortune, Mr. Charles Alexander</td>\n",
              "      <td>male</td>\n",
              "      <td>19.0</td>\n",
              "      <td>3</td>\n",
              "      <td>2</td>\n",
              "      <td>19950</td>\n",
              "      <td>263.00</td>\n",
              "      <td>C23 C25 C27</td>\n",
              "      <td>S</td>\n",
              "    </tr>\n",
              "    <tr>\n",
              "      <th>88</th>\n",
              "      <td>89</td>\n",
              "      <td>1</td>\n",
              "      <td>1</td>\n",
              "      <td>Fortune, Miss. Mabel Helen</td>\n",
              "      <td>female</td>\n",
              "      <td>23.0</td>\n",
              "      <td>3</td>\n",
              "      <td>2</td>\n",
              "      <td>19950</td>\n",
              "      <td>263.00</td>\n",
              "      <td>C23 C25 C27</td>\n",
              "      <td>S</td>\n",
              "    </tr>\n",
              "    <tr>\n",
              "      <th>159</th>\n",
              "      <td>160</td>\n",
              "      <td>0</td>\n",
              "      <td>3</td>\n",
              "      <td>Sage, Master. Thomas Henry</td>\n",
              "      <td>male</td>\n",
              "      <td>NaN</td>\n",
              "      <td>8</td>\n",
              "      <td>2</td>\n",
              "      <td>CA. 2343</td>\n",
              "      <td>69.55</td>\n",
              "      <td>NaN</td>\n",
              "      <td>S</td>\n",
              "    </tr>\n",
              "    <tr>\n",
              "      <th>180</th>\n",
              "      <td>181</td>\n",
              "      <td>0</td>\n",
              "      <td>3</td>\n",
              "      <td>Sage, Miss. Constance Gladys</td>\n",
              "      <td>female</td>\n",
              "      <td>NaN</td>\n",
              "      <td>8</td>\n",
              "      <td>2</td>\n",
              "      <td>CA. 2343</td>\n",
              "      <td>69.55</td>\n",
              "      <td>NaN</td>\n",
              "      <td>S</td>\n",
              "    </tr>\n",
              "    <tr>\n",
              "      <th>201</th>\n",
              "      <td>202</td>\n",
              "      <td>0</td>\n",
              "      <td>3</td>\n",
              "      <td>Sage, Mr. Frederick</td>\n",
              "      <td>male</td>\n",
              "      <td>NaN</td>\n",
              "      <td>8</td>\n",
              "      <td>2</td>\n",
              "      <td>CA. 2343</td>\n",
              "      <td>69.55</td>\n",
              "      <td>NaN</td>\n",
              "      <td>S</td>\n",
              "    </tr>\n",
              "    <tr>\n",
              "      <th>324</th>\n",
              "      <td>325</td>\n",
              "      <td>0</td>\n",
              "      <td>3</td>\n",
              "      <td>Sage, Mr. George John Jr</td>\n",
              "      <td>male</td>\n",
              "      <td>NaN</td>\n",
              "      <td>8</td>\n",
              "      <td>2</td>\n",
              "      <td>CA. 2343</td>\n",
              "      <td>69.55</td>\n",
              "      <td>NaN</td>\n",
              "      <td>S</td>\n",
              "    </tr>\n",
              "    <tr>\n",
              "      <th>341</th>\n",
              "      <td>342</td>\n",
              "      <td>1</td>\n",
              "      <td>1</td>\n",
              "      <td>Fortune, Miss. Alice Elizabeth</td>\n",
              "      <td>female</td>\n",
              "      <td>24.0</td>\n",
              "      <td>3</td>\n",
              "      <td>2</td>\n",
              "      <td>19950</td>\n",
              "      <td>263.00</td>\n",
              "      <td>C23 C25 C27</td>\n",
              "      <td>S</td>\n",
              "    </tr>\n",
              "    <tr>\n",
              "      <th>792</th>\n",
              "      <td>793</td>\n",
              "      <td>0</td>\n",
              "      <td>3</td>\n",
              "      <td>Sage, Miss. Stella Anna</td>\n",
              "      <td>female</td>\n",
              "      <td>NaN</td>\n",
              "      <td>8</td>\n",
              "      <td>2</td>\n",
              "      <td>CA. 2343</td>\n",
              "      <td>69.55</td>\n",
              "      <td>NaN</td>\n",
              "      <td>S</td>\n",
              "    </tr>\n",
              "    <tr>\n",
              "      <th>846</th>\n",
              "      <td>847</td>\n",
              "      <td>0</td>\n",
              "      <td>3</td>\n",
              "      <td>Sage, Mr. Douglas Bullen</td>\n",
              "      <td>male</td>\n",
              "      <td>NaN</td>\n",
              "      <td>8</td>\n",
              "      <td>2</td>\n",
              "      <td>CA. 2343</td>\n",
              "      <td>69.55</td>\n",
              "      <td>NaN</td>\n",
              "      <td>S</td>\n",
              "    </tr>\n",
              "    <tr>\n",
              "      <th>863</th>\n",
              "      <td>864</td>\n",
              "      <td>0</td>\n",
              "      <td>3</td>\n",
              "      <td>Sage, Miss. Dorothy Edith \"Dolly\"</td>\n",
              "      <td>female</td>\n",
              "      <td>NaN</td>\n",
              "      <td>8</td>\n",
              "      <td>2</td>\n",
              "      <td>CA. 2343</td>\n",
              "      <td>69.55</td>\n",
              "      <td>NaN</td>\n",
              "      <td>S</td>\n",
              "    </tr>\n",
              "  </tbody>\n",
              "</table>\n",
              "</div>"
            ],
            "text/plain": [
              "     PassengerId  Survived  Pclass  ...    Fare        Cabin  Embarked\n",
              "27            28         0       1  ...  263.00  C23 C25 C27         S\n",
              "88            89         1       1  ...  263.00  C23 C25 C27         S\n",
              "159          160         0       3  ...   69.55          NaN         S\n",
              "180          181         0       3  ...   69.55          NaN         S\n",
              "201          202         0       3  ...   69.55          NaN         S\n",
              "324          325         0       3  ...   69.55          NaN         S\n",
              "341          342         1       1  ...  263.00  C23 C25 C27         S\n",
              "792          793         0       3  ...   69.55          NaN         S\n",
              "846          847         0       3  ...   69.55          NaN         S\n",
              "863          864         0       3  ...   69.55          NaN         S\n",
              "\n",
              "[10 rows x 12 columns]"
            ]
          },
          "metadata": {
            "tags": []
          },
          "execution_count": 10
        }
      ]
    },
    {
      "cell_type": "markdown",
      "metadata": {
        "id": "gTuh2DOnNzW4",
        "colab_type": "text"
      },
      "source": [
        "10명은 잘라 내야 됨 \n",
        "\n",
        "인덱스 27 88 341은 표값이 너무 높음 \n",
        "\n",
        "나머지는 함꼐 탑승한 가족이 너무 많음 "
      ]
    },
    {
      "cell_type": "code",
      "metadata": {
        "id": "KHOK4F0iOeSJ",
        "colab_type": "code",
        "colab": {}
      },
      "source": [
        "#잘라\n",
        "\n",
        "train = train.drop(Outliers_to_drop, axis = 0).reset_index(drop=True)"
      ],
      "execution_count": 0,
      "outputs": []
    },
    {
      "cell_type": "markdown",
      "metadata": {
        "id": "VADkIP13PL1y",
        "colab_type": "text"
      },
      "source": [
        "이상치 잘랐으니까 이제 두개 합치기"
      ]
    },
    {
      "cell_type": "code",
      "metadata": {
        "id": "-xcnwg2jPHnM",
        "colab_type": "code",
        "outputId": "fd54445f-6151-4120-c7c6-1b24c47c9d3a",
        "colab": {
          "base_uri": "https://localhost:8080/",
          "height": 178
        }
      },
      "source": [
        "train_len = len(train)\n",
        "dataset =  pd.concat(objs=[train, test], axis=0).reset_index(drop=True)"
      ],
      "execution_count": 12,
      "outputs": [
        {
          "output_type": "stream",
          "text": [
            "/usr/local/lib/python3.6/dist-packages/ipykernel_launcher.py:2: FutureWarning: Sorting because non-concatenation axis is not aligned. A future version\n",
            "of pandas will change to not sort by default.\n",
            "\n",
            "To accept the future behavior, pass 'sort=False'.\n",
            "\n",
            "To retain the current behavior and silence the warning, pass 'sort=True'.\n",
            "\n",
            "  \n"
          ],
          "name": "stderr"
        }
      ]
    },
    {
      "cell_type": "code",
      "metadata": {
        "id": "POGqX04kPS_G",
        "colab_type": "code",
        "outputId": "bb16539b-e691-46e0-b331-7c8632b118e3",
        "colab": {
          "base_uri": "https://localhost:8080/",
          "height": 297
        }
      },
      "source": [
        "dataset.head()"
      ],
      "execution_count": 13,
      "outputs": [
        {
          "output_type": "execute_result",
          "data": {
            "text/html": [
              "<div>\n",
              "<style scoped>\n",
              "    .dataframe tbody tr th:only-of-type {\n",
              "        vertical-align: middle;\n",
              "    }\n",
              "\n",
              "    .dataframe tbody tr th {\n",
              "        vertical-align: top;\n",
              "    }\n",
              "\n",
              "    .dataframe thead th {\n",
              "        text-align: right;\n",
              "    }\n",
              "</style>\n",
              "<table border=\"1\" class=\"dataframe\">\n",
              "  <thead>\n",
              "    <tr style=\"text-align: right;\">\n",
              "      <th></th>\n",
              "      <th>Age</th>\n",
              "      <th>Cabin</th>\n",
              "      <th>Embarked</th>\n",
              "      <th>Fare</th>\n",
              "      <th>Name</th>\n",
              "      <th>Parch</th>\n",
              "      <th>PassengerId</th>\n",
              "      <th>Pclass</th>\n",
              "      <th>Sex</th>\n",
              "      <th>SibSp</th>\n",
              "      <th>Survived</th>\n",
              "      <th>Ticket</th>\n",
              "    </tr>\n",
              "  </thead>\n",
              "  <tbody>\n",
              "    <tr>\n",
              "      <th>0</th>\n",
              "      <td>22.0</td>\n",
              "      <td>NaN</td>\n",
              "      <td>S</td>\n",
              "      <td>7.2500</td>\n",
              "      <td>Braund, Mr. Owen Harris</td>\n",
              "      <td>0</td>\n",
              "      <td>1</td>\n",
              "      <td>3</td>\n",
              "      <td>male</td>\n",
              "      <td>1</td>\n",
              "      <td>0.0</td>\n",
              "      <td>A/5 21171</td>\n",
              "    </tr>\n",
              "    <tr>\n",
              "      <th>1</th>\n",
              "      <td>38.0</td>\n",
              "      <td>C85</td>\n",
              "      <td>C</td>\n",
              "      <td>71.2833</td>\n",
              "      <td>Cumings, Mrs. John Bradley (Florence Briggs Th...</td>\n",
              "      <td>0</td>\n",
              "      <td>2</td>\n",
              "      <td>1</td>\n",
              "      <td>female</td>\n",
              "      <td>1</td>\n",
              "      <td>1.0</td>\n",
              "      <td>PC 17599</td>\n",
              "    </tr>\n",
              "    <tr>\n",
              "      <th>2</th>\n",
              "      <td>26.0</td>\n",
              "      <td>NaN</td>\n",
              "      <td>S</td>\n",
              "      <td>7.9250</td>\n",
              "      <td>Heikkinen, Miss. Laina</td>\n",
              "      <td>0</td>\n",
              "      <td>3</td>\n",
              "      <td>3</td>\n",
              "      <td>female</td>\n",
              "      <td>0</td>\n",
              "      <td>1.0</td>\n",
              "      <td>STON/O2. 3101282</td>\n",
              "    </tr>\n",
              "    <tr>\n",
              "      <th>3</th>\n",
              "      <td>35.0</td>\n",
              "      <td>C123</td>\n",
              "      <td>S</td>\n",
              "      <td>53.1000</td>\n",
              "      <td>Futrelle, Mrs. Jacques Heath (Lily May Peel)</td>\n",
              "      <td>0</td>\n",
              "      <td>4</td>\n",
              "      <td>1</td>\n",
              "      <td>female</td>\n",
              "      <td>1</td>\n",
              "      <td>1.0</td>\n",
              "      <td>113803</td>\n",
              "    </tr>\n",
              "    <tr>\n",
              "      <th>4</th>\n",
              "      <td>35.0</td>\n",
              "      <td>NaN</td>\n",
              "      <td>S</td>\n",
              "      <td>8.0500</td>\n",
              "      <td>Allen, Mr. William Henry</td>\n",
              "      <td>0</td>\n",
              "      <td>5</td>\n",
              "      <td>3</td>\n",
              "      <td>male</td>\n",
              "      <td>0</td>\n",
              "      <td>0.0</td>\n",
              "      <td>373450</td>\n",
              "    </tr>\n",
              "  </tbody>\n",
              "</table>\n",
              "</div>"
            ],
            "text/plain": [
              "    Age Cabin Embarked     Fare  ...     Sex  SibSp  Survived            Ticket\n",
              "0  22.0   NaN        S   7.2500  ...    male      1       0.0         A/5 21171\n",
              "1  38.0   C85        C  71.2833  ...  female      1       1.0          PC 17599\n",
              "2  26.0   NaN        S   7.9250  ...  female      0       1.0  STON/O2. 3101282\n",
              "3  35.0  C123        S  53.1000  ...  female      1       1.0            113803\n",
              "4  35.0   NaN        S   8.0500  ...    male      0       0.0            373450\n",
              "\n",
              "[5 rows x 12 columns]"
            ]
          },
          "metadata": {
            "tags": []
          },
          "execution_count": 13
        }
      ]
    },
    {
      "cell_type": "markdown",
      "metadata": {
        "id": "c56SUf8DXxt2",
        "colab_type": "text"
      },
      "source": [
        "전체 데이터를 구했고 인덱스도 알고 \n",
        "\n",
        "빈칸이 얼마나 있는지 알아야 됨"
      ]
    },
    {
      "cell_type": "code",
      "metadata": {
        "id": "8NQxzPLyXmbA",
        "colab_type": "code",
        "outputId": "19dbe59b-2fd8-49a5-ec21-62d99b446127",
        "colab": {
          "base_uri": "https://localhost:8080/",
          "height": 247
        }
      },
      "source": [
        "dataset = dataset.fillna(np.nan)\n",
        "\n",
        "dataset.isnull().sum()"
      ],
      "execution_count": 14,
      "outputs": [
        {
          "output_type": "execute_result",
          "data": {
            "text/plain": [
              "Age             256\n",
              "Cabin          1007\n",
              "Embarked          2\n",
              "Fare              1\n",
              "Name              0\n",
              "Parch             0\n",
              "PassengerId       0\n",
              "Pclass            0\n",
              "Sex               0\n",
              "SibSp             0\n",
              "Survived        418\n",
              "Ticket            0\n",
              "dtype: int64"
            ]
          },
          "metadata": {
            "tags": []
          },
          "execution_count": 14
        }
      ]
    },
    {
      "cell_type": "code",
      "metadata": {
        "id": "CJ84XIF5XvhC",
        "colab_type": "code",
        "outputId": "191e3805-2dbc-4bc0-b427-416c4cbb2ef7",
        "colab": {
          "base_uri": "https://localhost:8080/",
          "height": 247
        }
      },
      "source": [
        "train.isnull().sum()"
      ],
      "execution_count": 15,
      "outputs": [
        {
          "output_type": "execute_result",
          "data": {
            "text/plain": [
              "PassengerId      0\n",
              "Survived         0\n",
              "Pclass           0\n",
              "Name             0\n",
              "Sex              0\n",
              "Age            170\n",
              "SibSp            0\n",
              "Parch            0\n",
              "Ticket           0\n",
              "Fare             0\n",
              "Cabin          680\n",
              "Embarked         2\n",
              "dtype: int64"
            ]
          },
          "metadata": {
            "tags": []
          },
          "execution_count": 15
        }
      ]
    },
    {
      "cell_type": "code",
      "metadata": {
        "id": "YOe3WbIrYZ_A",
        "colab_type": "code",
        "outputId": "32253141-fc2b-41cf-b034-8a45b0ae8a9a",
        "colab": {
          "base_uri": "https://localhost:8080/",
          "height": 287
        }
      },
      "source": [
        "train.describe()"
      ],
      "execution_count": 16,
      "outputs": [
        {
          "output_type": "execute_result",
          "data": {
            "text/html": [
              "<div>\n",
              "<style scoped>\n",
              "    .dataframe tbody tr th:only-of-type {\n",
              "        vertical-align: middle;\n",
              "    }\n",
              "\n",
              "    .dataframe tbody tr th {\n",
              "        vertical-align: top;\n",
              "    }\n",
              "\n",
              "    .dataframe thead th {\n",
              "        text-align: right;\n",
              "    }\n",
              "</style>\n",
              "<table border=\"1\" class=\"dataframe\">\n",
              "  <thead>\n",
              "    <tr style=\"text-align: right;\">\n",
              "      <th></th>\n",
              "      <th>PassengerId</th>\n",
              "      <th>Survived</th>\n",
              "      <th>Pclass</th>\n",
              "      <th>Age</th>\n",
              "      <th>SibSp</th>\n",
              "      <th>Parch</th>\n",
              "      <th>Fare</th>\n",
              "    </tr>\n",
              "  </thead>\n",
              "  <tbody>\n",
              "    <tr>\n",
              "      <th>count</th>\n",
              "      <td>881.000000</td>\n",
              "      <td>881.000000</td>\n",
              "      <td>881.000000</td>\n",
              "      <td>711.000000</td>\n",
              "      <td>881.000000</td>\n",
              "      <td>881.000000</td>\n",
              "      <td>881.000000</td>\n",
              "    </tr>\n",
              "    <tr>\n",
              "      <th>mean</th>\n",
              "      <td>446.713961</td>\n",
              "      <td>0.385925</td>\n",
              "      <td>2.307605</td>\n",
              "      <td>29.731603</td>\n",
              "      <td>0.455165</td>\n",
              "      <td>0.363224</td>\n",
              "      <td>31.121566</td>\n",
              "    </tr>\n",
              "    <tr>\n",
              "      <th>std</th>\n",
              "      <td>256.617021</td>\n",
              "      <td>0.487090</td>\n",
              "      <td>0.835055</td>\n",
              "      <td>14.547835</td>\n",
              "      <td>0.871571</td>\n",
              "      <td>0.791839</td>\n",
              "      <td>47.996249</td>\n",
              "    </tr>\n",
              "    <tr>\n",
              "      <th>min</th>\n",
              "      <td>1.000000</td>\n",
              "      <td>0.000000</td>\n",
              "      <td>1.000000</td>\n",
              "      <td>0.420000</td>\n",
              "      <td>0.000000</td>\n",
              "      <td>0.000000</td>\n",
              "      <td>0.000000</td>\n",
              "    </tr>\n",
              "    <tr>\n",
              "      <th>25%</th>\n",
              "      <td>226.000000</td>\n",
              "      <td>0.000000</td>\n",
              "      <td>2.000000</td>\n",
              "      <td>20.250000</td>\n",
              "      <td>0.000000</td>\n",
              "      <td>0.000000</td>\n",
              "      <td>7.895800</td>\n",
              "    </tr>\n",
              "    <tr>\n",
              "      <th>50%</th>\n",
              "      <td>448.000000</td>\n",
              "      <td>0.000000</td>\n",
              "      <td>3.000000</td>\n",
              "      <td>28.000000</td>\n",
              "      <td>0.000000</td>\n",
              "      <td>0.000000</td>\n",
              "      <td>14.454200</td>\n",
              "    </tr>\n",
              "    <tr>\n",
              "      <th>75%</th>\n",
              "      <td>668.000000</td>\n",
              "      <td>1.000000</td>\n",
              "      <td>3.000000</td>\n",
              "      <td>38.000000</td>\n",
              "      <td>1.000000</td>\n",
              "      <td>0.000000</td>\n",
              "      <td>30.500000</td>\n",
              "    </tr>\n",
              "    <tr>\n",
              "      <th>max</th>\n",
              "      <td>891.000000</td>\n",
              "      <td>1.000000</td>\n",
              "      <td>3.000000</td>\n",
              "      <td>80.000000</td>\n",
              "      <td>5.000000</td>\n",
              "      <td>6.000000</td>\n",
              "      <td>512.329200</td>\n",
              "    </tr>\n",
              "  </tbody>\n",
              "</table>\n",
              "</div>"
            ],
            "text/plain": [
              "       PassengerId    Survived      Pclass  ...       SibSp       Parch        Fare\n",
              "count   881.000000  881.000000  881.000000  ...  881.000000  881.000000  881.000000\n",
              "mean    446.713961    0.385925    2.307605  ...    0.455165    0.363224   31.121566\n",
              "std     256.617021    0.487090    0.835055  ...    0.871571    0.791839   47.996249\n",
              "min       1.000000    0.000000    1.000000  ...    0.000000    0.000000    0.000000\n",
              "25%     226.000000    0.000000    2.000000  ...    0.000000    0.000000    7.895800\n",
              "50%     448.000000    0.000000    3.000000  ...    0.000000    0.000000   14.454200\n",
              "75%     668.000000    1.000000    3.000000  ...    1.000000    0.000000   30.500000\n",
              "max     891.000000    1.000000    3.000000  ...    5.000000    6.000000  512.329200\n",
              "\n",
              "[8 rows x 7 columns]"
            ]
          },
          "metadata": {
            "tags": []
          },
          "execution_count": 16
        }
      ]
    },
    {
      "cell_type": "markdown",
      "metadata": {
        "id": "EmUJR2Q2YeiX",
        "colab_type": "text"
      },
      "source": [
        "#특성분석"
      ]
    },
    {
      "cell_type": "code",
      "metadata": {
        "id": "lJ6rHnG2ZS7s",
        "colab_type": "code",
        "outputId": "eb76c423-de26-4337-aa96-e3ff32285321",
        "colab": {
          "base_uri": "https://localhost:8080/",
          "height": 354
        }
      },
      "source": [
        "f, ax = plt.subplots(1, 2, figsize=(15, 5))\n",
        "\n",
        "train['Survived'].value_counts().plot.pie(explode=[0, 0.1], autopct='%1.1f%%', ax=ax[0], shadow=True)\n",
        "ax[0].set_title('Pie plot - Survived')\n",
        "ax[0].set_ylabel('')\n",
        "sns.countplot('Survived', data=train, ax=ax[1])\n",
        "ax[1].set_title('Count plot - Survived')\n",
        "\n",
        "plt.show()"
      ],
      "execution_count": 17,
      "outputs": [
        {
          "output_type": "display_data",
          "data": {
            "image/png": "[encoded data removed]",
            "text/plain": [
              "<Figure size 1080x360 with 2 Axes>"
            ]
          },
          "metadata": {
            "tags": []
          }
        }
      ]
    },
    {
      "cell_type": "markdown",
      "metadata": {
        "id": "Xhtc1Mv7ZaPZ",
        "colab_type": "text"
      },
      "source": [
        "타켓 라벨이 어떤 분포를 띄고 있냐를 확인할 필요가 있음 \n",
        "\n",
        "타이타닉 같은 bunary형태로 살았다 죽었다를 판단하는 기준에 있어서는 분포에 따라서 모델의 평가 방법이 달라짐 \n",
        "\n",
        "결과를 보면 산사람은 38.4% 고 죽은 사람이 61프로임 \n",
        "해당 라벨은 상당히 균일한 분포를 띄고 있음 \n",
        "\n",
        "만약에 데이터에 다 죽고 1명만 살아서 99.9% 사망이라면 \n",
        "볼것도 없이 모델이 전부 죽는다는 모델을 만들면 정확도가 99%임 예측할 필요도 없음 \n",
        "\n",
        "그런의미에서 균일한 분포를 갖는다는것은 굉장히 중요"
      ]
    },
    {
      "cell_type": "code",
      "metadata": {
        "id": "7nYZ673SYl80",
        "colab_type": "code",
        "outputId": "08fba275-b03f-4877-fdff-7a3a44daebfc",
        "colab": {
          "base_uri": "https://localhost:8080/",
          "height": 272
        }
      },
      "source": [
        "g = sns.heatmap(train[[\"Survived\",\"SibSp\",\"Parch\",\"Age\",\"Fare\"]].corr(),annot=True, fmt = \".2f\", cmap = \"coolwarm\")"
      ],
      "execution_count": 18,
      "outputs": [
        {
          "output_type": "display_data",
          "data": {
            "image/png": "[encoded data removed]",
            "text/plain": [
              "<Figure size 432x288 with 2 Axes>"
            ]
          },
          "metadata": {
            "tags": []
          }
        }
      ]
    },
    {
      "cell_type": "markdown",
      "metadata": {
        "id": "x8lywkjbYpQR",
        "colab_type": "text"
      },
      "source": [
        "숫자 값들 중에서 Fare 만 유일하게 생존이랑 연결 되어 있음 "
      ]
    },
    {
      "cell_type": "code",
      "metadata": {
        "id": "L8F_9TPcY7nq",
        "colab_type": "code",
        "outputId": "eac0a18d-cf34-4c1e-842e-75a20c7bc8b1",
        "colab": {
          "base_uri": "https://localhost:8080/",
          "height": 284
        }
      },
      "source": [
        "g = sns.barplot(x=\"SibSp\",y=\"Survived\",data=train)"
      ],
      "execution_count": 19,
      "outputs": [
        {
          "output_type": "display_data",
          "data": {
            "image/png": "[encoded data removed]",
            "text/plain": [
              "<Figure size 432x288 with 1 Axes>"
            ]
          },
          "metadata": {
            "tags": []
          }
        }
      ]
    },
    {
      "cell_type": "markdown",
      "metadata": {
        "id": "oC16uVGkZmp_",
        "colab_type": "text"
      },
      "source": [
        "어렷이서 오면 생존할 확률이 적음\n",
        "\n",
        "0은 혼자 온거고 1은 둘이 온건데 \n",
        "\n",
        "이렇게 작은 인원이 모여있는 경우에 더 높은 생존률을 보이는 것으로 보아서 \n",
        "\n",
        "이것은 생존에 유의미한 데이터 임"
      ]
    },
    {
      "cell_type": "code",
      "metadata": {
        "id": "oLDbllRBaTE7",
        "colab_type": "code",
        "outputId": "cf39c71a-3b37-49f3-d42b-72b436fb2eed",
        "colab": {
          "base_uri": "https://localhost:8080/",
          "height": 284
        }
      },
      "source": [
        "g = sns.barplot(x=\"Parch\",y=\"Survived\",data=train)"
      ],
      "execution_count": 20,
      "outputs": [
        {
          "output_type": "display_data",
          "data": {
            "image/png": "[encoded data removed]",
            "text/plain": [
              "<Figure size 432x288 with 1 Axes>"
            ]
          },
          "metadata": {
            "tags": []
          }
        }
      ]
    },
    {
      "cell_type": "markdown",
      "metadata": {
        "id": "PiN5GugUaZFe",
        "colab_type": "text"
      },
      "source": [
        "소가족이 더 잘 살아 남음 "
      ]
    },
    {
      "cell_type": "code",
      "metadata": {
        "id": "crb5qqtMagXZ",
        "colab_type": "code",
        "outputId": "ff132984-2120-40da-ad9f-a006417a30d3",
        "colab": {
          "base_uri": "https://localhost:8080/",
          "height": 221
        }
      },
      "source": [
        "g = sns.FacetGrid(train, col='Survived')\n",
        "g = g.map(sns.distplot, \"Age\")"
      ],
      "execution_count": 21,
      "outputs": [
        {
          "output_type": "display_data",
          "data": {
            "image/png": "[encoded data removed]",
            "text/plain": [
              "<Figure size 432x216 with 2 Axes>"
            ]
          },
          "metadata": {
            "tags": []
          }
        }
      ]
    },
    {
      "cell_type": "markdown",
      "metadata": {
        "id": "aD_eY7ENamZK",
        "colab_type": "text"
      },
      "source": [
        "연령과 생존은 상관관계가 있음 \n",
        "\n",
        "고령일수록 살 확률이 낮고 \n",
        "\n",
        "나이가 젊을수록 더 잘 살아 남을 확률이 높음 \n",
        "\n",
        "아주 어리면 더 잘 살아 남음 \n",
        "\n",
        "분포가 안정적임 "
      ]
    },
    {
      "cell_type": "code",
      "metadata": {
        "id": "ejF3A417bBx4",
        "colab_type": "code",
        "outputId": "195aea8a-f7e3-4e1b-cc66-11f8a7edfad4",
        "colab": {
          "base_uri": "https://localhost:8080/",
          "height": 34
        }
      },
      "source": [
        "dataset[\"Fare\"].isnull().sum()"
      ],
      "execution_count": 22,
      "outputs": [
        {
          "output_type": "execute_result",
          "data": {
            "text/plain": [
              "1"
            ]
          },
          "metadata": {
            "tags": []
          },
          "execution_count": 22
        }
      ]
    },
    {
      "cell_type": "code",
      "metadata": {
        "id": "DpIujRe3cIlv",
        "colab_type": "code",
        "colab": {}
      },
      "source": [
        "dataset[\"Fare\"] = dataset[\"Fare\"].fillna(dataset[\"Fare\"].median())"
      ],
      "execution_count": 0,
      "outputs": []
    },
    {
      "cell_type": "code",
      "metadata": {
        "id": "xPpDSGT1cK2s",
        "colab_type": "code",
        "outputId": "5ea6e09b-879b-4ba8-ad79-bd347beaf63e",
        "colab": {
          "base_uri": "https://localhost:8080/",
          "height": 284
        }
      },
      "source": [
        "g = sns.distplot(dataset[\"Fare\"], color=\"m\", label=\"Skewness : %.2f\"%(dataset[\"Fare\"].skew()))\n",
        "g = g.legend(loc=\"best\")"
      ],
      "execution_count": 24,
      "outputs": [
        {
          "output_type": "display_data",
          "data": {
            "image/png": "[encoded data removed]",
            "text/plain": [
              "<Figure size 432x288 with 1 Axes>"
            ]
          },
          "metadata": {
            "tags": []
          }
        }
      ]
    },
    {
      "cell_type": "markdown",
      "metadata": {
        "id": "hcwV97VOcOR3",
        "colab_type": "text"
      },
      "source": [
        "가격 꼴랑 하나 빈거 그냥 평균으로 채우고 \n",
        "\n",
        "나중에 문제 되면 티켓등급 보고 그 평균으로 다시 채울거임 \n",
        "\n",
        "일단 왜도 첨도를 분석해 보면 넓은 바운더리에 길게 분포되어 있음 \n",
        "\n",
        "이거 로그 씌워서 각 데이터가 미치는 영향을 줄여야 함 \n",
        "\n"
      ]
    },
    {
      "cell_type": "code",
      "metadata": {
        "id": "j-7JW6tuclz4",
        "colab_type": "code",
        "colab": {}
      },
      "source": [
        "dataset['Fare'] = np.log1p(dataset['Fare'])"
      ],
      "execution_count": 0,
      "outputs": []
    },
    {
      "cell_type": "code",
      "metadata": {
        "id": "ff_tBRuWc019",
        "colab_type": "code",
        "outputId": "4ed71954-8807-455f-cd83-85f72bf38846",
        "colab": {
          "base_uri": "https://localhost:8080/",
          "height": 284
        }
      },
      "source": [
        "g = sns.distplot(dataset[\"Fare\"], color=\"b\", label=\"Skewness : %.2f\"%(dataset[\"Fare\"].skew()))\n",
        "g = g.legend(loc=\"best\")"
      ],
      "execution_count": 26,
      "outputs": [
        {
          "output_type": "display_data",
          "data": {
            "image/png": "[encoded data removed]",
            "text/plain": [
              "<Figure size 432x288 with 1 Axes>"
            ]
          },
          "metadata": {
            "tags": []
          }
        }
      ]
    },
    {
      "cell_type": "markdown",
      "metadata": {
        "id": "B7qKg3exc3iJ",
        "colab_type": "text"
      },
      "source": [
        "훨씬 좋아짐"
      ]
    },
    {
      "cell_type": "code",
      "metadata": {
        "id": "e-Ytqv1PdHJJ",
        "colab_type": "code",
        "outputId": "ad4e940d-ee05-4ac2-fd42-e769f217835c",
        "colab": {
          "base_uri": "https://localhost:8080/",
          "height": 284
        }
      },
      "source": [
        "g = sns.barplot(x=\"Sex\",y=\"Survived\",data=train)"
      ],
      "execution_count": 27,
      "outputs": [
        {
          "output_type": "display_data",
          "data": {
            "image/png": "[encoded data removed]",
            "text/plain": [
              "<Figure size 432x288 with 1 Axes>"
            ]
          },
          "metadata": {
            "tags": []
          }
        }
      ]
    },
    {
      "cell_type": "markdown",
      "metadata": {
        "id": "OI8U77PcdHhW",
        "colab_type": "text"
      },
      "source": [
        "여자가 더 잘 살아 남음"
      ]
    },
    {
      "cell_type": "code",
      "metadata": {
        "id": "9k7Bais6gYlk",
        "colab_type": "code",
        "outputId": "7a06abf3-451d-4c8b-83da-6e929d6d3bba",
        "colab": {
          "base_uri": "https://localhost:8080/",
          "height": 527
        }
      },
      "source": [
        "g = sns.factorplot(x=\"Pclass\",y=\"Survived\",data=train,kind=\"bar\", size = 6 , \n",
        "palette = \"muted\")\n",
        "g.despine(left=True)\n",
        "g = g.set_ylabels(\"survival probability\")"
      ],
      "execution_count": 28,
      "outputs": [
        {
          "output_type": "stream",
          "text": [
            "/usr/local/lib/python3.6/dist-packages/seaborn/categorical.py:3669: UserWarning: The `factorplot` function has been renamed to `catplot`. The original name will be removed in a future release. Please update your code. Note that the default `kind` in `factorplot` (`'point'`) has changed `'strip'` in `catplot`.\n",
            "  warnings.warn(msg)\n",
            "/usr/local/lib/python3.6/dist-packages/seaborn/categorical.py:3675: UserWarning: The `size` parameter has been renamed to `height`; please update your code.\n",
            "  warnings.warn(msg, UserWarning)\n"
          ],
          "name": "stderr"
        },
        {
          "output_type": "display_data",
          "data": {
            "image/png": "[encoded data removed]",
            "text/plain": [
              "<Figure size 432x432 with 1 Axes>"
            ]
          },
          "metadata": {
            "tags": []
          }
        }
      ]
    },
    {
      "cell_type": "markdown",
      "metadata": {
        "id": "bih5SRWSgaI3",
        "colab_type": "text"
      },
      "source": [
        "1등석일수록 더 잘살아 남음 \n"
      ]
    },
    {
      "cell_type": "code",
      "metadata": {
        "id": "yj0cOgCaglL-",
        "colab_type": "code",
        "outputId": "c9c2b22e-c228-4f39-ca6d-ffadefd9552e",
        "colab": {
          "base_uri": "https://localhost:8080/",
          "height": 550
        }
      },
      "source": [
        "df = train[train['Pclass']==1]\n",
        "df = df[df['Sex']=='male']\n",
        "print(df.shape)\n",
        "print(df['Survived'].value_counts())\n",
        "print('**********************************************************1등급 남자')\n",
        "df = train[train['Pclass']==1]\n",
        "df = df[df['Sex']=='female']\n",
        "print(df.shape)\n",
        "print(df['Survived'].value_counts())\n",
        "print('**********************************************************1등급 여자')\n",
        "df = train[train['Pclass']==2]\n",
        "df = df[df['Sex']=='male']\n",
        "print(df.shape)\n",
        "print(df['Survived'].value_counts())\n",
        "print('**********************************************************2등급 남자')\n",
        "df = train[train['Pclass']==2]\n",
        "df = df[df['Sex']=='female']\n",
        "print(df.shape)\n",
        "print(df['Survived'].value_counts())\n",
        "print('**********************************************************2등급 여자')\n",
        "df = train[train['Pclass']==3]\n",
        "df = df[df['Sex']=='male']\n",
        "print(df.shape)\n",
        "print(df['Survived'].value_counts())\n",
        "print('**********************************************************3등급 남자')\n",
        "df = train[train['Pclass']==3]\n",
        "df = df[df['Sex']=='female']\n",
        "print(df.shape)\n",
        "print(df['Survived'].value_counts())\n",
        "print('**********************************************************3등급 여자')"
      ],
      "execution_count": 29,
      "outputs": [
        {
          "output_type": "stream",
          "text": [
            "(121, 12)\n",
            "0    76\n",
            "1    45\n",
            "Name: Survived, dtype: int64\n",
            "**********************************************************1등급 남자\n",
            "(92, 12)\n",
            "1    89\n",
            "0     3\n",
            "Name: Survived, dtype: int64\n",
            "**********************************************************1등급 여자\n",
            "(108, 12)\n",
            "0    91\n",
            "1    17\n",
            "Name: Survived, dtype: int64\n",
            "**********************************************************2등급 남자\n",
            "(76, 12)\n",
            "1    70\n",
            "0     6\n",
            "Name: Survived, dtype: int64\n",
            "**********************************************************2등급 여자\n",
            "(343, 12)\n",
            "0    296\n",
            "1     47\n",
            "Name: Survived, dtype: int64\n",
            "**********************************************************3등급 남자\n",
            "(141, 12)\n",
            "1    72\n",
            "0    69\n",
            "Name: Survived, dtype: int64\n",
            "**********************************************************3등급 여자\n"
          ],
          "name": "stdout"
        }
      ]
    },
    {
      "cell_type": "code",
      "metadata": {
        "id": "7vwRhhbFg_Am",
        "colab_type": "code",
        "outputId": "a02c7d68-3c34-4976-d22c-9d9d50c34575",
        "colab": {
          "base_uri": "https://localhost:8080/",
          "height": 527
        }
      },
      "source": [
        "g = sns.factorplot(x=\"Pclass\", y=\"Survived\", hue=\"Sex\", data=train,\n",
        "                   size=6, kind=\"bar\", palette=\"muted\")\n",
        "g.despine(left=True)\n",
        "g = g.set_ylabels(\"survival probability\")"
      ],
      "execution_count": 30,
      "outputs": [
        {
          "output_type": "stream",
          "text": [
            "/usr/local/lib/python3.6/dist-packages/seaborn/categorical.py:3669: UserWarning: The `factorplot` function has been renamed to `catplot`. The original name will be removed in a future release. Please update your code. Note that the default `kind` in `factorplot` (`'point'`) has changed `'strip'` in `catplot`.\n",
            "  warnings.warn(msg)\n",
            "/usr/local/lib/python3.6/dist-packages/seaborn/categorical.py:3675: UserWarning: The `size` parameter has been renamed to `height`; please update your code.\n",
            "  warnings.warn(msg, UserWarning)\n"
          ],
          "name": "stderr"
        },
        {
          "output_type": "display_data",
          "data": {
            "image/png": "[encoded data removed]",
            "text/plain": [
              "<Figure size 509.975x432 with 1 Axes>"
            ]
          },
          "metadata": {
            "tags": []
          }
        }
      ]
    },
    {
      "cell_type": "markdown",
      "metadata": {
        "id": "52PiVYWphUwv",
        "colab_type": "text"
      },
      "source": [
        "1등석 여자 일수록 더 잘 살아 남고 \n",
        "\n",
        "등급이 떨어질수록 생존확률은 낮음 \n",
        "\n",
        "일단 부자 여자는 확실히 잘 살아 남음"
      ]
    },
    {
      "cell_type": "code",
      "metadata": {
        "id": "dAnFDBqIhjWQ",
        "colab_type": "code",
        "outputId": "8a4f6576-869c-408b-f0d6-238266664be2",
        "colab": {
          "base_uri": "https://localhost:8080/",
          "height": 34
        }
      },
      "source": [
        "dataset[\"Embarked\"].isnull().sum()"
      ],
      "execution_count": 31,
      "outputs": [
        {
          "output_type": "execute_result",
          "data": {
            "text/plain": [
              "2"
            ]
          },
          "metadata": {
            "tags": []
          },
          "execution_count": 31
        }
      ]
    },
    {
      "cell_type": "code",
      "metadata": {
        "id": "x8ab9MWYhlqs",
        "colab_type": "code",
        "colab": {}
      },
      "source": [
        "dataset[\"Embarked\"] = dataset[\"Embarked\"].fillna(\"S\")"
      ],
      "execution_count": 0,
      "outputs": []
    },
    {
      "cell_type": "code",
      "metadata": {
        "id": "zvZWpBq0ho95",
        "colab_type": "code",
        "outputId": "bd54ab83-4d2e-4e58-cbae-5861629cd4bc",
        "colab": {
          "base_uri": "https://localhost:8080/",
          "height": 247
        }
      },
      "source": [
        "dataset.isnull().sum()"
      ],
      "execution_count": 33,
      "outputs": [
        {
          "output_type": "execute_result",
          "data": {
            "text/plain": [
              "Age             256\n",
              "Cabin          1007\n",
              "Embarked          0\n",
              "Fare              0\n",
              "Name              0\n",
              "Parch             0\n",
              "PassengerId       0\n",
              "Pclass            0\n",
              "Sex               0\n",
              "SibSp             0\n",
              "Survived        418\n",
              "Ticket            0\n",
              "dtype: int64"
            ]
          },
          "metadata": {
            "tags": []
          },
          "execution_count": 33
        }
      ]
    },
    {
      "cell_type": "code",
      "metadata": {
        "id": "h5YZRRHRh5Ty",
        "colab_type": "code",
        "outputId": "59d38a8d-62fe-4c05-891f-2d07ff514e09",
        "colab": {
          "base_uri": "https://localhost:8080/",
          "height": 527
        }
      },
      "source": [
        "g = sns.factorplot(x=\"Embarked\", y=\"Survived\",  data=train,\n",
        "                   size=6, kind=\"bar\", palette=\"muted\")\n",
        "g.despine(left=True)\n",
        "g = g.set_ylabels(\"survival probability\")"
      ],
      "execution_count": 34,
      "outputs": [
        {
          "output_type": "stream",
          "text": [
            "/usr/local/lib/python3.6/dist-packages/seaborn/categorical.py:3669: UserWarning: The `factorplot` function has been renamed to `catplot`. The original name will be removed in a future release. Please update your code. Note that the default `kind` in `factorplot` (`'point'`) has changed `'strip'` in `catplot`.\n",
            "  warnings.warn(msg)\n",
            "/usr/local/lib/python3.6/dist-packages/seaborn/categorical.py:3675: UserWarning: The `size` parameter has been renamed to `height`; please update your code.\n",
            "  warnings.warn(msg, UserWarning)\n"
          ],
          "name": "stderr"
        },
        {
          "output_type": "display_data",
          "data": {
            "image/png": "[encoded data removed]",
            "text/plain": [
              "<Figure size 432x432 with 1 Axes>"
            ]
          },
          "metadata": {
            "tags": []
          }
        }
      ]
    },
    {
      "cell_type": "markdown",
      "metadata": {
        "id": "bpBmw4u5ivyf",
        "colab_type": "text"
      },
      "source": [
        "C에서 탄 사람이 더 잘 살아 남음\n",
        "\n",
        "이건 C에서 탄 사람들중 여자가 많다는 것이 거나 1등석이 많다는 것을 의미 할수 있음 \n",
        "\n",
        "C라면 변수가 높은데에는 여자거나 부자거나 나이가 젊거나 하는 많은 변수들이 혼재 되어 있을수 있음"
      ]
    },
    {
      "cell_type": "code",
      "metadata": {
        "id": "9v1j3MGujGsN",
        "colab_type": "code",
        "outputId": "ae0ee7d2-7abb-4650-9172-0c7bb150ac0a",
        "colab": {
          "base_uri": "https://localhost:8080/",
          "height": 527
        }
      },
      "source": [
        "g = sns.factorplot(\"Pclass\", col=\"Embarked\",  data=train,\n",
        "                   size=6, kind=\"count\", palette=\"muted\")\n",
        "g.despine(left=True)\n",
        "g = g.set_ylabels(\"Count\")"
      ],
      "execution_count": 35,
      "outputs": [
        {
          "output_type": "stream",
          "text": [
            "/usr/local/lib/python3.6/dist-packages/seaborn/categorical.py:3669: UserWarning: The `factorplot` function has been renamed to `catplot`. The original name will be removed in a future release. Please update your code. Note that the default `kind` in `factorplot` (`'point'`) has changed `'strip'` in `catplot`.\n",
            "  warnings.warn(msg)\n",
            "/usr/local/lib/python3.6/dist-packages/seaborn/categorical.py:3675: UserWarning: The `size` parameter has been renamed to `height`; please update your code.\n",
            "  warnings.warn(msg, UserWarning)\n"
          ],
          "name": "stderr"
        },
        {
          "output_type": "display_data",
          "data": {
            "image/png": "[encoded data removed]",
            "text/plain": [
              "<Figure size 1296x432 with 3 Axes>"
            ]
          },
          "metadata": {
            "tags": []
          }
        }
      ]
    },
    {
      "cell_type": "markdown",
      "metadata": {
        "id": "YOFIgHwHjJ6K",
        "colab_type": "text"
      },
      "source": [
        "실제로 3등석이 S와 Q가 많은게 눈에 보임"
      ]
    },
    {
      "cell_type": "code",
      "metadata": {
        "id": "SWRVorkHjnzH",
        "colab_type": "code",
        "outputId": "6a83d192-c98c-4569-c994-e3c26e38281d",
        "colab": {
          "base_uri": "https://localhost:8080/",
          "height": 527
        }
      },
      "source": [
        "g = sns.factorplot(\"Sex\", col=\"Embarked\",  data=train,\n",
        "                   size=6, kind=\"count\", palette=\"muted\")\n",
        "g.despine(left=True)\n",
        "g = g.set_ylabels(\"Count\")"
      ],
      "execution_count": 36,
      "outputs": [
        {
          "output_type": "stream",
          "text": [
            "/usr/local/lib/python3.6/dist-packages/seaborn/categorical.py:3669: UserWarning: The `factorplot` function has been renamed to `catplot`. The original name will be removed in a future release. Please update your code. Note that the default `kind` in `factorplot` (`'point'`) has changed `'strip'` in `catplot`.\n",
            "  warnings.warn(msg)\n",
            "/usr/local/lib/python3.6/dist-packages/seaborn/categorical.py:3675: UserWarning: The `size` parameter has been renamed to `height`; please update your code.\n",
            "  warnings.warn(msg, UserWarning)\n"
          ],
          "name": "stderr"
        },
        {
          "output_type": "display_data",
          "data": {
            "image/png": "[encoded data removed]",
            "text/plain": [
              "<Figure size 1296x432 with 3 Axes>"
            ]
          },
          "metadata": {
            "tags": []
          }
        }
      ]
    },
    {
      "cell_type": "markdown",
      "metadata": {
        "id": "86bUre6Wjr8n",
        "colab_type": "text"
      },
      "source": [
        "S는 3등석 남자 들이 많이 탄거 같음 "
      ]
    },
    {
      "cell_type": "markdown",
      "metadata": {
        "id": "4jgM0QDgj09P",
        "colab_type": "text"
      },
      "source": [
        "# 빈칸 채우기"
      ]
    },
    {
      "cell_type": "code",
      "metadata": {
        "id": "dpEn9ZP2ny5U",
        "colab_type": "code",
        "outputId": "76964a6e-ed3b-4556-ad82-66a796b0c83a",
        "colab": {
          "base_uri": "https://localhost:8080/",
          "height": 420
        }
      },
      "source": [
        "g = sns.factorplot(y=\"Age\",x=\"Sex\",data=dataset,kind=\"box\")"
      ],
      "execution_count": 37,
      "outputs": [
        {
          "output_type": "stream",
          "text": [
            "/usr/local/lib/python3.6/dist-packages/seaborn/categorical.py:3669: UserWarning: The `factorplot` function has been renamed to `catplot`. The original name will be removed in a future release. Please update your code. Note that the default `kind` in `factorplot` (`'point'`) has changed `'strip'` in `catplot`.\n",
            "  warnings.warn(msg)\n"
          ],
          "name": "stderr"
        },
        {
          "output_type": "display_data",
          "data": {
            "image/png": "[encoded data removed]",
            "text/plain": [
              "<Figure size 360x360 with 1 Axes>"
            ]
          },
          "metadata": {
            "tags": []
          }
        }
      ]
    },
    {
      "cell_type": "code",
      "metadata": {
        "id": "A90NiXDRoD0a",
        "colab_type": "code",
        "outputId": "9fbed2ee-e3f1-4846-e52c-b91517286e73",
        "colab": {
          "base_uri": "https://localhost:8080/",
          "height": 420
        }
      },
      "source": [
        "g = sns.factorplot(y=\"Age\",x=\"Sex\",hue=\"Pclass\", data=dataset,kind=\"box\")"
      ],
      "execution_count": 38,
      "outputs": [
        {
          "output_type": "stream",
          "text": [
            "/usr/local/lib/python3.6/dist-packages/seaborn/categorical.py:3669: UserWarning: The `factorplot` function has been renamed to `catplot`. The original name will be removed in a future release. Please update your code. Note that the default `kind` in `factorplot` (`'point'`) has changed `'strip'` in `catplot`.\n",
            "  warnings.warn(msg)\n"
          ],
          "name": "stderr"
        },
        {
          "output_type": "display_data",
          "data": {
            "image/png": "[encoded data removed]",
            "text/plain": [
              "<Figure size 406.6x360 with 1 Axes>"
            ]
          },
          "metadata": {
            "tags": []
          }
        }
      ]
    },
    {
      "cell_type": "code",
      "metadata": {
        "id": "5MOHG8O1oFYJ",
        "colab_type": "code",
        "outputId": "5ad3db51-5419-4224-d048-f269dc163ae0",
        "colab": {
          "base_uri": "https://localhost:8080/",
          "height": 420
        }
      },
      "source": [
        "g = sns.factorplot(y=\"Age\",x=\"Parch\", data=dataset,kind=\"box\")"
      ],
      "execution_count": 39,
      "outputs": [
        {
          "output_type": "stream",
          "text": [
            "/usr/local/lib/python3.6/dist-packages/seaborn/categorical.py:3669: UserWarning: The `factorplot` function has been renamed to `catplot`. The original name will be removed in a future release. Please update your code. Note that the default `kind` in `factorplot` (`'point'`) has changed `'strip'` in `catplot`.\n",
            "  warnings.warn(msg)\n"
          ],
          "name": "stderr"
        },
        {
          "output_type": "display_data",
          "data": {
            "image/png": "[encoded data removed]",
            "text/plain": [
              "<Figure size 360x360 with 1 Axes>"
            ]
          },
          "metadata": {
            "tags": []
          }
        }
      ]
    },
    {
      "cell_type": "code",
      "metadata": {
        "id": "WFVdQV8SoHip",
        "colab_type": "code",
        "outputId": "b90071d4-b806-408f-ea09-b6adcd6f5850",
        "colab": {
          "base_uri": "https://localhost:8080/",
          "height": 420
        }
      },
      "source": [
        "g = sns.factorplot(y=\"Age\",x=\"SibSp\", data=dataset,kind=\"box\")"
      ],
      "execution_count": 40,
      "outputs": [
        {
          "output_type": "stream",
          "text": [
            "/usr/local/lib/python3.6/dist-packages/seaborn/categorical.py:3669: UserWarning: The `factorplot` function has been renamed to `catplot`. The original name will be removed in a future release. Please update your code. Note that the default `kind` in `factorplot` (`'point'`) has changed `'strip'` in `catplot`.\n",
            "  warnings.warn(msg)\n"
          ],
          "name": "stderr"
        },
        {
          "output_type": "display_data",
          "data": {
            "image/png": "[encoded data removed]",
            "text/plain": [
              "<Figure size 360x360 with 1 Axes>"
            ]
          },
          "metadata": {
            "tags": []
          }
        }
      ]
    },
    {
      "cell_type": "markdown",
      "metadata": {
        "id": "J9600pSeoI-3",
        "colab_type": "text"
      },
      "source": [
        "성별이 나이를 판가름 해주지는 않는것 같음 \n",
        "\n",
        "이상적으로는 젊은 여자가 많이 타고 늙은 가난한 남자가 많이 타있으면 지금까지 흐름하고 딱 맞는데 그런건 아닌거 같음 \n",
        "\n",
        "\n",
        "\n",
        "그런데 1등석 승객은 23등급 보다 나이가 많은게 눈에 보임 "
      ]
    },
    {
      "cell_type": "code",
      "metadata": {
        "id": "UeczYBduorgI",
        "colab_type": "code",
        "colab": {}
      },
      "source": [
        "dataset[\"Sex\"] = dataset[\"Sex\"].map({\"male\": 0, \"female\":1})"
      ],
      "execution_count": 0,
      "outputs": []
    },
    {
      "cell_type": "code",
      "metadata": {
        "id": "RXFuE-QUrZzx",
        "colab_type": "code",
        "outputId": "a2c24168-3513-4d35-bf84-1a1b76ebacba",
        "colab": {
          "base_uri": "https://localhost:8080/",
          "height": 272
        }
      },
      "source": [
        "g = sns.heatmap(dataset[[\"Age\",\"Sex\",\"SibSp\",\"Parch\",\"Pclass\"]].corr(),cmap=\"coolwarm\",annot=True)"
      ],
      "execution_count": 42,
      "outputs": [
        {
          "output_type": "display_data",
          "data": {
            "image/png": "[encoded data removed]",
            "text/plain": [
              "<Figure size 432x288 with 2 Axes>"
            ]
          },
          "metadata": {
            "tags": []
          }
        }
      ]
    },
    {
      "cell_type": "markdown",
      "metadata": {
        "id": "f33eThJBr3vZ",
        "colab_type": "text"
      },
      "source": [
        "비어있는 나이는 자리와 가족 등과 관련된 유사한 행을 나눠서 보여주는것이 가장 좋음\n",
        "\n",
        "그 값의 중간 값을 확인하고 그걸로 채우는것도 좋음 \n"
      ]
    },
    {
      "cell_type": "code",
      "metadata": {
        "id": "nMmBy3WDyS_0",
        "colab_type": "code",
        "outputId": "274b8356-61ca-491b-dfd5-5dad25c29ccc",
        "colab": {
          "base_uri": "https://localhost:8080/",
          "height": 125
        }
      },
      "source": [
        "no_Age = list(dataset[\"Age\"][dataset[\"Age\"].isnull()].index)\n",
        "\n",
        "for i in no_Age :\n",
        "    age_med = dataset[\"Age\"].median()\n",
        "    age_pred = dataset[\"Age\"][((dataset['SibSp'] == dataset.iloc[i][\"SibSp\"]) & (dataset['Parch'] == dataset.iloc[i][\"Parch\"]) & (dataset['Pclass'] == dataset.iloc[i][\"Pclass\"]))].median()\n",
        "    if not np.isnan(age_pred) :\n",
        "        dataset['Age'].iloc[i] = age_pred\n",
        "    else :\n",
        "        dataset['Age'].iloc[i] = age_med"
      ],
      "execution_count": 43,
      "outputs": [
        {
          "output_type": "stream",
          "text": [
            "/usr/local/lib/python3.6/dist-packages/pandas/core/indexing.py:205: SettingWithCopyWarning: \n",
            "A value is trying to be set on a copy of a slice from a DataFrame\n",
            "\n",
            "See the caveats in the documentation: http://pandas.pydata.org/pandas-docs/stable/user_guide/indexing.html#returning-a-view-versus-a-copy\n",
            "  self._setitem_with_indexer(indexer, value)\n"
          ],
          "name": "stderr"
        }
      ]
    },
    {
      "cell_type": "code",
      "metadata": {
        "id": "-GeweWDdyrPj",
        "colab_type": "code",
        "outputId": "7f8b3a2d-c75c-4375-b46b-f811c604667b",
        "colab": {
          "base_uri": "https://localhost:8080/",
          "height": 247
        }
      },
      "source": [
        "dataset.isnull().sum()"
      ],
      "execution_count": 44,
      "outputs": [
        {
          "output_type": "execute_result",
          "data": {
            "text/plain": [
              "Age               0\n",
              "Cabin          1007\n",
              "Embarked          0\n",
              "Fare              0\n",
              "Name              0\n",
              "Parch             0\n",
              "PassengerId       0\n",
              "Pclass            0\n",
              "Sex               0\n",
              "SibSp             0\n",
              "Survived        418\n",
              "Ticket            0\n",
              "dtype: int64"
            ]
          },
          "metadata": {
            "tags": []
          },
          "execution_count": 44
        }
      ]
    },
    {
      "cell_type": "markdown",
      "metadata": {
        "id": "lQHLOWSS2x1C",
        "colab_type": "text"
      },
      "source": [
        "유튜브 댓글 분석 하다 보니까 이름에도 많은 정보가 들어있음 \n",
        "\n",
        "처음에는 이름 다 떼어냈는데 거기서 성별을 조금더 세부적으로 나눌수 있는 지표가 있음"
      ]
    },
    {
      "cell_type": "code",
      "metadata": {
        "id": "QvNqZoqI1dN0",
        "colab_type": "code",
        "outputId": "cd2d9d7f-3479-42e9-c53e-209f985776e5",
        "colab": {
          "base_uri": "https://localhost:8080/",
          "height": 123
        }
      },
      "source": [
        "dataset[\"Name\"].head()"
      ],
      "execution_count": 45,
      "outputs": [
        {
          "output_type": "execute_result",
          "data": {
            "text/plain": [
              "0                              Braund, Mr. Owen Harris\n",
              "1    Cumings, Mrs. John Bradley (Florence Briggs Th...\n",
              "2                               Heikkinen, Miss. Laina\n",
              "3         Futrelle, Mrs. Jacques Heath (Lily May Peel)\n",
              "4                             Allen, Mr. William Henry\n",
              "Name: Name, dtype: object"
            ]
          },
          "metadata": {
            "tags": []
          },
          "execution_count": 45
        }
      ]
    },
    {
      "cell_type": "code",
      "metadata": {
        "id": "U31F_2Ii1sx9",
        "colab_type": "code",
        "outputId": "41a8c89d-bf3c-48b4-fad3-0d474a4d8ca6",
        "colab": {
          "base_uri": "https://localhost:8080/",
          "height": 123
        }
      },
      "source": [
        "dataset_title = [i.split(\",\")[1].split(\".\")[0].strip() for i in dataset[\"Name\"]]\n",
        "dataset[\"Title\"] = pd.Series(dataset_title)\n",
        "dataset[\"Title\"].head()"
      ],
      "execution_count": 46,
      "outputs": [
        {
          "output_type": "execute_result",
          "data": {
            "text/plain": [
              "0      Mr\n",
              "1     Mrs\n",
              "2    Miss\n",
              "3     Mrs\n",
              "4      Mr\n",
              "Name: Title, dtype: object"
            ]
          },
          "metadata": {
            "tags": []
          },
          "execution_count": 46
        }
      ]
    },
    {
      "cell_type": "code",
      "metadata": {
        "id": "mwO7B7z41uIR",
        "colab_type": "code",
        "outputId": "f832161a-dd57-4312-df1e-a687ab690935",
        "colab": {
          "base_uri": "https://localhost:8080/",
          "height": 284
        }
      },
      "source": [
        "g = sns.countplot(x=\"Title\",data=dataset)"
      ],
      "execution_count": 47,
      "outputs": [
        {
          "output_type": "display_data",
          "data": {
            "image/png": "[encoded data removed]",
            "text/plain": [
              "<Figure size 432x288 with 1 Axes>"
            ]
          },
          "metadata": {
            "tags": []
          }
        }
      ]
    },
    {
      "cell_type": "code",
      "metadata": {
        "id": "MRaQHqNb10et",
        "colab_type": "code",
        "colab": {}
      },
      "source": [
        "dataset[\"Title\"] = dataset[\"Title\"].replace(['Lady', 'the Countess','Countess','Capt', 'Col','Don', 'Dr', 'Major', 'Rev', 'Sir', 'Jonkheer', 'Dona'], 'Rare')\n",
        "dataset[\"Title\"] = dataset[\"Title\"].map({\"Master\":0, \"Miss\":1, \"Ms\" : 1 , \"Mme\":1, \"Mlle\":1, \"Mrs\":1, \"Mr\":2, \"Rare\":3})\n",
        "dataset[\"Title\"] = dataset[\"Title\"].astype(int)"
      ],
      "execution_count": 0,
      "outputs": []
    },
    {
      "cell_type": "code",
      "metadata": {
        "id": "vhQKowup18Ko",
        "colab_type": "code",
        "outputId": "8873d9bf-ef96-4633-bc6d-41b3be25744b",
        "colab": {
          "base_uri": "https://localhost:8080/",
          "height": 284
        }
      },
      "source": [
        "g = sns.countplot(dataset[\"Title\"])"
      ],
      "execution_count": 49,
      "outputs": [
        {
          "output_type": "display_data",
          "data": {
            "image/png": "[encoded data removed]",
            "text/plain": [
              "<Figure size 432x288 with 1 Axes>"
            ]
          },
          "metadata": {
            "tags": []
          }
        }
      ]
    },
    {
      "cell_type": "markdown",
      "metadata": {
        "id": "B5Xo5_zW2A8g",
        "colab_type": "text"
      },
      "source": [
        "mr가 가장 많음 "
      ]
    },
    {
      "cell_type": "code",
      "metadata": {
        "id": "MHBbnvLT2Ful",
        "colab_type": "code",
        "outputId": "0aa3aaca-9eb2-4e0d-fbb6-677474606aca",
        "colab": {
          "base_uri": "https://localhost:8080/",
          "height": 420
        }
      },
      "source": [
        "g = sns.factorplot(x=\"Title\",y=\"Survived\",data=dataset,kind=\"bar\")"
      ],
      "execution_count": 50,
      "outputs": [
        {
          "output_type": "stream",
          "text": [
            "/usr/local/lib/python3.6/dist-packages/seaborn/categorical.py:3669: UserWarning: The `factorplot` function has been renamed to `catplot`. The original name will be removed in a future release. Please update your code. Note that the default `kind` in `factorplot` (`'point'`) has changed `'strip'` in `catplot`.\n",
            "  warnings.warn(msg)\n"
          ],
          "name": "stderr"
        },
        {
          "output_type": "display_data",
          "data": {
            "image/png": "[encoded data removed]",
            "text/plain": [
              "<Figure size 360x360 with 1 Axes>"
            ]
          },
          "metadata": {
            "tags": []
          }
        }
      ]
    },
    {
      "cell_type": "markdown",
      "metadata": {
        "id": "iskBBqVR2osm",
        "colab_type": "text"
      },
      "source": [
        "미스터를 가진 사람들은 다 죽고\n",
        "\n",
        "여자랑 애들은 살아 남음"
      ]
    },
    {
      "cell_type": "markdown",
      "metadata": {
        "id": "CM319RNPiTM1",
        "colab_type": "text"
      },
      "source": [
        "##가족 파생변수 생성"
      ]
    },
    {
      "cell_type": "code",
      "metadata": {
        "id": "zMvEEat028GO",
        "colab_type": "code",
        "colab": {}
      },
      "source": [
        "dataset.drop(labels = [\"Name\"], axis = 1, inplace = True)"
      ],
      "execution_count": 0,
      "outputs": []
    },
    {
      "cell_type": "code",
      "metadata": {
        "id": "HauR8vfu8PLI",
        "colab_type": "code",
        "colab": {}
      },
      "source": [
        "dataset[\"Family\"] = dataset[\"SibSp\"] + dataset[\"Parch\"] + 1"
      ],
      "execution_count": 0,
      "outputs": []
    },
    {
      "cell_type": "markdown",
      "metadata": {
        "id": "v85m0ysc8UWt",
        "colab_type": "text"
      },
      "source": [
        "혼자 인 사람은 0이기 때문에 전체 인원 +1 해서\n",
        "\n",
        "파생변수 생성"
      ]
    },
    {
      "cell_type": "code",
      "metadata": {
        "id": "exIPTObq8e6m",
        "colab_type": "code",
        "outputId": "c1f7c52c-3f01-4f61-f153-01f70ce65444",
        "colab": {
          "base_uri": "https://localhost:8080/",
          "height": 284
        }
      },
      "source": [
        "g = sns.barplot(x=\"Family\",y=\"Survived\",data=dataset)"
      ],
      "execution_count": 53,
      "outputs": [
        {
          "output_type": "display_data",
          "data": {
            "image/png": "[encoded data removed]",
            "text/plain": [
              "<Figure size 432x288 with 1 Axes>"
            ]
          },
          "metadata": {
            "tags": []
          }
        }
      ]
    },
    {
      "cell_type": "markdown",
      "metadata": {
        "id": "arHzYxu28vhc",
        "colab_type": "text"
      },
      "source": [
        "가족규모는 생존에 영향을 미치는게 분명히 있음\n",
        "\n",
        " 특히나 대가족의 경우에는 살아남기 힘듬 만약 여자고 남자고 간에 family가 8, 11에 속해 있다면 전원 사망이라고 단정 지어도 됨"
      ]
    },
    {
      "cell_type": "code",
      "metadata": {
        "id": "FhCeG_Il9KzF",
        "colab_type": "code",
        "colab": {}
      },
      "source": [
        "dataset['Single'] = dataset['Family'].map(lambda s: 1 if s == 1 else 0)\n",
        "dataset['SFamily'] = dataset['Family'].map(lambda s: 1 if  s == 2  else 0)\n",
        "dataset['MFamily'] = dataset['Family'].map(lambda s: 1 if 3 <= s <= 4 else 0)\n",
        "dataset['LFamily'] = dataset['Family'].map(lambda s: 1 if s >= 5 else 0)"
      ],
      "execution_count": 0,
      "outputs": []
    },
    {
      "cell_type": "code",
      "metadata": {
        "id": "LIPxoAiL-FK2",
        "colab_type": "code",
        "outputId": "4ef7f12a-b680-4f01-ae00-37d64015b9e7",
        "colab": {
          "base_uri": "https://localhost:8080/",
          "height": 420
        }
      },
      "source": [
        "g = sns.factorplot(x=\"Single\",y=\"Survived\",data=dataset,kind=\"bar\")"
      ],
      "execution_count": 55,
      "outputs": [
        {
          "output_type": "stream",
          "text": [
            "/usr/local/lib/python3.6/dist-packages/seaborn/categorical.py:3669: UserWarning: The `factorplot` function has been renamed to `catplot`. The original name will be removed in a future release. Please update your code. Note that the default `kind` in `factorplot` (`'point'`) has changed `'strip'` in `catplot`.\n",
            "  warnings.warn(msg)\n"
          ],
          "name": "stderr"
        },
        {
          "output_type": "display_data",
          "data": {
            "image/png": "[encoded data removed]",
            "text/plain": [
              "<Figure size 360x360 with 1 Axes>"
            ]
          },
          "metadata": {
            "tags": []
          }
        }
      ]
    },
    {
      "cell_type": "code",
      "metadata": {
        "id": "AZdVS-dA-Ii6",
        "colab_type": "code",
        "outputId": "5425e642-17a4-477c-e42d-e8bbb7c283d3",
        "colab": {
          "base_uri": "https://localhost:8080/",
          "height": 420
        }
      },
      "source": [
        "g = sns.factorplot(x=\"SFamily\",y=\"Survived\",data=dataset,kind=\"bar\")"
      ],
      "execution_count": 56,
      "outputs": [
        {
          "output_type": "stream",
          "text": [
            "/usr/local/lib/python3.6/dist-packages/seaborn/categorical.py:3669: UserWarning: The `factorplot` function has been renamed to `catplot`. The original name will be removed in a future release. Please update your code. Note that the default `kind` in `factorplot` (`'point'`) has changed `'strip'` in `catplot`.\n",
            "  warnings.warn(msg)\n"
          ],
          "name": "stderr"
        },
        {
          "output_type": "display_data",
          "data": {
            "image/png": "[encoded data removed]",
            "text/plain": [
              "<Figure size 360x360 with 1 Axes>"
            ]
          },
          "metadata": {
            "tags": []
          }
        }
      ]
    },
    {
      "cell_type": "code",
      "metadata": {
        "id": "5lkoyWSF-MhG",
        "colab_type": "code",
        "outputId": "dd4cfc38-34fb-4822-b820-75cf248b37ab",
        "colab": {
          "base_uri": "https://localhost:8080/",
          "height": 420
        }
      },
      "source": [
        "g = sns.factorplot(x=\"MFamily\",y=\"Survived\",data=dataset,kind=\"bar\")"
      ],
      "execution_count": 57,
      "outputs": [
        {
          "output_type": "stream",
          "text": [
            "/usr/local/lib/python3.6/dist-packages/seaborn/categorical.py:3669: UserWarning: The `factorplot` function has been renamed to `catplot`. The original name will be removed in a future release. Please update your code. Note that the default `kind` in `factorplot` (`'point'`) has changed `'strip'` in `catplot`.\n",
            "  warnings.warn(msg)\n"
          ],
          "name": "stderr"
        },
        {
          "output_type": "display_data",
          "data": {
            "image/png": "[encoded data removed]",
            "text/plain": [
              "<Figure size 360x360 with 1 Axes>"
            ]
          },
          "metadata": {
            "tags": []
          }
        }
      ]
    },
    {
      "cell_type": "code",
      "metadata": {
        "id": "mEGf9eh_-OMm",
        "colab_type": "code",
        "outputId": "071264b6-2b44-42f7-a410-7fcea51cd5a2",
        "colab": {
          "base_uri": "https://localhost:8080/",
          "height": 420
        }
      },
      "source": [
        "g = sns.factorplot(x=\"LFamily\",y=\"Survived\",data=dataset,kind=\"bar\")"
      ],
      "execution_count": 58,
      "outputs": [
        {
          "output_type": "stream",
          "text": [
            "/usr/local/lib/python3.6/dist-packages/seaborn/categorical.py:3669: UserWarning: The `factorplot` function has been renamed to `catplot`. The original name will be removed in a future release. Please update your code. Note that the default `kind` in `factorplot` (`'point'`) has changed `'strip'` in `catplot`.\n",
            "  warnings.warn(msg)\n"
          ],
          "name": "stderr"
        },
        {
          "output_type": "display_data",
          "data": {
            "image/png": "[encoded data removed]",
            "text/plain": [
              "<Figure size 360x360 with 1 Axes>"
            ]
          },
          "metadata": {
            "tags": []
          }
        }
      ]
    },
    {
      "cell_type": "markdown",
      "metadata": {
        "id": "x_TXeAsM-Qpg",
        "colab_type": "text"
      },
      "source": [
        "여러개의 피쳐들중에 많이 살아 남은 사람들을 모아서 하나로 묶어줬음 \n",
        "\n",
        "그러자 결과적으로 큰 대가족의 경우에는 사망률이 높은게 정설로 드러남"
      ]
    },
    {
      "cell_type": "code",
      "metadata": {
        "id": "DYS5d-xT-gZL",
        "colab_type": "code",
        "outputId": "7ccf50ab-d39b-42a4-a444-470b3f480339",
        "colab": {
          "base_uri": "https://localhost:8080/",
          "height": 407
        }
      },
      "source": [
        "dataset.info()"
      ],
      "execution_count": 59,
      "outputs": [
        {
          "output_type": "stream",
          "text": [
            "<class 'pandas.core.frame.DataFrame'>\n",
            "RangeIndex: 1299 entries, 0 to 1298\n",
            "Data columns (total 17 columns):\n",
            "Age            1299 non-null float64\n",
            "Cabin          292 non-null object\n",
            "Embarked       1299 non-null object\n",
            "Fare           1299 non-null float64\n",
            "Parch          1299 non-null int64\n",
            "PassengerId    1299 non-null int64\n",
            "Pclass         1299 non-null int64\n",
            "Sex            1299 non-null int64\n",
            "SibSp          1299 non-null int64\n",
            "Survived       881 non-null float64\n",
            "Ticket         1299 non-null object\n",
            "Title          1299 non-null int64\n",
            "Family         1299 non-null int64\n",
            "Single         1299 non-null int64\n",
            "SFamily        1299 non-null int64\n",
            "MFamily        1299 non-null int64\n",
            "LFamily        1299 non-null int64\n",
            "dtypes: float64(3), int64(11), object(3)\n",
            "memory usage: 172.6+ KB\n"
          ],
          "name": "stdout"
        }
      ]
    },
    {
      "cell_type": "code",
      "metadata": {
        "id": "lIpB7nMT-mHY",
        "colab_type": "code",
        "outputId": "72d5d27c-6930-4f90-fb76-b7c921e22f93",
        "colab": {
          "base_uri": "https://localhost:8080/",
          "height": 251
        }
      },
      "source": [
        "dataset.head()"
      ],
      "execution_count": 60,
      "outputs": [
        {
          "output_type": "execute_result",
          "data": {
            "text/html": [
              "<div>\n",
              "<style scoped>\n",
              "    .dataframe tbody tr th:only-of-type {\n",
              "        vertical-align: middle;\n",
              "    }\n",
              "\n",
              "    .dataframe tbody tr th {\n",
              "        vertical-align: top;\n",
              "    }\n",
              "\n",
              "    .dataframe thead th {\n",
              "        text-align: right;\n",
              "    }\n",
              "</style>\n",
              "<table border=\"1\" class=\"dataframe\">\n",
              "  <thead>\n",
              "    <tr style=\"text-align: right;\">\n",
              "      <th></th>\n",
              "      <th>Age</th>\n",
              "      <th>Cabin</th>\n",
              "      <th>Embarked</th>\n",
              "      <th>Fare</th>\n",
              "      <th>Parch</th>\n",
              "      <th>PassengerId</th>\n",
              "      <th>Pclass</th>\n",
              "      <th>Sex</th>\n",
              "      <th>SibSp</th>\n",
              "      <th>Survived</th>\n",
              "      <th>Ticket</th>\n",
              "      <th>Title</th>\n",
              "      <th>Family</th>\n",
              "      <th>Single</th>\n",
              "      <th>SFamily</th>\n",
              "      <th>MFamily</th>\n",
              "      <th>LFamily</th>\n",
              "    </tr>\n",
              "  </thead>\n",
              "  <tbody>\n",
              "    <tr>\n",
              "      <th>0</th>\n",
              "      <td>22.0</td>\n",
              "      <td>NaN</td>\n",
              "      <td>S</td>\n",
              "      <td>2.110213</td>\n",
              "      <td>0</td>\n",
              "      <td>1</td>\n",
              "      <td>3</td>\n",
              "      <td>0</td>\n",
              "      <td>1</td>\n",
              "      <td>0.0</td>\n",
              "      <td>A/5 21171</td>\n",
              "      <td>2</td>\n",
              "      <td>2</td>\n",
              "      <td>0</td>\n",
              "      <td>1</td>\n",
              "      <td>0</td>\n",
              "      <td>0</td>\n",
              "    </tr>\n",
              "    <tr>\n",
              "      <th>1</th>\n",
              "      <td>38.0</td>\n",
              "      <td>C85</td>\n",
              "      <td>C</td>\n",
              "      <td>4.280593</td>\n",
              "      <td>0</td>\n",
              "      <td>2</td>\n",
              "      <td>1</td>\n",
              "      <td>1</td>\n",
              "      <td>1</td>\n",
              "      <td>1.0</td>\n",
              "      <td>PC 17599</td>\n",
              "      <td>1</td>\n",
              "      <td>2</td>\n",
              "      <td>0</td>\n",
              "      <td>1</td>\n",
              "      <td>0</td>\n",
              "      <td>0</td>\n",
              "    </tr>\n",
              "    <tr>\n",
              "      <th>2</th>\n",
              "      <td>26.0</td>\n",
              "      <td>NaN</td>\n",
              "      <td>S</td>\n",
              "      <td>2.188856</td>\n",
              "      <td>0</td>\n",
              "      <td>3</td>\n",
              "      <td>3</td>\n",
              "      <td>1</td>\n",
              "      <td>0</td>\n",
              "      <td>1.0</td>\n",
              "      <td>STON/O2. 3101282</td>\n",
              "      <td>1</td>\n",
              "      <td>1</td>\n",
              "      <td>1</td>\n",
              "      <td>0</td>\n",
              "      <td>0</td>\n",
              "      <td>0</td>\n",
              "    </tr>\n",
              "    <tr>\n",
              "      <th>3</th>\n",
              "      <td>35.0</td>\n",
              "      <td>C123</td>\n",
              "      <td>S</td>\n",
              "      <td>3.990834</td>\n",
              "      <td>0</td>\n",
              "      <td>4</td>\n",
              "      <td>1</td>\n",
              "      <td>1</td>\n",
              "      <td>1</td>\n",
              "      <td>1.0</td>\n",
              "      <td>113803</td>\n",
              "      <td>1</td>\n",
              "      <td>2</td>\n",
              "      <td>0</td>\n",
              "      <td>1</td>\n",
              "      <td>0</td>\n",
              "      <td>0</td>\n",
              "    </tr>\n",
              "    <tr>\n",
              "      <th>4</th>\n",
              "      <td>35.0</td>\n",
              "      <td>NaN</td>\n",
              "      <td>S</td>\n",
              "      <td>2.202765</td>\n",
              "      <td>0</td>\n",
              "      <td>5</td>\n",
              "      <td>3</td>\n",
              "      <td>0</td>\n",
              "      <td>0</td>\n",
              "      <td>0.0</td>\n",
              "      <td>373450</td>\n",
              "      <td>2</td>\n",
              "      <td>1</td>\n",
              "      <td>1</td>\n",
              "      <td>0</td>\n",
              "      <td>0</td>\n",
              "      <td>0</td>\n",
              "    </tr>\n",
              "  </tbody>\n",
              "</table>\n",
              "</div>"
            ],
            "text/plain": [
              "    Age Cabin Embarked      Fare  ...  Single  SFamily  MFamily  LFamily\n",
              "0  22.0   NaN        S  2.110213  ...       0        1        0        0\n",
              "1  38.0   C85        C  4.280593  ...       0        1        0        0\n",
              "2  26.0   NaN        S  2.188856  ...       1        0        0        0\n",
              "3  35.0  C123        S  3.990834  ...       0        1        0        0\n",
              "4  35.0   NaN        S  2.202765  ...       1        0        0        0\n",
              "\n",
              "[5 rows x 17 columns]"
            ]
          },
          "metadata": {
            "tags": []
          },
          "execution_count": 60
        }
      ]
    },
    {
      "cell_type": "code",
      "metadata": {
        "id": "MhU0U5mf-yYp",
        "colab_type": "code",
        "colab": {}
      },
      "source": [
        "dataset = pd.get_dummies(dataset, columns = [\"Embarked\"], prefix=\"Em\")"
      ],
      "execution_count": 0,
      "outputs": []
    },
    {
      "cell_type": "code",
      "metadata": {
        "id": "aO9GvYZX-9JE",
        "colab_type": "code",
        "outputId": "ecf38018-3a7c-448a-e0d2-2b003faa0c51",
        "colab": {
          "base_uri": "https://localhost:8080/",
          "height": 105
        }
      },
      "source": [
        "dataset[\"Cabin\"].describe()"
      ],
      "execution_count": 62,
      "outputs": [
        {
          "output_type": "execute_result",
          "data": {
            "text/plain": [
              "count                 292\n",
              "unique                186\n",
              "top       B57 B59 B63 B66\n",
              "freq                    5\n",
              "Name: Cabin, dtype: object"
            ]
          },
          "metadata": {
            "tags": []
          },
          "execution_count": 62
        }
      ]
    },
    {
      "cell_type": "code",
      "metadata": {
        "id": "YtvL0Lox_MeD",
        "colab_type": "code",
        "outputId": "e5ff0bd5-b0c1-416e-96c8-160e782e63e7",
        "colab": {
          "base_uri": "https://localhost:8080/",
          "height": 34
        }
      },
      "source": [
        "dataset[\"Cabin\"].isnull().sum()"
      ],
      "execution_count": 63,
      "outputs": [
        {
          "output_type": "execute_result",
          "data": {
            "text/plain": [
              "1007"
            ]
          },
          "metadata": {
            "tags": []
          },
          "execution_count": 63
        }
      ]
    },
    {
      "cell_type": "code",
      "metadata": {
        "id": "wVjZPyU9_ONV",
        "colab_type": "code",
        "colab": {}
      },
      "source": [
        "dataset[\"Cabin\"] = pd.Series([i[0] if not pd.isnull(i) else 'X' for i in dataset['Cabin'] ])"
      ],
      "execution_count": 0,
      "outputs": []
    },
    {
      "cell_type": "code",
      "metadata": {
        "id": "qwKEh3du_Q4A",
        "colab_type": "code",
        "outputId": "5a5125f2-141e-464e-bc65-e65fbefe83e8",
        "colab": {
          "base_uri": "https://localhost:8080/",
          "height": 284
        }
      },
      "source": [
        "g = sns.countplot(dataset[\"Cabin\"],order=['A','B','C','D','E','F','G','T','X'])"
      ],
      "execution_count": 65,
      "outputs": [
        {
          "output_type": "display_data",
          "data": {
            "image/png": "[encoded data removed]",
            "text/plain": [
              "<Figure size 432x288 with 1 Axes>"
            ]
          },
          "metadata": {
            "tags": []
          }
        }
      ]
    },
    {
      "cell_type": "code",
      "metadata": {
        "id": "EoLyb4mP_TpT",
        "colab_type": "code",
        "outputId": "8543fe79-dc9f-46c7-8b61-0f9d6d8a5700",
        "colab": {
          "base_uri": "https://localhost:8080/",
          "height": 420
        }
      },
      "source": [
        "g = sns.factorplot(y=\"Survived\",x=\"Cabin\",data=dataset,kind=\"bar\")"
      ],
      "execution_count": 66,
      "outputs": [
        {
          "output_type": "stream",
          "text": [
            "/usr/local/lib/python3.6/dist-packages/seaborn/categorical.py:3669: UserWarning: The `factorplot` function has been renamed to `catplot`. The original name will be removed in a future release. Please update your code. Note that the default `kind` in `factorplot` (`'point'`) has changed `'strip'` in `catplot`.\n",
            "  warnings.warn(msg)\n"
          ],
          "name": "stderr"
        },
        {
          "output_type": "display_data",
          "data": {
            "image/png": "[encoded data removed]",
            "text/plain": [
              "<Figure size 360x360 with 1 Axes>"
            ]
          },
          "metadata": {
            "tags": []
          }
        }
      ]
    },
    {
      "cell_type": "markdown",
      "metadata": {
        "id": "Q3L8u9wW_Y0U",
        "colab_type": "text"
      },
      "source": [
        "일단 X라고 채워두고 데이터의 분포를 봄 \n",
        "\n",
        "그랫더니 일단 선실 정보가 있기만 하면 살아 남을 확률이 굉장히 높아 보임 \n",
        "\n",
        "선실이 X면 다죽었는데 선실이 있으면 그중에서도 \n",
        "\n",
        "E D B의 경우에는 0.8이나 살아 남음 "
      ]
    },
    {
      "cell_type": "code",
      "metadata": {
        "id": "YoOv41GT_1_d",
        "colab_type": "code",
        "colab": {}
      },
      "source": [
        "dataset = pd.get_dummies(dataset, columns = [\"Cabin\"],prefix=\"Cabin\")"
      ],
      "execution_count": 0,
      "outputs": []
    },
    {
      "cell_type": "code",
      "metadata": {
        "id": "W4pEiDAd_5RG",
        "colab_type": "code",
        "outputId": "99b240a0-99a3-4991-df3c-d1b53b94ea6e",
        "colab": {
          "base_uri": "https://localhost:8080/",
          "height": 105
        }
      },
      "source": [
        "dataset[\"Ticket\"].describe()"
      ],
      "execution_count": 68,
      "outputs": [
        {
          "output_type": "execute_result",
          "data": {
            "text/plain": [
              "count        1299\n",
              "unique        929\n",
              "top       CA 2144\n",
              "freq            8\n",
              "Name: Ticket, dtype: object"
            ]
          },
          "metadata": {
            "tags": []
          },
          "execution_count": 68
        }
      ]
    },
    {
      "cell_type": "code",
      "metadata": {
        "id": "cK9JUmEt_7xJ",
        "colab_type": "code",
        "outputId": "f7799bf1-ce12-4d1b-a2c6-a7ec634a33ff",
        "colab": {
          "base_uri": "https://localhost:8080/",
          "height": 123
        }
      },
      "source": [
        "Ticket = []\n",
        "for i in list(dataset.Ticket):\n",
        "    if not i.isdigit() :\n",
        "        Ticket.append(i.replace(\".\",\"\").replace(\"/\",\"\").strip().split(' ')[0]) \n",
        "    else:\n",
        "        Ticket.append(\"X\")\n",
        "        \n",
        "dataset[\"Ticket\"] = Ticket\n",
        "dataset[\"Ticket\"].head()"
      ],
      "execution_count": 69,
      "outputs": [
        {
          "output_type": "execute_result",
          "data": {
            "text/plain": [
              "0        A5\n",
              "1        PC\n",
              "2    STONO2\n",
              "3         X\n",
              "4         X\n",
              "Name: Ticket, dtype: object"
            ]
          },
          "metadata": {
            "tags": []
          },
          "execution_count": 69
        }
      ]
    },
    {
      "cell_type": "code",
      "metadata": {
        "id": "GGZesDGGDqTZ",
        "colab_type": "code",
        "colab": {}
      },
      "source": [
        "dataset = pd.get_dummies(dataset, columns = [\"Ticket\"], prefix=\"T\")"
      ],
      "execution_count": 0,
      "outputs": []
    },
    {
      "cell_type": "code",
      "metadata": {
        "id": "qfVD_V8qEGYd",
        "colab_type": "code",
        "outputId": "1abb9472-5af8-4bdd-8740-6c7fd3f22974",
        "colab": {
          "base_uri": "https://localhost:8080/",
          "height": 217
        }
      },
      "source": [
        "dataset.head()"
      ],
      "execution_count": 71,
      "outputs": [
        {
          "output_type": "execute_result",
          "data": {
            "text/html": [
              "<div>\n",
              "<style scoped>\n",
              "    .dataframe tbody tr th:only-of-type {\n",
              "        vertical-align: middle;\n",
              "    }\n",
              "\n",
              "    .dataframe tbody tr th {\n",
              "        vertical-align: top;\n",
              "    }\n",
              "\n",
              "    .dataframe thead th {\n",
              "        text-align: right;\n",
              "    }\n",
              "</style>\n",
              "<table border=\"1\" class=\"dataframe\">\n",
              "  <thead>\n",
              "    <tr style=\"text-align: right;\">\n",
              "      <th></th>\n",
              "      <th>Age</th>\n",
              "      <th>Fare</th>\n",
              "      <th>Parch</th>\n",
              "      <th>PassengerId</th>\n",
              "      <th>Pclass</th>\n",
              "      <th>Sex</th>\n",
              "      <th>SibSp</th>\n",
              "      <th>Survived</th>\n",
              "      <th>Title</th>\n",
              "      <th>Family</th>\n",
              "      <th>Single</th>\n",
              "      <th>SFamily</th>\n",
              "      <th>MFamily</th>\n",
              "      <th>LFamily</th>\n",
              "      <th>Em_C</th>\n",
              "      <th>Em_Q</th>\n",
              "      <th>Em_S</th>\n",
              "      <th>Cabin_A</th>\n",
              "      <th>Cabin_B</th>\n",
              "      <th>Cabin_C</th>\n",
              "      <th>Cabin_D</th>\n",
              "      <th>Cabin_E</th>\n",
              "      <th>Cabin_F</th>\n",
              "      <th>Cabin_G</th>\n",
              "      <th>Cabin_T</th>\n",
              "      <th>Cabin_X</th>\n",
              "      <th>T_A</th>\n",
              "      <th>T_A4</th>\n",
              "      <th>T_A5</th>\n",
              "      <th>T_AQ3</th>\n",
              "      <th>T_AQ4</th>\n",
              "      <th>T_AS</th>\n",
              "      <th>T_C</th>\n",
              "      <th>T_CA</th>\n",
              "      <th>T_CASOTON</th>\n",
              "      <th>T_FC</th>\n",
              "      <th>T_FCC</th>\n",
              "      <th>T_Fa</th>\n",
              "      <th>T_LINE</th>\n",
              "      <th>T_LP</th>\n",
              "      <th>T_PC</th>\n",
              "      <th>T_PP</th>\n",
              "      <th>T_PPP</th>\n",
              "      <th>T_SC</th>\n",
              "      <th>T_SCA3</th>\n",
              "      <th>T_SCA4</th>\n",
              "      <th>T_SCAH</th>\n",
              "      <th>T_SCOW</th>\n",
              "      <th>T_SCPARIS</th>\n",
              "      <th>T_SCParis</th>\n",
              "      <th>T_SOC</th>\n",
              "      <th>T_SOP</th>\n",
              "      <th>T_SOPP</th>\n",
              "      <th>T_SOTONO2</th>\n",
              "      <th>T_SOTONOQ</th>\n",
              "      <th>T_SP</th>\n",
              "      <th>T_STONO</th>\n",
              "      <th>T_STONO2</th>\n",
              "      <th>T_STONOQ</th>\n",
              "      <th>T_SWPP</th>\n",
              "      <th>T_WC</th>\n",
              "      <th>T_WEP</th>\n",
              "      <th>T_X</th>\n",
              "    </tr>\n",
              "  </thead>\n",
              "  <tbody>\n",
              "    <tr>\n",
              "      <th>0</th>\n",
              "      <td>22.0</td>\n",
              "      <td>2.110213</td>\n",
              "      <td>0</td>\n",
              "      <td>1</td>\n",
              "      <td>3</td>\n",
              "      <td>0</td>\n",
              "      <td>1</td>\n",
              "      <td>0.0</td>\n",
              "      <td>2</td>\n",
              "      <td>2</td>\n",
              "      <td>0</td>\n",
              "      <td>1</td>\n",
              "      <td>0</td>\n",
              "      <td>0</td>\n",
              "      <td>0</td>\n",
              "      <td>0</td>\n",
              "      <td>1</td>\n",
              "      <td>0</td>\n",
              "      <td>0</td>\n",
              "      <td>0</td>\n",
              "      <td>0</td>\n",
              "      <td>0</td>\n",
              "      <td>0</td>\n",
              "      <td>0</td>\n",
              "      <td>0</td>\n",
              "      <td>1</td>\n",
              "      <td>0</td>\n",
              "      <td>0</td>\n",
              "      <td>1</td>\n",
              "      <td>0</td>\n",
              "      <td>0</td>\n",
              "      <td>0</td>\n",
              "      <td>0</td>\n",
              "      <td>0</td>\n",
              "      <td>0</td>\n",
              "      <td>0</td>\n",
              "      <td>0</td>\n",
              "      <td>0</td>\n",
              "      <td>0</td>\n",
              "      <td>0</td>\n",
              "      <td>0</td>\n",
              "      <td>0</td>\n",
              "      <td>0</td>\n",
              "      <td>0</td>\n",
              "      <td>0</td>\n",
              "      <td>0</td>\n",
              "      <td>0</td>\n",
              "      <td>0</td>\n",
              "      <td>0</td>\n",
              "      <td>0</td>\n",
              "      <td>0</td>\n",
              "      <td>0</td>\n",
              "      <td>0</td>\n",
              "      <td>0</td>\n",
              "      <td>0</td>\n",
              "      <td>0</td>\n",
              "      <td>0</td>\n",
              "      <td>0</td>\n",
              "      <td>0</td>\n",
              "      <td>0</td>\n",
              "      <td>0</td>\n",
              "      <td>0</td>\n",
              "      <td>0</td>\n",
              "    </tr>\n",
              "    <tr>\n",
              "      <th>1</th>\n",
              "      <td>38.0</td>\n",
              "      <td>4.280593</td>\n",
              "      <td>0</td>\n",
              "      <td>2</td>\n",
              "      <td>1</td>\n",
              "      <td>1</td>\n",
              "      <td>1</td>\n",
              "      <td>1.0</td>\n",
              "      <td>1</td>\n",
              "      <td>2</td>\n",
              "      <td>0</td>\n",
              "      <td>1</td>\n",
              "      <td>0</td>\n",
              "      <td>0</td>\n",
              "      <td>1</td>\n",
              "      <td>0</td>\n",
              "      <td>0</td>\n",
              "      <td>0</td>\n",
              "      <td>0</td>\n",
              "      <td>1</td>\n",
              "      <td>0</td>\n",
              "      <td>0</td>\n",
              "      <td>0</td>\n",
              "      <td>0</td>\n",
              "      <td>0</td>\n",
              "      <td>0</td>\n",
              "      <td>0</td>\n",
              "      <td>0</td>\n",
              "      <td>0</td>\n",
              "      <td>0</td>\n",
              "      <td>0</td>\n",
              "      <td>0</td>\n",
              "      <td>0</td>\n",
              "      <td>0</td>\n",
              "      <td>0</td>\n",
              "      <td>0</td>\n",
              "      <td>0</td>\n",
              "      <td>0</td>\n",
              "      <td>0</td>\n",
              "      <td>0</td>\n",
              "      <td>1</td>\n",
              "      <td>0</td>\n",
              "      <td>0</td>\n",
              "      <td>0</td>\n",
              "      <td>0</td>\n",
              "      <td>0</td>\n",
              "      <td>0</td>\n",
              "      <td>0</td>\n",
              "      <td>0</td>\n",
              "      <td>0</td>\n",
              "      <td>0</td>\n",
              "      <td>0</td>\n",
              "      <td>0</td>\n",
              "      <td>0</td>\n",
              "      <td>0</td>\n",
              "      <td>0</td>\n",
              "      <td>0</td>\n",
              "      <td>0</td>\n",
              "      <td>0</td>\n",
              "      <td>0</td>\n",
              "      <td>0</td>\n",
              "      <td>0</td>\n",
              "      <td>0</td>\n",
              "    </tr>\n",
              "    <tr>\n",
              "      <th>2</th>\n",
              "      <td>26.0</td>\n",
              "      <td>2.188856</td>\n",
              "      <td>0</td>\n",
              "      <td>3</td>\n",
              "      <td>3</td>\n",
              "      <td>1</td>\n",
              "      <td>0</td>\n",
              "      <td>1.0</td>\n",
              "      <td>1</td>\n",
              "      <td>1</td>\n",
              "      <td>1</td>\n",
              "      <td>0</td>\n",
              "      <td>0</td>\n",
              "      <td>0</td>\n",
              "      <td>0</td>\n",
              "      <td>0</td>\n",
              "      <td>1</td>\n",
              "      <td>0</td>\n",
              "      <td>0</td>\n",
              "      <td>0</td>\n",
              "      <td>0</td>\n",
              "      <td>0</td>\n",
              "      <td>0</td>\n",
              "      <td>0</td>\n",
              "      <td>0</td>\n",
              "      <td>1</td>\n",
              "      <td>0</td>\n",
              "      <td>0</td>\n",
              "      <td>0</td>\n",
              "      <td>0</td>\n",
              "      <td>0</td>\n",
              "      <td>0</td>\n",
              "      <td>0</td>\n",
              "      <td>0</td>\n",
              "      <td>0</td>\n",
              "      <td>0</td>\n",
              "      <td>0</td>\n",
              "      <td>0</td>\n",
              "      <td>0</td>\n",
              "      <td>0</td>\n",
              "      <td>0</td>\n",
              "      <td>0</td>\n",
              "      <td>0</td>\n",
              "      <td>0</td>\n",
              "      <td>0</td>\n",
              "      <td>0</td>\n",
              "      <td>0</td>\n",
              "      <td>0</td>\n",
              "      <td>0</td>\n",
              "      <td>0</td>\n",
              "      <td>0</td>\n",
              "      <td>0</td>\n",
              "      <td>0</td>\n",
              "      <td>0</td>\n",
              "      <td>0</td>\n",
              "      <td>0</td>\n",
              "      <td>0</td>\n",
              "      <td>1</td>\n",
              "      <td>0</td>\n",
              "      <td>0</td>\n",
              "      <td>0</td>\n",
              "      <td>0</td>\n",
              "      <td>0</td>\n",
              "    </tr>\n",
              "    <tr>\n",
              "      <th>3</th>\n",
              "      <td>35.0</td>\n",
              "      <td>3.990834</td>\n",
              "      <td>0</td>\n",
              "      <td>4</td>\n",
              "      <td>1</td>\n",
              "      <td>1</td>\n",
              "      <td>1</td>\n",
              "      <td>1.0</td>\n",
              "      <td>1</td>\n",
              "      <td>2</td>\n",
              "      <td>0</td>\n",
              "      <td>1</td>\n",
              "      <td>0</td>\n",
              "      <td>0</td>\n",
              "      <td>0</td>\n",
              "      <td>0</td>\n",
              "      <td>1</td>\n",
              "      <td>0</td>\n",
              "      <td>0</td>\n",
              "      <td>1</td>\n",
              "      <td>0</td>\n",
              "      <td>0</td>\n",
              "      <td>0</td>\n",
              "      <td>0</td>\n",
              "      <td>0</td>\n",
              "      <td>0</td>\n",
              "      <td>0</td>\n",
              "      <td>0</td>\n",
              "      <td>0</td>\n",
              "      <td>0</td>\n",
              "      <td>0</td>\n",
              "      <td>0</td>\n",
              "      <td>0</td>\n",
              "      <td>0</td>\n",
              "      <td>0</td>\n",
              "      <td>0</td>\n",
              "      <td>0</td>\n",
              "      <td>0</td>\n",
              "      <td>0</td>\n",
              "      <td>0</td>\n",
              "      <td>0</td>\n",
              "      <td>0</td>\n",
              "      <td>0</td>\n",
              "      <td>0</td>\n",
              "      <td>0</td>\n",
              "      <td>0</td>\n",
              "      <td>0</td>\n",
              "      <td>0</td>\n",
              "      <td>0</td>\n",
              "      <td>0</td>\n",
              "      <td>0</td>\n",
              "      <td>0</td>\n",
              "      <td>0</td>\n",
              "      <td>0</td>\n",
              "      <td>0</td>\n",
              "      <td>0</td>\n",
              "      <td>0</td>\n",
              "      <td>0</td>\n",
              "      <td>0</td>\n",
              "      <td>0</td>\n",
              "      <td>0</td>\n",
              "      <td>0</td>\n",
              "      <td>1</td>\n",
              "    </tr>\n",
              "    <tr>\n",
              "      <th>4</th>\n",
              "      <td>35.0</td>\n",
              "      <td>2.202765</td>\n",
              "      <td>0</td>\n",
              "      <td>5</td>\n",
              "      <td>3</td>\n",
              "      <td>0</td>\n",
              "      <td>0</td>\n",
              "      <td>0.0</td>\n",
              "      <td>2</td>\n",
              "      <td>1</td>\n",
              "      <td>1</td>\n",
              "      <td>0</td>\n",
              "      <td>0</td>\n",
              "      <td>0</td>\n",
              "      <td>0</td>\n",
              "      <td>0</td>\n",
              "      <td>1</td>\n",
              "      <td>0</td>\n",
              "      <td>0</td>\n",
              "      <td>0</td>\n",
              "      <td>0</td>\n",
              "      <td>0</td>\n",
              "      <td>0</td>\n",
              "      <td>0</td>\n",
              "      <td>0</td>\n",
              "      <td>1</td>\n",
              "      <td>0</td>\n",
              "      <td>0</td>\n",
              "      <td>0</td>\n",
              "      <td>0</td>\n",
              "      <td>0</td>\n",
              "      <td>0</td>\n",
              "      <td>0</td>\n",
              "      <td>0</td>\n",
              "      <td>0</td>\n",
              "      <td>0</td>\n",
              "      <td>0</td>\n",
              "      <td>0</td>\n",
              "      <td>0</td>\n",
              "      <td>0</td>\n",
              "      <td>0</td>\n",
              "      <td>0</td>\n",
              "      <td>0</td>\n",
              "      <td>0</td>\n",
              "      <td>0</td>\n",
              "      <td>0</td>\n",
              "      <td>0</td>\n",
              "      <td>0</td>\n",
              "      <td>0</td>\n",
              "      <td>0</td>\n",
              "      <td>0</td>\n",
              "      <td>0</td>\n",
              "      <td>0</td>\n",
              "      <td>0</td>\n",
              "      <td>0</td>\n",
              "      <td>0</td>\n",
              "      <td>0</td>\n",
              "      <td>0</td>\n",
              "      <td>0</td>\n",
              "      <td>0</td>\n",
              "      <td>0</td>\n",
              "      <td>0</td>\n",
              "      <td>1</td>\n",
              "    </tr>\n",
              "  </tbody>\n",
              "</table>\n",
              "</div>"
            ],
            "text/plain": [
              "    Age      Fare  Parch  PassengerId  ...  T_SWPP  T_WC  T_WEP  T_X\n",
              "0  22.0  2.110213      0            1  ...       0     0      0    0\n",
              "1  38.0  4.280593      0            2  ...       0     0      0    0\n",
              "2  26.0  2.188856      0            3  ...       0     0      0    0\n",
              "3  35.0  3.990834      0            4  ...       0     0      0    1\n",
              "4  35.0  2.202765      0            5  ...       0     0      0    1\n",
              "\n",
              "[5 rows x 63 columns]"
            ]
          },
          "metadata": {
            "tags": []
          },
          "execution_count": 71
        }
      ]
    },
    {
      "cell_type": "code",
      "metadata": {
        "id": "lLKI5GpuELju",
        "colab_type": "code",
        "colab": {}
      },
      "source": [
        "dataset.drop(labels = [\"PassengerId\"], axis = 1, inplace = True)"
      ],
      "execution_count": 0,
      "outputs": []
    },
    {
      "cell_type": "markdown",
      "metadata": {
        "id": "gyaY-JECEbix",
        "colab_type": "text"
      },
      "source": [
        "#모델링"
      ]
    },
    {
      "cell_type": "code",
      "metadata": {
        "id": "dhq2KY1LERSQ",
        "colab_type": "code",
        "outputId": "a27dcd76-07b3-4cd2-9322-b9f4d9a82e6f",
        "colab": {
          "base_uri": "https://localhost:8080/",
          "height": 125
        }
      },
      "source": [
        "train = dataset[:train_len]\n",
        "test = dataset[train_len:]\n",
        "test.drop(labels=[\"Survived\"],axis = 1,inplace=True)"
      ],
      "execution_count": 73,
      "outputs": [
        {
          "output_type": "stream",
          "text": [
            "/usr/local/lib/python3.6/dist-packages/pandas/core/frame.py:4117: SettingWithCopyWarning: \n",
            "A value is trying to be set on a copy of a slice from a DataFrame\n",
            "\n",
            "See the caveats in the documentation: http://pandas.pydata.org/pandas-docs/stable/user_guide/indexing.html#returning-a-view-versus-a-copy\n",
            "  errors=errors,\n"
          ],
          "name": "stderr"
        }
      ]
    },
    {
      "cell_type": "code",
      "metadata": {
        "id": "hbs8Vl2pEahQ",
        "colab_type": "code",
        "outputId": "eff46621-5241-4631-886c-9ce293d68915",
        "colab": {
          "base_uri": "https://localhost:8080/",
          "height": 143
        }
      },
      "source": [
        "train[\"Survived\"] = train[\"Survived\"].astype(int)"
      ],
      "execution_count": 74,
      "outputs": [
        {
          "output_type": "stream",
          "text": [
            "/usr/local/lib/python3.6/dist-packages/ipykernel_launcher.py:1: SettingWithCopyWarning: \n",
            "A value is trying to be set on a copy of a slice from a DataFrame.\n",
            "Try using .loc[row_indexer,col_indexer] = value instead\n",
            "\n",
            "See the caveats in the documentation: http://pandas.pydata.org/pandas-docs/stable/user_guide/indexing.html#returning-a-view-versus-a-copy\n",
            "  \"\"\"Entry point for launching an IPython kernel.\n"
          ],
          "name": "stderr"
        }
      ]
    },
    {
      "cell_type": "code",
      "metadata": {
        "id": "bwpIyKs2EifQ",
        "colab_type": "code",
        "colab": {}
      },
      "source": [
        "train_y = train[\"Survived\"]\n",
        "train_x = train.drop(labels = [\"Survived\"],axis = 1)"
      ],
      "execution_count": 0,
      "outputs": []
    },
    {
      "cell_type": "markdown",
      "metadata": {
        "id": "_YSwws_WFfy-",
        "colab_type": "text"
      },
      "source": [
        "SVC\n",
        "\n",
        "Decision Tree\n",
        "\n",
        "AdaBoost\n",
        "\n",
        "Random Forest\n",
        "\n",
        "Extra Trees\n",
        "\n",
        "Gradient Boosting\n",
        "\n",
        "Multiple layer perceprton\n",
        "\n",
        "KNN\n",
        "\n",
        "Logistic regression\n",
        "\n",
        "Linear Discriminant Analysis\n",
        "\n",
        "유명한 분류기를 모아 놓고 교차검증을 통해서 평균치를 뽑아 보고 그중에 성능이 좋은 애들을 골라서 깊이 있게 튜닝"
      ]
    },
    {
      "cell_type": "code",
      "metadata": {
        "id": "9TXlABhQEr33",
        "colab_type": "code",
        "outputId": "662a3fba-7810-4281-c577-56472526727b",
        "colab": {
          "base_uri": "https://localhost:8080/",
          "height": 284
        }
      },
      "source": [
        "random_state = 2\n",
        "\n",
        "kfold = StratifiedKFold(n_splits=10)\n",
        "\n",
        "\n",
        "classifiers = []\n",
        "classifiers.append(SVC(random_state=random_state))\n",
        "classifiers.append(DecisionTreeClassifier(random_state=random_state))\n",
        "classifiers.append(AdaBoostClassifier(DecisionTreeClassifier(random_state=random_state),random_state=random_state,learning_rate=0.1))\n",
        "classifiers.append(RandomForestClassifier(random_state=random_state))\n",
        "classifiers.append(ExtraTreesClassifier(random_state=random_state))\n",
        "classifiers.append(GradientBoostingClassifier(random_state=random_state))\n",
        "classifiers.append(MLPClassifier(random_state=random_state))\n",
        "classifiers.append(KNeighborsClassifier())\n",
        "classifiers.append(LogisticRegression(random_state = random_state))\n",
        "classifiers.append(LinearDiscriminantAnalysis())\n",
        "\n",
        "cv_results = []\n",
        "for classifier in classifiers :\n",
        "    cv_results.append(cross_val_score(classifier, train_x, y = train_y, scoring = \"accuracy\", cv = kfold, n_jobs=4))\n",
        "\n",
        "cv_means = []\n",
        "cv_std = []\n",
        "for cv_result in cv_results:\n",
        "    cv_means.append(cv_result.mean())\n",
        "    cv_std.append(cv_result.std())\n",
        "\n",
        "cv_res = pd.DataFrame({\"CrossValMeans\":cv_means,\"CrossValerrors\": cv_std,\"Algorithm\":[\"SVC\",\"DecisionTree\",\"AdaBoost\",\n",
        "\"RandomForest\",\"ExtraTrees\",\"GradientBoosting\",\"MultipleLayerPerceptron\",\"KNeighboors\",\"LogisticRegression\",\"LinearDiscriminantAnalysis\"]})\n",
        "\n",
        "g = sns.barplot(\"CrossValMeans\",\"Algorithm\",data = cv_res, palette=\"Set3\",orient = \"h\",**{'xerr':cv_std})"
      ],
      "execution_count": 76,
      "outputs": [
        {
          "output_type": "display_data",
          "data": {
            "image/png": "[encoded data removed]",
            "text/plain": [
              "<Figure size 432x288 with 1 Axes>"
            ]
          },
          "metadata": {
            "tags": []
          }
        }
      ]
    },
    {
      "cell_type": "markdown",
      "metadata": {
        "id": "RX52LN0QG3t6",
        "colab_type": "text"
      },
      "source": [
        "Adaboost는 약한 분류기를 반복적으로 적용하면서 강한 분류기로 비팅하는 방법으로 제대로된 검출에 실패 했다고 치더라도 \n",
        "\n",
        "오류값에 맞춰서 지속적으로 검증하면서 잘 분류하지 못한 데이터들에 가중치를 두고 그 부분을 복합 검정 하면서 정확도를 높이는 방식이다. \n",
        "\n",
        "따라서 이전 분류기가 오분류한 샘플에 집중 하면서 adaptive 하게 바꾸는 과정을 통해 잘 못 분류되는 데이터를 줄이는 방식"
      ]
    },
    {
      "cell_type": "code",
      "metadata": {
        "id": "2LFpGeW3FGiO",
        "colab_type": "code",
        "outputId": "729c3827-d5a4-4e90-db6c-c37dbe9cb7d4",
        "colab": {
          "base_uri": "https://localhost:8080/",
          "height": 105
        }
      },
      "source": [
        "#adaboost\n",
        "DTC = DecisionTreeClassifier()\n",
        "\n",
        "adaDTC = AdaBoostClassifier(DTC, random_state=5)\n",
        "\n",
        "ada_param_grid = {\"base_estimator__criterion\" : [\"gini\", \"entropy\"],\n",
        "              \"base_estimator__splitter\" :   [\"best\", \"random\"],\n",
        "              \"algorithm\" : [\"SAMME\",\"SAMME.R\"],\n",
        "              \"n_estimators\" :[1,2],\n",
        "              \"learning_rate\":  [0.0001, 0.001, 0.01, 0.1, 0.2, 0.3,1.5]}\n",
        "\n",
        "gsadaDTC = GridSearchCV(adaDTC,param_grid = ada_param_grid, cv=kfold, scoring=\"accuracy\", n_jobs= 4, verbose = 1)\n",
        "\n",
        "gsadaDTC.fit(train_x,train_y)\n",
        "\n",
        "ada_best = gsadaDTC.best_estimator_"
      ],
      "execution_count": 77,
      "outputs": [
        {
          "output_type": "stream",
          "text": [
            "Fitting 10 folds for each of 112 candidates, totalling 1120 fits\n"
          ],
          "name": "stdout"
        },
        {
          "output_type": "stream",
          "text": [
            "[Parallel(n_jobs=4)]: Using backend LokyBackend with 4 concurrent workers.\n",
            "[Parallel(n_jobs=4)]: Done 128 tasks      | elapsed:    1.6s\n",
            "[Parallel(n_jobs=4)]: Done 728 tasks      | elapsed:    8.2s\n",
            "[Parallel(n_jobs=4)]: Done 1120 out of 1120 | elapsed:   12.6s finished\n"
          ],
          "name": "stderr"
        }
      ]
    },
    {
      "cell_type": "code",
      "metadata": {
        "id": "twX5Ii-mHmdq",
        "colab_type": "code",
        "outputId": "86b4fa74-882f-4c26-e8a2-b4242eeccb2c",
        "colab": {
          "base_uri": "https://localhost:8080/",
          "height": 34
        }
      },
      "source": [
        "gsadaDTC.best_score_"
      ],
      "execution_count": 78,
      "outputs": [
        {
          "output_type": "execute_result",
          "data": {
            "text/plain": [
              "0.817326353421859"
            ]
          },
          "metadata": {
            "tags": []
          },
          "execution_count": 78
        }
      ]
    },
    {
      "cell_type": "markdown",
      "metadata": {
        "id": "_8MqgRjiIZIn",
        "colab_type": "text"
      },
      "source": [
        "RandomForestClassifier 클래스가 사용하는 결정 트리는 DecisionTreeClassifier\n",
        "\n",
        "이에 반해 ExtraTreesClassifier가 사용하는 결정 트리는 ExtraTreeClassifier  \n",
        " \n",
        "ExtraTreesClassifier의 매개변수는 RandomForestClassifier와 동일\n",
        "\n",
        "랜덤 포레스트는 부스트랩 샘플과 랜덤한 후보 특성들을 사용해 여러개의 결정 트리decision tree를 앙상블\n",
        " \n",
        "그래서 훈련 데이터에 과대적합을 막아주고 모델의 일반화 성능이 항상 단일 트리보다 높음\n",
        "\n",
        "랜덤 포레스트 모델의 변종으로 익스트림 랜덤 트리extremely randomized trees 혹은 엑스트라 트리ExtraTrees라 부르는 모델\n",
        " \n",
        "엑스트라 트리는 포레스트 트리의 각 후보 특성을 무작위로 분할하는 식으로 무작위성을 증가\n",
        "\n",
        "엑스트라 트리의 베이스 트리인 ExtraTreeClassifier는 DecisionTreeClassifier를 상속한 것이며 \n",
        "\n",
        "splitter=’best’가 아니고 splitter=’random’인 것과 max_features=’auto’인 것을 제외하고는 동일"
      ]
    },
    {
      "cell_type": "code",
      "metadata": {
        "id": "y9YV6NzSH0wF",
        "colab_type": "code",
        "outputId": "768340d0-3f73-475e-e01b-8156e3f1bc4e",
        "colab": {
          "base_uri": "https://localhost:8080/",
          "height": 141
        }
      },
      "source": [
        "#extra tree\n",
        "\n",
        "ExtC = ExtraTreesClassifier()\n",
        "\n",
        "\n",
        "ex_param_grid = {\"max_depth\": [None],\n",
        "              \"max_features\": [1, 3, 10],\n",
        "              \"min_samples_split\": [2, 3, 10],\n",
        "              \"min_samples_leaf\": [1, 3, 10],\n",
        "              \"bootstrap\": [False],\n",
        "              \"n_estimators\" :[100,300],\n",
        "              \"criterion\": [\"gini\"]}\n",
        "\n",
        "\n",
        "gsExtC = GridSearchCV(ExtC,param_grid = ex_param_grid, cv=kfold, scoring=\"accuracy\", n_jobs= 4, verbose = 1)\n",
        "\n",
        "gsExtC.fit(train_x,train_y)\n",
        "\n",
        "ExtC_best = gsExtC.best_estimator_\n",
        "\n",
        "\n",
        "gsExtC.best_score_"
      ],
      "execution_count": 79,
      "outputs": [
        {
          "output_type": "stream",
          "text": [
            "[Parallel(n_jobs=4)]: Using backend LokyBackend with 4 concurrent workers.\n"
          ],
          "name": "stderr"
        },
        {
          "output_type": "stream",
          "text": [
            "Fitting 10 folds for each of 54 candidates, totalling 540 fits\n"
          ],
          "name": "stdout"
        },
        {
          "output_type": "stream",
          "text": [
            "[Parallel(n_jobs=4)]: Done  42 tasks      | elapsed:   12.2s\n",
            "[Parallel(n_jobs=4)]: Done 192 tasks      | elapsed:   43.6s\n",
            "[Parallel(n_jobs=4)]: Done 442 tasks      | elapsed:  1.7min\n",
            "[Parallel(n_jobs=4)]: Done 540 out of 540 | elapsed:  2.1min finished\n"
          ],
          "name": "stderr"
        },
        {
          "output_type": "execute_result",
          "data": {
            "text/plain": [
              "0.8206716036772216"
            ]
          },
          "metadata": {
            "tags": []
          },
          "execution_count": 79
        }
      ]
    },
    {
      "cell_type": "code",
      "metadata": {
        "id": "DXtaC1OmIYGD",
        "colab_type": "code",
        "outputId": "a2d53b03-e0fb-4871-cce4-dd6f07d29551",
        "colab": {
          "base_uri": "https://localhost:8080/",
          "height": 141
        }
      },
      "source": [
        "RFC = RandomForestClassifier()\n",
        "\n",
        "\n",
        "\n",
        "rf_param_grid = {\"max_depth\": [None],\n",
        "              \"max_features\": [1, 3, 10],\n",
        "              \"min_samples_split\": [2, 3, 10],\n",
        "              \"min_samples_leaf\": [1, 3, 10],\n",
        "              \"bootstrap\": [False],\n",
        "              \"n_estimators\" :[100,300],\n",
        "              \"criterion\": [\"gini\"]}\n",
        "\n",
        "\n",
        "gsRFC = GridSearchCV(RFC,param_grid = rf_param_grid, cv=kfold, scoring=\"accuracy\", n_jobs= 4, verbose = 1)\n",
        "\n",
        "gsRFC.fit(train_x,train_y)\n",
        "\n",
        "RFC_best = gsRFC.best_estimator_\n",
        "\n",
        "\n",
        "gsRFC.best_score_"
      ],
      "execution_count": 80,
      "outputs": [
        {
          "output_type": "stream",
          "text": [
            "[Parallel(n_jobs=4)]: Using backend LokyBackend with 4 concurrent workers.\n"
          ],
          "name": "stderr"
        },
        {
          "output_type": "stream",
          "text": [
            "Fitting 10 folds for each of 54 candidates, totalling 540 fits\n"
          ],
          "name": "stdout"
        },
        {
          "output_type": "stream",
          "text": [
            "[Parallel(n_jobs=4)]: Done  42 tasks      | elapsed:   13.4s\n",
            "[Parallel(n_jobs=4)]: Done 192 tasks      | elapsed:   46.0s\n",
            "[Parallel(n_jobs=4)]: Done 442 tasks      | elapsed:  1.9min\n",
            "[Parallel(n_jobs=4)]: Done 540 out of 540 | elapsed:  2.4min finished\n"
          ],
          "name": "stderr"
        },
        {
          "output_type": "execute_result",
          "data": {
            "text/plain": [
              "0.8297369765066394"
            ]
          },
          "metadata": {
            "tags": []
          },
          "execution_count": 80
        }
      ]
    },
    {
      "cell_type": "code",
      "metadata": {
        "id": "vmfT2OT4LLx6",
        "colab_type": "code",
        "outputId": "95852b30-0bcf-4c35-efc6-57eea9f8cc92",
        "colab": {
          "base_uri": "https://localhost:8080/",
          "height": 141
        }
      },
      "source": [
        "GBC = GradientBoostingClassifier()\n",
        "gb_param_grid = {'loss' : [\"deviance\"],\n",
        "              'n_estimators' : [100,200,300],\n",
        "              'learning_rate': [0.1, 0.05, 0.01],\n",
        "              'max_depth': [4, 8],\n",
        "              'min_samples_leaf': [100,150],\n",
        "              'max_features': [0.3, 0.1] \n",
        "              }\n",
        "\n",
        "gsGBC = GridSearchCV(GBC,param_grid = gb_param_grid, cv=kfold, scoring=\"accuracy\", n_jobs= 4, verbose = 1)\n",
        "\n",
        "gsGBC.fit(train_x,train_y)\n",
        "\n",
        "GBC_best = gsGBC.best_estimator_\n",
        "\n",
        "\n",
        "gsGBC.best_score_"
      ],
      "execution_count": 81,
      "outputs": [
        {
          "output_type": "stream",
          "text": [
            "Fitting 10 folds for each of 72 candidates, totalling 720 fits\n"
          ],
          "name": "stdout"
        },
        {
          "output_type": "stream",
          "text": [
            "[Parallel(n_jobs=4)]: Using backend LokyBackend with 4 concurrent workers.\n",
            "[Parallel(n_jobs=4)]: Done  42 tasks      | elapsed:    5.8s\n",
            "[Parallel(n_jobs=4)]: Done 192 tasks      | elapsed:   24.5s\n",
            "[Parallel(n_jobs=4)]: Done 442 tasks      | elapsed:   55.5s\n",
            "[Parallel(n_jobs=4)]: Done 720 out of 720 | elapsed:  1.5min finished\n"
          ],
          "name": "stderr"
        },
        {
          "output_type": "execute_result",
          "data": {
            "text/plain": [
              "0.8274514811031665"
            ]
          },
          "metadata": {
            "tags": []
          },
          "execution_count": 81
        }
      ]
    },
    {
      "cell_type": "code",
      "metadata": {
        "id": "uknw6x8CLgNH",
        "colab_type": "code",
        "outputId": "7b730376-d264-48e3-bfe8-5e2461ef8a3b",
        "colab": {
          "base_uri": "https://localhost:8080/",
          "height": 123
        }
      },
      "source": [
        "SVMC = SVC(probability=True)\n",
        "svc_param_grid = {'kernel': ['rbf'], \n",
        "                  'gamma': [ 0.001, 0.01, 0.1, 1],\n",
        "                  'C': [1, 10, 50, 100,200,300, 1000]}\n",
        "\n",
        "gsSVMC = GridSearchCV(SVMC,param_grid = svc_param_grid, cv=kfold, scoring=\"accuracy\", n_jobs= 4, verbose = 1)\n",
        "\n",
        "gsSVMC.fit(train_x,train_y)\n",
        "\n",
        "SVMC_best = gsSVMC.best_estimator_\n",
        "\n",
        "\n",
        "gsSVMC.best_score_"
      ],
      "execution_count": 82,
      "outputs": [
        {
          "output_type": "stream",
          "text": [
            "Fitting 10 folds for each of 28 candidates, totalling 280 fits\n"
          ],
          "name": "stdout"
        },
        {
          "output_type": "stream",
          "text": [
            "[Parallel(n_jobs=4)]: Using backend LokyBackend with 4 concurrent workers.\n",
            "[Parallel(n_jobs=4)]: Done  42 tasks      | elapsed:    9.2s\n",
            "[Parallel(n_jobs=4)]: Done 192 tasks      | elapsed:   44.7s\n",
            "[Parallel(n_jobs=4)]: Done 280 out of 280 | elapsed:  1.3min finished\n"
          ],
          "name": "stderr"
        },
        {
          "output_type": "execute_result",
          "data": {
            "text/plain": [
              "0.8342696629213483"
            ]
          },
          "metadata": {
            "tags": []
          },
          "execution_count": 82
        }
      ]
    },
    {
      "cell_type": "code",
      "metadata": {
        "id": "V2vPpybgLnD_",
        "colab_type": "code",
        "outputId": "e9c3f800-57ef-477d-ebc0-a74694d2c8f0",
        "colab": {
          "base_uri": "https://localhost:8080/",
          "height": 881
        }
      },
      "source": [
        "nrows = ncols = 2\n",
        "fig, axes = plt.subplots(nrows = nrows, ncols = ncols, sharex=\"all\", figsize=(15,15))\n",
        "\n",
        "names_classifiers = [(\"AdaBoosting\", ada_best),(\"ExtraTrees\",ExtC_best),(\"RandomForest\",RFC_best),(\"GradientBoosting\",GBC_best)]\n",
        "\n",
        "nclassifier = 0\n",
        "\n",
        "for row in range(nrows):\n",
        "    for col in range(ncols):\n",
        "        name = names_classifiers[nclassifier][0]\n",
        "        classifier = names_classifiers[nclassifier][1]\n",
        "        indices = np.argsort(classifier.feature_importances_)[::-1][:40]\n",
        "        g = sns.barplot(y=train_x.columns[indices][:40],x = classifier.feature_importances_[indices][:40] , orient='h',ax=axes[row][col])\n",
        "        g.tick_params(labelsize=9)\n",
        "        g.set_title(name)\n",
        "        nclassifier += 1"
      ],
      "execution_count": 83,
      "outputs": [
        {
          "output_type": "display_data",
          "data": {
            "image/png": "[encoded data removed]",
            "text/plain": [
              "<Figure size 1080x1080 with 4 Axes>"
            ]
          },
          "metadata": {
            "tags": []
          }
        }
      ]
    },
    {
      "cell_type": "markdown",
      "metadata": {
        "id": "7hmoRHhH-ZZC",
        "colab_type": "text"
      },
      "source": [
        "###xgboost를 통한 앙상블 학습\n",
        "\n",
        "배깅,부스팅,보팅 방법\n",
        "\n",
        "앙상블 배깅은 랜덤포레스트 gradient boosting의 경우에는 문제점이 있음 \n",
        "느리고, 과적합 \n",
        "\n",
        "gbm보다 빠르고 과적합을 방지하는 규제가 포함되어있고 \n",
        "classification and regression tree 기반이고 \n",
        "조기종료 제공하고\n",
        "앙상블 부스팅의 특징인 가중치 부여를 경사하강법으로 함 \n",
        "\n",
        "결정트리의 개수 \n",
        "트리의 깊이 \n",
        "샘플링 비율\n",
        "학습률\n",
        "규제 를 포함 \n"
      ]
    },
    {
      "cell_type": "code",
      "metadata": {
        "id": "po32GcXJmsdI",
        "colab_type": "code",
        "colab": {
          "base_uri": "https://localhost:8080/",
          "height": 54
        },
        "outputId": "9834eab3-2082-4b2c-cdc1-3bdfa82e40f9"
      },
      "source": [
        "import xgboost as xgb\n",
        "'''\n",
        "parameters = {\n",
        "    'n_estimators':[280,320],\n",
        "    'max_depth':[4,5,6,7,8,9,10,11,12],\n",
        "    'gamma':[1,2,3],\n",
        "    'max_delta_step':[0,1,2],\n",
        "    'min_child_weight':[1,2,3], \n",
        "    'colsample_bytree':[0.55,0.65],\n",
        "    'learning_rate':[0.1,0.2,0.3],\n",
        "    'subsample':[1,0.9,0.8],\n",
        "    'base_score':[0.5]\n",
        "}\n",
        "\n",
        "grid = GridSearchCV(xgb.XGBClassifier(), parameters, cv=5)\n",
        "grid.fit(train_x,train_y)\n",
        "print(grid.best_score_)\n",
        "\n",
        "xg_boost = grid.best_estimator_\n",
        "xg_boost'''"
      ],
      "execution_count": 98,
      "outputs": [
        {
          "output_type": "execute_result",
          "data": {
            "text/plain": [
              "\"\\nparameters = {\\n    'n_estimators':[280,320],\\n    'max_depth':[4,5,6,7,8,9,10,11,12],\\n    'gamma':[1,2,3],\\n    #'max_delta_step':[0,1,2],\\n    'min_child_weight':[1,2,3], \\n    #'colsample_bytree':[0.55,0.65],\\n    'learning_rate':[0.1,0.2,0.3],\\n    'subsample':[1,0.9,0.8],\\n    'base_score':[0.5]\\n}\\n\\ngrid = GridSearchCV(xgb.XGBClassifier(), parameters, cv=5)\\ngrid.fit(train_x,train_y)\\nprint(grid.best_score_)\\n\\nxg_boost = grid.best_estimator_\\nxg_boost\""
            ]
          },
          "metadata": {
            "tags": []
          },
          "execution_count": 98
        }
      ]
    },
    {
      "cell_type": "markdown",
      "metadata": {
        "id": "YQL7ZtanFP54",
        "colab_type": "text"
      },
      "source": [
        "이거 돌리고 하루 죙일 걸림 "
      ]
    },
    {
      "cell_type": "code",
      "metadata": {
        "id": "JQcXiM3-nWR8",
        "colab_type": "code",
        "colab": {
          "base_uri": "https://localhost:8080/",
          "height": 87
        },
        "outputId": "19932110-f2d4-4e99-abc0-dba008c9a3f9"
      },
      "source": [
        "xg_boost = xgb.XGBClassifier(base_score=0.5, booster='gbtree', colsample_bylevel=1,\n",
        "       colsample_bytree=0.65, gamma=2, learning_rate=0.3, max_delta_step=1,\n",
        "       max_depth=4, min_child_weight=2, missing=None, n_estimators=280,\n",
        "       n_jobs=1, nthread=None, objective='binary:logistic', random_state=0,\n",
        "       reg_alpha=0, reg_lambda=1, scale_pos_weight=1, seed=None,\n",
        "       silent=True, subsample=1)\n",
        "\n",
        "xg_boost.fit(train_x,train_y)\n",
        "Y_pred = xg_boost.predict(test)\n",
        "print(xg_boost.score(train_x,train_y))\n",
        "\n",
        "scores = cross_val_score(xg_boost, train_x,train_y, cv=kfold, scoring='accuracy')\n",
        "print(scores)\n",
        "print(\"Kfold on XGBClassifier: %0.4f (+/- %0.4f)\" % (scores.mean(), scores.std()))\n"
      ],
      "execution_count": 105,
      "outputs": [
        {
          "output_type": "stream",
          "text": [
            "0.8706015891032917\n",
            "[0.79775281 0.80681818 0.71590909 0.88636364 0.88636364 0.85227273\n",
            " 0.80681818 0.79545455 0.88636364 0.82954545]\n",
            "Kfold on XGBClassifier: 0.8264 (+/- 0.0512)\n"
          ],
          "name": "stdout"
        }
      ]
    },
    {
      "cell_type": "markdown",
      "metadata": {
        "id": "PTdDAWMeFVxy",
        "colab_type": "text"
      },
      "source": [
        "확실하게 파라미터 보정을 하니까 타율이 올라감\n",
        "\n",
        "#이제 여기서 feature importance 분석해서 필요한 애들 기준으로 잘라보자"
      ]
    },
    {
      "cell_type": "code",
      "metadata": {
        "id": "39fcVdkZoAL_",
        "colab_type": "code",
        "colab": {
          "base_uri": "https://localhost:8080/",
          "height": 1000
        },
        "outputId": "9e5799b9-e537-4e0a-91c0-618662011640"
      },
      "source": [
        "feature_importance = list(zip(train_x.columns.values, xg_boost.feature_importances_))\n",
        "feature_importance.sort(key=lambda x:x[1])\n",
        "feature_importance"
      ],
      "execution_count": 102,
      "outputs": [
        {
          "output_type": "execute_result",
          "data": {
            "text/plain": [
              "[('Single', 0.0),\n",
              " ('SFamily', 0.0),\n",
              " ('Em_Q', 0.0),\n",
              " ('Cabin_A', 0.0),\n",
              " ('Cabin_B', 0.0),\n",
              " ('Cabin_F', 0.0),\n",
              " ('Cabin_G', 0.0),\n",
              " ('Cabin_T', 0.0),\n",
              " ('T_A', 0.0),\n",
              " ('T_A4', 0.0),\n",
              " ('T_A5', 0.0),\n",
              " ('T_AQ3', 0.0),\n",
              " ('T_AQ4', 0.0),\n",
              " ('T_AS', 0.0),\n",
              " ('T_C', 0.0),\n",
              " ('T_CA', 0.0),\n",
              " ('T_CASOTON', 0.0),\n",
              " ('T_FC', 0.0),\n",
              " ('T_FCC', 0.0),\n",
              " ('T_Fa', 0.0),\n",
              " ('T_LINE', 0.0),\n",
              " ('T_LP', 0.0),\n",
              " ('T_PC', 0.0),\n",
              " ('T_PP', 0.0),\n",
              " ('T_PPP', 0.0),\n",
              " ('T_SC', 0.0),\n",
              " ('T_SCA3', 0.0),\n",
              " ('T_SCA4', 0.0),\n",
              " ('T_SCAH', 0.0),\n",
              " ('T_SCOW', 0.0),\n",
              " ('T_SCPARIS', 0.0),\n",
              " ('T_SCParis', 0.0),\n",
              " ('T_SOC', 0.0),\n",
              " ('T_SOP', 0.0),\n",
              " ('T_SOPP', 0.0),\n",
              " ('T_SOTONO2', 0.0),\n",
              " ('T_SOTONOQ', 0.0),\n",
              " ('T_SP', 0.0),\n",
              " ('T_STONO2', 0.0),\n",
              " ('T_STONOQ', 0.0),\n",
              " ('T_SWPP', 0.0),\n",
              " ('T_WC', 0.0),\n",
              " ('T_WEP', 0.0),\n",
              " ('Parch', 0.012392891),\n",
              " ('Cabin_D', 0.012443814),\n",
              " ('T_STONO', 0.012485055),\n",
              " ('Em_C', 0.015247494),\n",
              " ('Em_S', 0.015469352),\n",
              " ('T_X', 0.016463347),\n",
              " ('MFamily', 0.01719394),\n",
              " ('SibSp', 0.020569237),\n",
              " ('Cabin_E', 0.021198139),\n",
              " ('Cabin_C', 0.023807108),\n",
              " ('Age', 0.026333706),\n",
              " ('Fare', 0.02794198),\n",
              " ('Family', 0.059800863),\n",
              " ('Cabin_X', 0.060371667),\n",
              " ('LFamily', 0.0613055),\n",
              " ('Pclass', 0.078195035),\n",
              " ('Title', 0.2243221),\n",
              " ('Sex', 0.29445875)]"
            ]
          },
          "metadata": {
            "tags": []
          },
          "execution_count": 102
        }
      ]
    },
    {
      "cell_type": "code",
      "metadata": {
        "colab_type": "code",
        "id": "f8vcbRI3pfUX",
        "colab": {
          "base_uri": "https://localhost:8080/",
          "height": 34
        },
        "outputId": "07b8742a-3d40-411b-8b87-7848c670e0b9"
      },
      "source": [
        "votingC = VotingClassifier(estimators=[('rfc', RFC_best), ('extc', ExtC_best),('svc', SVMC_best), ('adac',ada_best),('gbc',GBC_best),('xgb',xg_boost)], voting='soft', n_jobs=4)\n",
        "\n",
        "votingC = votingC.fit(train_x, train_y)\n",
        "\n",
        "votingC.score(test,test_y)"
      ],
      "execution_count": 266,
      "outputs": [
        {
          "output_type": "execute_result",
          "data": {
            "text/plain": [
              "0.8923444976076556"
            ]
          },
          "metadata": {
            "tags": []
          },
          "execution_count": 266
        }
      ]
    },
    {
      "cell_type": "markdown",
      "metadata": {
        "id": "Iyc1fp20GmlH",
        "colab_type": "text"
      },
      "source": [
        "voting을 통해서 4개 분류기를 돌려 보고"
      ]
    },
    {
      "cell_type": "code",
      "metadata": {
        "id": "kqLbfeDcpi4b",
        "colab_type": "code",
        "colab": {}
      },
      "source": [
        "test_Survived = pd.Series(Y_pred, name=\"Survived\")\n",
        "\n",
        "results = pd.concat([IDtest,test_Survived],axis=1)\n",
        "\n",
        "results.to_csv(\"xgboost.csv\",index=False)"
      ],
      "execution_count": 0,
      "outputs": []
    },
    {
      "cell_type": "code",
      "metadata": {
        "id": "nMGlzpw1PIxb",
        "colab_type": "code",
        "colab": {}
      },
      "source": [
        "test_Survived = pd.Series(votingC.predict(test), name=\"Survived\")\n",
        "\n",
        "results = pd.concat([IDtest,test_Survived],axis=1)\n",
        "\n",
        "results.to_csv(\"voting.csv\",index=False)"
      ],
      "execution_count": 0,
      "outputs": []
    },
    {
      "cell_type": "code",
      "metadata": {
        "id": "y9cpX8k6PZbS",
        "colab_type": "code",
        "outputId": "bfde9b3c-2e0e-4a75-ad31-e53448968d82",
        "colab": {
          "base_uri": "https://localhost:8080/",
          "height": 52
        }
      },
      "source": [
        "!ls"
      ],
      "execution_count": 110,
      "outputs": [
        {
          "output_type": "stream",
          "text": [
            "gender_submission.csv  sample_data  train.csv\txgboost.csv\n",
            "kaggle.json\t       test.csv     voting.csv\n"
          ],
          "name": "stdout"
        }
      ]
    },
    {
      "cell_type": "code",
      "metadata": {
        "id": "_0p8YvriPfpm",
        "colab_type": "code",
        "colab": {}
      },
      "source": [
        "test_y = pd.read_csv('gender_submission.csv')"
      ],
      "execution_count": 0,
      "outputs": []
    },
    {
      "cell_type": "code",
      "metadata": {
        "id": "E8CaUO-wQvlb",
        "colab_type": "code",
        "outputId": "e256c5e7-b0bc-435d-d859-8fec0d659051",
        "colab": {
          "base_uri": "https://localhost:8080/",
          "height": 197
        }
      },
      "source": [
        "test_y.head()"
      ],
      "execution_count": 112,
      "outputs": [
        {
          "output_type": "execute_result",
          "data": {
            "text/html": [
              "<div>\n",
              "<style scoped>\n",
              "    .dataframe tbody tr th:only-of-type {\n",
              "        vertical-align: middle;\n",
              "    }\n",
              "\n",
              "    .dataframe tbody tr th {\n",
              "        vertical-align: top;\n",
              "    }\n",
              "\n",
              "    .dataframe thead th {\n",
              "        text-align: right;\n",
              "    }\n",
              "</style>\n",
              "<table border=\"1\" class=\"dataframe\">\n",
              "  <thead>\n",
              "    <tr style=\"text-align: right;\">\n",
              "      <th></th>\n",
              "      <th>PassengerId</th>\n",
              "      <th>Survived</th>\n",
              "    </tr>\n",
              "  </thead>\n",
              "  <tbody>\n",
              "    <tr>\n",
              "      <th>0</th>\n",
              "      <td>892</td>\n",
              "      <td>0</td>\n",
              "    </tr>\n",
              "    <tr>\n",
              "      <th>1</th>\n",
              "      <td>893</td>\n",
              "      <td>1</td>\n",
              "    </tr>\n",
              "    <tr>\n",
              "      <th>2</th>\n",
              "      <td>894</td>\n",
              "      <td>0</td>\n",
              "    </tr>\n",
              "    <tr>\n",
              "      <th>3</th>\n",
              "      <td>895</td>\n",
              "      <td>0</td>\n",
              "    </tr>\n",
              "    <tr>\n",
              "      <th>4</th>\n",
              "      <td>896</td>\n",
              "      <td>1</td>\n",
              "    </tr>\n",
              "  </tbody>\n",
              "</table>\n",
              "</div>"
            ],
            "text/plain": [
              "   PassengerId  Survived\n",
              "0          892         0\n",
              "1          893         1\n",
              "2          894         0\n",
              "3          895         0\n",
              "4          896         1"
            ]
          },
          "metadata": {
            "tags": []
          },
          "execution_count": 112
        }
      ]
    },
    {
      "cell_type": "code",
      "metadata": {
        "id": "4WERWSO6QzAi",
        "colab_type": "code",
        "colab": {}
      },
      "source": [
        "test_y = test_y['Survived']"
      ],
      "execution_count": 0,
      "outputs": []
    },
    {
      "cell_type": "code",
      "metadata": {
        "id": "UCT2_UXFQ4WU",
        "colab_type": "code",
        "colab": {}
      },
      "source": [
        "y=np.array(test_y)\n"
      ],
      "execution_count": 0,
      "outputs": []
    },
    {
      "cell_type": "code",
      "metadata": {
        "id": "4wu8ZbvzRIqx",
        "colab_type": "code",
        "outputId": "2f06088b-0104-46c1-b7fe-e4bbfa817126",
        "colab": {
          "base_uri": "https://localhost:8080/",
          "height": 197
        }
      },
      "source": [
        "results.head()"
      ],
      "execution_count": 117,
      "outputs": [
        {
          "output_type": "execute_result",
          "data": {
            "text/html": [
              "<div>\n",
              "<style scoped>\n",
              "    .dataframe tbody tr th:only-of-type {\n",
              "        vertical-align: middle;\n",
              "    }\n",
              "\n",
              "    .dataframe tbody tr th {\n",
              "        vertical-align: top;\n",
              "    }\n",
              "\n",
              "    .dataframe thead th {\n",
              "        text-align: right;\n",
              "    }\n",
              "</style>\n",
              "<table border=\"1\" class=\"dataframe\">\n",
              "  <thead>\n",
              "    <tr style=\"text-align: right;\">\n",
              "      <th></th>\n",
              "      <th>PassengerId</th>\n",
              "      <th>Survived</th>\n",
              "    </tr>\n",
              "  </thead>\n",
              "  <tbody>\n",
              "    <tr>\n",
              "      <th>0</th>\n",
              "      <td>892</td>\n",
              "      <td>0</td>\n",
              "    </tr>\n",
              "    <tr>\n",
              "      <th>1</th>\n",
              "      <td>893</td>\n",
              "      <td>0</td>\n",
              "    </tr>\n",
              "    <tr>\n",
              "      <th>2</th>\n",
              "      <td>894</td>\n",
              "      <td>0</td>\n",
              "    </tr>\n",
              "    <tr>\n",
              "      <th>3</th>\n",
              "      <td>895</td>\n",
              "      <td>0</td>\n",
              "    </tr>\n",
              "    <tr>\n",
              "      <th>4</th>\n",
              "      <td>896</td>\n",
              "      <td>0</td>\n",
              "    </tr>\n",
              "  </tbody>\n",
              "</table>\n",
              "</div>"
            ],
            "text/plain": [
              "   PassengerId  Survived\n",
              "0          892         0\n",
              "1          893         0\n",
              "2          894         0\n",
              "3          895         0\n",
              "4          896         0"
            ]
          },
          "metadata": {
            "tags": []
          },
          "execution_count": 117
        }
      ]
    },
    {
      "cell_type": "code",
      "metadata": {
        "id": "lsPOTeepRNTi",
        "colab_type": "code",
        "colab": {}
      },
      "source": [
        "x=results['Survived']\n",
        "x=np.array(x)"
      ],
      "execution_count": 0,
      "outputs": []
    },
    {
      "cell_type": "code",
      "metadata": {
        "id": "SlHjX-y_RXI_",
        "colab_type": "code",
        "outputId": "02454ded-c8e0-4fdd-994c-48203e228923",
        "colab": {
          "base_uri": "https://localhost:8080/",
          "height": 70
        }
      },
      "source": [
        "cnt=0 \n",
        "for i in range(len(y)):\n",
        "  if y[i]==x[i]:\n",
        "    cnt+=1\n",
        "  \n",
        "print('전체 : ',len(y))\n",
        "print('맞춘수 : ',cnt)\n",
        "print('비율 : ',cnt/len(y))"
      ],
      "execution_count": 269,
      "outputs": [
        {
          "output_type": "stream",
          "text": [
            "전체 :  418\n",
            "맞춘수 :  371\n",
            "비율 :  0.8875598086124402\n"
          ],
          "name": "stdout"
        }
      ]
    },
    {
      "cell_type": "code",
      "metadata": {
        "id": "obBOR3O1qCoq",
        "colab_type": "code",
        "colab": {
          "base_uri": "https://localhost:8080/",
          "height": 52
        },
        "outputId": "db172860-5d46-458f-9bb8-10ecea0d5caa"
      },
      "source": [
        "!ls"
      ],
      "execution_count": 120,
      "outputs": [
        {
          "output_type": "stream",
          "text": [
            "gender_submission.csv  sample_data  train.csv\txgboost.csv\n",
            "kaggle.json\t       test.csv     voting.csv\n"
          ],
          "name": "stdout"
        }
      ]
    },
    {
      "cell_type": "code",
      "metadata": {
        "id": "Dg5ZKbxuqKSb",
        "colab_type": "code",
        "colab": {}
      },
      "source": [
        "files.download('xgboost.csv')"
      ],
      "execution_count": 0,
      "outputs": []
    },
    {
      "cell_type": "code",
      "metadata": {
        "id": "sXQTNWMGx2bG",
        "colab_type": "code",
        "colab": {
          "base_uri": "https://localhost:8080/",
          "height": 1000
        },
        "outputId": "d49c6fbb-1dec-41c5-d2e2-e6d8948860b1"
      },
      "source": [
        "from sklearn.decomposition import PCA\n",
        "\n",
        "levels = [2,4,6,8,10,12]\n",
        "for x in levels:\n",
        "    pca = PCA(n_components=x)\n",
        "    fit = pca.fit(train_x)\n",
        "    fits= pca.fit_transform(train_x)\n",
        "    fits_t = pca.fit_transform(test)\n",
        "    print((\"{} Components \\nExplained Variance: {}\\n\").format(x, fit.explained_variance_ratio_))\n",
        "    print(fit.components_)\n",
        "\n",
        "xg_boost.fit(fits,train_y)"
      ],
      "execution_count": 276,
      "outputs": [
        {
          "output_type": "stream",
          "text": [
            "2 Components \n",
            "Explained Variance: [0.95550899 0.02217179]\n",
            "\n",
            "[[ 9.98697033e-01  2.67395765e-02 -4.53736376e-03 -3.39748567e-02\n",
            "   1.65423425e-04 -7.12608065e-03  1.32415603e-02 -1.16634444e-02\n",
            "  -6.24459935e-04  5.37740382e-03 -3.88374866e-03 -8.69195225e-04\n",
            "   5.36456540e-03 -1.52500132e-03 -3.83956408e-03  1.35917647e-03\n",
            "   2.79861457e-03  6.17213205e-03  2.06094820e-03  1.13630060e-03\n",
            "  -6.53389710e-04 -4.04986587e-04  0.00000000e+00 -1.24687956e-02\n",
            "  -6.36135511e-05 -4.61415883e-04 -1.39741481e-04 -1.77346023e-04\n",
            "  -6.34072594e-05 -0.00000000e+00 -2.75693689e-04 -1.93660609e-03\n",
            "  -0.00000000e+00  1.03057699e-04 -1.37481441e-04 -0.00000000e+00\n",
            "  -0.00000000e+00 -6.34479044e-05  6.72751106e-03 -4.04986587e-04\n",
            "  -0.00000000e+00 -2.01955017e-05  8.51277125e-06 -1.06084328e-04\n",
            "   2.86749243e-04 -0.00000000e+00 -3.11202737e-04 -4.04440059e-04\n",
            "  -3.37571792e-04 -0.00000000e+00 -6.77417113e-05 -1.34527589e-04\n",
            "  -8.53909340e-04 -0.00000000e+00 -6.99904128e-05 -3.53629449e-05\n",
            "   3.61055018e-05 -0.00000000e+00 -8.29773440e-04  2.50916841e-04\n",
            "  -5.18313349e-04]\n",
            " [ 4.92524512e-03  2.63860588e-01  4.06364214e-01 -6.26897043e-02\n",
            "   5.56273614e-02  3.47445025e-01 -1.22625520e-01  7.53809240e-01\n",
            "  -1.83150973e-01  2.23783220e-02  8.19899426e-02  7.87827084e-02\n",
            "   1.23691431e-02 -2.96286192e-02  1.72594761e-02  1.88259414e-04\n",
            "   1.66210206e-02  1.92758755e-02 -1.05544401e-04  5.11525777e-03\n",
            "  -1.11696575e-03  8.76794840e-04  0.00000000e+00 -4.08546980e-02\n",
            "  -7.36093657e-04  7.11839759e-04 -1.40660245e-03 -7.94841482e-04\n",
            "  -8.79778759e-04  0.00000000e+00 -1.38338093e-03  3.80651778e-02\n",
            "   0.00000000e+00  1.37914230e-03 -2.40960456e-03  0.00000000e+00\n",
            "   0.00000000e+00 -8.54264825e-04  1.47857798e-02  8.76794840e-04\n",
            "   0.00000000e+00 -7.59160238e-04 -6.96856632e-04 -8.54602506e-04\n",
            "   5.42106210e-04  0.00000000e+00 -1.31345123e-03  1.74114175e-03\n",
            "  -9.77058127e-04  0.00000000e+00 -1.21232178e-03 -8.62903266e-04\n",
            "  -2.34577295e-03  0.00000000e+00 -1.68450715e-03  6.99934084e-05\n",
            "  -8.24364236e-04  0.00000000e+00  4.22966242e-03  5.50118337e-04\n",
            "  -4.29561919e-02]]\n",
            "4 Components \n",
            "Explained Variance: [0.95550899 0.02217179 0.00649067 0.00355908]\n",
            "\n",
            "[[ 9.98697033e-01  2.67395765e-02 -4.53736376e-03 -3.39748567e-02\n",
            "   1.65423425e-04 -7.12608065e-03  1.32415603e-02 -1.16634444e-02\n",
            "  -6.24459935e-04  5.37740382e-03 -3.88374866e-03 -8.69195225e-04\n",
            "   5.36456540e-03 -1.52500132e-03 -3.83956408e-03  1.35917647e-03\n",
            "   2.79861457e-03  6.17213205e-03  2.06094820e-03  1.13630060e-03\n",
            "  -6.53389710e-04 -4.04986587e-04  0.00000000e+00 -1.24687956e-02\n",
            "  -6.36135511e-05 -4.61415883e-04 -1.39741481e-04 -1.77346023e-04\n",
            "  -6.34072594e-05 -0.00000000e+00 -2.75693689e-04 -1.93660609e-03\n",
            "  -0.00000000e+00  1.03057699e-04 -1.37481441e-04 -0.00000000e+00\n",
            "  -0.00000000e+00 -6.34479044e-05  6.72751106e-03 -4.04986587e-04\n",
            "  -0.00000000e+00 -2.01955017e-05  8.51277125e-06 -1.06084328e-04\n",
            "   2.86749243e-04 -0.00000000e+00 -3.11202737e-04 -4.04440059e-04\n",
            "  -3.37571792e-04 -0.00000000e+00 -6.77417113e-05 -1.34527589e-04\n",
            "  -8.53909340e-04 -0.00000000e+00 -6.99904128e-05 -3.53629449e-05\n",
            "   3.61055018e-05 -0.00000000e+00 -8.29773440e-04  2.50916841e-04\n",
            "  -5.18313349e-04]\n",
            " [ 4.92524512e-03  2.63860588e-01  4.06364214e-01 -6.26897043e-02\n",
            "   5.56273614e-02  3.47445025e-01 -1.22625520e-01  7.53809240e-01\n",
            "  -1.83150973e-01  2.23783220e-02  8.19899426e-02  7.87827084e-02\n",
            "   1.23691431e-02 -2.96286192e-02  1.72594761e-02  1.88259414e-04\n",
            "   1.66210206e-02  1.92758755e-02 -1.05544401e-04  5.11525777e-03\n",
            "  -1.11696575e-03  8.76794840e-04  0.00000000e+00 -4.08546980e-02\n",
            "  -7.36093657e-04  7.11839759e-04 -1.40660245e-03 -7.94841482e-04\n",
            "  -8.79778759e-04  0.00000000e+00 -1.38338093e-03  3.80651778e-02\n",
            "   0.00000000e+00  1.37914230e-03 -2.40960456e-03  0.00000000e+00\n",
            "   0.00000000e+00 -8.54264825e-04  1.47857798e-02  8.76794840e-04\n",
            "   0.00000000e+00 -7.59160238e-04 -6.96856632e-04 -8.54602506e-04\n",
            "   5.42106210e-04  0.00000000e+00 -1.31345123e-03  1.74114175e-03\n",
            "  -9.77058127e-04  0.00000000e+00 -1.21232178e-03 -8.62903266e-04\n",
            "  -2.34577295e-03  0.00000000e+00 -1.68450715e-03  6.99934084e-05\n",
            "  -8.24364236e-04  0.00000000e+00  4.22966242e-03  5.50118337e-04\n",
            "  -4.29561919e-02]\n",
            " [ 4.59902119e-02 -6.34399952e-01  1.73583460e-01  5.89042485e-01\n",
            "  -9.76931883e-02  4.49494715e-02  1.02560109e-01  2.18532931e-01\n",
            "   6.31058705e-02 -8.83268306e-02 -1.76921468e-02  4.29131069e-02\n",
            "  -1.71482274e-01  5.50673581e-02  1.16414916e-01 -1.40733452e-02\n",
            "  -5.02286606e-02 -1.15635053e-01 -2.68049236e-02 -2.76304085e-02\n",
            "  -2.13203161e-03 -1.44170125e-03 -0.00000000e+00  2.37946123e-01\n",
            "   1.06588479e-03  2.72731945e-03  1.23990797e-02  2.11746176e-04\n",
            "   1.40254910e-03 -0.00000000e+00  2.45129316e-03  3.15615470e-02\n",
            "  -0.00000000e+00 -3.83676953e-03 -3.38310117e-03 -0.00000000e+00\n",
            "  -0.00000000e+00  1.55831744e-03 -1.01500252e-01 -1.44170125e-03\n",
            "  -0.00000000e+00  2.19856487e-04 -6.79040847e-04  1.19669821e-03\n",
            "   4.37930003e-04 -0.00000000e+00 -8.01892080e-03 -3.12681304e-03\n",
            "  -6.58179458e-03 -0.00000000e+00  3.12168796e-03  1.02204221e-03\n",
            "   1.25092169e-02 -0.00000000e+00  3.40355022e-03  1.51294520e-03\n",
            "   2.16263912e-03 -0.00000000e+00  1.38580971e-03 -2.17372044e-03\n",
            "   5.03920010e-02]\n",
            " [-4.84575259e-03  6.89801984e-02  6.59718558e-01 -4.85117518e-02\n",
            "   5.62856646e-02 -7.07232746e-01 -3.38160109e-02 -4.75141883e-02\n",
            "   1.12408480e-01 -1.58780616e-01  4.81666041e-02 -1.79446840e-03\n",
            "   2.51230449e-02 -1.45849013e-02 -1.05381436e-02  5.42046637e-03\n",
            "   1.89086425e-02 -3.26603502e-02 -6.16299882e-03  1.04632508e-02\n",
            "   7.89569010e-03  5.72574681e-04 -0.00000000e+00 -4.43727543e-03\n",
            "   7.23001971e-04 -1.00525633e-02 -2.41597893e-03  8.46790914e-04\n",
            "   3.52833952e-04 -0.00000000e+00  3.13610265e-03  2.77576928e-02\n",
            "  -0.00000000e+00  4.09966453e-03  3.95636874e-03 -0.00000000e+00\n",
            "  -0.00000000e+00  3.63014112e-04  3.21960427e-02  5.72574681e-04\n",
            "  -0.00000000e+00  5.71054745e-04  7.67518673e-04  4.33062915e-04\n",
            "  -6.38550697e-03 -0.00000000e+00 -1.73453681e-03  3.45766937e-03\n",
            "   2.53134339e-03 -0.00000000e+00  5.10120290e-03  4.66567791e-04\n",
            "   8.45598718e-03 -0.00000000e+00  6.75424484e-04 -3.25435998e-03\n",
            "   2.47132423e-04 -0.00000000e+00  6.62077998e-03 -2.68301003e-03\n",
            "  -7.68058749e-02]]\n",
            "6 Components \n",
            "Explained Variance: [0.95550899 0.02217179 0.00649067 0.00355908 0.00255571 0.00192397]\n",
            "\n",
            "[[ 9.98697033e-01  2.67395765e-02 -4.53736376e-03 -3.39748567e-02\n",
            "   1.65423425e-04 -7.12608065e-03  1.32415603e-02 -1.16634444e-02\n",
            "  -6.24459935e-04  5.37740382e-03 -3.88374866e-03 -8.69195225e-04\n",
            "   5.36456540e-03 -1.52500132e-03 -3.83956408e-03  1.35917647e-03\n",
            "   2.79861457e-03  6.17213205e-03  2.06094820e-03  1.13630060e-03\n",
            "  -6.53389710e-04 -4.04986587e-04  0.00000000e+00 -1.24687956e-02\n",
            "  -6.36135511e-05 -4.61415883e-04 -1.39741481e-04 -1.77346023e-04\n",
            "  -6.34072594e-05 -0.00000000e+00 -2.75693689e-04 -1.93660609e-03\n",
            "  -0.00000000e+00  1.03057699e-04 -1.37481441e-04 -0.00000000e+00\n",
            "  -0.00000000e+00 -6.34479044e-05  6.72751106e-03 -4.04986587e-04\n",
            "  -0.00000000e+00 -2.01955017e-05  8.51277125e-06 -1.06084328e-04\n",
            "   2.86749243e-04 -0.00000000e+00 -3.11202737e-04 -4.04440059e-04\n",
            "  -3.37571792e-04 -0.00000000e+00 -6.77417113e-05 -1.34527589e-04\n",
            "  -8.53909340e-04 -0.00000000e+00 -6.99904128e-05 -3.53629449e-05\n",
            "   3.61055018e-05 -0.00000000e+00 -8.29773440e-04  2.50916841e-04\n",
            "  -5.18313349e-04]\n",
            " [ 4.92524512e-03  2.63860588e-01  4.06364214e-01 -6.26897043e-02\n",
            "   5.56273614e-02  3.47445025e-01 -1.22625520e-01  7.53809240e-01\n",
            "  -1.83150973e-01  2.23783220e-02  8.19899426e-02  7.87827084e-02\n",
            "   1.23691431e-02 -2.96286192e-02  1.72594761e-02  1.88259414e-04\n",
            "   1.66210206e-02  1.92758755e-02 -1.05544401e-04  5.11525777e-03\n",
            "  -1.11696575e-03  8.76794840e-04  0.00000000e+00 -4.08546980e-02\n",
            "  -7.36093657e-04  7.11839759e-04 -1.40660245e-03 -7.94841482e-04\n",
            "  -8.79778759e-04  0.00000000e+00 -1.38338093e-03  3.80651778e-02\n",
            "   0.00000000e+00  1.37914230e-03 -2.40960456e-03  0.00000000e+00\n",
            "   0.00000000e+00 -8.54264825e-04  1.47857798e-02  8.76794840e-04\n",
            "   0.00000000e+00 -7.59160238e-04 -6.96856632e-04 -8.54602506e-04\n",
            "   5.42106210e-04  0.00000000e+00 -1.31345123e-03  1.74114175e-03\n",
            "  -9.77058127e-04  0.00000000e+00 -1.21232178e-03 -8.62903266e-04\n",
            "  -2.34577295e-03  0.00000000e+00 -1.68450715e-03  6.99934084e-05\n",
            "  -8.24364236e-04  0.00000000e+00  4.22966242e-03  5.50118337e-04\n",
            "  -4.29561919e-02]\n",
            " [ 4.59902119e-02 -6.34399952e-01  1.73583460e-01  5.89042485e-01\n",
            "  -9.76931883e-02  4.49494715e-02  1.02560109e-01  2.18532931e-01\n",
            "   6.31058705e-02 -8.83268306e-02 -1.76921468e-02  4.29131069e-02\n",
            "  -1.71482274e-01  5.50673581e-02  1.16414916e-01 -1.40733452e-02\n",
            "  -5.02286606e-02 -1.15635053e-01 -2.68049236e-02 -2.76304085e-02\n",
            "  -2.13203161e-03 -1.44170125e-03 -0.00000000e+00  2.37946123e-01\n",
            "   1.06588479e-03  2.72731945e-03  1.23990797e-02  2.11746176e-04\n",
            "   1.40254910e-03 -0.00000000e+00  2.45129316e-03  3.15615470e-02\n",
            "  -0.00000000e+00 -3.83676953e-03 -3.38310117e-03 -0.00000000e+00\n",
            "  -0.00000000e+00  1.55831744e-03 -1.01500252e-01 -1.44170125e-03\n",
            "  -0.00000000e+00  2.19856487e-04 -6.79040847e-04  1.19669821e-03\n",
            "   4.37930003e-04 -0.00000000e+00 -8.01892080e-03 -3.12681304e-03\n",
            "  -6.58179458e-03 -0.00000000e+00  3.12168796e-03  1.02204221e-03\n",
            "   1.25092169e-02 -0.00000000e+00  3.40355022e-03  1.51294520e-03\n",
            "   2.16263912e-03 -0.00000000e+00  1.38580971e-03 -2.17372044e-03\n",
            "   5.03920010e-02]\n",
            " [-4.84575259e-03  6.89801984e-02  6.59718558e-01 -4.85117518e-02\n",
            "   5.62856646e-02 -7.07232746e-01 -3.38160109e-02 -4.75141883e-02\n",
            "   1.12408480e-01 -1.58780616e-01  4.81666041e-02 -1.79446840e-03\n",
            "   2.51230449e-02 -1.45849013e-02 -1.05381436e-02  5.42046637e-03\n",
            "   1.89086425e-02 -3.26603502e-02 -6.16299882e-03  1.04632508e-02\n",
            "   7.89569010e-03  5.72574681e-04 -0.00000000e+00 -4.43727543e-03\n",
            "   7.23001971e-04 -1.00525633e-02 -2.41597893e-03  8.46790914e-04\n",
            "   3.52833952e-04 -0.00000000e+00  3.13610265e-03  2.77576928e-02\n",
            "  -0.00000000e+00  4.09966453e-03  3.95636874e-03 -0.00000000e+00\n",
            "  -0.00000000e+00  3.63014112e-04  3.21960427e-02  5.72574681e-04\n",
            "  -0.00000000e+00  5.71054745e-04  7.67518673e-04  4.33062915e-04\n",
            "  -6.38550697e-03 -0.00000000e+00 -1.73453681e-03  3.45766937e-03\n",
            "   2.53134339e-03 -0.00000000e+00  5.10120290e-03  4.66567791e-04\n",
            "   8.45598718e-03 -0.00000000e+00  6.75424484e-04 -3.25435998e-03\n",
            "   2.47132423e-04 -0.00000000e+00  6.62077998e-03 -2.68301003e-03\n",
            "  -7.68058749e-02]\n",
            " [-1.68460343e-02  1.29646276e-01  4.89431219e-02 -1.91315408e-01\n",
            "  -5.58119055e-01  2.40223825e-02  6.98689720e-01  7.29655044e-02\n",
            "   1.18788681e-01 -7.46047198e-02 -8.62330151e-02  4.20490539e-02\n",
            "  -9.14862227e-02 -1.63620622e-01  2.55106845e-01  5.10886104e-03\n",
            "   5.99451159e-03  1.23857115e-02  2.52199693e-03 -2.14964778e-03\n",
            "   6.38282582e-03 -1.22865862e-03  0.00000000e+00 -2.90156005e-02\n",
            "  -4.08060846e-03  3.55135824e-03  2.38650970e-03 -5.62490722e-03\n",
            "   3.80928133e-04  0.00000000e+00  1.41899494e-03  5.42493869e-02\n",
            "   0.00000000e+00  2.26667137e-03 -4.27628085e-03  0.00000000e+00\n",
            "   0.00000000e+00  2.60769819e-03 -6.60928655e-03 -1.22865862e-03\n",
            "   0.00000000e+00  3.56468179e-03  1.78340660e-03  2.91555373e-03\n",
            "  -1.52549075e-03  0.00000000e+00 -3.82411165e-03 -9.46918745e-04\n",
            "   1.16776428e-02  0.00000000e+00  5.20249671e-03  3.08620458e-03\n",
            "  -1.04343589e-03  0.00000000e+00  4.93672480e-03 -4.78646481e-03\n",
            "   2.01405169e-03  0.00000000e+00  3.90490608e-03 -3.05136301e-03\n",
            "  -6.89496897e-02]\n",
            " [-2.79378124e-03 -6.25639380e-02  5.27032687e-02  1.40197967e-01\n",
            "  -2.10260474e-01  1.90095191e-02  2.36101773e-01  7.17127878e-02\n",
            "   2.00101228e-02  4.79344527e-03 -5.93935713e-02  3.45900032e-02\n",
            "   5.55955468e-01  1.56715414e-01 -7.12670882e-01  6.27600512e-03\n",
            "   1.04565955e-02  2.72592378e-02  9.91102864e-03  1.05971289e-02\n",
            "   1.41938913e-03 -3.01621106e-03  0.00000000e+00 -6.29031739e-02\n",
            "  -4.58787234e-03 -6.11763192e-03 -1.59045514e-02  1.77815300e-03\n",
            "   4.79673846e-03  0.00000000e+00 -7.30356432e-03 -5.21068139e-02\n",
            "   0.00000000e+00 -1.71338546e-04 -2.10696203e-02  0.00000000e+00\n",
            "   0.00000000e+00 -1.38525723e-03  7.92306769e-02 -3.01621106e-03\n",
            "   0.00000000e+00 -2.57406677e-03  6.25719910e-03 -1.34959266e-03\n",
            "  -8.53018792e-03  0.00000000e+00  2.91813422e-02  5.08788962e-03\n",
            "  -6.44109327e-03  0.00000000e+00 -1.04805835e-02 -1.30360646e-03\n",
            "  -2.38673785e-02  0.00000000e+00 -2.90643756e-03 -4.08378146e-03\n",
            "  -1.54854093e-03  0.00000000e+00 -1.27862918e-02 -6.81981143e-03\n",
            "   6.80222340e-02]]\n",
            "8 Components \n",
            "Explained Variance: [0.95550899 0.02217179 0.00649067 0.00355908 0.00255571 0.00192397\n",
            " 0.00130216 0.00112767]\n",
            "\n",
            "[[ 9.98697033e-01  2.67395765e-02 -4.53736376e-03 -3.39748567e-02\n",
            "   1.65423425e-04 -7.12608065e-03  1.32415603e-02 -1.16634444e-02\n",
            "  -6.24459935e-04  5.37740382e-03 -3.88374866e-03 -8.69195225e-04\n",
            "   5.36456540e-03 -1.52500132e-03 -3.83956408e-03  1.35917647e-03\n",
            "   2.79861457e-03  6.17213205e-03  2.06094820e-03  1.13630060e-03\n",
            "  -6.53389710e-04 -4.04986587e-04  0.00000000e+00 -1.24687956e-02\n",
            "  -6.36135511e-05 -4.61415883e-04 -1.39741481e-04 -1.77346023e-04\n",
            "  -6.34072594e-05 -0.00000000e+00 -2.75693689e-04 -1.93660609e-03\n",
            "  -0.00000000e+00  1.03057699e-04 -1.37481441e-04 -0.00000000e+00\n",
            "  -0.00000000e+00 -6.34479044e-05  6.72751106e-03 -4.04986587e-04\n",
            "  -0.00000000e+00 -2.01955017e-05  8.51277125e-06 -1.06084328e-04\n",
            "   2.86749243e-04 -0.00000000e+00 -3.11202737e-04 -4.04440059e-04\n",
            "  -3.37571792e-04 -0.00000000e+00 -6.77417113e-05 -1.34527589e-04\n",
            "  -8.53909340e-04 -0.00000000e+00 -6.99904128e-05 -3.53629449e-05\n",
            "   3.61055018e-05 -0.00000000e+00 -8.29773440e-04  2.50916841e-04\n",
            "  -5.18313349e-04]\n",
            " [ 4.92524512e-03  2.63860588e-01  4.06364214e-01 -6.26897043e-02\n",
            "   5.56273614e-02  3.47445025e-01 -1.22625520e-01  7.53809240e-01\n",
            "  -1.83150973e-01  2.23783220e-02  8.19899426e-02  7.87827084e-02\n",
            "   1.23691431e-02 -2.96286192e-02  1.72594761e-02  1.88259414e-04\n",
            "   1.66210206e-02  1.92758755e-02 -1.05544401e-04  5.11525777e-03\n",
            "  -1.11696575e-03  8.76794840e-04  0.00000000e+00 -4.08546980e-02\n",
            "  -7.36093657e-04  7.11839759e-04 -1.40660245e-03 -7.94841482e-04\n",
            "  -8.79778759e-04  0.00000000e+00 -1.38338093e-03  3.80651778e-02\n",
            "   0.00000000e+00  1.37914230e-03 -2.40960456e-03  0.00000000e+00\n",
            "   0.00000000e+00 -8.54264825e-04  1.47857798e-02  8.76794840e-04\n",
            "   0.00000000e+00 -7.59160238e-04 -6.96856632e-04 -8.54602506e-04\n",
            "   5.42106210e-04  0.00000000e+00 -1.31345123e-03  1.74114175e-03\n",
            "  -9.77058127e-04  0.00000000e+00 -1.21232178e-03 -8.62903266e-04\n",
            "  -2.34577295e-03  0.00000000e+00 -1.68450715e-03  6.99934084e-05\n",
            "  -8.24364236e-04  0.00000000e+00  4.22966242e-03  5.50118337e-04\n",
            "  -4.29561919e-02]\n",
            " [ 4.59902119e-02 -6.34399952e-01  1.73583460e-01  5.89042485e-01\n",
            "  -9.76931883e-02  4.49494715e-02  1.02560109e-01  2.18532931e-01\n",
            "   6.31058705e-02 -8.83268306e-02 -1.76921468e-02  4.29131069e-02\n",
            "  -1.71482274e-01  5.50673581e-02  1.16414916e-01 -1.40733452e-02\n",
            "  -5.02286606e-02 -1.15635053e-01 -2.68049236e-02 -2.76304085e-02\n",
            "  -2.13203161e-03 -1.44170125e-03 -0.00000000e+00  2.37946123e-01\n",
            "   1.06588479e-03  2.72731945e-03  1.23990797e-02  2.11746176e-04\n",
            "   1.40254910e-03 -0.00000000e+00  2.45129316e-03  3.15615470e-02\n",
            "  -0.00000000e+00 -3.83676953e-03 -3.38310117e-03 -0.00000000e+00\n",
            "  -0.00000000e+00  1.55831744e-03 -1.01500252e-01 -1.44170125e-03\n",
            "  -0.00000000e+00  2.19856487e-04 -6.79040847e-04  1.19669821e-03\n",
            "   4.37930003e-04 -0.00000000e+00 -8.01892080e-03 -3.12681304e-03\n",
            "  -6.58179458e-03 -0.00000000e+00  3.12168796e-03  1.02204221e-03\n",
            "   1.25092169e-02 -0.00000000e+00  3.40355022e-03  1.51294520e-03\n",
            "   2.16263912e-03 -0.00000000e+00  1.38580971e-03 -2.17372044e-03\n",
            "   5.03920010e-02]\n",
            " [-4.84575259e-03  6.89801984e-02  6.59718558e-01 -4.85117518e-02\n",
            "   5.62856646e-02 -7.07232746e-01 -3.38160109e-02 -4.75141883e-02\n",
            "   1.12408480e-01 -1.58780616e-01  4.81666041e-02 -1.79446840e-03\n",
            "   2.51230449e-02 -1.45849013e-02 -1.05381436e-02  5.42046637e-03\n",
            "   1.89086425e-02 -3.26603502e-02 -6.16299882e-03  1.04632508e-02\n",
            "   7.89569010e-03  5.72574681e-04 -0.00000000e+00 -4.43727543e-03\n",
            "   7.23001971e-04 -1.00525633e-02 -2.41597893e-03  8.46790914e-04\n",
            "   3.52833952e-04 -0.00000000e+00  3.13610265e-03  2.77576928e-02\n",
            "  -0.00000000e+00  4.09966453e-03  3.95636874e-03 -0.00000000e+00\n",
            "  -0.00000000e+00  3.63014112e-04  3.21960427e-02  5.72574681e-04\n",
            "  -0.00000000e+00  5.71054745e-04  7.67518673e-04  4.33062915e-04\n",
            "  -6.38550697e-03 -0.00000000e+00 -1.73453681e-03  3.45766937e-03\n",
            "   2.53134339e-03 -0.00000000e+00  5.10120290e-03  4.66567791e-04\n",
            "   8.45598718e-03 -0.00000000e+00  6.75424484e-04 -3.25435998e-03\n",
            "   2.47132423e-04 -0.00000000e+00  6.62077998e-03 -2.68301003e-03\n",
            "  -7.68058749e-02]\n",
            " [-1.68460343e-02  1.29646276e-01  4.89431219e-02 -1.91315408e-01\n",
            "  -5.58119055e-01  2.40223825e-02  6.98689720e-01  7.29655044e-02\n",
            "   1.18788681e-01 -7.46047198e-02 -8.62330151e-02  4.20490539e-02\n",
            "  -9.14862227e-02 -1.63620622e-01  2.55106845e-01  5.10886104e-03\n",
            "   5.99451159e-03  1.23857115e-02  2.52199693e-03 -2.14964778e-03\n",
            "   6.38282582e-03 -1.22865862e-03  0.00000000e+00 -2.90156005e-02\n",
            "  -4.08060846e-03  3.55135824e-03  2.38650970e-03 -5.62490722e-03\n",
            "   3.80928133e-04  0.00000000e+00  1.41899494e-03  5.42493869e-02\n",
            "   0.00000000e+00  2.26667137e-03 -4.27628085e-03  0.00000000e+00\n",
            "   0.00000000e+00  2.60769819e-03 -6.60928655e-03 -1.22865862e-03\n",
            "   0.00000000e+00  3.56468179e-03  1.78340660e-03  2.91555373e-03\n",
            "  -1.52549075e-03  0.00000000e+00 -3.82411165e-03 -9.46918745e-04\n",
            "   1.16776428e-02  0.00000000e+00  5.20249671e-03  3.08620458e-03\n",
            "  -1.04343589e-03  0.00000000e+00  4.93672480e-03 -4.78646481e-03\n",
            "   2.01405169e-03  0.00000000e+00  3.90490608e-03 -3.05136301e-03\n",
            "  -6.89496897e-02]\n",
            " [-2.79378124e-03 -6.25639380e-02  5.27032687e-02  1.40197967e-01\n",
            "  -2.10260474e-01  1.90095191e-02  2.36101773e-01  7.17127878e-02\n",
            "   2.00101228e-02  4.79344527e-03 -5.93935713e-02  3.45900032e-02\n",
            "   5.55955468e-01  1.56715414e-01 -7.12670882e-01  6.27600512e-03\n",
            "   1.04565955e-02  2.72592378e-02  9.91102864e-03  1.05971289e-02\n",
            "   1.41938913e-03 -3.01621106e-03  0.00000000e+00 -6.29031739e-02\n",
            "  -4.58787234e-03 -6.11763192e-03 -1.59045514e-02  1.77815300e-03\n",
            "   4.79673846e-03  0.00000000e+00 -7.30356432e-03 -5.21068139e-02\n",
            "   0.00000000e+00 -1.71338546e-04 -2.10696203e-02  0.00000000e+00\n",
            "   0.00000000e+00 -1.38525723e-03  7.92306769e-02 -3.01621106e-03\n",
            "   0.00000000e+00 -2.57406677e-03  6.25719910e-03 -1.34959266e-03\n",
            "  -8.53018792e-03  0.00000000e+00  2.91813422e-02  5.08788962e-03\n",
            "  -6.44109327e-03  0.00000000e+00 -1.04805835e-02 -1.30360646e-03\n",
            "  -2.38673785e-02  0.00000000e+00 -2.90643756e-03 -4.08378146e-03\n",
            "  -1.54854093e-03  0.00000000e+00 -1.27862918e-02 -6.81981143e-03\n",
            "   6.80222340e-02]\n",
            " [ 3.97084414e-03  2.74317058e-02 -9.14043473e-02  1.22432467e-01\n",
            "   5.15437799e-02  8.04968710e-02 -6.33966103e-02 -1.09074763e-02\n",
            "   1.64499979e-01 -9.24949409e-02 -1.06041962e-01  3.40369240e-02\n",
            "   9.55866510e-02 -6.38292185e-02 -3.17574325e-02  2.00102514e-02\n",
            "   1.52669415e-02 -9.01821707e-02 -1.45397424e-02 -1.39567341e-02\n",
            "  -2.42615864e-02  3.45433916e-03 -1.29246971e-26  1.04208702e-01\n",
            "   8.53160754e-03  2.03227474e-02  5.00335862e-02  7.84731870e-03\n",
            "   6.96977000e-03 -1.88079096e-37  1.99993688e-02  2.04418616e-01\n",
            "   6.10172435e-39  8.38799332e-03  2.98650691e-02  1.37966942e-40\n",
            "   4.29848304e-42  7.30251556e-03  2.52369919e-01  3.45433916e-03\n",
            "  -6.55107032e-44  6.22070537e-03  7.75491841e-03  7.19236345e-03\n",
            "   1.12754407e-02 -0.00000000e+00  5.05212641e-02  3.74396966e-03\n",
            "   1.27781949e-02 -0.00000000e+00  2.20387070e-02  7.10449142e-03\n",
            "   6.43251673e-02 -0.00000000e+00  1.49537647e-02  6.63289805e-03\n",
            "   7.61158355e-03 -0.00000000e+00  2.65019762e-02  4.20082035e-03\n",
            "  -8.72359116e-01]\n",
            " [ 3.87108042e-04  1.12005840e-01 -6.53667402e-02 -9.13091860e-02\n",
            "   9.61570849e-02  1.51998511e-01 -9.35881592e-02  8.66317707e-02\n",
            "   6.14793448e-01 -5.96653113e-01 -1.76479117e-01  1.58338782e-01\n",
            "  -1.55422449e-01  2.46161058e-01 -9.07386089e-02  1.86450144e-02\n",
            "   1.04421847e-02  3.31811935e-02 -3.10291203e-02  2.09639112e-04\n",
            "   1.00190759e-02 -4.69253611e-03  1.65436123e-24 -3.67754513e-02\n",
            "   6.00353309e-04 -9.42376899e-03 -3.24999238e-02  4.62771044e-03\n",
            "   2.35115388e-03  3.61111865e-35 -1.62696923e-02  2.01958553e-02\n",
            "  -1.18913192e-36  8.87140569e-04  8.87984690e-03 -2.68936304e-38\n",
            "  -8.40510029e-40 -1.79037025e-03 -1.80314665e-02 -4.69253611e-03\n",
            "   1.56048597e-41 -2.59793276e-04 -5.39886016e-04 -1.73081299e-03\n",
            "  -1.97586888e-02  0.00000000e+00 -2.71819976e-02 -3.29893584e-03\n",
            "   4.54766821e-03  0.00000000e+00 -3.01551562e-02 -1.75928962e-03\n",
            "  -2.99447694e-02  0.00000000e+00 -3.49507993e-03 -1.12883065e-02\n",
            "  -1.68354310e-03  0.00000000e+00 -5.75980172e-03 -5.85733034e-03\n",
            "   1.83331421e-01]]\n",
            "10 Components \n",
            "Explained Variance: [9.55508987e-01 2.21717942e-02 6.49066839e-03 3.55907531e-03\n",
            " 2.55571386e-03 1.92396559e-03 1.30216230e-03 1.12767006e-03\n",
            " 8.71038161e-04 8.00360038e-04]\n",
            "\n",
            "[[ 9.98697033e-01  2.67395765e-02 -4.53736376e-03 -3.39748567e-02\n",
            "   1.65423425e-04 -7.12608065e-03  1.32415603e-02 -1.16634444e-02\n",
            "  -6.24459935e-04  5.37740382e-03 -3.88374866e-03 -8.69195225e-04\n",
            "   5.36456540e-03 -1.52500132e-03 -3.83956408e-03  1.35917647e-03\n",
            "   2.79861457e-03  6.17213205e-03  2.06094820e-03  1.13630060e-03\n",
            "  -6.53389710e-04 -4.04986587e-04  0.00000000e+00 -1.24687956e-02\n",
            "  -6.36135511e-05 -4.61415883e-04 -1.39741481e-04 -1.77346023e-04\n",
            "  -6.34072594e-05 -0.00000000e+00 -2.75693689e-04 -1.93660609e-03\n",
            "  -0.00000000e+00  1.03057699e-04 -1.37481441e-04 -0.00000000e+00\n",
            "  -0.00000000e+00 -6.34479044e-05  6.72751106e-03 -4.04986587e-04\n",
            "  -0.00000000e+00 -2.01955017e-05  8.51277125e-06 -1.06084328e-04\n",
            "   2.86749243e-04 -0.00000000e+00 -3.11202737e-04 -4.04440059e-04\n",
            "  -3.37571792e-04 -0.00000000e+00 -6.77417113e-05 -1.34527589e-04\n",
            "  -8.53909340e-04 -0.00000000e+00 -6.99904128e-05 -3.53629449e-05\n",
            "   3.61055018e-05 -0.00000000e+00 -8.29773440e-04  2.50916841e-04\n",
            "  -5.18313349e-04]\n",
            " [ 4.92524512e-03  2.63860588e-01  4.06364214e-01 -6.26897043e-02\n",
            "   5.56273614e-02  3.47445025e-01 -1.22625520e-01  7.53809240e-01\n",
            "  -1.83150973e-01  2.23783220e-02  8.19899426e-02  7.87827084e-02\n",
            "   1.23691431e-02 -2.96286192e-02  1.72594761e-02  1.88259414e-04\n",
            "   1.66210206e-02  1.92758755e-02 -1.05544401e-04  5.11525777e-03\n",
            "  -1.11696575e-03  8.76794840e-04  0.00000000e+00 -4.08546980e-02\n",
            "  -7.36093657e-04  7.11839759e-04 -1.40660245e-03 -7.94841482e-04\n",
            "  -8.79778759e-04  0.00000000e+00 -1.38338093e-03  3.80651778e-02\n",
            "   0.00000000e+00  1.37914230e-03 -2.40960456e-03  0.00000000e+00\n",
            "   0.00000000e+00 -8.54264825e-04  1.47857798e-02  8.76794840e-04\n",
            "   0.00000000e+00 -7.59160238e-04 -6.96856632e-04 -8.54602506e-04\n",
            "   5.42106210e-04  0.00000000e+00 -1.31345123e-03  1.74114175e-03\n",
            "  -9.77058127e-04  0.00000000e+00 -1.21232178e-03 -8.62903266e-04\n",
            "  -2.34577295e-03  0.00000000e+00 -1.68450715e-03  6.99934084e-05\n",
            "  -8.24364236e-04  0.00000000e+00  4.22966242e-03  5.50118337e-04\n",
            "  -4.29561919e-02]\n",
            " [ 4.59902119e-02 -6.34399952e-01  1.73583460e-01  5.89042485e-01\n",
            "  -9.76931883e-02  4.49494715e-02  1.02560109e-01  2.18532931e-01\n",
            "   6.31058705e-02 -8.83268306e-02 -1.76921468e-02  4.29131069e-02\n",
            "  -1.71482274e-01  5.50673581e-02  1.16414916e-01 -1.40733452e-02\n",
            "  -5.02286606e-02 -1.15635053e-01 -2.68049236e-02 -2.76304085e-02\n",
            "  -2.13203161e-03 -1.44170125e-03 -0.00000000e+00  2.37946123e-01\n",
            "   1.06588479e-03  2.72731945e-03  1.23990797e-02  2.11746176e-04\n",
            "   1.40254910e-03 -0.00000000e+00  2.45129316e-03  3.15615470e-02\n",
            "  -0.00000000e+00 -3.83676953e-03 -3.38310117e-03 -0.00000000e+00\n",
            "  -0.00000000e+00  1.55831744e-03 -1.01500252e-01 -1.44170125e-03\n",
            "  -0.00000000e+00  2.19856487e-04 -6.79040847e-04  1.19669821e-03\n",
            "   4.37930003e-04 -0.00000000e+00 -8.01892080e-03 -3.12681304e-03\n",
            "  -6.58179458e-03 -0.00000000e+00  3.12168796e-03  1.02204221e-03\n",
            "   1.25092169e-02 -0.00000000e+00  3.40355022e-03  1.51294520e-03\n",
            "   2.16263912e-03 -0.00000000e+00  1.38580971e-03 -2.17372044e-03\n",
            "   5.03920010e-02]\n",
            " [-4.84575259e-03  6.89801984e-02  6.59718558e-01 -4.85117518e-02\n",
            "   5.62856646e-02 -7.07232746e-01 -3.38160109e-02 -4.75141883e-02\n",
            "   1.12408480e-01 -1.58780616e-01  4.81666041e-02 -1.79446840e-03\n",
            "   2.51230449e-02 -1.45849013e-02 -1.05381436e-02  5.42046637e-03\n",
            "   1.89086425e-02 -3.26603502e-02 -6.16299882e-03  1.04632508e-02\n",
            "   7.89569010e-03  5.72574681e-04 -0.00000000e+00 -4.43727543e-03\n",
            "   7.23001971e-04 -1.00525633e-02 -2.41597893e-03  8.46790914e-04\n",
            "   3.52833952e-04 -0.00000000e+00  3.13610265e-03  2.77576928e-02\n",
            "  -0.00000000e+00  4.09966453e-03  3.95636874e-03 -0.00000000e+00\n",
            "  -0.00000000e+00  3.63014112e-04  3.21960427e-02  5.72574681e-04\n",
            "  -0.00000000e+00  5.71054745e-04  7.67518673e-04  4.33062915e-04\n",
            "  -6.38550697e-03 -0.00000000e+00 -1.73453681e-03  3.45766937e-03\n",
            "   2.53134339e-03 -0.00000000e+00  5.10120290e-03  4.66567791e-04\n",
            "   8.45598718e-03 -0.00000000e+00  6.75424484e-04 -3.25435998e-03\n",
            "   2.47132423e-04 -0.00000000e+00  6.62077998e-03 -2.68301003e-03\n",
            "  -7.68058749e-02]\n",
            " [-1.68460343e-02  1.29646276e-01  4.89431219e-02 -1.91315408e-01\n",
            "  -5.58119055e-01  2.40223825e-02  6.98689720e-01  7.29655044e-02\n",
            "   1.18788681e-01 -7.46047198e-02 -8.62330151e-02  4.20490539e-02\n",
            "  -9.14862227e-02 -1.63620622e-01  2.55106845e-01  5.10886104e-03\n",
            "   5.99451159e-03  1.23857115e-02  2.52199693e-03 -2.14964778e-03\n",
            "   6.38282582e-03 -1.22865862e-03  0.00000000e+00 -2.90156005e-02\n",
            "  -4.08060846e-03  3.55135824e-03  2.38650970e-03 -5.62490722e-03\n",
            "   3.80928133e-04  0.00000000e+00  1.41899494e-03  5.42493869e-02\n",
            "   0.00000000e+00  2.26667137e-03 -4.27628085e-03  0.00000000e+00\n",
            "   0.00000000e+00  2.60769819e-03 -6.60928655e-03 -1.22865862e-03\n",
            "   0.00000000e+00  3.56468179e-03  1.78340660e-03  2.91555373e-03\n",
            "  -1.52549075e-03  0.00000000e+00 -3.82411165e-03 -9.46918745e-04\n",
            "   1.16776428e-02  0.00000000e+00  5.20249671e-03  3.08620458e-03\n",
            "  -1.04343589e-03  0.00000000e+00  4.93672480e-03 -4.78646481e-03\n",
            "   2.01405169e-03  0.00000000e+00  3.90490608e-03 -3.05136301e-03\n",
            "  -6.89496897e-02]\n",
            " [-2.79378124e-03 -6.25639380e-02  5.27032687e-02  1.40197967e-01\n",
            "  -2.10260474e-01  1.90095191e-02  2.36101773e-01  7.17127878e-02\n",
            "   2.00101228e-02  4.79344527e-03 -5.93935713e-02  3.45900032e-02\n",
            "   5.55955468e-01  1.56715414e-01 -7.12670882e-01  6.27600512e-03\n",
            "   1.04565955e-02  2.72592378e-02  9.91102864e-03  1.05971289e-02\n",
            "   1.41938913e-03 -3.01621106e-03  0.00000000e+00 -6.29031739e-02\n",
            "  -4.58787234e-03 -6.11763192e-03 -1.59045514e-02  1.77815300e-03\n",
            "   4.79673846e-03  0.00000000e+00 -7.30356432e-03 -5.21068139e-02\n",
            "   0.00000000e+00 -1.71338546e-04 -2.10696203e-02  0.00000000e+00\n",
            "   0.00000000e+00 -1.38525723e-03  7.92306769e-02 -3.01621106e-03\n",
            "   0.00000000e+00 -2.57406677e-03  6.25719910e-03 -1.34959266e-03\n",
            "  -8.53018792e-03  0.00000000e+00  2.91813422e-02  5.08788962e-03\n",
            "  -6.44109327e-03  0.00000000e+00 -1.04805835e-02 -1.30360646e-03\n",
            "  -2.38673785e-02  0.00000000e+00 -2.90643756e-03 -4.08378146e-03\n",
            "  -1.54854093e-03  0.00000000e+00 -1.27862918e-02 -6.81981143e-03\n",
            "   6.80222340e-02]\n",
            " [ 3.97084414e-03  2.74317058e-02 -9.14043473e-02  1.22432467e-01\n",
            "   5.15437799e-02  8.04968710e-02 -6.33966103e-02 -1.09074763e-02\n",
            "   1.64499979e-01 -9.24949409e-02 -1.06041962e-01  3.40369240e-02\n",
            "   9.55866510e-02 -6.38292185e-02 -3.17574325e-02  2.00102514e-02\n",
            "   1.52669415e-02 -9.01821707e-02 -1.45397424e-02 -1.39567341e-02\n",
            "  -2.42615864e-02  3.45433916e-03 -1.29246971e-26  1.04208702e-01\n",
            "   8.53160754e-03  2.03227474e-02  5.00335862e-02  7.84731870e-03\n",
            "   6.96977000e-03 -1.88079096e-37  1.99993688e-02  2.04418616e-01\n",
            "   6.10172435e-39  8.38799332e-03  2.98650691e-02  1.37966942e-40\n",
            "   4.29848304e-42  7.30251556e-03  2.52369919e-01  3.45433916e-03\n",
            "  -6.55107032e-44  6.22070537e-03  7.75491841e-03  7.19236345e-03\n",
            "   1.12754407e-02 -0.00000000e+00  5.05212641e-02  3.74396966e-03\n",
            "   1.27781949e-02 -0.00000000e+00  2.20387070e-02  7.10449142e-03\n",
            "   6.43251673e-02 -0.00000000e+00  1.49537647e-02  6.63289805e-03\n",
            "   7.61158355e-03 -0.00000000e+00  2.65019762e-02  4.20082035e-03\n",
            "  -8.72359116e-01]\n",
            " [ 3.87108042e-04  1.12005840e-01 -6.53667402e-02 -9.13091860e-02\n",
            "   9.61570849e-02  1.51998511e-01 -9.35881592e-02  8.66317707e-02\n",
            "   6.14793448e-01 -5.96653113e-01 -1.76479117e-01  1.58338782e-01\n",
            "  -1.55422449e-01  2.46161058e-01 -9.07386089e-02  1.86450144e-02\n",
            "   1.04421847e-02  3.31811935e-02 -3.10291203e-02  2.09639112e-04\n",
            "   1.00190759e-02 -4.69253611e-03  1.65436123e-24 -3.67754513e-02\n",
            "   6.00353309e-04 -9.42376899e-03 -3.24999238e-02  4.62771044e-03\n",
            "   2.35115388e-03  3.61111865e-35 -1.62696923e-02  2.01958553e-02\n",
            "  -1.18913192e-36  8.87140569e-04  8.87984690e-03 -2.68936304e-38\n",
            "  -8.40510029e-40 -1.79037025e-03 -1.80314665e-02 -4.69253611e-03\n",
            "   1.56048597e-41 -2.59793276e-04 -5.39886016e-04 -1.73081299e-03\n",
            "  -1.97586888e-02  0.00000000e+00 -2.71819976e-02 -3.29893584e-03\n",
            "   4.54766821e-03  0.00000000e+00 -3.01551562e-02 -1.75928962e-03\n",
            "  -2.99447694e-02  0.00000000e+00 -3.49507993e-03 -1.12883065e-02\n",
            "  -1.68354310e-03  0.00000000e+00 -5.75980172e-03 -5.85733034e-03\n",
            "   1.83331421e-01]\n",
            " [ 2.75206526e-03 -4.09009691e-01 -5.43616031e-02 -3.60375554e-01\n",
            "  -9.05494348e-02  8.06407462e-02 -8.90308783e-02  2.62791431e-02\n",
            "  -5.13383178e-02 -4.14556060e-01  5.96392039e-01 -1.30497661e-01\n",
            "   2.00707664e-01 -2.12607477e-01  1.18998136e-02  6.13075944e-02\n",
            "   4.09118577e-02 -1.10832296e-01  2.60879474e-02  4.97983054e-02\n",
            "   3.99696435e-02  7.55635735e-03 -0.00000000e+00 -1.14799410e-01\n",
            "  -5.11576312e-04  1.89929133e-02  1.35839550e-02 -4.19172148e-03\n",
            "  -3.83071523e-03 -1.54074396e-33 -1.28880257e-02  8.34648860e-03\n",
            "   1.88108483e-35  2.09498503e-02  2.46761774e-03  4.25778059e-37\n",
            "   1.34567700e-38 -1.37621958e-04 -2.58589711e-02  7.55635735e-03\n",
            "  -4.21869310e-40  3.80644686e-03  4.51557723e-03 -6.18474486e-04\n",
            "  -1.07879022e-02 -0.00000000e+00  3.04945294e-02  8.18648374e-03\n",
            "  -1.78368379e-02 -0.00000000e+00 -1.38372435e-02 -6.15546414e-04\n",
            "   2.66498602e-02 -0.00000000e+00 -6.29792174e-04 -4.40036886e-03\n",
            "  -1.81836754e-04 -0.00000000e+00  1.19733037e-02 -2.07661664e-03\n",
            "  -5.91201327e-02]\n",
            " [-6.54213744e-03 -5.27320850e-01  1.00903263e-01 -5.17887287e-01\n",
            "   5.93595971e-02  7.65142073e-03 -8.55421369e-02  1.08554683e-01\n",
            "   1.00410912e-01  2.82566817e-01 -5.07472428e-01  1.24494698e-01\n",
            "   1.67296003e-02 -1.15584446e-02 -5.17115568e-03  2.75571067e-02\n",
            "   3.43520927e-02 -2.55224172e-02  1.21057305e-01 -5.31806195e-03\n",
            "   3.06209326e-02 -3.94165667e-03 -2.64697796e-23 -1.78805301e-01\n",
            "   1.31607464e-03 -2.19775918e-02 -2.60161273e-02  2.43539386e-03\n",
            "  -9.92506210e-04 -0.00000000e+00 -3.64338132e-03  4.01381420e-02\n",
            "   4.68669598e-35  1.11398179e-02  1.18031258e-02  1.06005426e-36\n",
            "   3.31985319e-38 -6.97855121e-04  1.25401749e-02 -3.94165667e-03\n",
            "  -7.00245658e-40  5.24154731e-03  2.05862368e-03 -8.50076493e-04\n",
            "   5.23111874e-03 -0.00000000e+00  3.06415280e-02 -2.01370580e-03\n",
            "  -2.15876216e-02 -0.00000000e+00  1.32552040e-02 -4.97018021e-04\n",
            "  -2.36802274e-02 -0.00000000e+00 -2.62308487e-03  6.37566399e-03\n",
            "  -1.98128559e-03 -0.00000000e+00  2.00320955e-03  7.32388024e-03\n",
            "  -4.10013665e-02]]\n",
            "12 Components \n",
            "Explained Variance: [9.55508987e-01 2.21717942e-02 6.49066839e-03 3.55907531e-03\n",
            " 2.55571386e-03 1.92396559e-03 1.30216230e-03 1.12767006e-03\n",
            " 8.71038161e-04 8.00360038e-04 5.82309444e-04 5.15511243e-04]\n",
            "\n",
            "[[ 9.98697033e-01  2.67395765e-02 -4.53736376e-03 -3.39748567e-02\n",
            "   1.65423425e-04 -7.12608065e-03  1.32415603e-02 -1.16634444e-02\n",
            "  -6.24459935e-04  5.37740382e-03 -3.88374866e-03 -8.69195225e-04\n",
            "   5.36456540e-03 -1.52500132e-03 -3.83956408e-03  1.35917647e-03\n",
            "   2.79861457e-03  6.17213205e-03  2.06094820e-03  1.13630060e-03\n",
            "  -6.53389710e-04 -4.04986587e-04  0.00000000e+00 -1.24687956e-02\n",
            "  -6.36135511e-05 -4.61415883e-04 -1.39741481e-04 -1.77346023e-04\n",
            "  -6.34072594e-05 -0.00000000e+00 -2.75693689e-04 -1.93660609e-03\n",
            "  -0.00000000e+00  1.03057699e-04 -1.37481441e-04 -0.00000000e+00\n",
            "  -0.00000000e+00 -6.34479044e-05  6.72751106e-03 -4.04986587e-04\n",
            "  -0.00000000e+00 -2.01955017e-05  8.51277125e-06 -1.06084328e-04\n",
            "   2.86749243e-04 -0.00000000e+00 -3.11202737e-04 -4.04440059e-04\n",
            "  -3.37571792e-04 -0.00000000e+00 -6.77417113e-05 -1.34527589e-04\n",
            "  -8.53909340e-04 -0.00000000e+00 -6.99904128e-05 -3.53629449e-05\n",
            "   3.61055018e-05 -0.00000000e+00 -8.29773440e-04  2.50916841e-04\n",
            "  -5.18313349e-04]\n",
            " [ 4.92524512e-03  2.63860588e-01  4.06364214e-01 -6.26897043e-02\n",
            "   5.56273614e-02  3.47445025e-01 -1.22625520e-01  7.53809240e-01\n",
            "  -1.83150973e-01  2.23783220e-02  8.19899426e-02  7.87827084e-02\n",
            "   1.23691431e-02 -2.96286192e-02  1.72594761e-02  1.88259414e-04\n",
            "   1.66210206e-02  1.92758755e-02 -1.05544401e-04  5.11525777e-03\n",
            "  -1.11696575e-03  8.76794840e-04  0.00000000e+00 -4.08546980e-02\n",
            "  -7.36093657e-04  7.11839759e-04 -1.40660245e-03 -7.94841482e-04\n",
            "  -8.79778759e-04  0.00000000e+00 -1.38338093e-03  3.80651778e-02\n",
            "   0.00000000e+00  1.37914230e-03 -2.40960456e-03  0.00000000e+00\n",
            "   0.00000000e+00 -8.54264825e-04  1.47857798e-02  8.76794840e-04\n",
            "   0.00000000e+00 -7.59160238e-04 -6.96856632e-04 -8.54602506e-04\n",
            "   5.42106210e-04  0.00000000e+00 -1.31345123e-03  1.74114175e-03\n",
            "  -9.77058127e-04  0.00000000e+00 -1.21232178e-03 -8.62903266e-04\n",
            "  -2.34577295e-03  0.00000000e+00 -1.68450715e-03  6.99934084e-05\n",
            "  -8.24364236e-04  0.00000000e+00  4.22966242e-03  5.50118337e-04\n",
            "  -4.29561919e-02]\n",
            " [ 4.59902119e-02 -6.34399952e-01  1.73583460e-01  5.89042485e-01\n",
            "  -9.76931883e-02  4.49494715e-02  1.02560109e-01  2.18532931e-01\n",
            "   6.31058705e-02 -8.83268306e-02 -1.76921468e-02  4.29131069e-02\n",
            "  -1.71482274e-01  5.50673581e-02  1.16414916e-01 -1.40733452e-02\n",
            "  -5.02286606e-02 -1.15635053e-01 -2.68049236e-02 -2.76304085e-02\n",
            "  -2.13203161e-03 -1.44170125e-03 -0.00000000e+00  2.37946123e-01\n",
            "   1.06588479e-03  2.72731945e-03  1.23990797e-02  2.11746176e-04\n",
            "   1.40254910e-03 -0.00000000e+00  2.45129316e-03  3.15615470e-02\n",
            "  -0.00000000e+00 -3.83676953e-03 -3.38310117e-03 -0.00000000e+00\n",
            "  -0.00000000e+00  1.55831744e-03 -1.01500252e-01 -1.44170125e-03\n",
            "  -0.00000000e+00  2.19856487e-04 -6.79040847e-04  1.19669821e-03\n",
            "   4.37930003e-04 -0.00000000e+00 -8.01892080e-03 -3.12681304e-03\n",
            "  -6.58179458e-03 -0.00000000e+00  3.12168796e-03  1.02204221e-03\n",
            "   1.25092169e-02 -0.00000000e+00  3.40355022e-03  1.51294520e-03\n",
            "   2.16263912e-03 -0.00000000e+00  1.38580971e-03 -2.17372044e-03\n",
            "   5.03920010e-02]\n",
            " [-4.84575259e-03  6.89801984e-02  6.59718558e-01 -4.85117518e-02\n",
            "   5.62856646e-02 -7.07232746e-01 -3.38160109e-02 -4.75141883e-02\n",
            "   1.12408480e-01 -1.58780616e-01  4.81666041e-02 -1.79446840e-03\n",
            "   2.51230449e-02 -1.45849013e-02 -1.05381436e-02  5.42046637e-03\n",
            "   1.89086425e-02 -3.26603502e-02 -6.16299882e-03  1.04632508e-02\n",
            "   7.89569010e-03  5.72574681e-04 -0.00000000e+00 -4.43727543e-03\n",
            "   7.23001971e-04 -1.00525633e-02 -2.41597893e-03  8.46790914e-04\n",
            "   3.52833952e-04 -0.00000000e+00  3.13610265e-03  2.77576928e-02\n",
            "  -0.00000000e+00  4.09966453e-03  3.95636874e-03 -0.00000000e+00\n",
            "  -0.00000000e+00  3.63014112e-04  3.21960427e-02  5.72574681e-04\n",
            "  -0.00000000e+00  5.71054745e-04  7.67518673e-04  4.33062915e-04\n",
            "  -6.38550697e-03 -0.00000000e+00 -1.73453681e-03  3.45766937e-03\n",
            "   2.53134339e-03 -0.00000000e+00  5.10120290e-03  4.66567791e-04\n",
            "   8.45598718e-03 -0.00000000e+00  6.75424484e-04 -3.25435998e-03\n",
            "   2.47132423e-04 -0.00000000e+00  6.62077998e-03 -2.68301003e-03\n",
            "  -7.68058749e-02]\n",
            " [-1.68460343e-02  1.29646276e-01  4.89431219e-02 -1.91315408e-01\n",
            "  -5.58119055e-01  2.40223825e-02  6.98689720e-01  7.29655044e-02\n",
            "   1.18788681e-01 -7.46047198e-02 -8.62330151e-02  4.20490539e-02\n",
            "  -9.14862227e-02 -1.63620622e-01  2.55106845e-01  5.10886104e-03\n",
            "   5.99451159e-03  1.23857115e-02  2.52199693e-03 -2.14964778e-03\n",
            "   6.38282582e-03 -1.22865862e-03  0.00000000e+00 -2.90156005e-02\n",
            "  -4.08060846e-03  3.55135824e-03  2.38650970e-03 -5.62490722e-03\n",
            "   3.80928133e-04  0.00000000e+00  1.41899494e-03  5.42493869e-02\n",
            "   0.00000000e+00  2.26667137e-03 -4.27628085e-03  0.00000000e+00\n",
            "   0.00000000e+00  2.60769819e-03 -6.60928655e-03 -1.22865862e-03\n",
            "   0.00000000e+00  3.56468179e-03  1.78340660e-03  2.91555373e-03\n",
            "  -1.52549075e-03  0.00000000e+00 -3.82411165e-03 -9.46918745e-04\n",
            "   1.16776428e-02  0.00000000e+00  5.20249671e-03  3.08620458e-03\n",
            "  -1.04343589e-03  0.00000000e+00  4.93672480e-03 -4.78646481e-03\n",
            "   2.01405169e-03  0.00000000e+00  3.90490608e-03 -3.05136301e-03\n",
            "  -6.89496897e-02]\n",
            " [-2.79378124e-03 -6.25639380e-02  5.27032687e-02  1.40197967e-01\n",
            "  -2.10260474e-01  1.90095191e-02  2.36101773e-01  7.17127878e-02\n",
            "   2.00101228e-02  4.79344527e-03 -5.93935713e-02  3.45900032e-02\n",
            "   5.55955468e-01  1.56715414e-01 -7.12670882e-01  6.27600512e-03\n",
            "   1.04565955e-02  2.72592378e-02  9.91102864e-03  1.05971289e-02\n",
            "   1.41938913e-03 -3.01621106e-03  0.00000000e+00 -6.29031739e-02\n",
            "  -4.58787234e-03 -6.11763192e-03 -1.59045514e-02  1.77815300e-03\n",
            "   4.79673846e-03  0.00000000e+00 -7.30356432e-03 -5.21068139e-02\n",
            "   0.00000000e+00 -1.71338546e-04 -2.10696203e-02  0.00000000e+00\n",
            "   0.00000000e+00 -1.38525723e-03  7.92306769e-02 -3.01621106e-03\n",
            "   0.00000000e+00 -2.57406677e-03  6.25719910e-03 -1.34959266e-03\n",
            "  -8.53018792e-03  0.00000000e+00  2.91813422e-02  5.08788962e-03\n",
            "  -6.44109327e-03  0.00000000e+00 -1.04805835e-02 -1.30360646e-03\n",
            "  -2.38673785e-02  0.00000000e+00 -2.90643756e-03 -4.08378146e-03\n",
            "  -1.54854093e-03  0.00000000e+00 -1.27862918e-02 -6.81981143e-03\n",
            "   6.80222340e-02]\n",
            " [ 3.97084414e-03  2.74317058e-02 -9.14043473e-02  1.22432467e-01\n",
            "   5.15437799e-02  8.04968710e-02 -6.33966103e-02 -1.09074763e-02\n",
            "   1.64499979e-01 -9.24949409e-02 -1.06041962e-01  3.40369240e-02\n",
            "   9.55866510e-02 -6.38292185e-02 -3.17574325e-02  2.00102514e-02\n",
            "   1.52669415e-02 -9.01821707e-02 -1.45397424e-02 -1.39567341e-02\n",
            "  -2.42615864e-02  3.45433916e-03 -1.29246971e-26  1.04208702e-01\n",
            "   8.53160754e-03  2.03227474e-02  5.00335862e-02  7.84731870e-03\n",
            "   6.96977000e-03 -1.88079096e-37  1.99993688e-02  2.04418616e-01\n",
            "   6.10172435e-39  8.38799332e-03  2.98650691e-02  1.37966942e-40\n",
            "   4.29848304e-42  7.30251556e-03  2.52369919e-01  3.45433916e-03\n",
            "  -6.55107032e-44  6.22070537e-03  7.75491841e-03  7.19236345e-03\n",
            "   1.12754407e-02 -0.00000000e+00  5.05212641e-02  3.74396966e-03\n",
            "   1.27781949e-02 -0.00000000e+00  2.20387070e-02  7.10449142e-03\n",
            "   6.43251673e-02 -0.00000000e+00  1.49537647e-02  6.63289805e-03\n",
            "   7.61158355e-03 -0.00000000e+00  2.65019762e-02  4.20082035e-03\n",
            "  -8.72359116e-01]\n",
            " [ 3.87108042e-04  1.12005840e-01 -6.53667402e-02 -9.13091860e-02\n",
            "   9.61570849e-02  1.51998511e-01 -9.35881592e-02  8.66317707e-02\n",
            "   6.14793448e-01 -5.96653113e-01 -1.76479117e-01  1.58338782e-01\n",
            "  -1.55422449e-01  2.46161058e-01 -9.07386089e-02  1.86450144e-02\n",
            "   1.04421847e-02  3.31811935e-02 -3.10291203e-02  2.09639112e-04\n",
            "   1.00190759e-02 -4.69253611e-03  1.65436123e-24 -3.67754513e-02\n",
            "   6.00353309e-04 -9.42376899e-03 -3.24999238e-02  4.62771044e-03\n",
            "   2.35115388e-03  3.61111865e-35 -1.62696923e-02  2.01958553e-02\n",
            "  -1.18913192e-36  8.87140569e-04  8.87984690e-03 -2.68936304e-38\n",
            "  -8.40510029e-40 -1.79037025e-03 -1.80314665e-02 -4.69253611e-03\n",
            "   1.56048597e-41 -2.59793276e-04 -5.39886016e-04 -1.73081299e-03\n",
            "  -1.97586888e-02  0.00000000e+00 -2.71819976e-02 -3.29893584e-03\n",
            "   4.54766821e-03  0.00000000e+00 -3.01551562e-02 -1.75928962e-03\n",
            "  -2.99447694e-02  0.00000000e+00 -3.49507993e-03 -1.12883065e-02\n",
            "  -1.68354310e-03  0.00000000e+00 -5.75980172e-03 -5.85733034e-03\n",
            "   1.83331421e-01]\n",
            " [ 2.75206526e-03 -4.09009691e-01 -5.43616031e-02 -3.60375554e-01\n",
            "  -9.05494348e-02  8.06407462e-02 -8.90308783e-02  2.62791431e-02\n",
            "  -5.13383178e-02 -4.14556060e-01  5.96392039e-01 -1.30497661e-01\n",
            "   2.00707664e-01 -2.12607477e-01  1.18998136e-02  6.13075944e-02\n",
            "   4.09118577e-02 -1.10832296e-01  2.60879474e-02  4.97983054e-02\n",
            "   3.99696435e-02  7.55635735e-03 -0.00000000e+00 -1.14799410e-01\n",
            "  -5.11576312e-04  1.89929133e-02  1.35839550e-02 -4.19172148e-03\n",
            "  -3.83071523e-03 -1.54074396e-33 -1.28880257e-02  8.34648860e-03\n",
            "   1.88108483e-35  2.09498503e-02  2.46761774e-03  4.25778059e-37\n",
            "   1.34567700e-38 -1.37621958e-04 -2.58589711e-02  7.55635735e-03\n",
            "  -4.21869310e-40  3.80644686e-03  4.51557723e-03 -6.18474486e-04\n",
            "  -1.07879022e-02 -0.00000000e+00  3.04945294e-02  8.18648374e-03\n",
            "  -1.78368379e-02 -0.00000000e+00 -1.38372435e-02 -6.15546414e-04\n",
            "   2.66498602e-02 -0.00000000e+00 -6.29792174e-04 -4.40036886e-03\n",
            "  -1.81836754e-04 -0.00000000e+00  1.19733037e-02 -2.07661664e-03\n",
            "  -5.91201327e-02]\n",
            " [-6.54213744e-03 -5.27320850e-01  1.00903263e-01 -5.17887287e-01\n",
            "   5.93595971e-02  7.65142073e-03 -8.55421369e-02  1.08554683e-01\n",
            "   1.00410912e-01  2.82566817e-01 -5.07472428e-01  1.24494698e-01\n",
            "   1.67296003e-02 -1.15584446e-02 -5.17115568e-03  2.75571067e-02\n",
            "   3.43520927e-02 -2.55224172e-02  1.21057305e-01 -5.31806195e-03\n",
            "   3.06209326e-02 -3.94165667e-03 -2.64697796e-23 -1.78805301e-01\n",
            "   1.31607464e-03 -2.19775918e-02 -2.60161273e-02  2.43539386e-03\n",
            "  -9.92506210e-04 -0.00000000e+00 -3.64338132e-03  4.01381420e-02\n",
            "   4.68669598e-35  1.11398179e-02  1.18031258e-02  1.06005426e-36\n",
            "   3.31985319e-38 -6.97855121e-04  1.25401749e-02 -3.94165667e-03\n",
            "  -7.00245658e-40  5.24154731e-03  2.05862368e-03 -8.50076493e-04\n",
            "   5.23111874e-03 -0.00000000e+00  3.06415280e-02 -2.01370580e-03\n",
            "  -2.15876216e-02 -0.00000000e+00  1.32552040e-02 -4.97018021e-04\n",
            "  -2.36802274e-02 -0.00000000e+00 -2.62308487e-03  6.37566399e-03\n",
            "  -1.98128559e-03 -0.00000000e+00  2.00320955e-03  7.32388024e-03\n",
            "  -4.10013665e-02]\n",
            " [-5.23783592e-03 -7.34708058e-02  1.53778601e-02 -2.38378796e-01\n",
            "   6.20239938e-02 -1.28683649e-02  2.37449777e-01  2.50949514e-03\n",
            "  -1.92170283e-01  6.65000034e-02  2.36887038e-01 -1.11216758e-01\n",
            "  -4.41152767e-01  6.79162766e-01 -2.38009999e-01  9.34331741e-03\n",
            "   1.08491935e-02 -4.64947477e-02 -8.51081994e-03  2.99584173e-03\n",
            "  -3.34806607e-02  5.71496550e-03  0.00000000e+00  5.95829102e-02\n",
            "  -5.26807684e-03  1.33468495e-02 -1.02321119e-02  1.77363901e-02\n",
            "   2.09270134e-02 -3.15544362e-30 -9.66686246e-03  1.10747217e-01\n",
            "  -7.48705266e-33  1.46505111e-02 -1.87371715e-04 -1.69563958e-34\n",
            "  -5.29045926e-36 -9.76997356e-04 -1.52040247e-02  5.71496550e-03\n",
            "   8.88967603e-38  3.83352318e-03 -1.91929313e-03 -6.95869934e-04\n",
            "   9.70065765e-03  0.00000000e+00  1.53264424e-03  6.73156563e-03\n",
            "   3.82209377e-03  0.00000000e+00  1.24976201e-02 -4.20839560e-04\n",
            "  -1.14053344e-03  0.00000000e+00 -2.65940011e-03  4.45590941e-04\n",
            "  -1.94880278e-03  0.00000000e+00  6.50815637e-03  4.57910399e-03\n",
            "  -1.82453718e-01]\n",
            " [-2.53336565e-03 -9.12245714e-02  7.04224077e-03  2.69856150e-01\n",
            "   2.63088438e-01  8.23048439e-06  2.24071773e-01  7.05047125e-03\n",
            "  -2.65337500e-03 -3.60642541e-02  6.39718508e-02 -2.52542216e-02\n",
            "  -7.92969101e-02  9.63937171e-03  6.96575384e-02  4.25371914e-02\n",
            "   5.17300323e-02  3.86076942e-01  6.71069764e-02  4.97015728e-03\n",
            "   1.72456060e-01  2.98501528e-02 -2.71050543e-20 -7.54727512e-01\n",
            "   6.21615448e-03  2.08162280e-02  1.26852839e-02  5.22679804e-03\n",
            "   3.61522819e-03 -1.00974196e-28  4.32339030e-04 -4.43357272e-02\n",
            "   1.07081705e-31 -5.59977396e-03 -1.43474431e-02  2.41493559e-33\n",
            "   7.54784923e-35  5.29193762e-03  4.33955615e-02  2.98501528e-02\n",
            "  -1.36357345e-36 -2.95404242e-03 -8.03317134e-03  5.36462721e-03\n",
            "  -1.24155573e-02 -0.00000000e+00 -3.11516182e-02 -4.55543119e-03\n",
            "  -1.40877751e-02 -0.00000000e+00  1.10153734e-03  5.53634773e-03\n",
            "   5.56636185e-02 -0.00000000e+00  1.03930786e-02  5.39895358e-03\n",
            "   4.67797362e-03 -0.00000000e+00  2.84006835e-02  5.18868699e-03\n",
            "  -1.11774651e-01]]\n"
          ],
          "name": "stdout"
        },
        {
          "output_type": "execute_result",
          "data": {
            "text/plain": [
              "XGBClassifier(base_score=0.5, booster='gbtree', colsample_bylevel=1,\n",
              "              colsample_bynode=1, colsample_bytree=0.65, gamma=2,\n",
              "              learning_rate=0.3, max_delta_step=1, max_depth=4,\n",
              "              min_child_weight=2, missing=None, n_estimators=280, n_jobs=1,\n",
              "              nthread=None, objective='binary:logistic', random_state=0,\n",
              "              reg_alpha=0, reg_lambda=1, scale_pos_weight=1, seed=None,\n",
              "              silent=True, subsample=1, verbosity=1)"
            ]
          },
          "metadata": {
            "tags": []
          },
          "execution_count": 276
        }
      ]
    },
    {
      "cell_type": "markdown",
      "metadata": {
        "id": "XrVFWWUcHUR5",
        "colab_type": "text"
      },
      "source": [
        "PCA 분석을 통해 차원의 개수를 줄임"
      ]
    },
    {
      "cell_type": "code",
      "metadata": {
        "id": "6JuKO9tiMD9g",
        "colab_type": "code",
        "colab": {
          "base_uri": "https://localhost:8080/",
          "height": 87
        },
        "outputId": "cd5f8ff5-0268-4cbe-9741-1537005245bf"
      },
      "source": [
        "Y_pred = xg_boost.predict(fits_t)\n",
        "print(xg_boost.score(fits,train_y))\n",
        "\n",
        "scores = cross_val_score(xg_boost, fits,train_y, cv=kfold, scoring='accuracy')\n",
        "print(scores)\n",
        "print(\"Kfold on XGBClassifier: %0.4f (+/- %0.4f)\" % (scores.mean(), scores.std()))"
      ],
      "execution_count": 278,
      "outputs": [
        {
          "output_type": "stream",
          "text": [
            "0.9330306469920545\n",
            "[0.79775281 0.86363636 0.78409091 0.82954545 0.86363636 0.81818182\n",
            " 0.85227273 0.77272727 0.81818182 0.81818182]\n",
            "Kfold on XGBClassifier: 0.8218 (+/- 0.0299)\n"
          ],
          "name": "stdout"
        }
      ]
    },
    {
      "cell_type": "markdown",
      "metadata": {
        "id": "uvQg40nzMzNl",
        "colab_type": "text"
      },
      "source": [
        "#차원을 개수를 줄인것 만으로도 놀라운 성능의 향상"
      ]
    },
    {
      "cell_type": "code",
      "metadata": {
        "id": "FYxVlgckM4tY",
        "colab_type": "code",
        "colab": {}
      },
      "source": [
        "test_Survived = pd.Series(Y_pred, name=\"Survived\")\n",
        "\n",
        "results = pd.concat([IDtest,test_Survived],axis=1)\n",
        "\n",
        "results.to_csv(\"xgboost_pca.csv\",index=False)"
      ],
      "execution_count": 0,
      "outputs": []
    },
    {
      "cell_type": "code",
      "metadata": {
        "id": "TBwc9OCpM_ut",
        "colab_type": "code",
        "colab": {
          "base_uri": "https://localhost:8080/",
          "height": 52
        },
        "outputId": "bdf101f0-2a8d-44af-97cc-2015efae23d3"
      },
      "source": [
        "!ls"
      ],
      "execution_count": 280,
      "outputs": [
        {
          "output_type": "stream",
          "text": [
            "bagging.csv\t       kaggle.json  Stacking.csv  train.csv   xgboost.csv\n",
            "gender_submission.csv  sample_data  test.csv\t  voting.csv  xgboost_pca.csv\n"
          ],
          "name": "stdout"
        }
      ]
    },
    {
      "cell_type": "code",
      "metadata": {
        "id": "OO6QoUg_NHL-",
        "colab_type": "code",
        "colab": {}
      },
      "source": [
        "files.download('xgboost_pca.csv')"
      ],
      "execution_count": 0,
      "outputs": []
    },
    {
      "cell_type": "code",
      "metadata": {
        "id": "8fR96PVy1uV7",
        "colab_type": "code",
        "colab": {
          "base_uri": "https://localhost:8080/",
          "height": 374
        },
        "outputId": "ebdf4054-f361-445b-c231-30b356b01a51"
      },
      "source": [
        "!pip install catboost"
      ],
      "execution_count": 174,
      "outputs": [
        {
          "output_type": "stream",
          "text": [
            "Collecting catboost\n",
            "\u001b[?25l  Downloading https://files.pythonhosted.org/packages/ca/ae/aaff63662f7f5d2af7ec8d61a6f39e78ada9348e5df4f43e665ecc4bea10/catboost-0.21-cp36-none-manylinux1_x86_64.whl (64.0MB)\n",
            "\u001b[K     |████████████████████████████████| 64.0MB 62kB/s \n",
            "\u001b[?25hRequirement already satisfied: plotly in /usr/local/lib/python3.6/dist-packages (from catboost) (4.4.1)\n",
            "Requirement already satisfied: six in /usr/local/lib/python3.6/dist-packages (from catboost) (1.12.0)\n",
            "Requirement already satisfied: graphviz in /usr/local/lib/python3.6/dist-packages (from catboost) (0.10.1)\n",
            "Requirement already satisfied: pandas>=0.24.0 in /usr/local/lib/python3.6/dist-packages (from catboost) (0.25.3)\n",
            "Requirement already satisfied: scipy in /usr/local/lib/python3.6/dist-packages (from catboost) (1.4.1)\n",
            "Requirement already satisfied: matplotlib in /usr/local/lib/python3.6/dist-packages (from catboost) (3.1.3)\n",
            "Requirement already satisfied: numpy>=1.16.0 in /usr/local/lib/python3.6/dist-packages (from catboost) (1.17.5)\n",
            "Requirement already satisfied: retrying>=1.3.3 in /usr/local/lib/python3.6/dist-packages (from plotly->catboost) (1.3.3)\n",
            "Requirement already satisfied: python-dateutil>=2.6.1 in /usr/local/lib/python3.6/dist-packages (from pandas>=0.24.0->catboost) (2.6.1)\n",
            "Requirement already satisfied: pytz>=2017.2 in /usr/local/lib/python3.6/dist-packages (from pandas>=0.24.0->catboost) (2018.9)\n",
            "Requirement already satisfied: kiwisolver>=1.0.1 in /usr/local/lib/python3.6/dist-packages (from matplotlib->catboost) (1.1.0)\n",
            "Requirement already satisfied: pyparsing!=2.0.4,!=2.1.2,!=2.1.6,>=2.0.1 in /usr/local/lib/python3.6/dist-packages (from matplotlib->catboost) (2.4.6)\n",
            "Requirement already satisfied: cycler>=0.10 in /usr/local/lib/python3.6/dist-packages (from matplotlib->catboost) (0.10.0)\n",
            "Requirement already satisfied: setuptools in /usr/local/lib/python3.6/dist-packages (from kiwisolver>=1.0.1->matplotlib->catboost) (45.1.0)\n",
            "Installing collected packages: catboost\n",
            "Successfully installed catboost-0.21\n"
          ],
          "name": "stdout"
        }
      ]
    },
    {
      "cell_type": "code",
      "metadata": {
        "id": "lejv4_m71K-d",
        "colab_type": "code",
        "colab": {
          "base_uri": "https://localhost:8080/",
          "height": 445
        },
        "outputId": "735feb29-5e7f-4383-dac3-5b6892c31fec"
      },
      "source": [
        "from sklearn.linear_model import LogisticRegression\n",
        "from sklearn.naive_bayes import GaussianNB\n",
        "from sklearn.svm import SVC, LinearSVC\n",
        "from sklearn.ensemble import RandomForestClassifier, AdaBoostClassifier, BaggingClassifier, GradientBoostingClassifier\n",
        "from sklearn.tree import DecisionTreeClassifier\n",
        "from sklearn.neighbors import KNeighborsClassifier\n",
        "from sklearn.naive_bayes import GaussianNB\n",
        "from sklearn.linear_model import Perceptron, SGDClassifier\n",
        "from sklearn.model_selection import StratifiedKFold\n",
        "from sklearn.neural_network import MLPClassifier\n",
        "from sklearn import feature_selection\n",
        "import xgboost as xgb # XGBOOST\n",
        "from xgboost.sklearn import XGBClassifier # XGBOOST\n",
        "import hyperopt #CatBoost\n",
        "from catboost import Pool, CatBoostClassifier #CatBoost\n",
        "import lightgbm as lgb # Light GBM\n",
        "import statsmodels.api as sm \n",
        "from sklearn.model_selection import StratifiedShuffleSplit\n",
        "\n",
        "import scipy.stats as st\n",
        "from sklearn.model_selection import RandomizedSearchCV\n",
        "\n",
        "\n",
        "n_splits = 2 \n",
        "n_iter = 70 \n",
        "scoring = 'accuracy' \n",
        "rstate = 27 \n",
        "testset_size = 0.35\n",
        "\n",
        "n_tree_range = st.randint(100, 800)\n",
        "param_grid ={'n_estimators': n_tree_range}\n",
        "\n",
        "cv = StratifiedShuffleSplit(n_splits=n_splits, test_size=0.2, random_state=rstate)\n",
        "\n",
        "tree = DecisionTreeClassifier()\n",
        "grid = RandomizedSearchCV(BaggingClassifier(tree),\n",
        "                    param_grid, cv=cv, scoring=scoring,\n",
        "                    verbose=1,n_iter=n_iter, random_state=rstate)\n",
        "\n",
        "grid.fit(train_x, train_y)"
      ],
      "execution_count": 178,
      "outputs": [
        {
          "output_type": "stream",
          "text": [
            "Fitting 2 folds for each of 70 candidates, totalling 140 fits\n"
          ],
          "name": "stdout"
        },
        {
          "output_type": "stream",
          "text": [
            "[Parallel(n_jobs=1)]: Using backend SequentialBackend with 1 concurrent workers.\n",
            "[Parallel(n_jobs=1)]: Done 140 out of 140 | elapsed:  3.6min finished\n"
          ],
          "name": "stderr"
        },
        {
          "output_type": "execute_result",
          "data": {
            "text/plain": [
              "RandomizedSearchCV(cv=StratifiedShuffleSplit(n_splits=2, random_state=27, test_size=0.2,\n",
              "            train_size=None),\n",
              "                   error_score=nan,\n",
              "                   estimator=BaggingClassifier(base_estimator=DecisionTreeClassifier(ccp_alpha=0.0,\n",
              "                                                                                     class_weight=None,\n",
              "                                                                                     criterion='gini',\n",
              "                                                                                     max_depth=None,\n",
              "                                                                                     max_features=None,\n",
              "                                                                                     max_leaf_nodes=None,\n",
              "                                                                                     min_impurity_decrease=0.0,\n",
              "                                                                                     min_impurity_split=None,\n",
              "                                                                                     min_samples_l...\n",
              "                                               max_samples=1.0, n_estimators=10,\n",
              "                                               n_jobs=None, oob_score=False,\n",
              "                                               random_state=None, verbose=0,\n",
              "                                               warm_start=False),\n",
              "                   iid='deprecated', n_iter=70, n_jobs=None,\n",
              "                   param_distributions={'n_estimators': <scipy.stats._distn_infrastructure.rv_frozen object at 0x7fd5bbdabf28>},\n",
              "                   pre_dispatch='2*n_jobs', random_state=27, refit=True,\n",
              "                   return_train_score=False, scoring='accuracy', verbose=1)"
            ]
          },
          "metadata": {
            "tags": []
          },
          "execution_count": 178
        }
      ]
    },
    {
      "cell_type": "markdown",
      "metadata": {
        "id": "I75YxdPBHbax",
        "colab_type": "text"
      },
      "source": [
        "줄인걸 기반으로 결정트리 기반 배깅 앙상블 "
      ]
    },
    {
      "cell_type": "code",
      "metadata": {
        "id": "XTDn-yJC2Td0",
        "colab_type": "code",
        "colab": {
          "base_uri": "https://localhost:8080/",
          "height": 34
        },
        "outputId": "24edd4f0-ac41-4276-85b2-c9b4e99a7ff4"
      },
      "source": [
        "grid.score(test,test_y)"
      ],
      "execution_count": 180,
      "outputs": [
        {
          "output_type": "execute_result",
          "data": {
            "text/plain": [
              "0.8205741626794258"
            ]
          },
          "metadata": {
            "tags": []
          },
          "execution_count": 180
        }
      ]
    },
    {
      "cell_type": "code",
      "metadata": {
        "id": "Dre4oDyr35tx",
        "colab_type": "code",
        "colab": {}
      },
      "source": [
        "Y_pred = grid.predict(test)"
      ],
      "execution_count": 0,
      "outputs": []
    },
    {
      "cell_type": "code",
      "metadata": {
        "id": "Cmza9_ff4EaM",
        "colab_type": "code",
        "colab": {}
      },
      "source": [
        "test_Survived = pd.Series(Y_pred, name=\"Survived\")\n",
        "\n",
        "results = pd.concat([IDtest,test_Survived],axis=1)\n",
        "\n",
        "results.to_csv(\"bagging.csv\",index=False)"
      ],
      "execution_count": 0,
      "outputs": []
    },
    {
      "cell_type": "code",
      "metadata": {
        "id": "v_wRTJEP4WyR",
        "colab_type": "code",
        "colab": {}
      },
      "source": [
        "files.download('bagging.csv')"
      ],
      "execution_count": 0,
      "outputs": []
    },
    {
      "cell_type": "code",
      "metadata": {
        "id": "d22rv2OJGiBv",
        "colab_type": "code",
        "colab": {
          "base_uri": "https://localhost:8080/",
          "height": 52
        },
        "outputId": "115ffa9c-daa9-48f2-d4a7-3618630a89ec"
      },
      "source": [
        "!ls"
      ],
      "execution_count": 235,
      "outputs": [
        {
          "output_type": "stream",
          "text": [
            "bagging.csv\t       kaggle.json  test.csv   voting.csv\n",
            "gender_submission.csv  sample_data  train.csv  xgboost.csv\n"
          ],
          "name": "stdout"
        }
      ]
    },
    {
      "cell_type": "code",
      "metadata": {
        "id": "-91EsUiCL9jr",
        "colab_type": "code",
        "colab": {
          "base_uri": "https://localhost:8080/",
          "height": 52
        },
        "outputId": "51e4901a-3c3e-4cfc-86e6-4a25a1d988e8"
      },
      "source": [
        "print(fit)"
      ],
      "execution_count": 236,
      "outputs": [
        {
          "output_type": "stream",
          "text": [
            "PCA(copy=True, iterated_power='auto', n_components=12, random_state=None,\n",
            "    svd_solver='auto', tol=0.0, whiten=False)\n"
          ],
          "name": "stdout"
        }
      ]
    },
    {
      "cell_type": "markdown",
      "metadata": {
        "id": "ekib20t1Hmhj",
        "colab_type": "text"
      },
      "source": [
        "줄어든걸 기반으로 아까 만들었던 몇가지 분류기를 섞어서 stacking  하는 형태로 분류기를 만들자"
      ]
    },
    {
      "cell_type": "code",
      "metadata": {
        "id": "hOSD2Di6MBrK",
        "colab_type": "code",
        "colab": {}
      },
      "source": [
        "estimators = [\n",
        "...     ('Svmc', gsSVMC),\n",
        "...     ('xgb', xg_boost),('rfc',gsRFC),('bagging',grid),('extra',gsExtC),('ada',gsadaDTC)]"
      ],
      "execution_count": 0,
      "outputs": []
    },
    {
      "cell_type": "code",
      "metadata": {
        "id": "M0fXEEijO8OS",
        "colab_type": "code",
        "colab": {}
      },
      "source": [
        "from sklearn.ensemble import StackingClassifier"
      ],
      "execution_count": 0,
      "outputs": []
    },
    {
      "cell_type": "code",
      "metadata": {
        "id": "JvZLwg1aPh0S",
        "colab_type": "code",
        "colab": {}
      },
      "source": [
        "clf = StackingClassifier(\n",
        "...     estimators=estimators, final_estimator=LogisticRegression()\n",
        "... )"
      ],
      "execution_count": 0,
      "outputs": []
    },
    {
      "cell_type": "code",
      "metadata": {
        "id": "7cpVxTsmP3YE",
        "colab_type": "code",
        "colab": {
          "base_uri": "https://localhost:8080/",
          "height": 1000
        },
        "outputId": "f1a22df2-6747-4ebc-a17d-88065b84bcfc"
      },
      "source": [
        "clf.fit(train_x,train_y).score(test, test_y)"
      ],
      "execution_count": 260,
      "outputs": [
        {
          "output_type": "stream",
          "text": [
            "Fitting 10 folds for each of 28 candidates, totalling 280 fits\n"
          ],
          "name": "stdout"
        },
        {
          "output_type": "stream",
          "text": [
            "[Parallel(n_jobs=4)]: Using backend LokyBackend with 4 concurrent workers.\n",
            "[Parallel(n_jobs=4)]: Done  42 tasks      | elapsed:   12.2s\n",
            "[Parallel(n_jobs=4)]: Done 192 tasks      | elapsed:   47.7s\n",
            "[Parallel(n_jobs=4)]: Done 280 out of 280 | elapsed:  1.3min finished\n"
          ],
          "name": "stderr"
        },
        {
          "output_type": "stream",
          "text": [
            "Fitting 10 folds for each of 54 candidates, totalling 540 fits\n"
          ],
          "name": "stdout"
        },
        {
          "output_type": "stream",
          "text": [
            "[Parallel(n_jobs=4)]: Using backend LokyBackend with 4 concurrent workers.\n",
            "[Parallel(n_jobs=4)]: Done  42 tasks      | elapsed:   13.6s\n",
            "[Parallel(n_jobs=4)]: Done 192 tasks      | elapsed:   47.1s\n",
            "[Parallel(n_jobs=4)]: Done 442 tasks      | elapsed:  2.0min\n",
            "[Parallel(n_jobs=4)]: Done 540 out of 540 | elapsed:  2.4min finished\n",
            "[Parallel(n_jobs=1)]: Using backend SequentialBackend with 1 concurrent workers.\n"
          ],
          "name": "stderr"
        },
        {
          "output_type": "stream",
          "text": [
            "Fitting 2 folds for each of 70 candidates, totalling 140 fits\n"
          ],
          "name": "stdout"
        },
        {
          "output_type": "stream",
          "text": [
            "[Parallel(n_jobs=1)]: Done 140 out of 140 | elapsed:  3.6min finished\n"
          ],
          "name": "stderr"
        },
        {
          "output_type": "stream",
          "text": [
            "Fitting 10 folds for each of 54 candidates, totalling 540 fits\n"
          ],
          "name": "stdout"
        },
        {
          "output_type": "stream",
          "text": [
            "[Parallel(n_jobs=4)]: Using backend LokyBackend with 4 concurrent workers.\n",
            "[Parallel(n_jobs=4)]: Done  42 tasks      | elapsed:   12.1s\n",
            "[Parallel(n_jobs=4)]: Done 192 tasks      | elapsed:   44.2s\n",
            "[Parallel(n_jobs=4)]: Done 442 tasks      | elapsed:  1.8min\n",
            "[Parallel(n_jobs=4)]: Done 540 out of 540 | elapsed:  2.2min finished\n",
            "[Parallel(n_jobs=4)]: Using backend LokyBackend with 4 concurrent workers.\n"
          ],
          "name": "stderr"
        },
        {
          "output_type": "stream",
          "text": [
            "Fitting 10 folds for each of 112 candidates, totalling 1120 fits\n"
          ],
          "name": "stdout"
        },
        {
          "output_type": "stream",
          "text": [
            "[Parallel(n_jobs=4)]: Done 128 tasks      | elapsed:    1.5s\n",
            "[Parallel(n_jobs=4)]: Done 728 tasks      | elapsed:    8.0s\n",
            "[Parallel(n_jobs=4)]: Done 1120 out of 1120 | elapsed:   12.3s finished\n",
            "[Parallel(n_jobs=4)]: Using backend LokyBackend with 4 concurrent workers.\n"
          ],
          "name": "stderr"
        },
        {
          "output_type": "stream",
          "text": [
            "Fitting 10 folds for each of 28 candidates, totalling 280 fits\n"
          ],
          "name": "stdout"
        },
        {
          "output_type": "stream",
          "text": [
            "[Parallel(n_jobs=4)]: Done  42 tasks      | elapsed:    6.0s\n",
            "[Parallel(n_jobs=4)]: Done 192 tasks      | elapsed:   28.8s\n",
            "[Parallel(n_jobs=4)]: Done 280 out of 280 | elapsed:   48.0s finished\n"
          ],
          "name": "stderr"
        },
        {
          "output_type": "stream",
          "text": [
            "Fitting 10 folds for each of 28 candidates, totalling 280 fits\n"
          ],
          "name": "stdout"
        },
        {
          "output_type": "stream",
          "text": [
            "[Parallel(n_jobs=4)]: Using backend LokyBackend with 4 concurrent workers.\n",
            "[Parallel(n_jobs=4)]: Done  42 tasks      | elapsed:    6.1s\n",
            "[Parallel(n_jobs=4)]: Done 192 tasks      | elapsed:   29.0s\n",
            "[Parallel(n_jobs=4)]: Done 280 out of 280 | elapsed:   47.7s finished\n"
          ],
          "name": "stderr"
        },
        {
          "output_type": "stream",
          "text": [
            "Fitting 10 folds for each of 28 candidates, totalling 280 fits\n"
          ],
          "name": "stdout"
        },
        {
          "output_type": "stream",
          "text": [
            "[Parallel(n_jobs=4)]: Using backend LokyBackend with 4 concurrent workers.\n",
            "[Parallel(n_jobs=4)]: Done  42 tasks      | elapsed:    6.1s\n",
            "[Parallel(n_jobs=4)]: Done 192 tasks      | elapsed:   29.9s\n",
            "[Parallel(n_jobs=4)]: Done 280 out of 280 | elapsed:   50.8s finished\n"
          ],
          "name": "stderr"
        },
        {
          "output_type": "stream",
          "text": [
            "Fitting 10 folds for each of 28 candidates, totalling 280 fits\n"
          ],
          "name": "stdout"
        },
        {
          "output_type": "stream",
          "text": [
            "[Parallel(n_jobs=4)]: Using backend LokyBackend with 4 concurrent workers.\n",
            "[Parallel(n_jobs=4)]: Done  42 tasks      | elapsed:    6.1s\n",
            "[Parallel(n_jobs=4)]: Done 192 tasks      | elapsed:   30.5s\n",
            "[Parallel(n_jobs=4)]: Done 280 out of 280 | elapsed:   51.3s finished\n"
          ],
          "name": "stderr"
        },
        {
          "output_type": "stream",
          "text": [
            "Fitting 10 folds for each of 28 candidates, totalling 280 fits\n"
          ],
          "name": "stdout"
        },
        {
          "output_type": "stream",
          "text": [
            "[Parallel(n_jobs=4)]: Using backend LokyBackend with 4 concurrent workers.\n",
            "[Parallel(n_jobs=4)]: Done  42 tasks      | elapsed:    6.3s\n",
            "[Parallel(n_jobs=4)]: Done 192 tasks      | elapsed:   31.0s\n",
            "[Parallel(n_jobs=4)]: Done 280 out of 280 | elapsed:   52.6s finished\n"
          ],
          "name": "stderr"
        },
        {
          "output_type": "stream",
          "text": [
            "Fitting 10 folds for each of 54 candidates, totalling 540 fits\n"
          ],
          "name": "stdout"
        },
        {
          "output_type": "stream",
          "text": [
            "[Parallel(n_jobs=4)]: Using backend LokyBackend with 4 concurrent workers.\n",
            "[Parallel(n_jobs=4)]: Done  42 tasks      | elapsed:   12.8s\n",
            "[Parallel(n_jobs=4)]: Done 192 tasks      | elapsed:   45.2s\n",
            "[Parallel(n_jobs=4)]: Done 442 tasks      | elapsed:  1.8min\n",
            "[Parallel(n_jobs=4)]: Done 540 out of 540 | elapsed:  2.2min finished\n",
            "[Parallel(n_jobs=4)]: Using backend LokyBackend with 4 concurrent workers.\n"
          ],
          "name": "stderr"
        },
        {
          "output_type": "stream",
          "text": [
            "Fitting 10 folds for each of 54 candidates, totalling 540 fits\n"
          ],
          "name": "stdout"
        },
        {
          "output_type": "stream",
          "text": [
            "[Parallel(n_jobs=4)]: Done  42 tasks      | elapsed:   12.0s\n",
            "[Parallel(n_jobs=4)]: Done 192 tasks      | elapsed:   43.8s\n",
            "[Parallel(n_jobs=4)]: Done 442 tasks      | elapsed:  1.8min\n",
            "[Parallel(n_jobs=4)]: Done 540 out of 540 | elapsed:  2.2min finished\n"
          ],
          "name": "stderr"
        },
        {
          "output_type": "stream",
          "text": [
            "Fitting 10 folds for each of 54 candidates, totalling 540 fits\n"
          ],
          "name": "stdout"
        },
        {
          "output_type": "stream",
          "text": [
            "[Parallel(n_jobs=4)]: Using backend LokyBackend with 4 concurrent workers.\n",
            "[Parallel(n_jobs=4)]: Done  42 tasks      | elapsed:   12.2s\n",
            "[Parallel(n_jobs=4)]: Done 192 tasks      | elapsed:   44.5s\n",
            "[Parallel(n_jobs=4)]: Done 442 tasks      | elapsed:  1.8min\n",
            "[Parallel(n_jobs=4)]: Done 540 out of 540 | elapsed:  2.2min finished\n"
          ],
          "name": "stderr"
        },
        {
          "output_type": "stream",
          "text": [
            "Fitting 10 folds for each of 54 candidates, totalling 540 fits\n"
          ],
          "name": "stdout"
        },
        {
          "output_type": "stream",
          "text": [
            "[Parallel(n_jobs=4)]: Using backend LokyBackend with 4 concurrent workers.\n",
            "[Parallel(n_jobs=4)]: Done  42 tasks      | elapsed:   12.4s\n",
            "[Parallel(n_jobs=4)]: Done 192 tasks      | elapsed:   44.4s\n",
            "[Parallel(n_jobs=4)]: Done 442 tasks      | elapsed:  1.8min\n",
            "[Parallel(n_jobs=4)]: Done 540 out of 540 | elapsed:  2.2min finished\n"
          ],
          "name": "stderr"
        },
        {
          "output_type": "stream",
          "text": [
            "Fitting 10 folds for each of 54 candidates, totalling 540 fits\n"
          ],
          "name": "stdout"
        },
        {
          "output_type": "stream",
          "text": [
            "[Parallel(n_jobs=4)]: Using backend LokyBackend with 4 concurrent workers.\n",
            "[Parallel(n_jobs=4)]: Done  42 tasks      | elapsed:   12.5s\n",
            "[Parallel(n_jobs=4)]: Done 192 tasks      | elapsed:   45.4s\n",
            "[Parallel(n_jobs=4)]: Done 442 tasks      | elapsed:  1.9min\n",
            "[Parallel(n_jobs=4)]: Done 540 out of 540 | elapsed:  2.3min finished\n"
          ],
          "name": "stderr"
        },
        {
          "output_type": "stream",
          "text": [
            "Fitting 2 folds for each of 70 candidates, totalling 140 fits\n"
          ],
          "name": "stdout"
        },
        {
          "output_type": "stream",
          "text": [
            "[Parallel(n_jobs=1)]: Using backend SequentialBackend with 1 concurrent workers.\n",
            "[Parallel(n_jobs=1)]: Done 140 out of 140 | elapsed:  3.2min finished\n"
          ],
          "name": "stderr"
        },
        {
          "output_type": "stream",
          "text": [
            "Fitting 2 folds for each of 70 candidates, totalling 140 fits\n"
          ],
          "name": "stdout"
        },
        {
          "output_type": "stream",
          "text": [
            "[Parallel(n_jobs=1)]: Using backend SequentialBackend with 1 concurrent workers.\n",
            "[Parallel(n_jobs=1)]: Done 140 out of 140 | elapsed:  3.1min finished\n"
          ],
          "name": "stderr"
        },
        {
          "output_type": "stream",
          "text": [
            "Fitting 2 folds for each of 70 candidates, totalling 140 fits\n"
          ],
          "name": "stdout"
        },
        {
          "output_type": "stream",
          "text": [
            "[Parallel(n_jobs=1)]: Using backend SequentialBackend with 1 concurrent workers.\n",
            "[Parallel(n_jobs=1)]: Done 140 out of 140 | elapsed:  3.2min finished\n"
          ],
          "name": "stderr"
        },
        {
          "output_type": "stream",
          "text": [
            "Fitting 2 folds for each of 70 candidates, totalling 140 fits\n"
          ],
          "name": "stdout"
        },
        {
          "output_type": "stream",
          "text": [
            "[Parallel(n_jobs=1)]: Using backend SequentialBackend with 1 concurrent workers.\n",
            "[Parallel(n_jobs=1)]: Done 140 out of 140 | elapsed:  3.1min finished\n"
          ],
          "name": "stderr"
        },
        {
          "output_type": "stream",
          "text": [
            "Fitting 2 folds for each of 70 candidates, totalling 140 fits\n"
          ],
          "name": "stdout"
        },
        {
          "output_type": "stream",
          "text": [
            "[Parallel(n_jobs=1)]: Using backend SequentialBackend with 1 concurrent workers.\n",
            "[Parallel(n_jobs=1)]: Done 140 out of 140 | elapsed:  3.2min finished\n"
          ],
          "name": "stderr"
        },
        {
          "output_type": "stream",
          "text": [
            "Fitting 10 folds for each of 54 candidates, totalling 540 fits\n"
          ],
          "name": "stdout"
        },
        {
          "output_type": "stream",
          "text": [
            "[Parallel(n_jobs=4)]: Using backend LokyBackend with 4 concurrent workers.\n",
            "[Parallel(n_jobs=4)]: Done  42 tasks      | elapsed:   14.3s\n",
            "[Parallel(n_jobs=4)]: Done 192 tasks      | elapsed:   45.4s\n",
            "[Parallel(n_jobs=4)]: Done 442 tasks      | elapsed:  1.8min\n",
            "[Parallel(n_jobs=4)]: Done 540 out of 540 | elapsed:  2.1min finished\n"
          ],
          "name": "stderr"
        },
        {
          "output_type": "stream",
          "text": [
            "Fitting 10 folds for each of 54 candidates, totalling 540 fits\n"
          ],
          "name": "stdout"
        },
        {
          "output_type": "stream",
          "text": [
            "[Parallel(n_jobs=4)]: Using backend LokyBackend with 4 concurrent workers.\n",
            "[Parallel(n_jobs=4)]: Done  42 tasks      | elapsed:   11.1s\n",
            "[Parallel(n_jobs=4)]: Done 192 tasks      | elapsed:   42.7s\n",
            "[Parallel(n_jobs=4)]: Done 442 tasks      | elapsed:  1.7min\n",
            "[Parallel(n_jobs=4)]: Done 540 out of 540 | elapsed:  2.1min finished\n",
            "[Parallel(n_jobs=4)]: Using backend LokyBackend with 4 concurrent workers.\n"
          ],
          "name": "stderr"
        },
        {
          "output_type": "stream",
          "text": [
            "Fitting 10 folds for each of 54 candidates, totalling 540 fits\n"
          ],
          "name": "stdout"
        },
        {
          "output_type": "stream",
          "text": [
            "[Parallel(n_jobs=4)]: Done  42 tasks      | elapsed:   11.4s\n",
            "[Parallel(n_jobs=4)]: Done 192 tasks      | elapsed:   42.6s\n",
            "[Parallel(n_jobs=4)]: Done 442 tasks      | elapsed:  1.7min\n",
            "[Parallel(n_jobs=4)]: Done 540 out of 540 | elapsed:  2.1min finished\n",
            "[Parallel(n_jobs=4)]: Using backend LokyBackend with 4 concurrent workers.\n"
          ],
          "name": "stderr"
        },
        {
          "output_type": "stream",
          "text": [
            "Fitting 10 folds for each of 54 candidates, totalling 540 fits\n"
          ],
          "name": "stdout"
        },
        {
          "output_type": "stream",
          "text": [
            "[Parallel(n_jobs=4)]: Done  42 tasks      | elapsed:   11.5s\n",
            "[Parallel(n_jobs=4)]: Done 192 tasks      | elapsed:   42.8s\n",
            "[Parallel(n_jobs=4)]: Done 442 tasks      | elapsed:  1.7min\n",
            "[Parallel(n_jobs=4)]: Done 540 out of 540 | elapsed:  2.1min finished\n",
            "[Parallel(n_jobs=4)]: Using backend LokyBackend with 4 concurrent workers.\n"
          ],
          "name": "stderr"
        },
        {
          "output_type": "stream",
          "text": [
            "Fitting 10 folds for each of 54 candidates, totalling 540 fits\n"
          ],
          "name": "stdout"
        },
        {
          "output_type": "stream",
          "text": [
            "[Parallel(n_jobs=4)]: Done  42 tasks      | elapsed:   11.4s\n",
            "[Parallel(n_jobs=4)]: Done 192 tasks      | elapsed:   42.6s\n",
            "[Parallel(n_jobs=4)]: Done 442 tasks      | elapsed:  1.7min\n",
            "[Parallel(n_jobs=4)]: Done 540 out of 540 | elapsed:  2.1min finished\n"
          ],
          "name": "stderr"
        },
        {
          "output_type": "stream",
          "text": [
            "Fitting 10 folds for each of 112 candidates, totalling 1120 fits\n"
          ],
          "name": "stdout"
        },
        {
          "output_type": "stream",
          "text": [
            "[Parallel(n_jobs=4)]: Using backend LokyBackend with 4 concurrent workers.\n",
            "[Parallel(n_jobs=4)]: Done 200 tasks      | elapsed:    2.1s\n",
            "[Parallel(n_jobs=4)]: Done 1120 out of 1120 | elapsed:   11.0s finished\n",
            "[Parallel(n_jobs=4)]: Using backend LokyBackend with 4 concurrent workers.\n"
          ],
          "name": "stderr"
        },
        {
          "output_type": "stream",
          "text": [
            "Fitting 10 folds for each of 112 candidates, totalling 1120 fits\n"
          ],
          "name": "stdout"
        },
        {
          "output_type": "stream",
          "text": [
            "[Parallel(n_jobs=4)]: Done 208 tasks      | elapsed:    2.1s\n",
            "[Parallel(n_jobs=4)]: Done 1120 out of 1120 | elapsed:   10.7s finished\n",
            "[Parallel(n_jobs=4)]: Using backend LokyBackend with 4 concurrent workers.\n"
          ],
          "name": "stderr"
        },
        {
          "output_type": "stream",
          "text": [
            "Fitting 10 folds for each of 112 candidates, totalling 1120 fits\n"
          ],
          "name": "stdout"
        },
        {
          "output_type": "stream",
          "text": [
            "[Parallel(n_jobs=4)]: Done 128 tasks      | elapsed:    1.4s\n",
            "[Parallel(n_jobs=4)]: Done 728 tasks      | elapsed:    7.4s\n",
            "[Parallel(n_jobs=4)]: Done 1120 out of 1120 | elapsed:   11.4s finished\n",
            "[Parallel(n_jobs=4)]: Using backend LokyBackend with 4 concurrent workers.\n"
          ],
          "name": "stderr"
        },
        {
          "output_type": "stream",
          "text": [
            "Fitting 10 folds for each of 112 candidates, totalling 1120 fits\n"
          ],
          "name": "stdout"
        },
        {
          "output_type": "stream",
          "text": [
            "[Parallel(n_jobs=4)]: Done 128 tasks      | elapsed:    1.4s\n",
            "[Parallel(n_jobs=4)]: Done 728 tasks      | elapsed:    7.3s\n",
            "[Parallel(n_jobs=4)]: Done 1120 out of 1120 | elapsed:   11.2s finished\n",
            "[Parallel(n_jobs=4)]: Using backend LokyBackend with 4 concurrent workers.\n"
          ],
          "name": "stderr"
        },
        {
          "output_type": "stream",
          "text": [
            "Fitting 10 folds for each of 112 candidates, totalling 1120 fits\n"
          ],
          "name": "stdout"
        },
        {
          "output_type": "stream",
          "text": [
            "[Parallel(n_jobs=4)]: Done 128 tasks      | elapsed:    1.4s\n",
            "[Parallel(n_jobs=4)]: Done 728 tasks      | elapsed:    7.4s\n",
            "[Parallel(n_jobs=4)]: Done 1120 out of 1120 | elapsed:   11.4s finished\n"
          ],
          "name": "stderr"
        },
        {
          "output_type": "execute_result",
          "data": {
            "text/plain": [
              "0.8875598086124402"
            ]
          },
          "metadata": {
            "tags": []
          },
          "execution_count": 260
        }
      ]
    },
    {
      "cell_type": "code",
      "metadata": {
        "id": "l4YOYDfjUlxP",
        "colab_type": "code",
        "colab": {}
      },
      "source": [
        "test_Survived = pd.Series(clf.predict(test), name=\"Survived\")\n",
        "\n",
        "results = pd.concat([IDtest,test_Survived],axis=1)\n",
        "\n",
        "results.to_csv(\"Stacking.csv\",index=False)"
      ],
      "execution_count": 0,
      "outputs": []
    },
    {
      "cell_type": "markdown",
      "metadata": {
        "id": "D96ejrWQHxkp",
        "colab_type": "text"
      },
      "source": [
        "결과가 상당히 괜찮음"
      ]
    },
    {
      "cell_type": "code",
      "metadata": {
        "id": "KndF-E9ZVAu2",
        "colab_type": "code",
        "colab": {
          "base_uri": "https://localhost:8080/",
          "height": 52
        },
        "outputId": "79d381a2-1931-4e75-957a-0889d5a23558"
      },
      "source": [
        "!ls"
      ],
      "execution_count": 262,
      "outputs": [
        {
          "output_type": "stream",
          "text": [
            "bagging.csv\t       kaggle.json  Stacking.csv  train.csv   xgboost.csv\n",
            "gender_submission.csv  sample_data  test.csv\t  voting.csv\n"
          ],
          "name": "stdout"
        }
      ]
    },
    {
      "cell_type": "code",
      "metadata": {
        "id": "TUl-3cH09TMC",
        "colab_type": "code",
        "colab": {}
      },
      "source": [
        "files.download('Stacking.csv')"
      ],
      "execution_count": 0,
      "outputs": []
    },
    {
      "cell_type": "code",
      "metadata": {
        "id": "hBB18kBV9b2Y",
        "colab_type": "code",
        "colab": {
          "base_uri": "https://localhost:8080/",
          "height": 1000
        },
        "outputId": "176105f5-a97a-464c-910f-e25d851bee9b"
      },
      "source": [
        "clf.fit(fits,train_y).score(fits_t, test_y)"
      ],
      "execution_count": 0,
      "outputs": [
        {
          "output_type": "stream",
          "text": [
            "Fitting 10 folds for each of 28 candidates, totalling 280 fits\n"
          ],
          "name": "stdout"
        },
        {
          "output_type": "stream",
          "text": [
            "[Parallel(n_jobs=4)]: Using backend LokyBackend with 4 concurrent workers.\n",
            "[Parallel(n_jobs=4)]: Done  42 tasks      | elapsed:    6.4s\n",
            "[Parallel(n_jobs=4)]: Done 192 tasks      | elapsed:   28.6s\n",
            "[Parallel(n_jobs=4)]: Done 280 out of 280 | elapsed:   54.7s finished\n"
          ],
          "name": "stderr"
        },
        {
          "output_type": "stream",
          "text": [
            "Fitting 10 folds for each of 54 candidates, totalling 540 fits\n"
          ],
          "name": "stdout"
        },
        {
          "output_type": "stream",
          "text": [
            "[Parallel(n_jobs=4)]: Using backend LokyBackend with 4 concurrent workers.\n",
            "[Parallel(n_jobs=4)]: Done  42 tasks      | elapsed:   14.8s\n",
            "[Parallel(n_jobs=4)]: Done 192 tasks      | elapsed:  1.1min\n",
            "[Parallel(n_jobs=4)]: Done 442 tasks      | elapsed:  4.2min\n",
            "[Parallel(n_jobs=4)]: Done 540 out of 540 | elapsed:  5.9min finished\n"
          ],
          "name": "stderr"
        },
        {
          "output_type": "stream",
          "text": [
            "Fitting 2 folds for each of 70 candidates, totalling 140 fits\n"
          ],
          "name": "stdout"
        },
        {
          "output_type": "stream",
          "text": [
            "[Parallel(n_jobs=1)]: Using backend SequentialBackend with 1 concurrent workers.\n",
            "[Parallel(n_jobs=1)]: Done 140 out of 140 | elapsed:  6.5min finished\n"
          ],
          "name": "stderr"
        },
        {
          "output_type": "stream",
          "text": [
            "Fitting 10 folds for each of 54 candidates, totalling 540 fits\n"
          ],
          "name": "stdout"
        },
        {
          "output_type": "stream",
          "text": [
            "[Parallel(n_jobs=4)]: Using backend LokyBackend with 4 concurrent workers.\n",
            "[Parallel(n_jobs=4)]: Done  42 tasks      | elapsed:   13.0s\n",
            "[Parallel(n_jobs=4)]: Done 192 tasks      | elapsed:   45.0s\n",
            "[Parallel(n_jobs=4)]: Done 442 tasks      | elapsed:  1.9min\n",
            "[Parallel(n_jobs=4)]: Done 540 out of 540 | elapsed:  2.4min finished\n"
          ],
          "name": "stderr"
        },
        {
          "output_type": "stream",
          "text": [
            "Fitting 10 folds for each of 112 candidates, totalling 1120 fits\n"
          ],
          "name": "stdout"
        },
        {
          "output_type": "stream",
          "text": [
            "[Parallel(n_jobs=4)]: Using backend LokyBackend with 4 concurrent workers.\n",
            "[Parallel(n_jobs=4)]: Done 128 tasks      | elapsed:    1.9s\n",
            "[Parallel(n_jobs=4)]: Done 816 tasks      | elapsed:    9.7s\n",
            "[Parallel(n_jobs=4)]: Done 1120 out of 1120 | elapsed:   13.9s finished\n",
            "[Parallel(n_jobs=4)]: Using backend LokyBackend with 4 concurrent workers.\n"
          ],
          "name": "stderr"
        },
        {
          "output_type": "stream",
          "text": [
            "Fitting 10 folds for each of 28 candidates, totalling 280 fits\n"
          ],
          "name": "stdout"
        },
        {
          "output_type": "stream",
          "text": [
            "[Parallel(n_jobs=4)]: Done  42 tasks      | elapsed:    3.0s\n",
            "[Parallel(n_jobs=4)]: Done 192 tasks      | elapsed:   16.6s\n",
            "[Parallel(n_jobs=4)]: Done 280 out of 280 | elapsed:   31.5s finished\n",
            "[Parallel(n_jobs=4)]: Using backend LokyBackend with 4 concurrent workers.\n"
          ],
          "name": "stderr"
        },
        {
          "output_type": "stream",
          "text": [
            "Fitting 10 folds for each of 28 candidates, totalling 280 fits\n"
          ],
          "name": "stdout"
        },
        {
          "output_type": "stream",
          "text": [
            "[Parallel(n_jobs=4)]: Done  76 tasks      | elapsed:    5.5s\n",
            "[Parallel(n_jobs=4)]: Done 280 out of 280 | elapsed:   29.9s finished\n",
            "[Parallel(n_jobs=4)]: Using backend LokyBackend with 4 concurrent workers.\n"
          ],
          "name": "stderr"
        },
        {
          "output_type": "stream",
          "text": [
            "Fitting 10 folds for each of 28 candidates, totalling 280 fits\n"
          ],
          "name": "stdout"
        },
        {
          "output_type": "stream",
          "text": [
            "[Parallel(n_jobs=4)]: Done  76 tasks      | elapsed:    5.5s\n",
            "[Parallel(n_jobs=4)]: Done 280 out of 280 | elapsed:   33.8s finished\n",
            "[Parallel(n_jobs=4)]: Using backend LokyBackend with 4 concurrent workers.\n"
          ],
          "name": "stderr"
        },
        {
          "output_type": "stream",
          "text": [
            "Fitting 10 folds for each of 28 candidates, totalling 280 fits\n"
          ],
          "name": "stdout"
        },
        {
          "output_type": "stream",
          "text": [
            "[Parallel(n_jobs=4)]: Done  42 tasks      | elapsed:    3.1s\n",
            "[Parallel(n_jobs=4)]: Done 192 tasks      | elapsed:   18.3s\n",
            "[Parallel(n_jobs=4)]: Done 280 out of 280 | elapsed:   36.0s finished\n",
            "[Parallel(n_jobs=4)]: Using backend LokyBackend with 4 concurrent workers.\n"
          ],
          "name": "stderr"
        },
        {
          "output_type": "stream",
          "text": [
            "Fitting 10 folds for each of 28 candidates, totalling 280 fits\n"
          ],
          "name": "stdout"
        },
        {
          "output_type": "stream",
          "text": [
            "[Parallel(n_jobs=4)]: Done  42 tasks      | elapsed:    3.1s\n",
            "[Parallel(n_jobs=4)]: Done 192 tasks      | elapsed:   18.6s\n",
            "[Parallel(n_jobs=4)]: Done 280 out of 280 | elapsed:   37.0s finished\n"
          ],
          "name": "stderr"
        },
        {
          "output_type": "stream",
          "text": [
            "Fitting 10 folds for each of 54 candidates, totalling 540 fits\n"
          ],
          "name": "stdout"
        },
        {
          "output_type": "stream",
          "text": [
            "[Parallel(n_jobs=4)]: Using backend LokyBackend with 4 concurrent workers.\n",
            "[Parallel(n_jobs=4)]: Done  42 tasks      | elapsed:   13.4s\n",
            "[Parallel(n_jobs=4)]: Done 192 tasks      | elapsed:   58.7s\n",
            "[Parallel(n_jobs=4)]: Done 442 tasks      | elapsed:  3.5min\n",
            "[Parallel(n_jobs=4)]: Done 540 out of 540 | elapsed:  4.9min finished\n"
          ],
          "name": "stderr"
        },
        {
          "output_type": "stream",
          "text": [
            "Fitting 10 folds for each of 54 candidates, totalling 540 fits\n"
          ],
          "name": "stdout"
        },
        {
          "output_type": "stream",
          "text": [
            "[Parallel(n_jobs=4)]: Using backend LokyBackend with 4 concurrent workers.\n",
            "[Parallel(n_jobs=4)]: Done  42 tasks      | elapsed:   12.9s\n",
            "[Parallel(n_jobs=4)]: Done 192 tasks      | elapsed:   56.9s\n",
            "[Parallel(n_jobs=4)]: Done 442 tasks      | elapsed:  3.4min\n",
            "[Parallel(n_jobs=4)]: Done 540 out of 540 | elapsed:  4.7min finished\n"
          ],
          "name": "stderr"
        },
        {
          "output_type": "stream",
          "text": [
            "Fitting 10 folds for each of 54 candidates, totalling 540 fits\n"
          ],
          "name": "stdout"
        },
        {
          "output_type": "stream",
          "text": [
            "[Parallel(n_jobs=4)]: Using backend LokyBackend with 4 concurrent workers.\n",
            "[Parallel(n_jobs=4)]: Done  42 tasks      | elapsed:   12.6s\n",
            "[Parallel(n_jobs=4)]: Done 192 tasks      | elapsed:   55.8s\n",
            "[Parallel(n_jobs=4)]: Done 442 tasks      | elapsed:  3.4min\n",
            "[Parallel(n_jobs=4)]: Done 540 out of 540 | elapsed:  4.7min finished\n"
          ],
          "name": "stderr"
        },
        {
          "output_type": "stream",
          "text": [
            "Fitting 10 folds for each of 54 candidates, totalling 540 fits\n"
          ],
          "name": "stdout"
        },
        {
          "output_type": "stream",
          "text": [
            "[Parallel(n_jobs=4)]: Using backend LokyBackend with 4 concurrent workers.\n",
            "[Parallel(n_jobs=4)]: Done  42 tasks      | elapsed:   12.9s\n",
            "[Parallel(n_jobs=4)]: Done 192 tasks      | elapsed:   56.6s\n",
            "[Parallel(n_jobs=4)]: Done 442 tasks      | elapsed:  3.6min\n",
            "[Parallel(n_jobs=4)]: Done 540 out of 540 | elapsed:  4.9min finished\n"
          ],
          "name": "stderr"
        },
        {
          "output_type": "stream",
          "text": [
            "Fitting 10 folds for each of 54 candidates, totalling 540 fits\n"
          ],
          "name": "stdout"
        },
        {
          "output_type": "stream",
          "text": [
            "[Parallel(n_jobs=4)]: Using backend LokyBackend with 4 concurrent workers.\n",
            "[Parallel(n_jobs=4)]: Done  42 tasks      | elapsed:   12.8s\n",
            "[Parallel(n_jobs=4)]: Done 192 tasks      | elapsed:   57.9s\n",
            "[Parallel(n_jobs=4)]: Done 442 tasks      | elapsed:  3.7min\n"
          ],
          "name": "stderr"
        }
      ]
    },
    {
      "cell_type": "code",
      "metadata": {
        "id": "-9roMnumNqpN",
        "colab_type": "code",
        "colab": {}
      },
      "source": [
        ""
      ],
      "execution_count": 0,
      "outputs": []
    }
  ]
}