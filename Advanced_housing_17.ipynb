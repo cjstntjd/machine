{
  "nbformat": 4,
  "nbformat_minor": 0,
  "metadata": {
    "colab": {
      "name": "Advanced_housing_17.ipynb",
      "provenance": [],
      "include_colab_link": true
    },
    "kernelspec": {
      "name": "python3",
      "display_name": "Python 3"
    }
  },
  "cells": [
    {
      "cell_type": "markdown",
      "metadata": {
        "id": "view-in-github",
        "colab_type": "text"
      },
      "source": [
        "<a href=\"https://colab.research.google.com/github/cjstntjd/machine/blob/master/Advanced_housing_17.ipynb\" target=\"_parent\"><img src=\"https://colab.research.google.com/assets/colab-badge.svg\" alt=\"Open In Colab\"/></a>"
      ]
    },
    {
      "cell_type": "code",
      "metadata": {
        "id": "vlJCEXjFn9U7",
        "colab_type": "code",
        "outputId": "a7e5b135-c701-4f92-e53e-eaa22656c075",
        "colab": {
          "base_uri": "https://localhost:8080/",
          "height": 125
        }
      },
      "source": [
        "from google.colab import drive\n",
        "drive.mount('/gdrive',force_remount = True)"
      ],
      "execution_count": 0,
      "outputs": [
        {
          "output_type": "stream",
          "text": [
            "Go to this URL in a browser: https://accounts.google.com/o/oauth2/auth?client_id=947318989803-6bn6qk8qdgf4n4g3pfee6491hc0brc4i.apps.googleusercontent.com&redirect_uri=urn%3aietf%3awg%3aoauth%3a2.0%3aoob&response_type=code&scope=email%20https%3a%2f%2fwww.googleapis.com%2fauth%2fdocs.test%20https%3a%2f%2fwww.googleapis.com%2fauth%2fdrive%20https%3a%2f%2fwww.googleapis.com%2fauth%2fdrive.photos.readonly%20https%3a%2f%2fwww.googleapis.com%2fauth%2fpeopleapi.readonly\n",
            "\n",
            "Enter your authorization code:\n",
            "··········\n",
            "Mounted at /gdrive\n"
          ],
          "name": "stdout"
        }
      ]
    },
    {
      "cell_type": "code",
      "metadata": {
        "id": "AYTnM8ReoEZg",
        "colab_type": "code",
        "outputId": "2a5b232d-664a-4ae0-a84e-799f91d92896",
        "colab": {
          "resources": {
            "http://localhost:8080/nbextensions/google.colab/files.js": {
              "data": "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",
              "ok": true,
              "headers": [
                [
                  "content-type",
                  "application/javascript"
                ]
              ],
              "status": 200,
              "status_text": ""
            }
          },
          "base_uri": "https://localhost:8080/",
          "height": 310
        }
      },
      "source": [
        "!pip install kaggle\n",
        "from google.colab import files\n",
        "files.upload()"
      ],
      "execution_count": 0,
      "outputs": [
        {
          "output_type": "stream",
          "text": [
            "Requirement already satisfied: kaggle in /usr/local/lib/python3.6/dist-packages (1.5.6)\n",
            "Requirement already satisfied: requests in /usr/local/lib/python3.6/dist-packages (from kaggle) (2.21.0)\n",
            "Requirement already satisfied: certifi in /usr/local/lib/python3.6/dist-packages (from kaggle) (2019.11.28)\n",
            "Requirement already satisfied: six>=1.10 in /usr/local/lib/python3.6/dist-packages (from kaggle) (1.12.0)\n",
            "Requirement already satisfied: tqdm in /usr/local/lib/python3.6/dist-packages (from kaggle) (4.28.1)\n",
            "Requirement already satisfied: urllib3<1.25,>=1.21.1 in /usr/local/lib/python3.6/dist-packages (from kaggle) (1.24.3)\n",
            "Requirement already satisfied: python-dateutil in /usr/local/lib/python3.6/dist-packages (from kaggle) (2.6.1)\n",
            "Requirement already satisfied: python-slugify in /usr/local/lib/python3.6/dist-packages (from kaggle) (4.0.0)\n",
            "Requirement already satisfied: chardet<3.1.0,>=3.0.2 in /usr/local/lib/python3.6/dist-packages (from requests->kaggle) (3.0.4)\n",
            "Requirement already satisfied: idna<2.9,>=2.5 in /usr/local/lib/python3.6/dist-packages (from requests->kaggle) (2.8)\n",
            "Requirement already satisfied: text-unidecode>=1.3 in /usr/local/lib/python3.6/dist-packages (from python-slugify->kaggle) (1.3)\n"
          ],
          "name": "stdout"
        },
        {
          "output_type": "display_data",
          "data": {
            "text/html": [
              "\n",
              "     <input type=\"file\" id=\"files-6a99c01b-657d-4815-a5e5-dd372b625c57\" name=\"files[]\" multiple disabled />\n",
              "     <output id=\"result-6a99c01b-657d-4815-a5e5-dd372b625c57\">\n",
              "      Upload widget is only available when the cell has been executed in the\n",
              "      current browser session. Please rerun this cell to enable.\n",
              "      </output>\n",
              "      <script src=\"/nbextensions/google.colab/files.js\"></script> "
            ],
            "text/plain": [
              "<IPython.core.display.HTML object>"
            ]
          },
          "metadata": {
            "tags": []
          }
        },
        {
          "output_type": "stream",
          "text": [
            "Saving kaggle.json to kaggle.json\n"
          ],
          "name": "stdout"
        },
        {
          "output_type": "execute_result",
          "data": {
            "text/plain": [
              "{'kaggle.json': b'{\"username\":\"neopchi\",\"key\":\"e9314cf98c2827f1e4630b82b2cd2508\"}'}"
            ]
          },
          "metadata": {
            "tags": []
          },
          "execution_count": 2
        }
      ]
    },
    {
      "cell_type": "code",
      "metadata": {
        "id": "Y4CczcC0oWcm",
        "colab_type": "code",
        "outputId": "51690778-db3d-4c47-8181-b0420bae892d",
        "colab": {
          "base_uri": "https://localhost:8080/",
          "height": 34
        }
      },
      "source": [
        "ls -1ha kaggle.json"
      ],
      "execution_count": 0,
      "outputs": [
        {
          "output_type": "stream",
          "text": [
            "kaggle.json\n"
          ],
          "name": "stdout"
        }
      ]
    },
    {
      "cell_type": "code",
      "metadata": {
        "id": "OQan-epAoYav",
        "colab_type": "code",
        "outputId": "50b21d38-edfe-4a50-e2a9-ca2de8894104",
        "colab": {
          "base_uri": "https://localhost:8080/",
          "height": 445
        }
      },
      "source": [
        "!mkdir -p ~/.kaggle\n",
        "!cp kaggle.json ~/.kaggle/\n",
        "\n",
        "!chmod 600 ~/.kaggle/kaggle.json\n",
        "#커미션 모드 600 소유자 only 읽기 쓰기 \n",
        " \n",
        "!kaggle competitions list"
      ],
      "execution_count": 0,
      "outputs": [
        {
          "output_type": "stream",
          "text": [
            "Warning: Looks like you're using an outdated API Version, please consider updating (server 1.5.6 / client 1.5.4)\n",
            "ref                                            deadline             category             reward  teamCount  userHasEntered  \n",
            "---------------------------------------------  -------------------  ---------------  ----------  ---------  --------------  \n",
            "digit-recognizer                               2030-01-01 00:00:00  Getting Started   Knowledge       2283           False  \n",
            "titanic                                        2030-01-01 00:00:00  Getting Started   Knowledge      15932           False  \n",
            "house-prices-advanced-regression-techniques    2030-01-01 00:00:00  Getting Started   Knowledge       5281            True  \n",
            "connectx                                       2030-01-01 00:00:00  Getting Started   Knowledge        266           False  \n",
            "imagenet-object-localization-challenge         2029-12-31 07:00:00  Research          Knowledge         62           False  \n",
            "competitive-data-science-predict-future-sales  2020-12-31 23:59:00  Playground            Kudos       5463           False  \n",
            "deepfake-detection-challenge                   2020-03-31 23:59:00  Featured         $1,000,000       1066           False  \n",
            "cat-in-the-dat-ii                              2020-03-31 23:59:00  Playground             Swag        240           False  \n",
            "nlp-getting-started                            2020-03-23 23:59:00  Getting Started     $10,000       1478           False  \n",
            "bengaliai-cv19                                 2020-03-16 23:59:00  Research            $10,000        607           False  \n",
            "google-quest-challenge                         2020-02-10 23:59:00  Featured            $25,000        943           False  \n",
            "tensorflow2-question-answering                 2020-01-22 23:59:00  Featured            $50,000       1179           False  \n",
            "data-science-bowl-2019                         2020-01-22 23:59:00  Featured           $160,000       3292           False  \n",
            "pku-autonomous-driving                         2020-01-21 23:59:00  Featured            $25,000        840           False  \n",
            "santa-2019-revenge-of-the-accountants          2020-01-16 23:59:00  Playground             Swag         98           False  \n",
            "santa-workshop-tour-2019                       2020-01-15 23:59:00  Featured            $25,000       1620           False  \n",
            "nfl-big-data-bowl-2020                         2020-01-06 23:59:00  Featured            $75,000       2038           False  \n",
            "nfl-playing-surface-analytics                  2020-01-02 23:59:00  Analytics           $75,000          0           False  \n",
            "ashrae-energy-prediction                       2019-12-19 23:59:00  Featured            $25,000       3614           False  \n",
            "Kannada-MNIST                                  2019-12-17 23:59:00  Playground        Knowledge       1214           False  \n"
          ],
          "name": "stdout"
        }
      ]
    },
    {
      "cell_type": "code",
      "metadata": {
        "id": "gQOY64CeobtD",
        "colab_type": "code",
        "outputId": "d3fc1c61-6678-4c05-ac08-ac9d7836df65",
        "colab": {
          "base_uri": "https://localhost:8080/",
          "height": 267
        }
      },
      "source": [
        "!kaggle competitions download -c house-prices-advanced-regression-techniques"
      ],
      "execution_count": 0,
      "outputs": [
        {
          "output_type": "stream",
          "text": [
            "Warning: Looks like you're using an outdated API Version, please consider updating (server 1.5.6 / client 1.5.4)\n",
            "Downloading train.csv to /content\n",
            "  0% 0.00/450k [00:00<?, ?B/s]\n",
            "100% 450k/450k [00:00<00:00, 64.3MB/s]\n",
            "Downloading sample_submission.csv to /content\n",
            "  0% 0.00/31.2k [00:00<?, ?B/s]\n",
            "100% 31.2k/31.2k [00:00<00:00, 31.9MB/s]\n",
            "Downloading data_description.txt to /content\n",
            "  0% 0.00/13.1k [00:00<?, ?B/s]\n",
            "100% 13.1k/13.1k [00:00<00:00, 27.9MB/s]\n",
            "Downloading test.csv to /content\n",
            "  0% 0.00/441k [00:00<?, ?B/s]\n",
            "100% 441k/441k [00:00<00:00, 61.3MB/s]\n"
          ],
          "name": "stdout"
        }
      ]
    },
    {
      "cell_type": "code",
      "metadata": {
        "id": "FGoXCxEAoeaT",
        "colab_type": "code",
        "outputId": "cc5e89f3-3fc8-4c9b-881d-785dfdadfad8",
        "colab": {
          "base_uri": "https://localhost:8080/",
          "height": 52
        }
      },
      "source": [
        "!ls"
      ],
      "execution_count": 0,
      "outputs": [
        {
          "output_type": "stream",
          "text": [
            "data_description.txt  sample_data\t     test.csv\n",
            "kaggle.json\t      sample_submission.csv  train.csv\n"
          ],
          "name": "stdout"
        }
      ]
    },
    {
      "cell_type": "code",
      "metadata": {
        "id": "1jBdu74YogPR",
        "colab_type": "code",
        "outputId": "4c8a65d7-1db3-4573-a3e8-06dfba92a94d",
        "colab": {
          "base_uri": "https://localhost:8080/",
          "height": 54
        }
      },
      "source": [
        "'''\n",
        "MSSubClass: Identifies the type of dwelling involved in the sale.\t\n",
        "\n",
        "        20\t1-STORY 1946 & NEWER ALL STYLES\n",
        "        30\t1-STORY 1945 & OLDER\n",
        "        40\t1-STORY W/FINISHED ATTIC ALL AGES\n",
        "        45\t1-1/2 STORY - UNFINISHED ALL AGES\n",
        "        50\t1-1/2 STORY FINISHED ALL AGES\n",
        "        60\t2-STORY 1946 & NEWER\n",
        "        70\t2-STORY 1945 & OLDER\n",
        "        75\t2-1/2 STORY ALL AGES\n",
        "        80\tSPLIT OR MULTI-LEVEL\n",
        "        85\tSPLIT FOYER\n",
        "        90\tDUPLEX - ALL STYLES AND AGES\n",
        "       120\t1-STORY PUD (Planned Unit Development) - 1946 & NEWER\n",
        "       150\t1-1/2 STORY PUD - ALL AGES\n",
        "       160\t2-STORY PUD - 1946 & NEWER\n",
        "       180\tPUD - MULTILEVEL - INCL SPLIT LEV/FOYER\n",
        "       190\t2 FAMILY CONVERSION - ALL STYLES AND AGES\n",
        "       \n",
        "생긴건 숫자지만 결국엔 10 단위로 나뉘어진 카테고리형 데이터 -> object로 바꿔주기\n",
        "\n",
        "       Street: Type of road access to property\n",
        "\n",
        "       Grvl\tGravel\t\n",
        "       Pave\tPaved\n",
        "       \t\n",
        "      Alley: Type of alley access to property\n",
        "\n",
        "       Grvl\tGravel\n",
        "       Pave\tPaved\n",
        "       NA \tNo alley access\n",
        " 두개는 같은 값을 갖는 변수 나중에 묶어서 파생변수 만들기\n",
        "\n",
        " Condition1: Proximity to various conditions\n",
        "\t\n",
        "       Artery\tAdjacent to arterial street\n",
        "       Feedr\tAdjacent to feeder street\t\n",
        "       Norm\tNormal\t\n",
        "       RRNn\tWithin 200' of North-South Railroad\n",
        "       RRAn\tAdjacent to North-South Railroad\n",
        "       PosN\tNear positive off-site feature--park, greenbelt, etc.\n",
        "       PosA\tAdjacent to postive off-site feature\n",
        "       RRNe\tWithin 200' of East-West Railroad\n",
        "       RRAe\tAdjacent to East-West Railroad\n",
        "\t\n",
        "Condition2: Proximity to various conditions (if more than one is present)\n",
        "\t\t\n",
        "       Artery\tAdjacent to arterial street\n",
        "       Feedr\tAdjacent to feeder street\t\n",
        "       Norm\tNormal\t\n",
        "       RRNn\tWithin 200' of North-South Railroad\n",
        "       RRAn\tAdjacent to North-South Railroad\n",
        "       PosN\tNear positive off-site feature--park, greenbelt, etc.\n",
        "       PosA\tAdjacent to postive off-site feature\n",
        "       RRNe\tWithin 200' of East-West Railroad\n",
        "       RRAe\tAdjacent to East-West Railroad\n",
        "\n",
        "얘네 둘도 같은 카테고리에 속함 묶어서 계산\n",
        "OverallQual: Rates the overall material and finish of the house\n",
        "\n",
        "       10\tVery Excellent\n",
        "       9\tExcellent\n",
        "       8\tVery Good\n",
        "       7\tGood\n",
        "       6\tAbove Average\n",
        "       5\tAverage\n",
        "       4\tBelow Average\n",
        "       3\tFair\n",
        "       2\tPoor\n",
        "       1\tVery Poor\n",
        "\t\n",
        "OverallCond: Rates the overall condition of the house\n",
        "\n",
        "       10\tVery Excellent\n",
        "       9\tExcellent\n",
        "       8\tVery Good\n",
        "       7\tGood\n",
        "       6\tAbove Average\t\n",
        "       5\tAverage\n",
        "       4\tBelow Average\t\n",
        "       3\tFair\n",
        "       2\tPoor\n",
        "       1\tVery Poor\n",
        "\n",
        "condition 값임 묶어서 계산\n",
        "\n",
        "\n",
        "Exterior1st: Exterior covering on house\n",
        "Exterior2nd: Exterior covering on house (if more than one material)\n",
        "\n",
        "묶어서 계산 \n",
        "\n",
        "ExterQual: Evaluates the quality of the material on the exterior \n",
        "\t\t\n",
        "       Ex\tExcellent\n",
        "       Gd\tGood\n",
        "       TA\tAverage/Typical\n",
        "       Fa\tFair\n",
        "       Po\tPoor\n",
        "\t\t\n",
        "ExterCond: Evaluates the present condition of the material on the exterior\n",
        "\t\t\n",
        "       Ex\tExcellent\n",
        "       Gd\tGood\n",
        "       TA\tAverage/Typical\n",
        "       Fa\tFair\n",
        "       Po\tPoor\n",
        "\n",
        "이렇게 범주형 카테고리가 몇개 있음 묶어서 보고 퀄리티를 포함하는 측면이면 아가 데이터와 묶어서 생각하기 \n",
        "BsmtQual: Evaluates the height of the basement\n",
        "BsmtCond: Evaluates the general condition of the basement\n",
        "BsmtExposure: Refers to walkout or garden level walls\n",
        "전부 퀄리티 적인 측면을 요소로 하는 데이터 들임 하나로 합치면 데이터 양도 줄이고 하나의 파생변수로 기능할수있음\n",
        "\n",
        "BsmtFinType1: Rating of basement finished area\n",
        "BsmtFinType2: Rating of basement finished area (if multiple types)\n",
        "\n",
        "포함\n",
        "\n",
        "1stFlrSF: First Floor square feet\n",
        " \n",
        "2ndFlrSF: Second floor square feet\n",
        "\n",
        "LowQualFinSF: Low quality finished square feet (all floors)\n",
        "\n",
        "GrLivArea: Above grade (ground) living area square feet\n",
        "\n",
        "BsmtFullBath: Basement full bathrooms\n",
        "\n",
        "BsmtHalfBath: Basement half bathrooms\n",
        "\n",
        "FullBath: Full bathrooms above grade\n",
        "\n",
        "HalfBath: Half baths above grade\n",
        "\n",
        "Bedroom: Bedrooms above grade (does NOT include basement bedrooms)\n",
        "\n",
        "Kitchen: Kitchens above grade\n",
        "숫자형 데이터 임 \n",
        "\n",
        "GarageQual: Garage quality\n",
        "\n",
        "       Ex\tExcellent\n",
        "       Gd\tGood\n",
        "       TA\tTypical/Average\n",
        "       Fa\tFair\n",
        "       Po\tPoor\n",
        "       NA\tNo Garage\n",
        "\t\t\n",
        "GarageCond: Garage condition\n",
        "\n",
        "       Ex\tExcellent\n",
        "       Gd\tGood\n",
        "       TA\tTypical/Average\n",
        "       Fa\tFair\n",
        "       Po\tPoor\n",
        "       NA\tNo Garage\n",
        "하나로 묶어서 생각할것 퀄리티 적인 측면의 데이터는 합산해도 상관 없음 \n",
        "\n",
        "MiscVal: $Value of miscellaneous feature\n",
        "\n",
        "MoSold: Month Sold (MM)\n",
        "\n",
        "YrSold: Year Sold (YYYY)\n",
        "\n",
        "year의 대표값을 선정하는 알고리즘을 짜면 아까보다 더 좋은 성능을 기대할수 있음 \n",
        "\n",
        "\n",
        "\n",
        "       '''"
      ],
      "execution_count": 0,
      "outputs": [
        {
          "output_type": "execute_result",
          "data": {
            "text/plain": [
              "\"\\nMSSubClass: Identifies the type of dwelling involved in the sale.\\t\\n\\n        20\\t1-STORY 1946 & NEWER ALL STYLES\\n        30\\t1-STORY 1945 & OLDER\\n        40\\t1-STORY W/FINISHED ATTIC ALL AGES\\n        45\\t1-1/2 STORY - UNFINISHED ALL AGES\\n        50\\t1-1/2 STORY FINISHED ALL AGES\\n        60\\t2-STORY 1946 & NEWER\\n        70\\t2-STORY 1945 & OLDER\\n        75\\t2-1/2 STORY ALL AGES\\n        80\\tSPLIT OR MULTI-LEVEL\\n        85\\tSPLIT FOYER\\n        90\\tDUPLEX - ALL STYLES AND AGES\\n       120\\t1-STORY PUD (Planned Unit Development) - 1946 & NEWER\\n       150\\t1-1/2 STORY PUD - ALL AGES\\n       160\\t2-STORY PUD - 1946 & NEWER\\n       180\\tPUD - MULTILEVEL - INCL SPLIT LEV/FOYER\\n       190\\t2 FAMILY CONVERSION - ALL STYLES AND AGES\\n       \\n생긴건 숫자지만 결국엔 10 단위로 나뉘어진 카테고리형 데이터 -> object로 바꿔주기\\n\\n       Street: Type of road access to property\\n\\n       Grvl\\tGravel\\t\\n       Pave\\tPaved\\n       \\t\\n      Alley: Type of alley access to property\\n\\n       Grvl\\tGravel\\n       Pave\\tPaved\\n       NA \\tNo alley access\\n 두개는 같은 값을 갖는 변수 나중에 묶어서 파생변수 만들기\\n\\n Condition1: Proximity to various conditions\\n\\t\\n       Artery\\tAdjacent to arterial street\\n       Feedr\\tAdjacent to feeder street\\t\\n       Norm\\tNormal\\t\\n       RRNn\\tWithin 200' of North-South Railroad\\n       RRAn\\tAdjacent to North-South Railroad\\n       PosN\\tNear positive off-site feature--park, greenbelt, etc.\\n       PosA\\tAdjacent to postive off-site feature\\n       RRNe\\tWithin 200' of East-West Railroad\\n       RRAe\\tAdjacent to East-West Railroad\\n\\t\\nCondition2: Proximity to various conditions (if more than one is present)\\n\\t\\t\\n       Artery\\tAdjacent to arterial street\\n       Feedr\\tAdjacent to feeder street\\t\\n       Norm\\tNormal\\t\\n       RRNn\\tWithin 200' of North-South Railroad\\n       RRAn\\tAdjacent to North-South Railroad\\n       PosN\\tNear positive off-site feature--park, greenbelt, etc.\\n       PosA\\tAdjacent to postive off-site feature\\n       RRNe\\tWithin 200' of East-West Railroad\\n       RRAe\\tAdjacent to East-West Railroad\\n\\n얘네 둘도 같은 카테고리에 속함 묶어서 계산\\nOverallQual: Rates the overall material and finish of the house\\n\\n       10\\tVery Excellent\\n       9\\tExcellent\\n       8\\tVery Good\\n       7\\tGood\\n       6\\tAbove Average\\n       5\\tAverage\\n       4\\tBelow Average\\n       3\\tFair\\n       2\\tPoor\\n       1\\tVery Poor\\n\\t\\nOverallCond: Rates the overall condition of the house\\n\\n       10\\tVery Excellent\\n       9\\tExcellent\\n       8\\tVery Good\\n       7\\tGood\\n       6\\tAbove Average\\t\\n       5\\tAverage\\n       4\\tBelow Average\\t\\n       3\\tFair\\n       2\\tPoor\\n       1\\tVery Poor\\n\\ncondition 값임 묶어서 계산\\n\\n\\nExterior1st: Exterior covering on house\\nExterior2nd: Exterior covering on house (if more than one material)\\n\\n묶어서 계산 \\n\\nExterQual: Evaluates the quality of the material on the exterior \\n\\t\\t\\n       Ex\\tExcellent\\n       Gd\\tGood\\n       TA\\tAverage/Typical\\n       Fa\\tFair\\n       Po\\tPoor\\n\\t\\t\\nExterCond: Evaluates the present condition of the material on the exterior\\n\\t\\t\\n       Ex\\tExcellent\\n       Gd\\tGood\\n       TA\\tAverage/Typical\\n       Fa\\tFair\\n       Po\\tPoor\\n\\n이렇게 범주형 카테고리가 몇개 있음 묶어서 보고 퀄리티를 포함하는 측면이면 아가 데이터와 묶어서 생각하기 \\nBsmtQual: Evaluates the height of the basement\\nBsmtCond: Evaluates the general condition of the basement\\nBsmtExposure: Refers to walkout or garden level walls\\n전부 퀄리티 적인 측면을 요소로 하는 데이터 들임 하나로 합치면 데이터 양도 줄이고 하나의 파생변수로 기능할수있음\\n\\nBsmtFinType1: Rating of basement finished area\\nBsmtFinType2: Rating of basement finished area (if multiple types)\\n\\n포함\\n\\n1stFlrSF: First Floor square feet\\n \\n2ndFlrSF: Second floor square feet\\n\\nLowQualFinSF: Low quality finished square feet (all floors)\\n\\nGrLivArea: Above grade (ground) living area square feet\\n\\nBsmtFullBath: Basement full bathrooms\\n\\nBsmtHalfBath: Basement half bathrooms\\n\\nFullBath: Full bathrooms above grade\\n\\nHalfBath: Half baths above grade\\n\\nBedroom: Bedrooms above grade (does NOT include basement bedrooms)\\n\\nKitchen: Kitchens above grade\\n숫자형 데이터 임 \\n\\nGarageQual: Garage quality\\n\\n       Ex\\tExcellent\\n       Gd\\tGood\\n       TA\\tTypical/Average\\n       Fa\\tFair\\n       Po\\tPoor\\n       NA\\tNo Garage\\n\\t\\t\\nGarageCond: Garage condition\\n\\n       Ex\\tExcellent\\n       Gd\\tGood\\n       TA\\tTypical/Average\\n       Fa\\tFair\\n       Po\\tPoor\\n       NA\\tNo Garage\\n하나로 묶어서 생각할것 퀄리티 적인 측면의 데이터는 합산해도 상관 없음 \\n\\nMiscVal: $Value of miscellaneous feature\\n\\nMoSold: Month Sold (MM)\\n\\nYrSold: Year Sold (YYYY)\\n\\nyear의 대표값을 선정하는 알고리즘을 짜면 아까보다 더 좋은 성능을 기대할수 있음 \\n\\n\\n\\n       \""
            ]
          },
          "metadata": {
            "tags": []
          },
          "execution_count": 7
        }
      ]
    },
    {
      "cell_type": "code",
      "metadata": {
        "id": "GRyi988x1F1R",
        "colab_type": "code",
        "outputId": "6aa88194-dc3c-478a-828a-c9f92d1241ed",
        "colab": {
          "base_uri": "https://localhost:8080/",
          "height": 246
        }
      },
      "source": [
        "import pandas as pd\n",
        "\n",
        "train = pd.read_csv('train.csv')\n",
        "test = pd.read_csv('test.csv')\n",
        "# concat\n",
        "train.head()"
      ],
      "execution_count": 0,
      "outputs": [
        {
          "output_type": "execute_result",
          "data": {
            "text/html": [
              "<div>\n",
              "<style scoped>\n",
              "    .dataframe tbody tr th:only-of-type {\n",
              "        vertical-align: middle;\n",
              "    }\n",
              "\n",
              "    .dataframe tbody tr th {\n",
              "        vertical-align: top;\n",
              "    }\n",
              "\n",
              "    .dataframe thead th {\n",
              "        text-align: right;\n",
              "    }\n",
              "</style>\n",
              "<table border=\"1\" class=\"dataframe\">\n",
              "  <thead>\n",
              "    <tr style=\"text-align: right;\">\n",
              "      <th></th>\n",
              "      <th>Id</th>\n",
              "      <th>MSSubClass</th>\n",
              "      <th>MSZoning</th>\n",
              "      <th>LotFrontage</th>\n",
              "      <th>LotArea</th>\n",
              "      <th>Street</th>\n",
              "      <th>Alley</th>\n",
              "      <th>LotShape</th>\n",
              "      <th>LandContour</th>\n",
              "      <th>Utilities</th>\n",
              "      <th>LotConfig</th>\n",
              "      <th>LandSlope</th>\n",
              "      <th>Neighborhood</th>\n",
              "      <th>Condition1</th>\n",
              "      <th>Condition2</th>\n",
              "      <th>BldgType</th>\n",
              "      <th>HouseStyle</th>\n",
              "      <th>OverallQual</th>\n",
              "      <th>OverallCond</th>\n",
              "      <th>YearBuilt</th>\n",
              "      <th>YearRemodAdd</th>\n",
              "      <th>RoofStyle</th>\n",
              "      <th>RoofMatl</th>\n",
              "      <th>Exterior1st</th>\n",
              "      <th>Exterior2nd</th>\n",
              "      <th>MasVnrType</th>\n",
              "      <th>MasVnrArea</th>\n",
              "      <th>ExterQual</th>\n",
              "      <th>ExterCond</th>\n",
              "      <th>Foundation</th>\n",
              "      <th>BsmtQual</th>\n",
              "      <th>BsmtCond</th>\n",
              "      <th>BsmtExposure</th>\n",
              "      <th>BsmtFinType1</th>\n",
              "      <th>BsmtFinSF1</th>\n",
              "      <th>BsmtFinType2</th>\n",
              "      <th>BsmtFinSF2</th>\n",
              "      <th>BsmtUnfSF</th>\n",
              "      <th>TotalBsmtSF</th>\n",
              "      <th>Heating</th>\n",
              "      <th>...</th>\n",
              "      <th>CentralAir</th>\n",
              "      <th>Electrical</th>\n",
              "      <th>1stFlrSF</th>\n",
              "      <th>2ndFlrSF</th>\n",
              "      <th>LowQualFinSF</th>\n",
              "      <th>GrLivArea</th>\n",
              "      <th>BsmtFullBath</th>\n",
              "      <th>BsmtHalfBath</th>\n",
              "      <th>FullBath</th>\n",
              "      <th>HalfBath</th>\n",
              "      <th>BedroomAbvGr</th>\n",
              "      <th>KitchenAbvGr</th>\n",
              "      <th>KitchenQual</th>\n",
              "      <th>TotRmsAbvGrd</th>\n",
              "      <th>Functional</th>\n",
              "      <th>Fireplaces</th>\n",
              "      <th>FireplaceQu</th>\n",
              "      <th>GarageType</th>\n",
              "      <th>GarageYrBlt</th>\n",
              "      <th>GarageFinish</th>\n",
              "      <th>GarageCars</th>\n",
              "      <th>GarageArea</th>\n",
              "      <th>GarageQual</th>\n",
              "      <th>GarageCond</th>\n",
              "      <th>PavedDrive</th>\n",
              "      <th>WoodDeckSF</th>\n",
              "      <th>OpenPorchSF</th>\n",
              "      <th>EnclosedPorch</th>\n",
              "      <th>3SsnPorch</th>\n",
              "      <th>ScreenPorch</th>\n",
              "      <th>PoolArea</th>\n",
              "      <th>PoolQC</th>\n",
              "      <th>Fence</th>\n",
              "      <th>MiscFeature</th>\n",
              "      <th>MiscVal</th>\n",
              "      <th>MoSold</th>\n",
              "      <th>YrSold</th>\n",
              "      <th>SaleType</th>\n",
              "      <th>SaleCondition</th>\n",
              "      <th>SalePrice</th>\n",
              "    </tr>\n",
              "  </thead>\n",
              "  <tbody>\n",
              "    <tr>\n",
              "      <th>0</th>\n",
              "      <td>1</td>\n",
              "      <td>60</td>\n",
              "      <td>RL</td>\n",
              "      <td>65.0</td>\n",
              "      <td>8450</td>\n",
              "      <td>Pave</td>\n",
              "      <td>NaN</td>\n",
              "      <td>Reg</td>\n",
              "      <td>Lvl</td>\n",
              "      <td>AllPub</td>\n",
              "      <td>Inside</td>\n",
              "      <td>Gtl</td>\n",
              "      <td>CollgCr</td>\n",
              "      <td>Norm</td>\n",
              "      <td>Norm</td>\n",
              "      <td>1Fam</td>\n",
              "      <td>2Story</td>\n",
              "      <td>7</td>\n",
              "      <td>5</td>\n",
              "      <td>2003</td>\n",
              "      <td>2003</td>\n",
              "      <td>Gable</td>\n",
              "      <td>CompShg</td>\n",
              "      <td>VinylSd</td>\n",
              "      <td>VinylSd</td>\n",
              "      <td>BrkFace</td>\n",
              "      <td>196.0</td>\n",
              "      <td>Gd</td>\n",
              "      <td>TA</td>\n",
              "      <td>PConc</td>\n",
              "      <td>Gd</td>\n",
              "      <td>TA</td>\n",
              "      <td>No</td>\n",
              "      <td>GLQ</td>\n",
              "      <td>706</td>\n",
              "      <td>Unf</td>\n",
              "      <td>0</td>\n",
              "      <td>150</td>\n",
              "      <td>856</td>\n",
              "      <td>GasA</td>\n",
              "      <td>...</td>\n",
              "      <td>Y</td>\n",
              "      <td>SBrkr</td>\n",
              "      <td>856</td>\n",
              "      <td>854</td>\n",
              "      <td>0</td>\n",
              "      <td>1710</td>\n",
              "      <td>1</td>\n",
              "      <td>0</td>\n",
              "      <td>2</td>\n",
              "      <td>1</td>\n",
              "      <td>3</td>\n",
              "      <td>1</td>\n",
              "      <td>Gd</td>\n",
              "      <td>8</td>\n",
              "      <td>Typ</td>\n",
              "      <td>0</td>\n",
              "      <td>NaN</td>\n",
              "      <td>Attchd</td>\n",
              "      <td>2003.0</td>\n",
              "      <td>RFn</td>\n",
              "      <td>2</td>\n",
              "      <td>548</td>\n",
              "      <td>TA</td>\n",
              "      <td>TA</td>\n",
              "      <td>Y</td>\n",
              "      <td>0</td>\n",
              "      <td>61</td>\n",
              "      <td>0</td>\n",
              "      <td>0</td>\n",
              "      <td>0</td>\n",
              "      <td>0</td>\n",
              "      <td>NaN</td>\n",
              "      <td>NaN</td>\n",
              "      <td>NaN</td>\n",
              "      <td>0</td>\n",
              "      <td>2</td>\n",
              "      <td>2008</td>\n",
              "      <td>WD</td>\n",
              "      <td>Normal</td>\n",
              "      <td>208500</td>\n",
              "    </tr>\n",
              "    <tr>\n",
              "      <th>1</th>\n",
              "      <td>2</td>\n",
              "      <td>20</td>\n",
              "      <td>RL</td>\n",
              "      <td>80.0</td>\n",
              "      <td>9600</td>\n",
              "      <td>Pave</td>\n",
              "      <td>NaN</td>\n",
              "      <td>Reg</td>\n",
              "      <td>Lvl</td>\n",
              "      <td>AllPub</td>\n",
              "      <td>FR2</td>\n",
              "      <td>Gtl</td>\n",
              "      <td>Veenker</td>\n",
              "      <td>Feedr</td>\n",
              "      <td>Norm</td>\n",
              "      <td>1Fam</td>\n",
              "      <td>1Story</td>\n",
              "      <td>6</td>\n",
              "      <td>8</td>\n",
              "      <td>1976</td>\n",
              "      <td>1976</td>\n",
              "      <td>Gable</td>\n",
              "      <td>CompShg</td>\n",
              "      <td>MetalSd</td>\n",
              "      <td>MetalSd</td>\n",
              "      <td>None</td>\n",
              "      <td>0.0</td>\n",
              "      <td>TA</td>\n",
              "      <td>TA</td>\n",
              "      <td>CBlock</td>\n",
              "      <td>Gd</td>\n",
              "      <td>TA</td>\n",
              "      <td>Gd</td>\n",
              "      <td>ALQ</td>\n",
              "      <td>978</td>\n",
              "      <td>Unf</td>\n",
              "      <td>0</td>\n",
              "      <td>284</td>\n",
              "      <td>1262</td>\n",
              "      <td>GasA</td>\n",
              "      <td>...</td>\n",
              "      <td>Y</td>\n",
              "      <td>SBrkr</td>\n",
              "      <td>1262</td>\n",
              "      <td>0</td>\n",
              "      <td>0</td>\n",
              "      <td>1262</td>\n",
              "      <td>0</td>\n",
              "      <td>1</td>\n",
              "      <td>2</td>\n",
              "      <td>0</td>\n",
              "      <td>3</td>\n",
              "      <td>1</td>\n",
              "      <td>TA</td>\n",
              "      <td>6</td>\n",
              "      <td>Typ</td>\n",
              "      <td>1</td>\n",
              "      <td>TA</td>\n",
              "      <td>Attchd</td>\n",
              "      <td>1976.0</td>\n",
              "      <td>RFn</td>\n",
              "      <td>2</td>\n",
              "      <td>460</td>\n",
              "      <td>TA</td>\n",
              "      <td>TA</td>\n",
              "      <td>Y</td>\n",
              "      <td>298</td>\n",
              "      <td>0</td>\n",
              "      <td>0</td>\n",
              "      <td>0</td>\n",
              "      <td>0</td>\n",
              "      <td>0</td>\n",
              "      <td>NaN</td>\n",
              "      <td>NaN</td>\n",
              "      <td>NaN</td>\n",
              "      <td>0</td>\n",
              "      <td>5</td>\n",
              "      <td>2007</td>\n",
              "      <td>WD</td>\n",
              "      <td>Normal</td>\n",
              "      <td>181500</td>\n",
              "    </tr>\n",
              "    <tr>\n",
              "      <th>2</th>\n",
              "      <td>3</td>\n",
              "      <td>60</td>\n",
              "      <td>RL</td>\n",
              "      <td>68.0</td>\n",
              "      <td>11250</td>\n",
              "      <td>Pave</td>\n",
              "      <td>NaN</td>\n",
              "      <td>IR1</td>\n",
              "      <td>Lvl</td>\n",
              "      <td>AllPub</td>\n",
              "      <td>Inside</td>\n",
              "      <td>Gtl</td>\n",
              "      <td>CollgCr</td>\n",
              "      <td>Norm</td>\n",
              "      <td>Norm</td>\n",
              "      <td>1Fam</td>\n",
              "      <td>2Story</td>\n",
              "      <td>7</td>\n",
              "      <td>5</td>\n",
              "      <td>2001</td>\n",
              "      <td>2002</td>\n",
              "      <td>Gable</td>\n",
              "      <td>CompShg</td>\n",
              "      <td>VinylSd</td>\n",
              "      <td>VinylSd</td>\n",
              "      <td>BrkFace</td>\n",
              "      <td>162.0</td>\n",
              "      <td>Gd</td>\n",
              "      <td>TA</td>\n",
              "      <td>PConc</td>\n",
              "      <td>Gd</td>\n",
              "      <td>TA</td>\n",
              "      <td>Mn</td>\n",
              "      <td>GLQ</td>\n",
              "      <td>486</td>\n",
              "      <td>Unf</td>\n",
              "      <td>0</td>\n",
              "      <td>434</td>\n",
              "      <td>920</td>\n",
              "      <td>GasA</td>\n",
              "      <td>...</td>\n",
              "      <td>Y</td>\n",
              "      <td>SBrkr</td>\n",
              "      <td>920</td>\n",
              "      <td>866</td>\n",
              "      <td>0</td>\n",
              "      <td>1786</td>\n",
              "      <td>1</td>\n",
              "      <td>0</td>\n",
              "      <td>2</td>\n",
              "      <td>1</td>\n",
              "      <td>3</td>\n",
              "      <td>1</td>\n",
              "      <td>Gd</td>\n",
              "      <td>6</td>\n",
              "      <td>Typ</td>\n",
              "      <td>1</td>\n",
              "      <td>TA</td>\n",
              "      <td>Attchd</td>\n",
              "      <td>2001.0</td>\n",
              "      <td>RFn</td>\n",
              "      <td>2</td>\n",
              "      <td>608</td>\n",
              "      <td>TA</td>\n",
              "      <td>TA</td>\n",
              "      <td>Y</td>\n",
              "      <td>0</td>\n",
              "      <td>42</td>\n",
              "      <td>0</td>\n",
              "      <td>0</td>\n",
              "      <td>0</td>\n",
              "      <td>0</td>\n",
              "      <td>NaN</td>\n",
              "      <td>NaN</td>\n",
              "      <td>NaN</td>\n",
              "      <td>0</td>\n",
              "      <td>9</td>\n",
              "      <td>2008</td>\n",
              "      <td>WD</td>\n",
              "      <td>Normal</td>\n",
              "      <td>223500</td>\n",
              "    </tr>\n",
              "    <tr>\n",
              "      <th>3</th>\n",
              "      <td>4</td>\n",
              "      <td>70</td>\n",
              "      <td>RL</td>\n",
              "      <td>60.0</td>\n",
              "      <td>9550</td>\n",
              "      <td>Pave</td>\n",
              "      <td>NaN</td>\n",
              "      <td>IR1</td>\n",
              "      <td>Lvl</td>\n",
              "      <td>AllPub</td>\n",
              "      <td>Corner</td>\n",
              "      <td>Gtl</td>\n",
              "      <td>Crawfor</td>\n",
              "      <td>Norm</td>\n",
              "      <td>Norm</td>\n",
              "      <td>1Fam</td>\n",
              "      <td>2Story</td>\n",
              "      <td>7</td>\n",
              "      <td>5</td>\n",
              "      <td>1915</td>\n",
              "      <td>1970</td>\n",
              "      <td>Gable</td>\n",
              "      <td>CompShg</td>\n",
              "      <td>Wd Sdng</td>\n",
              "      <td>Wd Shng</td>\n",
              "      <td>None</td>\n",
              "      <td>0.0</td>\n",
              "      <td>TA</td>\n",
              "      <td>TA</td>\n",
              "      <td>BrkTil</td>\n",
              "      <td>TA</td>\n",
              "      <td>Gd</td>\n",
              "      <td>No</td>\n",
              "      <td>ALQ</td>\n",
              "      <td>216</td>\n",
              "      <td>Unf</td>\n",
              "      <td>0</td>\n",
              "      <td>540</td>\n",
              "      <td>756</td>\n",
              "      <td>GasA</td>\n",
              "      <td>...</td>\n",
              "      <td>Y</td>\n",
              "      <td>SBrkr</td>\n",
              "      <td>961</td>\n",
              "      <td>756</td>\n",
              "      <td>0</td>\n",
              "      <td>1717</td>\n",
              "      <td>1</td>\n",
              "      <td>0</td>\n",
              "      <td>1</td>\n",
              "      <td>0</td>\n",
              "      <td>3</td>\n",
              "      <td>1</td>\n",
              "      <td>Gd</td>\n",
              "      <td>7</td>\n",
              "      <td>Typ</td>\n",
              "      <td>1</td>\n",
              "      <td>Gd</td>\n",
              "      <td>Detchd</td>\n",
              "      <td>1998.0</td>\n",
              "      <td>Unf</td>\n",
              "      <td>3</td>\n",
              "      <td>642</td>\n",
              "      <td>TA</td>\n",
              "      <td>TA</td>\n",
              "      <td>Y</td>\n",
              "      <td>0</td>\n",
              "      <td>35</td>\n",
              "      <td>272</td>\n",
              "      <td>0</td>\n",
              "      <td>0</td>\n",
              "      <td>0</td>\n",
              "      <td>NaN</td>\n",
              "      <td>NaN</td>\n",
              "      <td>NaN</td>\n",
              "      <td>0</td>\n",
              "      <td>2</td>\n",
              "      <td>2006</td>\n",
              "      <td>WD</td>\n",
              "      <td>Abnorml</td>\n",
              "      <td>140000</td>\n",
              "    </tr>\n",
              "    <tr>\n",
              "      <th>4</th>\n",
              "      <td>5</td>\n",
              "      <td>60</td>\n",
              "      <td>RL</td>\n",
              "      <td>84.0</td>\n",
              "      <td>14260</td>\n",
              "      <td>Pave</td>\n",
              "      <td>NaN</td>\n",
              "      <td>IR1</td>\n",
              "      <td>Lvl</td>\n",
              "      <td>AllPub</td>\n",
              "      <td>FR2</td>\n",
              "      <td>Gtl</td>\n",
              "      <td>NoRidge</td>\n",
              "      <td>Norm</td>\n",
              "      <td>Norm</td>\n",
              "      <td>1Fam</td>\n",
              "      <td>2Story</td>\n",
              "      <td>8</td>\n",
              "      <td>5</td>\n",
              "      <td>2000</td>\n",
              "      <td>2000</td>\n",
              "      <td>Gable</td>\n",
              "      <td>CompShg</td>\n",
              "      <td>VinylSd</td>\n",
              "      <td>VinylSd</td>\n",
              "      <td>BrkFace</td>\n",
              "      <td>350.0</td>\n",
              "      <td>Gd</td>\n",
              "      <td>TA</td>\n",
              "      <td>PConc</td>\n",
              "      <td>Gd</td>\n",
              "      <td>TA</td>\n",
              "      <td>Av</td>\n",
              "      <td>GLQ</td>\n",
              "      <td>655</td>\n",
              "      <td>Unf</td>\n",
              "      <td>0</td>\n",
              "      <td>490</td>\n",
              "      <td>1145</td>\n",
              "      <td>GasA</td>\n",
              "      <td>...</td>\n",
              "      <td>Y</td>\n",
              "      <td>SBrkr</td>\n",
              "      <td>1145</td>\n",
              "      <td>1053</td>\n",
              "      <td>0</td>\n",
              "      <td>2198</td>\n",
              "      <td>1</td>\n",
              "      <td>0</td>\n",
              "      <td>2</td>\n",
              "      <td>1</td>\n",
              "      <td>4</td>\n",
              "      <td>1</td>\n",
              "      <td>Gd</td>\n",
              "      <td>9</td>\n",
              "      <td>Typ</td>\n",
              "      <td>1</td>\n",
              "      <td>TA</td>\n",
              "      <td>Attchd</td>\n",
              "      <td>2000.0</td>\n",
              "      <td>RFn</td>\n",
              "      <td>3</td>\n",
              "      <td>836</td>\n",
              "      <td>TA</td>\n",
              "      <td>TA</td>\n",
              "      <td>Y</td>\n",
              "      <td>192</td>\n",
              "      <td>84</td>\n",
              "      <td>0</td>\n",
              "      <td>0</td>\n",
              "      <td>0</td>\n",
              "      <td>0</td>\n",
              "      <td>NaN</td>\n",
              "      <td>NaN</td>\n",
              "      <td>NaN</td>\n",
              "      <td>0</td>\n",
              "      <td>12</td>\n",
              "      <td>2008</td>\n",
              "      <td>WD</td>\n",
              "      <td>Normal</td>\n",
              "      <td>250000</td>\n",
              "    </tr>\n",
              "  </tbody>\n",
              "</table>\n",
              "<p>5 rows × 81 columns</p>\n",
              "</div>"
            ],
            "text/plain": [
              "   Id  MSSubClass MSZoning  ...  SaleType  SaleCondition SalePrice\n",
              "0   1          60       RL  ...        WD         Normal    208500\n",
              "1   2          20       RL  ...        WD         Normal    181500\n",
              "2   3          60       RL  ...        WD         Normal    223500\n",
              "3   4          70       RL  ...        WD        Abnorml    140000\n",
              "4   5          60       RL  ...        WD         Normal    250000\n",
              "\n",
              "[5 rows x 81 columns]"
            ]
          },
          "metadata": {
            "tags": []
          },
          "execution_count": 8
        }
      ]
    },
    {
      "cell_type": "code",
      "metadata": {
        "id": "lzqQlXiJ1Ha9",
        "colab_type": "code",
        "outputId": "096fe57d-4a3d-4830-b7b6-7900729ba568",
        "colab": {
          "base_uri": "https://localhost:8080/",
          "height": 246
        }
      },
      "source": [
        "import numpy as np\n",
        "import pandas as pd \n",
        "import matplotlib.pyplot as plt\n",
        "import seaborn as sns \n",
        "\n",
        "train.head()"
      ],
      "execution_count": 0,
      "outputs": [
        {
          "output_type": "execute_result",
          "data": {
            "text/html": [
              "<div>\n",
              "<style scoped>\n",
              "    .dataframe tbody tr th:only-of-type {\n",
              "        vertical-align: middle;\n",
              "    }\n",
              "\n",
              "    .dataframe tbody tr th {\n",
              "        vertical-align: top;\n",
              "    }\n",
              "\n",
              "    .dataframe thead th {\n",
              "        text-align: right;\n",
              "    }\n",
              "</style>\n",
              "<table border=\"1\" class=\"dataframe\">\n",
              "  <thead>\n",
              "    <tr style=\"text-align: right;\">\n",
              "      <th></th>\n",
              "      <th>Id</th>\n",
              "      <th>MSSubClass</th>\n",
              "      <th>MSZoning</th>\n",
              "      <th>LotFrontage</th>\n",
              "      <th>LotArea</th>\n",
              "      <th>Street</th>\n",
              "      <th>Alley</th>\n",
              "      <th>LotShape</th>\n",
              "      <th>LandContour</th>\n",
              "      <th>Utilities</th>\n",
              "      <th>LotConfig</th>\n",
              "      <th>LandSlope</th>\n",
              "      <th>Neighborhood</th>\n",
              "      <th>Condition1</th>\n",
              "      <th>Condition2</th>\n",
              "      <th>BldgType</th>\n",
              "      <th>HouseStyle</th>\n",
              "      <th>OverallQual</th>\n",
              "      <th>OverallCond</th>\n",
              "      <th>YearBuilt</th>\n",
              "      <th>YearRemodAdd</th>\n",
              "      <th>RoofStyle</th>\n",
              "      <th>RoofMatl</th>\n",
              "      <th>Exterior1st</th>\n",
              "      <th>Exterior2nd</th>\n",
              "      <th>MasVnrType</th>\n",
              "      <th>MasVnrArea</th>\n",
              "      <th>ExterQual</th>\n",
              "      <th>ExterCond</th>\n",
              "      <th>Foundation</th>\n",
              "      <th>BsmtQual</th>\n",
              "      <th>BsmtCond</th>\n",
              "      <th>BsmtExposure</th>\n",
              "      <th>BsmtFinType1</th>\n",
              "      <th>BsmtFinSF1</th>\n",
              "      <th>BsmtFinType2</th>\n",
              "      <th>BsmtFinSF2</th>\n",
              "      <th>BsmtUnfSF</th>\n",
              "      <th>TotalBsmtSF</th>\n",
              "      <th>Heating</th>\n",
              "      <th>...</th>\n",
              "      <th>CentralAir</th>\n",
              "      <th>Electrical</th>\n",
              "      <th>1stFlrSF</th>\n",
              "      <th>2ndFlrSF</th>\n",
              "      <th>LowQualFinSF</th>\n",
              "      <th>GrLivArea</th>\n",
              "      <th>BsmtFullBath</th>\n",
              "      <th>BsmtHalfBath</th>\n",
              "      <th>FullBath</th>\n",
              "      <th>HalfBath</th>\n",
              "      <th>BedroomAbvGr</th>\n",
              "      <th>KitchenAbvGr</th>\n",
              "      <th>KitchenQual</th>\n",
              "      <th>TotRmsAbvGrd</th>\n",
              "      <th>Functional</th>\n",
              "      <th>Fireplaces</th>\n",
              "      <th>FireplaceQu</th>\n",
              "      <th>GarageType</th>\n",
              "      <th>GarageYrBlt</th>\n",
              "      <th>GarageFinish</th>\n",
              "      <th>GarageCars</th>\n",
              "      <th>GarageArea</th>\n",
              "      <th>GarageQual</th>\n",
              "      <th>GarageCond</th>\n",
              "      <th>PavedDrive</th>\n",
              "      <th>WoodDeckSF</th>\n",
              "      <th>OpenPorchSF</th>\n",
              "      <th>EnclosedPorch</th>\n",
              "      <th>3SsnPorch</th>\n",
              "      <th>ScreenPorch</th>\n",
              "      <th>PoolArea</th>\n",
              "      <th>PoolQC</th>\n",
              "      <th>Fence</th>\n",
              "      <th>MiscFeature</th>\n",
              "      <th>MiscVal</th>\n",
              "      <th>MoSold</th>\n",
              "      <th>YrSold</th>\n",
              "      <th>SaleType</th>\n",
              "      <th>SaleCondition</th>\n",
              "      <th>SalePrice</th>\n",
              "    </tr>\n",
              "  </thead>\n",
              "  <tbody>\n",
              "    <tr>\n",
              "      <th>0</th>\n",
              "      <td>1</td>\n",
              "      <td>60</td>\n",
              "      <td>RL</td>\n",
              "      <td>65.0</td>\n",
              "      <td>8450</td>\n",
              "      <td>Pave</td>\n",
              "      <td>NaN</td>\n",
              "      <td>Reg</td>\n",
              "      <td>Lvl</td>\n",
              "      <td>AllPub</td>\n",
              "      <td>Inside</td>\n",
              "      <td>Gtl</td>\n",
              "      <td>CollgCr</td>\n",
              "      <td>Norm</td>\n",
              "      <td>Norm</td>\n",
              "      <td>1Fam</td>\n",
              "      <td>2Story</td>\n",
              "      <td>7</td>\n",
              "      <td>5</td>\n",
              "      <td>2003</td>\n",
              "      <td>2003</td>\n",
              "      <td>Gable</td>\n",
              "      <td>CompShg</td>\n",
              "      <td>VinylSd</td>\n",
              "      <td>VinylSd</td>\n",
              "      <td>BrkFace</td>\n",
              "      <td>196.0</td>\n",
              "      <td>Gd</td>\n",
              "      <td>TA</td>\n",
              "      <td>PConc</td>\n",
              "      <td>Gd</td>\n",
              "      <td>TA</td>\n",
              "      <td>No</td>\n",
              "      <td>GLQ</td>\n",
              "      <td>706</td>\n",
              "      <td>Unf</td>\n",
              "      <td>0</td>\n",
              "      <td>150</td>\n",
              "      <td>856</td>\n",
              "      <td>GasA</td>\n",
              "      <td>...</td>\n",
              "      <td>Y</td>\n",
              "      <td>SBrkr</td>\n",
              "      <td>856</td>\n",
              "      <td>854</td>\n",
              "      <td>0</td>\n",
              "      <td>1710</td>\n",
              "      <td>1</td>\n",
              "      <td>0</td>\n",
              "      <td>2</td>\n",
              "      <td>1</td>\n",
              "      <td>3</td>\n",
              "      <td>1</td>\n",
              "      <td>Gd</td>\n",
              "      <td>8</td>\n",
              "      <td>Typ</td>\n",
              "      <td>0</td>\n",
              "      <td>NaN</td>\n",
              "      <td>Attchd</td>\n",
              "      <td>2003.0</td>\n",
              "      <td>RFn</td>\n",
              "      <td>2</td>\n",
              "      <td>548</td>\n",
              "      <td>TA</td>\n",
              "      <td>TA</td>\n",
              "      <td>Y</td>\n",
              "      <td>0</td>\n",
              "      <td>61</td>\n",
              "      <td>0</td>\n",
              "      <td>0</td>\n",
              "      <td>0</td>\n",
              "      <td>0</td>\n",
              "      <td>NaN</td>\n",
              "      <td>NaN</td>\n",
              "      <td>NaN</td>\n",
              "      <td>0</td>\n",
              "      <td>2</td>\n",
              "      <td>2008</td>\n",
              "      <td>WD</td>\n",
              "      <td>Normal</td>\n",
              "      <td>208500</td>\n",
              "    </tr>\n",
              "    <tr>\n",
              "      <th>1</th>\n",
              "      <td>2</td>\n",
              "      <td>20</td>\n",
              "      <td>RL</td>\n",
              "      <td>80.0</td>\n",
              "      <td>9600</td>\n",
              "      <td>Pave</td>\n",
              "      <td>NaN</td>\n",
              "      <td>Reg</td>\n",
              "      <td>Lvl</td>\n",
              "      <td>AllPub</td>\n",
              "      <td>FR2</td>\n",
              "      <td>Gtl</td>\n",
              "      <td>Veenker</td>\n",
              "      <td>Feedr</td>\n",
              "      <td>Norm</td>\n",
              "      <td>1Fam</td>\n",
              "      <td>1Story</td>\n",
              "      <td>6</td>\n",
              "      <td>8</td>\n",
              "      <td>1976</td>\n",
              "      <td>1976</td>\n",
              "      <td>Gable</td>\n",
              "      <td>CompShg</td>\n",
              "      <td>MetalSd</td>\n",
              "      <td>MetalSd</td>\n",
              "      <td>None</td>\n",
              "      <td>0.0</td>\n",
              "      <td>TA</td>\n",
              "      <td>TA</td>\n",
              "      <td>CBlock</td>\n",
              "      <td>Gd</td>\n",
              "      <td>TA</td>\n",
              "      <td>Gd</td>\n",
              "      <td>ALQ</td>\n",
              "      <td>978</td>\n",
              "      <td>Unf</td>\n",
              "      <td>0</td>\n",
              "      <td>284</td>\n",
              "      <td>1262</td>\n",
              "      <td>GasA</td>\n",
              "      <td>...</td>\n",
              "      <td>Y</td>\n",
              "      <td>SBrkr</td>\n",
              "      <td>1262</td>\n",
              "      <td>0</td>\n",
              "      <td>0</td>\n",
              "      <td>1262</td>\n",
              "      <td>0</td>\n",
              "      <td>1</td>\n",
              "      <td>2</td>\n",
              "      <td>0</td>\n",
              "      <td>3</td>\n",
              "      <td>1</td>\n",
              "      <td>TA</td>\n",
              "      <td>6</td>\n",
              "      <td>Typ</td>\n",
              "      <td>1</td>\n",
              "      <td>TA</td>\n",
              "      <td>Attchd</td>\n",
              "      <td>1976.0</td>\n",
              "      <td>RFn</td>\n",
              "      <td>2</td>\n",
              "      <td>460</td>\n",
              "      <td>TA</td>\n",
              "      <td>TA</td>\n",
              "      <td>Y</td>\n",
              "      <td>298</td>\n",
              "      <td>0</td>\n",
              "      <td>0</td>\n",
              "      <td>0</td>\n",
              "      <td>0</td>\n",
              "      <td>0</td>\n",
              "      <td>NaN</td>\n",
              "      <td>NaN</td>\n",
              "      <td>NaN</td>\n",
              "      <td>0</td>\n",
              "      <td>5</td>\n",
              "      <td>2007</td>\n",
              "      <td>WD</td>\n",
              "      <td>Normal</td>\n",
              "      <td>181500</td>\n",
              "    </tr>\n",
              "    <tr>\n",
              "      <th>2</th>\n",
              "      <td>3</td>\n",
              "      <td>60</td>\n",
              "      <td>RL</td>\n",
              "      <td>68.0</td>\n",
              "      <td>11250</td>\n",
              "      <td>Pave</td>\n",
              "      <td>NaN</td>\n",
              "      <td>IR1</td>\n",
              "      <td>Lvl</td>\n",
              "      <td>AllPub</td>\n",
              "      <td>Inside</td>\n",
              "      <td>Gtl</td>\n",
              "      <td>CollgCr</td>\n",
              "      <td>Norm</td>\n",
              "      <td>Norm</td>\n",
              "      <td>1Fam</td>\n",
              "      <td>2Story</td>\n",
              "      <td>7</td>\n",
              "      <td>5</td>\n",
              "      <td>2001</td>\n",
              "      <td>2002</td>\n",
              "      <td>Gable</td>\n",
              "      <td>CompShg</td>\n",
              "      <td>VinylSd</td>\n",
              "      <td>VinylSd</td>\n",
              "      <td>BrkFace</td>\n",
              "      <td>162.0</td>\n",
              "      <td>Gd</td>\n",
              "      <td>TA</td>\n",
              "      <td>PConc</td>\n",
              "      <td>Gd</td>\n",
              "      <td>TA</td>\n",
              "      <td>Mn</td>\n",
              "      <td>GLQ</td>\n",
              "      <td>486</td>\n",
              "      <td>Unf</td>\n",
              "      <td>0</td>\n",
              "      <td>434</td>\n",
              "      <td>920</td>\n",
              "      <td>GasA</td>\n",
              "      <td>...</td>\n",
              "      <td>Y</td>\n",
              "      <td>SBrkr</td>\n",
              "      <td>920</td>\n",
              "      <td>866</td>\n",
              "      <td>0</td>\n",
              "      <td>1786</td>\n",
              "      <td>1</td>\n",
              "      <td>0</td>\n",
              "      <td>2</td>\n",
              "      <td>1</td>\n",
              "      <td>3</td>\n",
              "      <td>1</td>\n",
              "      <td>Gd</td>\n",
              "      <td>6</td>\n",
              "      <td>Typ</td>\n",
              "      <td>1</td>\n",
              "      <td>TA</td>\n",
              "      <td>Attchd</td>\n",
              "      <td>2001.0</td>\n",
              "      <td>RFn</td>\n",
              "      <td>2</td>\n",
              "      <td>608</td>\n",
              "      <td>TA</td>\n",
              "      <td>TA</td>\n",
              "      <td>Y</td>\n",
              "      <td>0</td>\n",
              "      <td>42</td>\n",
              "      <td>0</td>\n",
              "      <td>0</td>\n",
              "      <td>0</td>\n",
              "      <td>0</td>\n",
              "      <td>NaN</td>\n",
              "      <td>NaN</td>\n",
              "      <td>NaN</td>\n",
              "      <td>0</td>\n",
              "      <td>9</td>\n",
              "      <td>2008</td>\n",
              "      <td>WD</td>\n",
              "      <td>Normal</td>\n",
              "      <td>223500</td>\n",
              "    </tr>\n",
              "    <tr>\n",
              "      <th>3</th>\n",
              "      <td>4</td>\n",
              "      <td>70</td>\n",
              "      <td>RL</td>\n",
              "      <td>60.0</td>\n",
              "      <td>9550</td>\n",
              "      <td>Pave</td>\n",
              "      <td>NaN</td>\n",
              "      <td>IR1</td>\n",
              "      <td>Lvl</td>\n",
              "      <td>AllPub</td>\n",
              "      <td>Corner</td>\n",
              "      <td>Gtl</td>\n",
              "      <td>Crawfor</td>\n",
              "      <td>Norm</td>\n",
              "      <td>Norm</td>\n",
              "      <td>1Fam</td>\n",
              "      <td>2Story</td>\n",
              "      <td>7</td>\n",
              "      <td>5</td>\n",
              "      <td>1915</td>\n",
              "      <td>1970</td>\n",
              "      <td>Gable</td>\n",
              "      <td>CompShg</td>\n",
              "      <td>Wd Sdng</td>\n",
              "      <td>Wd Shng</td>\n",
              "      <td>None</td>\n",
              "      <td>0.0</td>\n",
              "      <td>TA</td>\n",
              "      <td>TA</td>\n",
              "      <td>BrkTil</td>\n",
              "      <td>TA</td>\n",
              "      <td>Gd</td>\n",
              "      <td>No</td>\n",
              "      <td>ALQ</td>\n",
              "      <td>216</td>\n",
              "      <td>Unf</td>\n",
              "      <td>0</td>\n",
              "      <td>540</td>\n",
              "      <td>756</td>\n",
              "      <td>GasA</td>\n",
              "      <td>...</td>\n",
              "      <td>Y</td>\n",
              "      <td>SBrkr</td>\n",
              "      <td>961</td>\n",
              "      <td>756</td>\n",
              "      <td>0</td>\n",
              "      <td>1717</td>\n",
              "      <td>1</td>\n",
              "      <td>0</td>\n",
              "      <td>1</td>\n",
              "      <td>0</td>\n",
              "      <td>3</td>\n",
              "      <td>1</td>\n",
              "      <td>Gd</td>\n",
              "      <td>7</td>\n",
              "      <td>Typ</td>\n",
              "      <td>1</td>\n",
              "      <td>Gd</td>\n",
              "      <td>Detchd</td>\n",
              "      <td>1998.0</td>\n",
              "      <td>Unf</td>\n",
              "      <td>3</td>\n",
              "      <td>642</td>\n",
              "      <td>TA</td>\n",
              "      <td>TA</td>\n",
              "      <td>Y</td>\n",
              "      <td>0</td>\n",
              "      <td>35</td>\n",
              "      <td>272</td>\n",
              "      <td>0</td>\n",
              "      <td>0</td>\n",
              "      <td>0</td>\n",
              "      <td>NaN</td>\n",
              "      <td>NaN</td>\n",
              "      <td>NaN</td>\n",
              "      <td>0</td>\n",
              "      <td>2</td>\n",
              "      <td>2006</td>\n",
              "      <td>WD</td>\n",
              "      <td>Abnorml</td>\n",
              "      <td>140000</td>\n",
              "    </tr>\n",
              "    <tr>\n",
              "      <th>4</th>\n",
              "      <td>5</td>\n",
              "      <td>60</td>\n",
              "      <td>RL</td>\n",
              "      <td>84.0</td>\n",
              "      <td>14260</td>\n",
              "      <td>Pave</td>\n",
              "      <td>NaN</td>\n",
              "      <td>IR1</td>\n",
              "      <td>Lvl</td>\n",
              "      <td>AllPub</td>\n",
              "      <td>FR2</td>\n",
              "      <td>Gtl</td>\n",
              "      <td>NoRidge</td>\n",
              "      <td>Norm</td>\n",
              "      <td>Norm</td>\n",
              "      <td>1Fam</td>\n",
              "      <td>2Story</td>\n",
              "      <td>8</td>\n",
              "      <td>5</td>\n",
              "      <td>2000</td>\n",
              "      <td>2000</td>\n",
              "      <td>Gable</td>\n",
              "      <td>CompShg</td>\n",
              "      <td>VinylSd</td>\n",
              "      <td>VinylSd</td>\n",
              "      <td>BrkFace</td>\n",
              "      <td>350.0</td>\n",
              "      <td>Gd</td>\n",
              "      <td>TA</td>\n",
              "      <td>PConc</td>\n",
              "      <td>Gd</td>\n",
              "      <td>TA</td>\n",
              "      <td>Av</td>\n",
              "      <td>GLQ</td>\n",
              "      <td>655</td>\n",
              "      <td>Unf</td>\n",
              "      <td>0</td>\n",
              "      <td>490</td>\n",
              "      <td>1145</td>\n",
              "      <td>GasA</td>\n",
              "      <td>...</td>\n",
              "      <td>Y</td>\n",
              "      <td>SBrkr</td>\n",
              "      <td>1145</td>\n",
              "      <td>1053</td>\n",
              "      <td>0</td>\n",
              "      <td>2198</td>\n",
              "      <td>1</td>\n",
              "      <td>0</td>\n",
              "      <td>2</td>\n",
              "      <td>1</td>\n",
              "      <td>4</td>\n",
              "      <td>1</td>\n",
              "      <td>Gd</td>\n",
              "      <td>9</td>\n",
              "      <td>Typ</td>\n",
              "      <td>1</td>\n",
              "      <td>TA</td>\n",
              "      <td>Attchd</td>\n",
              "      <td>2000.0</td>\n",
              "      <td>RFn</td>\n",
              "      <td>3</td>\n",
              "      <td>836</td>\n",
              "      <td>TA</td>\n",
              "      <td>TA</td>\n",
              "      <td>Y</td>\n",
              "      <td>192</td>\n",
              "      <td>84</td>\n",
              "      <td>0</td>\n",
              "      <td>0</td>\n",
              "      <td>0</td>\n",
              "      <td>0</td>\n",
              "      <td>NaN</td>\n",
              "      <td>NaN</td>\n",
              "      <td>NaN</td>\n",
              "      <td>0</td>\n",
              "      <td>12</td>\n",
              "      <td>2008</td>\n",
              "      <td>WD</td>\n",
              "      <td>Normal</td>\n",
              "      <td>250000</td>\n",
              "    </tr>\n",
              "  </tbody>\n",
              "</table>\n",
              "<p>5 rows × 81 columns</p>\n",
              "</div>"
            ],
            "text/plain": [
              "   Id  MSSubClass MSZoning  ...  SaleType  SaleCondition SalePrice\n",
              "0   1          60       RL  ...        WD         Normal    208500\n",
              "1   2          20       RL  ...        WD         Normal    181500\n",
              "2   3          60       RL  ...        WD         Normal    223500\n",
              "3   4          70       RL  ...        WD        Abnorml    140000\n",
              "4   5          60       RL  ...        WD         Normal    250000\n",
              "\n",
              "[5 rows x 81 columns]"
            ]
          },
          "metadata": {
            "tags": []
          },
          "execution_count": 9
        }
      ]
    },
    {
      "cell_type": "code",
      "metadata": {
        "id": "jdFoiiEs1Jho",
        "colab_type": "code",
        "outputId": "50139e36-37dd-4f08-e33a-fae4fa1cc91f",
        "colab": {
          "base_uri": "https://localhost:8080/",
          "height": 318
        }
      },
      "source": [
        "plt.style.use('seaborn')\n",
        "sns.set_style('whitegrid')\n",
        "\n",
        "plt.subplots(0,0,figsize=(15,3))\n",
        "train.isnull().mean().sort_values(ascending = False).plot.bar(color = 'green')\n",
        "plt.title('No value in train',fontsize = 20)\n",
        "plt.show()"
      ],
      "execution_count": 0,
      "outputs": [
        {
          "output_type": "display_data",
          "data": {
            "image/png": "[encoded data removed]",
            "text/plain": [
              "<Figure size 1080x216 with 1 Axes>"
            ]
          },
          "metadata": {
            "tags": []
          }
        }
      ]
    },
    {
      "cell_type": "code",
      "metadata": {
        "id": "Cf0EgZNn1LAz",
        "colab_type": "code",
        "outputId": "00ef6b4a-20fc-4b6e-fc47-b2b983ad1f95",
        "colab": {
          "base_uri": "https://localhost:8080/",
          "height": 318
        }
      },
      "source": [
        "plt.style.use('seaborn')\n",
        "sns.set_style('whitegrid')\n",
        "\n",
        "plt.subplots(0,0,figsize=(15,3))\n",
        "test.isnull().mean().sort_values(ascending = False).plot.bar(color = 'green')\n",
        "plt.title('No value in test',fontsize = 20)\n",
        "plt.show()"
      ],
      "execution_count": 0,
      "outputs": [
        {
          "output_type": "display_data",
          "data": {
            "image/png": "[encoded data removed]",
            "text/plain": [
              "<Figure size 1080x216 with 1 Axes>"
            ]
          },
          "metadata": {
            "tags": []
          }
        }
      ]
    },
    {
      "cell_type": "code",
      "metadata": {
        "id": "fbQM8XaR1OSC",
        "colab_type": "code",
        "colab": {}
      },
      "source": [
        "#head에 보니까 숫자형이랑 카테고리 형식이 있었는데 이것들을 어떻게 할건지 생각해보자 \n",
        "#MSsubclass 설명서 읽어보니까 숫자인데 실제는 설명임 의미가 없는 숫자였음 \n",
        "\n",
        "train['MSSubClass'] = train['MSSubClass'].astype(object)\n",
        "test['MSSubClass'] = test['MSSubClass'].astype(object)\n",
        "#바꾸자"
      ],
      "execution_count": 0,
      "outputs": []
    },
    {
      "cell_type": "code",
      "metadata": {
        "id": "QG7DzJv116nP",
        "colab_type": "code",
        "outputId": "e6ca866b-7355-4bab-efef-b42be4b89e04",
        "colab": {
          "base_uri": "https://localhost:8080/",
          "height": 1000
        }
      },
      "source": [
        "train.info()"
      ],
      "execution_count": 0,
      "outputs": [
        {
          "output_type": "stream",
          "text": [
            "<class 'pandas.core.frame.DataFrame'>\n",
            "RangeIndex: 1460 entries, 0 to 1459\n",
            "Data columns (total 81 columns):\n",
            "Id               1460 non-null int64\n",
            "MSSubClass       1460 non-null object\n",
            "MSZoning         1460 non-null object\n",
            "LotFrontage      1201 non-null float64\n",
            "LotArea          1460 non-null int64\n",
            "Street           1460 non-null object\n",
            "Alley            91 non-null object\n",
            "LotShape         1460 non-null object\n",
            "LandContour      1460 non-null object\n",
            "Utilities        1460 non-null object\n",
            "LotConfig        1460 non-null object\n",
            "LandSlope        1460 non-null object\n",
            "Neighborhood     1460 non-null object\n",
            "Condition1       1460 non-null object\n",
            "Condition2       1460 non-null object\n",
            "BldgType         1460 non-null object\n",
            "HouseStyle       1460 non-null object\n",
            "OverallQual      1460 non-null int64\n",
            "OverallCond      1460 non-null int64\n",
            "YearBuilt        1460 non-null int64\n",
            "YearRemodAdd     1460 non-null int64\n",
            "RoofStyle        1460 non-null object\n",
            "RoofMatl         1460 non-null object\n",
            "Exterior1st      1460 non-null object\n",
            "Exterior2nd      1460 non-null object\n",
            "MasVnrType       1452 non-null object\n",
            "MasVnrArea       1452 non-null float64\n",
            "ExterQual        1460 non-null object\n",
            "ExterCond        1460 non-null object\n",
            "Foundation       1460 non-null object\n",
            "BsmtQual         1423 non-null object\n",
            "BsmtCond         1423 non-null object\n",
            "BsmtExposure     1422 non-null object\n",
            "BsmtFinType1     1423 non-null object\n",
            "BsmtFinSF1       1460 non-null int64\n",
            "BsmtFinType2     1422 non-null object\n",
            "BsmtFinSF2       1460 non-null int64\n",
            "BsmtUnfSF        1460 non-null int64\n",
            "TotalBsmtSF      1460 non-null int64\n",
            "Heating          1460 non-null object\n",
            "HeatingQC        1460 non-null object\n",
            "CentralAir       1460 non-null object\n",
            "Electrical       1459 non-null object\n",
            "1stFlrSF         1460 non-null int64\n",
            "2ndFlrSF         1460 non-null int64\n",
            "LowQualFinSF     1460 non-null int64\n",
            "GrLivArea        1460 non-null int64\n",
            "BsmtFullBath     1460 non-null int64\n",
            "BsmtHalfBath     1460 non-null int64\n",
            "FullBath         1460 non-null int64\n",
            "HalfBath         1460 non-null int64\n",
            "BedroomAbvGr     1460 non-null int64\n",
            "KitchenAbvGr     1460 non-null int64\n",
            "KitchenQual      1460 non-null object\n",
            "TotRmsAbvGrd     1460 non-null int64\n",
            "Functional       1460 non-null object\n",
            "Fireplaces       1460 non-null int64\n",
            "FireplaceQu      770 non-null object\n",
            "GarageType       1379 non-null object\n",
            "GarageYrBlt      1379 non-null float64\n",
            "GarageFinish     1379 non-null object\n",
            "GarageCars       1460 non-null int64\n",
            "GarageArea       1460 non-null int64\n",
            "GarageQual       1379 non-null object\n",
            "GarageCond       1379 non-null object\n",
            "PavedDrive       1460 non-null object\n",
            "WoodDeckSF       1460 non-null int64\n",
            "OpenPorchSF      1460 non-null int64\n",
            "EnclosedPorch    1460 non-null int64\n",
            "3SsnPorch        1460 non-null int64\n",
            "ScreenPorch      1460 non-null int64\n",
            "PoolArea         1460 non-null int64\n",
            "PoolQC           7 non-null object\n",
            "Fence            281 non-null object\n",
            "MiscFeature      54 non-null object\n",
            "MiscVal          1460 non-null int64\n",
            "MoSold           1460 non-null int64\n",
            "YrSold           1460 non-null int64\n",
            "SaleType         1460 non-null object\n",
            "SaleCondition    1460 non-null object\n",
            "SalePrice        1460 non-null int64\n",
            "dtypes: float64(3), int64(34), object(44)\n",
            "memory usage: 924.0+ KB\n"
          ],
          "name": "stdout"
        }
      ]
    },
    {
      "cell_type": "code",
      "metadata": {
        "id": "i9Ajt6F719BZ",
        "colab_type": "code",
        "outputId": "8c2d5872-4247-4e29-ef85-793ff26cf759",
        "colab": {
          "base_uri": "https://localhost:8080/",
          "height": 54
        }
      },
      "source": [
        "catego_count = [col for col in train.columns if train[col].dtypes == 'object']\n",
        "\n",
        "print(catego_count)"
      ],
      "execution_count": 0,
      "outputs": [
        {
          "output_type": "stream",
          "text": [
            "['MSSubClass', 'MSZoning', 'Street', 'Alley', 'LotShape', 'LandContour', 'Utilities', 'LotConfig', 'LandSlope', 'Neighborhood', 'Condition1', 'Condition2', 'BldgType', 'HouseStyle', 'RoofStyle', 'RoofMatl', 'Exterior1st', 'Exterior2nd', 'MasVnrType', 'ExterQual', 'ExterCond', 'Foundation', 'BsmtQual', 'BsmtCond', 'BsmtExposure', 'BsmtFinType1', 'BsmtFinType2', 'Heating', 'HeatingQC', 'CentralAir', 'Electrical', 'KitchenQual', 'Functional', 'FireplaceQu', 'GarageType', 'GarageFinish', 'GarageQual', 'GarageCond', 'PavedDrive', 'PoolQC', 'Fence', 'MiscFeature', 'SaleType', 'SaleCondition']\n"
          ],
          "name": "stdout"
        }
      ]
    },
    {
      "cell_type": "code",
      "metadata": {
        "id": "H5SH-r1u2AE5",
        "colab_type": "code",
        "outputId": "6d830ed4-65d1-4e1a-df18-ee21936c54cc",
        "colab": {
          "base_uri": "https://localhost:8080/",
          "height": 34
        }
      },
      "source": [
        "td = train.drop(['SalePrice'],axis =1)\n",
        "td = td.append(test)\n",
        "td = td.drop(['Id'],axis=1)\n",
        "td.shape"
      ],
      "execution_count": 0,
      "outputs": [
        {
          "output_type": "execute_result",
          "data": {
            "text/plain": [
              "(2919, 79)"
            ]
          },
          "metadata": {
            "tags": []
          },
          "execution_count": 15
        }
      ]
    },
    {
      "cell_type": "code",
      "metadata": {
        "id": "65RB5JbM2CXX",
        "colab_type": "code",
        "colab": {}
      },
      "source": [
        "for col in catego_count:\n",
        "  td[col] = td[col].fillna('miss')\n",
        "  #빈칸도 개수를 세어서 영향을 미칠것 그러니까 miss라고 두자 "
      ],
      "execution_count": 0,
      "outputs": []
    },
    {
      "cell_type": "code",
      "metadata": {
        "id": "Ohz9c6y92Gr7",
        "colab_type": "code",
        "outputId": "af141e50-6883-4761-c4e4-b32f1e4772b0",
        "colab": {
          "base_uri": "https://localhost:8080/",
          "height": 217
        }
      },
      "source": [
        "#라벨인코딩\n",
        "from sklearn.preprocessing import LabelEncoder\n",
        "\n",
        "for col in catego_count:\n",
        "  le = LabelEncoder()\n",
        "  td[col] = le.fit_transform(td[col])\n",
        "\n",
        "td.head()"
      ],
      "execution_count": 0,
      "outputs": [
        {
          "output_type": "execute_result",
          "data": {
            "text/html": [
              "<div>\n",
              "<style scoped>\n",
              "    .dataframe tbody tr th:only-of-type {\n",
              "        vertical-align: middle;\n",
              "    }\n",
              "\n",
              "    .dataframe tbody tr th {\n",
              "        vertical-align: top;\n",
              "    }\n",
              "\n",
              "    .dataframe thead th {\n",
              "        text-align: right;\n",
              "    }\n",
              "</style>\n",
              "<table border=\"1\" class=\"dataframe\">\n",
              "  <thead>\n",
              "    <tr style=\"text-align: right;\">\n",
              "      <th></th>\n",
              "      <th>MSSubClass</th>\n",
              "      <th>MSZoning</th>\n",
              "      <th>LotFrontage</th>\n",
              "      <th>LotArea</th>\n",
              "      <th>Street</th>\n",
              "      <th>Alley</th>\n",
              "      <th>LotShape</th>\n",
              "      <th>LandContour</th>\n",
              "      <th>Utilities</th>\n",
              "      <th>LotConfig</th>\n",
              "      <th>LandSlope</th>\n",
              "      <th>Neighborhood</th>\n",
              "      <th>Condition1</th>\n",
              "      <th>Condition2</th>\n",
              "      <th>BldgType</th>\n",
              "      <th>HouseStyle</th>\n",
              "      <th>OverallQual</th>\n",
              "      <th>OverallCond</th>\n",
              "      <th>YearBuilt</th>\n",
              "      <th>YearRemodAdd</th>\n",
              "      <th>RoofStyle</th>\n",
              "      <th>RoofMatl</th>\n",
              "      <th>Exterior1st</th>\n",
              "      <th>Exterior2nd</th>\n",
              "      <th>MasVnrType</th>\n",
              "      <th>MasVnrArea</th>\n",
              "      <th>ExterQual</th>\n",
              "      <th>ExterCond</th>\n",
              "      <th>Foundation</th>\n",
              "      <th>BsmtQual</th>\n",
              "      <th>BsmtCond</th>\n",
              "      <th>BsmtExposure</th>\n",
              "      <th>BsmtFinType1</th>\n",
              "      <th>BsmtFinSF1</th>\n",
              "      <th>BsmtFinType2</th>\n",
              "      <th>BsmtFinSF2</th>\n",
              "      <th>BsmtUnfSF</th>\n",
              "      <th>TotalBsmtSF</th>\n",
              "      <th>Heating</th>\n",
              "      <th>HeatingQC</th>\n",
              "      <th>CentralAir</th>\n",
              "      <th>Electrical</th>\n",
              "      <th>1stFlrSF</th>\n",
              "      <th>2ndFlrSF</th>\n",
              "      <th>LowQualFinSF</th>\n",
              "      <th>GrLivArea</th>\n",
              "      <th>BsmtFullBath</th>\n",
              "      <th>BsmtHalfBath</th>\n",
              "      <th>FullBath</th>\n",
              "      <th>HalfBath</th>\n",
              "      <th>BedroomAbvGr</th>\n",
              "      <th>KitchenAbvGr</th>\n",
              "      <th>KitchenQual</th>\n",
              "      <th>TotRmsAbvGrd</th>\n",
              "      <th>Functional</th>\n",
              "      <th>Fireplaces</th>\n",
              "      <th>FireplaceQu</th>\n",
              "      <th>GarageType</th>\n",
              "      <th>GarageYrBlt</th>\n",
              "      <th>GarageFinish</th>\n",
              "      <th>GarageCars</th>\n",
              "      <th>GarageArea</th>\n",
              "      <th>GarageQual</th>\n",
              "      <th>GarageCond</th>\n",
              "      <th>PavedDrive</th>\n",
              "      <th>WoodDeckSF</th>\n",
              "      <th>OpenPorchSF</th>\n",
              "      <th>EnclosedPorch</th>\n",
              "      <th>3SsnPorch</th>\n",
              "      <th>ScreenPorch</th>\n",
              "      <th>PoolArea</th>\n",
              "      <th>PoolQC</th>\n",
              "      <th>Fence</th>\n",
              "      <th>MiscFeature</th>\n",
              "      <th>MiscVal</th>\n",
              "      <th>MoSold</th>\n",
              "      <th>YrSold</th>\n",
              "      <th>SaleType</th>\n",
              "      <th>SaleCondition</th>\n",
              "    </tr>\n",
              "  </thead>\n",
              "  <tbody>\n",
              "    <tr>\n",
              "      <th>0</th>\n",
              "      <td>5</td>\n",
              "      <td>3</td>\n",
              "      <td>65.0</td>\n",
              "      <td>8450</td>\n",
              "      <td>1</td>\n",
              "      <td>2</td>\n",
              "      <td>3</td>\n",
              "      <td>3</td>\n",
              "      <td>0</td>\n",
              "      <td>4</td>\n",
              "      <td>0</td>\n",
              "      <td>5</td>\n",
              "      <td>2</td>\n",
              "      <td>2</td>\n",
              "      <td>0</td>\n",
              "      <td>5</td>\n",
              "      <td>7</td>\n",
              "      <td>5</td>\n",
              "      <td>2003</td>\n",
              "      <td>2003</td>\n",
              "      <td>1</td>\n",
              "      <td>1</td>\n",
              "      <td>12</td>\n",
              "      <td>13</td>\n",
              "      <td>1</td>\n",
              "      <td>196.0</td>\n",
              "      <td>2</td>\n",
              "      <td>4</td>\n",
              "      <td>2</td>\n",
              "      <td>2</td>\n",
              "      <td>3</td>\n",
              "      <td>3</td>\n",
              "      <td>2</td>\n",
              "      <td>706.0</td>\n",
              "      <td>5</td>\n",
              "      <td>0.0</td>\n",
              "      <td>150.0</td>\n",
              "      <td>856.0</td>\n",
              "      <td>1</td>\n",
              "      <td>0</td>\n",
              "      <td>1</td>\n",
              "      <td>4</td>\n",
              "      <td>856</td>\n",
              "      <td>854</td>\n",
              "      <td>0</td>\n",
              "      <td>1710</td>\n",
              "      <td>1.0</td>\n",
              "      <td>0.0</td>\n",
              "      <td>2</td>\n",
              "      <td>1</td>\n",
              "      <td>3</td>\n",
              "      <td>1</td>\n",
              "      <td>2</td>\n",
              "      <td>8</td>\n",
              "      <td>6</td>\n",
              "      <td>0</td>\n",
              "      <td>5</td>\n",
              "      <td>1</td>\n",
              "      <td>2003.0</td>\n",
              "      <td>1</td>\n",
              "      <td>2.0</td>\n",
              "      <td>548.0</td>\n",
              "      <td>4</td>\n",
              "      <td>4</td>\n",
              "      <td>2</td>\n",
              "      <td>0</td>\n",
              "      <td>61</td>\n",
              "      <td>0</td>\n",
              "      <td>0</td>\n",
              "      <td>0</td>\n",
              "      <td>0</td>\n",
              "      <td>3</td>\n",
              "      <td>4</td>\n",
              "      <td>4</td>\n",
              "      <td>0</td>\n",
              "      <td>2</td>\n",
              "      <td>2008</td>\n",
              "      <td>8</td>\n",
              "      <td>4</td>\n",
              "    </tr>\n",
              "    <tr>\n",
              "      <th>1</th>\n",
              "      <td>0</td>\n",
              "      <td>3</td>\n",
              "      <td>80.0</td>\n",
              "      <td>9600</td>\n",
              "      <td>1</td>\n",
              "      <td>2</td>\n",
              "      <td>3</td>\n",
              "      <td>3</td>\n",
              "      <td>0</td>\n",
              "      <td>2</td>\n",
              "      <td>0</td>\n",
              "      <td>24</td>\n",
              "      <td>1</td>\n",
              "      <td>2</td>\n",
              "      <td>0</td>\n",
              "      <td>2</td>\n",
              "      <td>6</td>\n",
              "      <td>8</td>\n",
              "      <td>1976</td>\n",
              "      <td>1976</td>\n",
              "      <td>1</td>\n",
              "      <td>1</td>\n",
              "      <td>8</td>\n",
              "      <td>8</td>\n",
              "      <td>2</td>\n",
              "      <td>0.0</td>\n",
              "      <td>3</td>\n",
              "      <td>4</td>\n",
              "      <td>1</td>\n",
              "      <td>2</td>\n",
              "      <td>3</td>\n",
              "      <td>1</td>\n",
              "      <td>0</td>\n",
              "      <td>978.0</td>\n",
              "      <td>5</td>\n",
              "      <td>0.0</td>\n",
              "      <td>284.0</td>\n",
              "      <td>1262.0</td>\n",
              "      <td>1</td>\n",
              "      <td>0</td>\n",
              "      <td>1</td>\n",
              "      <td>4</td>\n",
              "      <td>1262</td>\n",
              "      <td>0</td>\n",
              "      <td>0</td>\n",
              "      <td>1262</td>\n",
              "      <td>0.0</td>\n",
              "      <td>1.0</td>\n",
              "      <td>2</td>\n",
              "      <td>0</td>\n",
              "      <td>3</td>\n",
              "      <td>1</td>\n",
              "      <td>3</td>\n",
              "      <td>6</td>\n",
              "      <td>6</td>\n",
              "      <td>1</td>\n",
              "      <td>4</td>\n",
              "      <td>1</td>\n",
              "      <td>1976.0</td>\n",
              "      <td>1</td>\n",
              "      <td>2.0</td>\n",
              "      <td>460.0</td>\n",
              "      <td>4</td>\n",
              "      <td>4</td>\n",
              "      <td>2</td>\n",
              "      <td>298</td>\n",
              "      <td>0</td>\n",
              "      <td>0</td>\n",
              "      <td>0</td>\n",
              "      <td>0</td>\n",
              "      <td>0</td>\n",
              "      <td>3</td>\n",
              "      <td>4</td>\n",
              "      <td>4</td>\n",
              "      <td>0</td>\n",
              "      <td>5</td>\n",
              "      <td>2007</td>\n",
              "      <td>8</td>\n",
              "      <td>4</td>\n",
              "    </tr>\n",
              "    <tr>\n",
              "      <th>2</th>\n",
              "      <td>5</td>\n",
              "      <td>3</td>\n",
              "      <td>68.0</td>\n",
              "      <td>11250</td>\n",
              "      <td>1</td>\n",
              "      <td>2</td>\n",
              "      <td>0</td>\n",
              "      <td>3</td>\n",
              "      <td>0</td>\n",
              "      <td>4</td>\n",
              "      <td>0</td>\n",
              "      <td>5</td>\n",
              "      <td>2</td>\n",
              "      <td>2</td>\n",
              "      <td>0</td>\n",
              "      <td>5</td>\n",
              "      <td>7</td>\n",
              "      <td>5</td>\n",
              "      <td>2001</td>\n",
              "      <td>2002</td>\n",
              "      <td>1</td>\n",
              "      <td>1</td>\n",
              "      <td>12</td>\n",
              "      <td>13</td>\n",
              "      <td>1</td>\n",
              "      <td>162.0</td>\n",
              "      <td>2</td>\n",
              "      <td>4</td>\n",
              "      <td>2</td>\n",
              "      <td>2</td>\n",
              "      <td>3</td>\n",
              "      <td>2</td>\n",
              "      <td>2</td>\n",
              "      <td>486.0</td>\n",
              "      <td>5</td>\n",
              "      <td>0.0</td>\n",
              "      <td>434.0</td>\n",
              "      <td>920.0</td>\n",
              "      <td>1</td>\n",
              "      <td>0</td>\n",
              "      <td>1</td>\n",
              "      <td>4</td>\n",
              "      <td>920</td>\n",
              "      <td>866</td>\n",
              "      <td>0</td>\n",
              "      <td>1786</td>\n",
              "      <td>1.0</td>\n",
              "      <td>0.0</td>\n",
              "      <td>2</td>\n",
              "      <td>1</td>\n",
              "      <td>3</td>\n",
              "      <td>1</td>\n",
              "      <td>2</td>\n",
              "      <td>6</td>\n",
              "      <td>6</td>\n",
              "      <td>1</td>\n",
              "      <td>4</td>\n",
              "      <td>1</td>\n",
              "      <td>2001.0</td>\n",
              "      <td>1</td>\n",
              "      <td>2.0</td>\n",
              "      <td>608.0</td>\n",
              "      <td>4</td>\n",
              "      <td>4</td>\n",
              "      <td>2</td>\n",
              "      <td>0</td>\n",
              "      <td>42</td>\n",
              "      <td>0</td>\n",
              "      <td>0</td>\n",
              "      <td>0</td>\n",
              "      <td>0</td>\n",
              "      <td>3</td>\n",
              "      <td>4</td>\n",
              "      <td>4</td>\n",
              "      <td>0</td>\n",
              "      <td>9</td>\n",
              "      <td>2008</td>\n",
              "      <td>8</td>\n",
              "      <td>4</td>\n",
              "    </tr>\n",
              "    <tr>\n",
              "      <th>3</th>\n",
              "      <td>6</td>\n",
              "      <td>3</td>\n",
              "      <td>60.0</td>\n",
              "      <td>9550</td>\n",
              "      <td>1</td>\n",
              "      <td>2</td>\n",
              "      <td>0</td>\n",
              "      <td>3</td>\n",
              "      <td>0</td>\n",
              "      <td>0</td>\n",
              "      <td>0</td>\n",
              "      <td>6</td>\n",
              "      <td>2</td>\n",
              "      <td>2</td>\n",
              "      <td>0</td>\n",
              "      <td>5</td>\n",
              "      <td>7</td>\n",
              "      <td>5</td>\n",
              "      <td>1915</td>\n",
              "      <td>1970</td>\n",
              "      <td>1</td>\n",
              "      <td>1</td>\n",
              "      <td>13</td>\n",
              "      <td>15</td>\n",
              "      <td>2</td>\n",
              "      <td>0.0</td>\n",
              "      <td>3</td>\n",
              "      <td>4</td>\n",
              "      <td>0</td>\n",
              "      <td>3</td>\n",
              "      <td>1</td>\n",
              "      <td>3</td>\n",
              "      <td>0</td>\n",
              "      <td>216.0</td>\n",
              "      <td>5</td>\n",
              "      <td>0.0</td>\n",
              "      <td>540.0</td>\n",
              "      <td>756.0</td>\n",
              "      <td>1</td>\n",
              "      <td>2</td>\n",
              "      <td>1</td>\n",
              "      <td>4</td>\n",
              "      <td>961</td>\n",
              "      <td>756</td>\n",
              "      <td>0</td>\n",
              "      <td>1717</td>\n",
              "      <td>1.0</td>\n",
              "      <td>0.0</td>\n",
              "      <td>1</td>\n",
              "      <td>0</td>\n",
              "      <td>3</td>\n",
              "      <td>1</td>\n",
              "      <td>2</td>\n",
              "      <td>7</td>\n",
              "      <td>6</td>\n",
              "      <td>1</td>\n",
              "      <td>2</td>\n",
              "      <td>5</td>\n",
              "      <td>1998.0</td>\n",
              "      <td>2</td>\n",
              "      <td>3.0</td>\n",
              "      <td>642.0</td>\n",
              "      <td>4</td>\n",
              "      <td>4</td>\n",
              "      <td>2</td>\n",
              "      <td>0</td>\n",
              "      <td>35</td>\n",
              "      <td>272</td>\n",
              "      <td>0</td>\n",
              "      <td>0</td>\n",
              "      <td>0</td>\n",
              "      <td>3</td>\n",
              "      <td>4</td>\n",
              "      <td>4</td>\n",
              "      <td>0</td>\n",
              "      <td>2</td>\n",
              "      <td>2006</td>\n",
              "      <td>8</td>\n",
              "      <td>0</td>\n",
              "    </tr>\n",
              "    <tr>\n",
              "      <th>4</th>\n",
              "      <td>5</td>\n",
              "      <td>3</td>\n",
              "      <td>84.0</td>\n",
              "      <td>14260</td>\n",
              "      <td>1</td>\n",
              "      <td>2</td>\n",
              "      <td>0</td>\n",
              "      <td>3</td>\n",
              "      <td>0</td>\n",
              "      <td>2</td>\n",
              "      <td>0</td>\n",
              "      <td>15</td>\n",
              "      <td>2</td>\n",
              "      <td>2</td>\n",
              "      <td>0</td>\n",
              "      <td>5</td>\n",
              "      <td>8</td>\n",
              "      <td>5</td>\n",
              "      <td>2000</td>\n",
              "      <td>2000</td>\n",
              "      <td>1</td>\n",
              "      <td>1</td>\n",
              "      <td>12</td>\n",
              "      <td>13</td>\n",
              "      <td>1</td>\n",
              "      <td>350.0</td>\n",
              "      <td>2</td>\n",
              "      <td>4</td>\n",
              "      <td>2</td>\n",
              "      <td>2</td>\n",
              "      <td>3</td>\n",
              "      <td>0</td>\n",
              "      <td>2</td>\n",
              "      <td>655.0</td>\n",
              "      <td>5</td>\n",
              "      <td>0.0</td>\n",
              "      <td>490.0</td>\n",
              "      <td>1145.0</td>\n",
              "      <td>1</td>\n",
              "      <td>0</td>\n",
              "      <td>1</td>\n",
              "      <td>4</td>\n",
              "      <td>1145</td>\n",
              "      <td>1053</td>\n",
              "      <td>0</td>\n",
              "      <td>2198</td>\n",
              "      <td>1.0</td>\n",
              "      <td>0.0</td>\n",
              "      <td>2</td>\n",
              "      <td>1</td>\n",
              "      <td>4</td>\n",
              "      <td>1</td>\n",
              "      <td>2</td>\n",
              "      <td>9</td>\n",
              "      <td>6</td>\n",
              "      <td>1</td>\n",
              "      <td>4</td>\n",
              "      <td>1</td>\n",
              "      <td>2000.0</td>\n",
              "      <td>1</td>\n",
              "      <td>3.0</td>\n",
              "      <td>836.0</td>\n",
              "      <td>4</td>\n",
              "      <td>4</td>\n",
              "      <td>2</td>\n",
              "      <td>192</td>\n",
              "      <td>84</td>\n",
              "      <td>0</td>\n",
              "      <td>0</td>\n",
              "      <td>0</td>\n",
              "      <td>0</td>\n",
              "      <td>3</td>\n",
              "      <td>4</td>\n",
              "      <td>4</td>\n",
              "      <td>0</td>\n",
              "      <td>12</td>\n",
              "      <td>2008</td>\n",
              "      <td>8</td>\n",
              "      <td>4</td>\n",
              "    </tr>\n",
              "  </tbody>\n",
              "</table>\n",
              "</div>"
            ],
            "text/plain": [
              "   MSSubClass  MSZoning  LotFrontage  ...  YrSold  SaleType  SaleCondition\n",
              "0           5         3         65.0  ...    2008         8              4\n",
              "1           0         3         80.0  ...    2007         8              4\n",
              "2           5         3         68.0  ...    2008         8              4\n",
              "3           6         3         60.0  ...    2006         8              0\n",
              "4           5         3         84.0  ...    2008         8              4\n",
              "\n",
              "[5 rows x 79 columns]"
            ]
          },
          "metadata": {
            "tags": []
          },
          "execution_count": 17
        }
      ]
    },
    {
      "cell_type": "code",
      "metadata": {
        "id": "Zws5CR0F6Xsc",
        "colab_type": "code",
        "outputId": "8ea031ab-124e-400a-cd00-755578717ef7",
        "colab": {
          "base_uri": "https://localhost:8080/",
          "height": 1000
        }
      },
      "source": [
        "td.info()"
      ],
      "execution_count": 0,
      "outputs": [
        {
          "output_type": "stream",
          "text": [
            "<class 'pandas.core.frame.DataFrame'>\n",
            "Int64Index: 2919 entries, 0 to 1458\n",
            "Data columns (total 79 columns):\n",
            "MSSubClass       2919 non-null int64\n",
            "MSZoning         2919 non-null int64\n",
            "LotFrontage      2433 non-null float64\n",
            "LotArea          2919 non-null int64\n",
            "Street           2919 non-null int64\n",
            "Alley            2919 non-null int64\n",
            "LotShape         2919 non-null int64\n",
            "LandContour      2919 non-null int64\n",
            "Utilities        2919 non-null int64\n",
            "LotConfig        2919 non-null int64\n",
            "LandSlope        2919 non-null int64\n",
            "Neighborhood     2919 non-null int64\n",
            "Condition1       2919 non-null int64\n",
            "Condition2       2919 non-null int64\n",
            "BldgType         2919 non-null int64\n",
            "HouseStyle       2919 non-null int64\n",
            "OverallQual      2919 non-null int64\n",
            "OverallCond      2919 non-null int64\n",
            "YearBuilt        2919 non-null int64\n",
            "YearRemodAdd     2919 non-null int64\n",
            "RoofStyle        2919 non-null int64\n",
            "RoofMatl         2919 non-null int64\n",
            "Exterior1st      2919 non-null int64\n",
            "Exterior2nd      2919 non-null int64\n",
            "MasVnrType       2919 non-null int64\n",
            "MasVnrArea       2896 non-null float64\n",
            "ExterQual        2919 non-null int64\n",
            "ExterCond        2919 non-null int64\n",
            "Foundation       2919 non-null int64\n",
            "BsmtQual         2919 non-null int64\n",
            "BsmtCond         2919 non-null int64\n",
            "BsmtExposure     2919 non-null int64\n",
            "BsmtFinType1     2919 non-null int64\n",
            "BsmtFinSF1       2918 non-null float64\n",
            "BsmtFinType2     2919 non-null int64\n",
            "BsmtFinSF2       2918 non-null float64\n",
            "BsmtUnfSF        2918 non-null float64\n",
            "TotalBsmtSF      2918 non-null float64\n",
            "Heating          2919 non-null int64\n",
            "HeatingQC        2919 non-null int64\n",
            "CentralAir       2919 non-null int64\n",
            "Electrical       2919 non-null int64\n",
            "1stFlrSF         2919 non-null int64\n",
            "2ndFlrSF         2919 non-null int64\n",
            "LowQualFinSF     2919 non-null int64\n",
            "GrLivArea        2919 non-null int64\n",
            "BsmtFullBath     2917 non-null float64\n",
            "BsmtHalfBath     2917 non-null float64\n",
            "FullBath         2919 non-null int64\n",
            "HalfBath         2919 non-null int64\n",
            "BedroomAbvGr     2919 non-null int64\n",
            "KitchenAbvGr     2919 non-null int64\n",
            "KitchenQual      2919 non-null int64\n",
            "TotRmsAbvGrd     2919 non-null int64\n",
            "Functional       2919 non-null int64\n",
            "Fireplaces       2919 non-null int64\n",
            "FireplaceQu      2919 non-null int64\n",
            "GarageType       2919 non-null int64\n",
            "GarageYrBlt      2760 non-null float64\n",
            "GarageFinish     2919 non-null int64\n",
            "GarageCars       2918 non-null float64\n",
            "GarageArea       2918 non-null float64\n",
            "GarageQual       2919 non-null int64\n",
            "GarageCond       2919 non-null int64\n",
            "PavedDrive       2919 non-null int64\n",
            "WoodDeckSF       2919 non-null int64\n",
            "OpenPorchSF      2919 non-null int64\n",
            "EnclosedPorch    2919 non-null int64\n",
            "3SsnPorch        2919 non-null int64\n",
            "ScreenPorch      2919 non-null int64\n",
            "PoolArea         2919 non-null int64\n",
            "PoolQC           2919 non-null int64\n",
            "Fence            2919 non-null int64\n",
            "MiscFeature      2919 non-null int64\n",
            "MiscVal          2919 non-null int64\n",
            "MoSold           2919 non-null int64\n",
            "YrSold           2919 non-null int64\n",
            "SaleType         2919 non-null int64\n",
            "SaleCondition    2919 non-null int64\n",
            "dtypes: float64(11), int64(68)\n",
            "memory usage: 1.8 MB\n"
          ],
          "name": "stdout"
        }
      ]
    },
    {
      "cell_type": "code",
      "metadata": {
        "id": "JRPo2dAc4uWo",
        "colab_type": "code",
        "outputId": "21b5fd06-2719-4591-902d-1df64323160e",
        "colab": {
          "base_uri": "https://localhost:8080/",
          "height": 52
        }
      },
      "source": [
        "continuous_variables = [col for col in td.columns if td[col].dtype != \"object\"]\n",
        "print(\"number of continuous variables: \")\n",
        "print(len(continuous_variables))"
      ],
      "execution_count": 0,
      "outputs": [
        {
          "output_type": "stream",
          "text": [
            "number of continuous variables: \n",
            "79\n"
          ],
          "name": "stdout"
        }
      ]
    },
    {
      "cell_type": "code",
      "metadata": {
        "id": "ExZjFCMw5KW_",
        "colab_type": "code",
        "outputId": "217a2839-f83b-4881-8ac3-7af3b0f9fc4d",
        "colab": {
          "base_uri": "https://localhost:8080/",
          "height": 318
        }
      },
      "source": [
        "plt.subplots(1,0,figsize = (15,3))\n",
        "td.loc[:,continuous_variables].isnull().mean().sort_values(ascending = False).plot.bar(color = 'blue')\n",
        "plt.title('Missing values average per columns in FULL data', fontsize = 20)\n",
        "plt.show()"
      ],
      "execution_count": 0,
      "outputs": [
        {
          "output_type": "display_data",
          "data": {
            "image/png": "[encoded data removed]",
            "text/plain": [
              "<Figure size 1080x216 with 1 Axes>"
            ]
          },
          "metadata": {
            "tags": []
          }
        }
      ]
    },
    {
      "cell_type": "code",
      "metadata": {
        "id": "ujZhBVT05MXL",
        "colab_type": "code",
        "outputId": "6f35d077-885a-42f4-f381-2514e9b40842",
        "colab": {
          "base_uri": "https://localhost:8080/",
          "height": 447
        }
      },
      "source": [
        "num = train.select_dtypes(exclude = 'object')\n",
        "numcorr = num.corr()\n",
        "\n",
        "plt.subplots(1,0,figsize = (15,3))\n",
        "numcorr['SalePrice'].sort_values(ascending = False).to_frame().plot.bar(color = 'blue')\n",
        "plt.axhline(y = 0.5, color = 'r', linestyle = '-')\n",
        "plt.title('Corrplot vs SalePrice')\n",
        "plt.show()"
      ],
      "execution_count": 0,
      "outputs": [
        {
          "output_type": "display_data",
          "data": {
            "text/plain": [
              "<Figure size 1080x216 with 0 Axes>"
            ]
          },
          "metadata": {
            "tags": []
          }
        },
        {
          "output_type": "display_data",
          "data": {
            "image/png": "[encoded data removed]",
            "text/plain": [
              "<Figure size 576x396 with 1 Axes>"
            ]
          },
          "metadata": {
            "tags": []
          }
        }
      ]
    },
    {
      "cell_type": "code",
      "metadata": {
        "id": "DV_7NyJV5PPb",
        "colab_type": "code",
        "outputId": "bc700ffa-cc91-4928-eb09-f956e3c47bd6",
        "colab": {
          "base_uri": "https://localhost:8080/",
          "height": 693
        }
      },
      "source": [
        "Num=numcorr['SalePrice'].sort_values(ascending=False).to_frame()\n",
        "cm = sns.light_palette(\"red\", as_cmap=True)\n",
        "s = Num.style.background_gradient(cmap=cm)\n",
        "s"
      ],
      "execution_count": 0,
      "outputs": [
        {
          "output_type": "execute_result",
          "data": {
            "text/html": [
              "<style  type=\"text/css\" >\n",
              "    #T_8c450f68_3815_11ea_93fe_0242ac1c0002row0_col0 {\n",
              "            background-color:  #ff0000;\n",
              "            color:  #f1f1f1;\n",
              "        }    #T_8c450f68_3815_11ea_93fe_0242ac1c0002row1_col0 {\n",
              "            background-color:  #ff2a2a;\n",
              "            color:  #f1f1f1;\n",
              "        }    #T_8c450f68_3815_11ea_93fe_0242ac1c0002row2_col0 {\n",
              "            background-color:  #ff3a3a;\n",
              "            color:  #f1f1f1;\n",
              "        }    #T_8c450f68_3815_11ea_93fe_0242ac1c0002row3_col0 {\n",
              "            background-color:  #ff4949;\n",
              "            color:  #000000;\n",
              "        }    #T_8c450f68_3815_11ea_93fe_0242ac1c0002row4_col0 {\n",
              "            background-color:  #ff4c4c;\n",
              "            color:  #000000;\n",
              "        }    #T_8c450f68_3815_11ea_93fe_0242ac1c0002row5_col0 {\n",
              "            background-color:  #ff4e4e;\n",
              "            color:  #000000;\n",
              "        }    #T_8c450f68_3815_11ea_93fe_0242ac1c0002row6_col0 {\n",
              "            background-color:  #ff4f4f;\n",
              "            color:  #000000;\n",
              "        }    #T_8c450f68_3815_11ea_93fe_0242ac1c0002row7_col0 {\n",
              "            background-color:  #ff5959;\n",
              "            color:  #000000;\n",
              "        }    #T_8c450f68_3815_11ea_93fe_0242ac1c0002row8_col0 {\n",
              "            background-color:  #ff5e5e;\n",
              "            color:  #000000;\n",
              "        }    #T_8c450f68_3815_11ea_93fe_0242ac1c0002row9_col0 {\n",
              "            background-color:  #ff6060;\n",
              "            color:  #000000;\n",
              "        }    #T_8c450f68_3815_11ea_93fe_0242ac1c0002row10_col0 {\n",
              "            background-color:  #ff6464;\n",
              "            color:  #000000;\n",
              "        }    #T_8c450f68_3815_11ea_93fe_0242ac1c0002row11_col0 {\n",
              "            background-color:  #ff6767;\n",
              "            color:  #000000;\n",
              "        }    #T_8c450f68_3815_11ea_93fe_0242ac1c0002row12_col0 {\n",
              "            background-color:  #ff6969;\n",
              "            color:  #000000;\n",
              "        }    #T_8c450f68_3815_11ea_93fe_0242ac1c0002row13_col0 {\n",
              "            background-color:  #ff6c6c;\n",
              "            color:  #000000;\n",
              "        }    #T_8c450f68_3815_11ea_93fe_0242ac1c0002row14_col0 {\n",
              "            background-color:  #ff7c7c;\n",
              "            color:  #000000;\n",
              "        }    #T_8c450f68_3815_11ea_93fe_0242ac1c0002row15_col0 {\n",
              "            background-color:  #ff8383;\n",
              "            color:  #000000;\n",
              "        }    #T_8c450f68_3815_11ea_93fe_0242ac1c0002row16_col0 {\n",
              "            background-color:  #ff8989;\n",
              "            color:  #000000;\n",
              "        }    #T_8c450f68_3815_11ea_93fe_0242ac1c0002row17_col0 {\n",
              "            background-color:  #ff8a8a;\n",
              "            color:  #000000;\n",
              "        }    #T_8c450f68_3815_11ea_93fe_0242ac1c0002row18_col0 {\n",
              "            background-color:  #ff8b8b;\n",
              "            color:  #000000;\n",
              "        }    #T_8c450f68_3815_11ea_93fe_0242ac1c0002row19_col0 {\n",
              "            background-color:  #ff9191;\n",
              "            color:  #000000;\n",
              "        }    #T_8c450f68_3815_11ea_93fe_0242ac1c0002row20_col0 {\n",
              "            background-color:  #ff9494;\n",
              "            color:  #000000;\n",
              "        }    #T_8c450f68_3815_11ea_93fe_0242ac1c0002row21_col0 {\n",
              "            background-color:  #ff9d9d;\n",
              "            color:  #000000;\n",
              "        }    #T_8c450f68_3815_11ea_93fe_0242ac1c0002row22_col0 {\n",
              "            background-color:  #ff9f9f;\n",
              "            color:  #000000;\n",
              "        }    #T_8c450f68_3815_11ea_93fe_0242ac1c0002row23_col0 {\n",
              "            background-color:  #ffa8a8;\n",
              "            color:  #000000;\n",
              "        }    #T_8c450f68_3815_11ea_93fe_0242ac1c0002row24_col0 {\n",
              "            background-color:  #ffb4b4;\n",
              "            color:  #000000;\n",
              "        }    #T_8c450f68_3815_11ea_93fe_0242ac1c0002row25_col0 {\n",
              "            background-color:  #ffb8b8;\n",
              "            color:  #000000;\n",
              "        }    #T_8c450f68_3815_11ea_93fe_0242ac1c0002row26_col0 {\n",
              "            background-color:  #ffc1c1;\n",
              "            color:  #000000;\n",
              "        }    #T_8c450f68_3815_11ea_93fe_0242ac1c0002row27_col0 {\n",
              "            background-color:  #ffc2c2;\n",
              "            color:  #000000;\n",
              "        }    #T_8c450f68_3815_11ea_93fe_0242ac1c0002row28_col0 {\n",
              "            background-color:  #ffcccc;\n",
              "            color:  #000000;\n",
              "        }    #T_8c450f68_3815_11ea_93fe_0242ac1c0002row29_col0 {\n",
              "            background-color:  #ffcece;\n",
              "            color:  #000000;\n",
              "        }    #T_8c450f68_3815_11ea_93fe_0242ac1c0002row30_col0 {\n",
              "            background-color:  #ffcfcf;\n",
              "            color:  #000000;\n",
              "        }    #T_8c450f68_3815_11ea_93fe_0242ac1c0002row31_col0 {\n",
              "            background-color:  #ffcfcf;\n",
              "            color:  #000000;\n",
              "        }    #T_8c450f68_3815_11ea_93fe_0242ac1c0002row32_col0 {\n",
              "            background-color:  #ffd0d0;\n",
              "            color:  #000000;\n",
              "        }    #T_8c450f68_3815_11ea_93fe_0242ac1c0002row33_col0 {\n",
              "            background-color:  #ffd0d0;\n",
              "            color:  #000000;\n",
              "        }    #T_8c450f68_3815_11ea_93fe_0242ac1c0002row34_col0 {\n",
              "            background-color:  #ffdada;\n",
              "            color:  #000000;\n",
              "        }    #T_8c450f68_3815_11ea_93fe_0242ac1c0002row35_col0 {\n",
              "            background-color:  #ffe5e5;\n",
              "            color:  #000000;\n",
              "        }    #T_8c450f68_3815_11ea_93fe_0242ac1c0002row36_col0 {\n",
              "            background-color:  #ffe5e5;\n",
              "            color:  #000000;\n",
              "        }</style><table id=\"T_8c450f68_3815_11ea_93fe_0242ac1c0002\" ><thead>    <tr>        <th class=\"blank level0\" ></th>        <th class=\"col_heading level0 col0\" >SalePrice</th>    </tr></thead><tbody>\n",
              "                <tr>\n",
              "                        <th id=\"T_8c450f68_3815_11ea_93fe_0242ac1c0002level0_row0\" class=\"row_heading level0 row0\" >SalePrice</th>\n",
              "                        <td id=\"T_8c450f68_3815_11ea_93fe_0242ac1c0002row0_col0\" class=\"data row0 col0\" >1</td>\n",
              "            </tr>\n",
              "            <tr>\n",
              "                        <th id=\"T_8c450f68_3815_11ea_93fe_0242ac1c0002level0_row1\" class=\"row_heading level0 row1\" >OverallQual</th>\n",
              "                        <td id=\"T_8c450f68_3815_11ea_93fe_0242ac1c0002row1_col0\" class=\"data row1 col0\" >0.790982</td>\n",
              "            </tr>\n",
              "            <tr>\n",
              "                        <th id=\"T_8c450f68_3815_11ea_93fe_0242ac1c0002level0_row2\" class=\"row_heading level0 row2\" >GrLivArea</th>\n",
              "                        <td id=\"T_8c450f68_3815_11ea_93fe_0242ac1c0002row2_col0\" class=\"data row2 col0\" >0.708624</td>\n",
              "            </tr>\n",
              "            <tr>\n",
              "                        <th id=\"T_8c450f68_3815_11ea_93fe_0242ac1c0002level0_row3\" class=\"row_heading level0 row3\" >GarageCars</th>\n",
              "                        <td id=\"T_8c450f68_3815_11ea_93fe_0242ac1c0002row3_col0\" class=\"data row3 col0\" >0.640409</td>\n",
              "            </tr>\n",
              "            <tr>\n",
              "                        <th id=\"T_8c450f68_3815_11ea_93fe_0242ac1c0002level0_row4\" class=\"row_heading level0 row4\" >GarageArea</th>\n",
              "                        <td id=\"T_8c450f68_3815_11ea_93fe_0242ac1c0002row4_col0\" class=\"data row4 col0\" >0.623431</td>\n",
              "            </tr>\n",
              "            <tr>\n",
              "                        <th id=\"T_8c450f68_3815_11ea_93fe_0242ac1c0002level0_row5\" class=\"row_heading level0 row5\" >TotalBsmtSF</th>\n",
              "                        <td id=\"T_8c450f68_3815_11ea_93fe_0242ac1c0002row5_col0\" class=\"data row5 col0\" >0.613581</td>\n",
              "            </tr>\n",
              "            <tr>\n",
              "                        <th id=\"T_8c450f68_3815_11ea_93fe_0242ac1c0002level0_row6\" class=\"row_heading level0 row6\" >1stFlrSF</th>\n",
              "                        <td id=\"T_8c450f68_3815_11ea_93fe_0242ac1c0002row6_col0\" class=\"data row6 col0\" >0.605852</td>\n",
              "            </tr>\n",
              "            <tr>\n",
              "                        <th id=\"T_8c450f68_3815_11ea_93fe_0242ac1c0002level0_row7\" class=\"row_heading level0 row7\" >FullBath</th>\n",
              "                        <td id=\"T_8c450f68_3815_11ea_93fe_0242ac1c0002row7_col0\" class=\"data row7 col0\" >0.560664</td>\n",
              "            </tr>\n",
              "            <tr>\n",
              "                        <th id=\"T_8c450f68_3815_11ea_93fe_0242ac1c0002level0_row8\" class=\"row_heading level0 row8\" >TotRmsAbvGrd</th>\n",
              "                        <td id=\"T_8c450f68_3815_11ea_93fe_0242ac1c0002row8_col0\" class=\"data row8 col0\" >0.533723</td>\n",
              "            </tr>\n",
              "            <tr>\n",
              "                        <th id=\"T_8c450f68_3815_11ea_93fe_0242ac1c0002level0_row9\" class=\"row_heading level0 row9\" >YearBuilt</th>\n",
              "                        <td id=\"T_8c450f68_3815_11ea_93fe_0242ac1c0002row9_col0\" class=\"data row9 col0\" >0.522897</td>\n",
              "            </tr>\n",
              "            <tr>\n",
              "                        <th id=\"T_8c450f68_3815_11ea_93fe_0242ac1c0002level0_row10\" class=\"row_heading level0 row10\" >YearRemodAdd</th>\n",
              "                        <td id=\"T_8c450f68_3815_11ea_93fe_0242ac1c0002row10_col0\" class=\"data row10 col0\" >0.507101</td>\n",
              "            </tr>\n",
              "            <tr>\n",
              "                        <th id=\"T_8c450f68_3815_11ea_93fe_0242ac1c0002level0_row11\" class=\"row_heading level0 row11\" >GarageYrBlt</th>\n",
              "                        <td id=\"T_8c450f68_3815_11ea_93fe_0242ac1c0002row11_col0\" class=\"data row11 col0\" >0.486362</td>\n",
              "            </tr>\n",
              "            <tr>\n",
              "                        <th id=\"T_8c450f68_3815_11ea_93fe_0242ac1c0002level0_row12\" class=\"row_heading level0 row12\" >MasVnrArea</th>\n",
              "                        <td id=\"T_8c450f68_3815_11ea_93fe_0242ac1c0002row12_col0\" class=\"data row12 col0\" >0.477493</td>\n",
              "            </tr>\n",
              "            <tr>\n",
              "                        <th id=\"T_8c450f68_3815_11ea_93fe_0242ac1c0002level0_row13\" class=\"row_heading level0 row13\" >Fireplaces</th>\n",
              "                        <td id=\"T_8c450f68_3815_11ea_93fe_0242ac1c0002row13_col0\" class=\"data row13 col0\" >0.466929</td>\n",
              "            </tr>\n",
              "            <tr>\n",
              "                        <th id=\"T_8c450f68_3815_11ea_93fe_0242ac1c0002level0_row14\" class=\"row_heading level0 row14\" >BsmtFinSF1</th>\n",
              "                        <td id=\"T_8c450f68_3815_11ea_93fe_0242ac1c0002row14_col0\" class=\"data row14 col0\" >0.38642</td>\n",
              "            </tr>\n",
              "            <tr>\n",
              "                        <th id=\"T_8c450f68_3815_11ea_93fe_0242ac1c0002level0_row15\" class=\"row_heading level0 row15\" >LotFrontage</th>\n",
              "                        <td id=\"T_8c450f68_3815_11ea_93fe_0242ac1c0002row15_col0\" class=\"data row15 col0\" >0.351799</td>\n",
              "            </tr>\n",
              "            <tr>\n",
              "                        <th id=\"T_8c450f68_3815_11ea_93fe_0242ac1c0002level0_row16\" class=\"row_heading level0 row16\" >WoodDeckSF</th>\n",
              "                        <td id=\"T_8c450f68_3815_11ea_93fe_0242ac1c0002row16_col0\" class=\"data row16 col0\" >0.324413</td>\n",
              "            </tr>\n",
              "            <tr>\n",
              "                        <th id=\"T_8c450f68_3815_11ea_93fe_0242ac1c0002level0_row17\" class=\"row_heading level0 row17\" >2ndFlrSF</th>\n",
              "                        <td id=\"T_8c450f68_3815_11ea_93fe_0242ac1c0002row17_col0\" class=\"data row17 col0\" >0.319334</td>\n",
              "            </tr>\n",
              "            <tr>\n",
              "                        <th id=\"T_8c450f68_3815_11ea_93fe_0242ac1c0002level0_row18\" class=\"row_heading level0 row18\" >OpenPorchSF</th>\n",
              "                        <td id=\"T_8c450f68_3815_11ea_93fe_0242ac1c0002row18_col0\" class=\"data row18 col0\" >0.315856</td>\n",
              "            </tr>\n",
              "            <tr>\n",
              "                        <th id=\"T_8c450f68_3815_11ea_93fe_0242ac1c0002level0_row19\" class=\"row_heading level0 row19\" >HalfBath</th>\n",
              "                        <td id=\"T_8c450f68_3815_11ea_93fe_0242ac1c0002row19_col0\" class=\"data row19 col0\" >0.284108</td>\n",
              "            </tr>\n",
              "            <tr>\n",
              "                        <th id=\"T_8c450f68_3815_11ea_93fe_0242ac1c0002level0_row20\" class=\"row_heading level0 row20\" >LotArea</th>\n",
              "                        <td id=\"T_8c450f68_3815_11ea_93fe_0242ac1c0002row20_col0\" class=\"data row20 col0\" >0.263843</td>\n",
              "            </tr>\n",
              "            <tr>\n",
              "                        <th id=\"T_8c450f68_3815_11ea_93fe_0242ac1c0002level0_row21\" class=\"row_heading level0 row21\" >BsmtFullBath</th>\n",
              "                        <td id=\"T_8c450f68_3815_11ea_93fe_0242ac1c0002row21_col0\" class=\"data row21 col0\" >0.227122</td>\n",
              "            </tr>\n",
              "            <tr>\n",
              "                        <th id=\"T_8c450f68_3815_11ea_93fe_0242ac1c0002level0_row22\" class=\"row_heading level0 row22\" >BsmtUnfSF</th>\n",
              "                        <td id=\"T_8c450f68_3815_11ea_93fe_0242ac1c0002row22_col0\" class=\"data row22 col0\" >0.214479</td>\n",
              "            </tr>\n",
              "            <tr>\n",
              "                        <th id=\"T_8c450f68_3815_11ea_93fe_0242ac1c0002level0_row23\" class=\"row_heading level0 row23\" >BedroomAbvGr</th>\n",
              "                        <td id=\"T_8c450f68_3815_11ea_93fe_0242ac1c0002row23_col0\" class=\"data row23 col0\" >0.168213</td>\n",
              "            </tr>\n",
              "            <tr>\n",
              "                        <th id=\"T_8c450f68_3815_11ea_93fe_0242ac1c0002level0_row24\" class=\"row_heading level0 row24\" >ScreenPorch</th>\n",
              "                        <td id=\"T_8c450f68_3815_11ea_93fe_0242ac1c0002row24_col0\" class=\"data row24 col0\" >0.111447</td>\n",
              "            </tr>\n",
              "            <tr>\n",
              "                        <th id=\"T_8c450f68_3815_11ea_93fe_0242ac1c0002level0_row25\" class=\"row_heading level0 row25\" >PoolArea</th>\n",
              "                        <td id=\"T_8c450f68_3815_11ea_93fe_0242ac1c0002row25_col0\" class=\"data row25 col0\" >0.0924035</td>\n",
              "            </tr>\n",
              "            <tr>\n",
              "                        <th id=\"T_8c450f68_3815_11ea_93fe_0242ac1c0002level0_row26\" class=\"row_heading level0 row26\" >MoSold</th>\n",
              "                        <td id=\"T_8c450f68_3815_11ea_93fe_0242ac1c0002row26_col0\" class=\"data row26 col0\" >0.0464322</td>\n",
              "            </tr>\n",
              "            <tr>\n",
              "                        <th id=\"T_8c450f68_3815_11ea_93fe_0242ac1c0002level0_row27\" class=\"row_heading level0 row27\" >3SsnPorch</th>\n",
              "                        <td id=\"T_8c450f68_3815_11ea_93fe_0242ac1c0002row27_col0\" class=\"data row27 col0\" >0.0445837</td>\n",
              "            </tr>\n",
              "            <tr>\n",
              "                        <th id=\"T_8c450f68_3815_11ea_93fe_0242ac1c0002level0_row28\" class=\"row_heading level0 row28\" >BsmtFinSF2</th>\n",
              "                        <td id=\"T_8c450f68_3815_11ea_93fe_0242ac1c0002row28_col0\" class=\"data row28 col0\" >-0.0113781</td>\n",
              "            </tr>\n",
              "            <tr>\n",
              "                        <th id=\"T_8c450f68_3815_11ea_93fe_0242ac1c0002level0_row29\" class=\"row_heading level0 row29\" >BsmtHalfBath</th>\n",
              "                        <td id=\"T_8c450f68_3815_11ea_93fe_0242ac1c0002row29_col0\" class=\"data row29 col0\" >-0.0168442</td>\n",
              "            </tr>\n",
              "            <tr>\n",
              "                        <th id=\"T_8c450f68_3815_11ea_93fe_0242ac1c0002level0_row30\" class=\"row_heading level0 row30\" >MiscVal</th>\n",
              "                        <td id=\"T_8c450f68_3815_11ea_93fe_0242ac1c0002row30_col0\" class=\"data row30 col0\" >-0.0211896</td>\n",
              "            </tr>\n",
              "            <tr>\n",
              "                        <th id=\"T_8c450f68_3815_11ea_93fe_0242ac1c0002level0_row31\" class=\"row_heading level0 row31\" >Id</th>\n",
              "                        <td id=\"T_8c450f68_3815_11ea_93fe_0242ac1c0002row31_col0\" class=\"data row31 col0\" >-0.0219167</td>\n",
              "            </tr>\n",
              "            <tr>\n",
              "                        <th id=\"T_8c450f68_3815_11ea_93fe_0242ac1c0002level0_row32\" class=\"row_heading level0 row32\" >LowQualFinSF</th>\n",
              "                        <td id=\"T_8c450f68_3815_11ea_93fe_0242ac1c0002row32_col0\" class=\"data row32 col0\" >-0.0256061</td>\n",
              "            </tr>\n",
              "            <tr>\n",
              "                        <th id=\"T_8c450f68_3815_11ea_93fe_0242ac1c0002level0_row33\" class=\"row_heading level0 row33\" >YrSold</th>\n",
              "                        <td id=\"T_8c450f68_3815_11ea_93fe_0242ac1c0002row33_col0\" class=\"data row33 col0\" >-0.0289226</td>\n",
              "            </tr>\n",
              "            <tr>\n",
              "                        <th id=\"T_8c450f68_3815_11ea_93fe_0242ac1c0002level0_row34\" class=\"row_heading level0 row34\" >OverallCond</th>\n",
              "                        <td id=\"T_8c450f68_3815_11ea_93fe_0242ac1c0002row34_col0\" class=\"data row34 col0\" >-0.0778559</td>\n",
              "            </tr>\n",
              "            <tr>\n",
              "                        <th id=\"T_8c450f68_3815_11ea_93fe_0242ac1c0002level0_row35\" class=\"row_heading level0 row35\" >EnclosedPorch</th>\n",
              "                        <td id=\"T_8c450f68_3815_11ea_93fe_0242ac1c0002row35_col0\" class=\"data row35 col0\" >-0.128578</td>\n",
              "            </tr>\n",
              "            <tr>\n",
              "                        <th id=\"T_8c450f68_3815_11ea_93fe_0242ac1c0002level0_row36\" class=\"row_heading level0 row36\" >KitchenAbvGr</th>\n",
              "                        <td id=\"T_8c450f68_3815_11ea_93fe_0242ac1c0002row36_col0\" class=\"data row36 col0\" >-0.135907</td>\n",
              "            </tr>\n",
              "    </tbody></table>"
            ],
            "text/plain": [
              "<pandas.io.formats.style.Styler at 0x7f0b0df45b70>"
            ]
          },
          "metadata": {
            "tags": []
          },
          "execution_count": 22
        }
      ]
    },
    {
      "cell_type": "code",
      "metadata": {
        "id": "xSa1yBL45RHT",
        "colab_type": "code",
        "outputId": "dcc1bf6f-48f4-4f14-e16b-f6f31346d171",
        "colab": {
          "base_uri": "https://localhost:8080/",
          "height": 646
        }
      },
      "source": [
        "#이상치를 제거할것이냐 말것이냐 문제\n",
        "fig = plt.figure(figsize = (15,10))\n",
        "\n",
        "ax1 = plt.subplot2grid((2,2),(0,0))\n",
        "ax1.set_xlim([0,7000])\n",
        "plt.scatter(x = train['GrLivArea'], y = train['SalePrice'], color = ('yellow'))\n",
        "plt.title('GrLivArea - SalePrice', fontsize = 15, weight = 'bold')\n",
        "\n",
        "ax1 = plt.subplot2grid((2,2),(0,1))\n",
        "plt.scatter(x = train['TotalBsmtSF'], y = train['SalePrice'], color = ('red'))\n",
        "plt.title('TotalBsmtSF - SalePrice', fontsize = 15, weight = 'bold')\n",
        "\n",
        "ax1 = plt.subplot2grid((2,2),(1,0))\n",
        "plt.scatter(x = train['GarageArea'], y = train['SalePrice'], color = ('blue'))\n",
        "plt.title('GarageArea - SalePrice', fontsize = 15, weight = 'bold')\n",
        "\n",
        "ax1 = plt.subplot2grid((2,2),(1,1))\n",
        "plt.scatter(x = train['MasVnrArea'], y = train['SalePrice'], color = ('black'))\n",
        "plt.title('MasVnrArea - SalePrice', fontsize = 15, weight = 'bold')\n",
        "\n",
        "#이거 구석에 몰려 있는 값은 제거 하면 안될거 같은데 바꺝에 있는 애들도 양이 많아서"
      ],
      "execution_count": 0,
      "outputs": [
        {
          "output_type": "execute_result",
          "data": {
            "text/plain": [
              "Text(0.5, 1.0, 'MasVnrArea - SalePrice')"
            ]
          },
          "metadata": {
            "tags": []
          },
          "execution_count": 23
        },
        {
          "output_type": "display_data",
          "data": {
            "image/png": "[encoded data removed]",
            "text/plain": [
              "<Figure size 1080x720 with 4 Axes>"
            ]
          },
          "metadata": {
            "tags": []
          }
        }
      ]
    },
    {
      "cell_type": "code",
      "metadata": {
        "id": "2bgPbjeP5XRP",
        "colab_type": "code",
        "outputId": "21b305fe-484d-4ff5-e014-35e16e603570",
        "colab": {
          "base_uri": "https://localhost:8080/",
          "height": 230
        }
      },
      "source": [
        "td['GarageYrBlt'].value_counts()"
      ],
      "execution_count": 0,
      "outputs": [
        {
          "output_type": "execute_result",
          "data": {
            "text/plain": [
              "2005.0    142\n",
              "2006.0    115\n",
              "2007.0    115\n",
              "2004.0     99\n",
              "2003.0     92\n",
              "         ... \n",
              "1933.0      1\n",
              "1943.0      1\n",
              "1906.0      1\n",
              "1919.0      1\n",
              "1896.0      1\n",
              "Name: GarageYrBlt, Length: 103, dtype: int64"
            ]
          },
          "metadata": {
            "tags": []
          },
          "execution_count": 24
        }
      ]
    },
    {
      "cell_type": "code",
      "metadata": {
        "id": "9wd7QGzN5amC",
        "colab_type": "code",
        "colab": {}
      },
      "source": [
        "td['GarageYrBlt'] = td['GarageYrBlt'].fillna(1978)\n",
        "# 일단 여기까지"
      ],
      "execution_count": 0,
      "outputs": []
    },
    {
      "cell_type": "code",
      "metadata": {
        "id": "qUSmRD-iOGXw",
        "colab_type": "code",
        "outputId": "f44ff8be-ced4-40fc-bc8a-2c3a33cf66b9",
        "colab": {
          "base_uri": "https://localhost:8080/",
          "height": 1000
        }
      },
      "source": [
        "td.info()"
      ],
      "execution_count": 0,
      "outputs": [
        {
          "output_type": "stream",
          "text": [
            "<class 'pandas.core.frame.DataFrame'>\n",
            "Int64Index: 2919 entries, 0 to 1458\n",
            "Data columns (total 79 columns):\n",
            "MSSubClass       2919 non-null int64\n",
            "MSZoning         2919 non-null int64\n",
            "LotFrontage      2433 non-null float64\n",
            "LotArea          2919 non-null int64\n",
            "Street           2919 non-null int64\n",
            "Alley            2919 non-null int64\n",
            "LotShape         2919 non-null int64\n",
            "LandContour      2919 non-null int64\n",
            "Utilities        2919 non-null int64\n",
            "LotConfig        2919 non-null int64\n",
            "LandSlope        2919 non-null int64\n",
            "Neighborhood     2919 non-null int64\n",
            "Condition1       2919 non-null int64\n",
            "Condition2       2919 non-null int64\n",
            "BldgType         2919 non-null int64\n",
            "HouseStyle       2919 non-null int64\n",
            "OverallQual      2919 non-null int64\n",
            "OverallCond      2919 non-null int64\n",
            "YearBuilt        2919 non-null int64\n",
            "YearRemodAdd     2919 non-null int64\n",
            "RoofStyle        2919 non-null int64\n",
            "RoofMatl         2919 non-null int64\n",
            "Exterior1st      2919 non-null int64\n",
            "Exterior2nd      2919 non-null int64\n",
            "MasVnrType       2919 non-null int64\n",
            "MasVnrArea       2896 non-null float64\n",
            "ExterQual        2919 non-null int64\n",
            "ExterCond        2919 non-null int64\n",
            "Foundation       2919 non-null int64\n",
            "BsmtQual         2919 non-null int64\n",
            "BsmtCond         2919 non-null int64\n",
            "BsmtExposure     2919 non-null int64\n",
            "BsmtFinType1     2919 non-null int64\n",
            "BsmtFinSF1       2918 non-null float64\n",
            "BsmtFinType2     2919 non-null int64\n",
            "BsmtFinSF2       2918 non-null float64\n",
            "BsmtUnfSF        2918 non-null float64\n",
            "TotalBsmtSF      2918 non-null float64\n",
            "Heating          2919 non-null int64\n",
            "HeatingQC        2919 non-null int64\n",
            "CentralAir       2919 non-null int64\n",
            "Electrical       2919 non-null int64\n",
            "1stFlrSF         2919 non-null int64\n",
            "2ndFlrSF         2919 non-null int64\n",
            "LowQualFinSF     2919 non-null int64\n",
            "GrLivArea        2919 non-null int64\n",
            "BsmtFullBath     2917 non-null float64\n",
            "BsmtHalfBath     2917 non-null float64\n",
            "FullBath         2919 non-null int64\n",
            "HalfBath         2919 non-null int64\n",
            "BedroomAbvGr     2919 non-null int64\n",
            "KitchenAbvGr     2919 non-null int64\n",
            "KitchenQual      2919 non-null int64\n",
            "TotRmsAbvGrd     2919 non-null int64\n",
            "Functional       2919 non-null int64\n",
            "Fireplaces       2919 non-null int64\n",
            "FireplaceQu      2919 non-null int64\n",
            "GarageType       2919 non-null int64\n",
            "GarageYrBlt      2919 non-null float64\n",
            "GarageFinish     2919 non-null int64\n",
            "GarageCars       2918 non-null float64\n",
            "GarageArea       2918 non-null float64\n",
            "GarageQual       2919 non-null int64\n",
            "GarageCond       2919 non-null int64\n",
            "PavedDrive       2919 non-null int64\n",
            "WoodDeckSF       2919 non-null int64\n",
            "OpenPorchSF      2919 non-null int64\n",
            "EnclosedPorch    2919 non-null int64\n",
            "3SsnPorch        2919 non-null int64\n",
            "ScreenPorch      2919 non-null int64\n",
            "PoolArea         2919 non-null int64\n",
            "PoolQC           2919 non-null int64\n",
            "Fence            2919 non-null int64\n",
            "MiscFeature      2919 non-null int64\n",
            "MiscVal          2919 non-null int64\n",
            "MoSold           2919 non-null int64\n",
            "YrSold           2919 non-null int64\n",
            "SaleType         2919 non-null int64\n",
            "SaleCondition    2919 non-null int64\n",
            "dtypes: float64(11), int64(68)\n",
            "memory usage: 1.8 MB\n"
          ],
          "name": "stdout"
        }
      ]
    },
    {
      "cell_type": "code",
      "metadata": {
        "id": "PC9nDa_1OPTw",
        "colab_type": "code",
        "outputId": "6a89c215-bacc-4908-f558-5883cf8737e3",
        "colab": {
          "base_uri": "https://localhost:8080/",
          "height": 230
        }
      },
      "source": [
        "td['MasVnrArea'].value_counts()"
      ],
      "execution_count": 0,
      "outputs": [
        {
          "output_type": "execute_result",
          "data": {
            "text/plain": [
              "0.0      1738\n",
              "120.0      15\n",
              "176.0      13\n",
              "200.0      13\n",
              "216.0      12\n",
              "         ... \n",
              "664.0       1\n",
              "247.0       1\n",
              "550.0       1\n",
              "137.0       1\n",
              "572.0       1\n",
              "Name: MasVnrArea, Length: 444, dtype: int64"
            ]
          },
          "metadata": {
            "tags": []
          },
          "execution_count": 27
        }
      ]
    },
    {
      "cell_type": "code",
      "metadata": {
        "id": "6QlwDq2mOaLE",
        "colab_type": "code",
        "outputId": "0c168056-8f70-4c89-bf3f-8a33aed93ec5",
        "colab": {
          "base_uri": "https://localhost:8080/",
          "height": 176
        }
      },
      "source": [
        "td['MasVnrArea'].describe()"
      ],
      "execution_count": 0,
      "outputs": [
        {
          "output_type": "execute_result",
          "data": {
            "text/plain": [
              "count    2896.000000\n",
              "mean      102.201312\n",
              "std       179.334253\n",
              "min         0.000000\n",
              "25%         0.000000\n",
              "50%         0.000000\n",
              "75%       164.000000\n",
              "max      1600.000000\n",
              "Name: MasVnrArea, dtype: float64"
            ]
          },
          "metadata": {
            "tags": []
          },
          "execution_count": 28
        }
      ]
    },
    {
      "cell_type": "code",
      "metadata": {
        "id": "UQUHP9xaOfxy",
        "colab_type": "code",
        "colab": {}
      },
      "source": [
        "td['MasVnrArea']=td['MasVnrArea'].fillna(102.2)"
      ],
      "execution_count": 0,
      "outputs": []
    },
    {
      "cell_type": "code",
      "metadata": {
        "id": "CbuBl0YP5cvH",
        "colab_type": "code",
        "colab": {}
      },
      "source": [
        "for col in continuous_variables:\n",
        "    td[col] = td[col].fillna(0)\n",
        "\n",
        "#아까 빈칸 남은거 다 채워야 됨"
      ],
      "execution_count": 0,
      "outputs": []
    },
    {
      "cell_type": "code",
      "metadata": {
        "id": "psyGreCW8A89",
        "colab_type": "code",
        "outputId": "445c3fdf-c503-457d-c23a-20a2cc719859",
        "colab": {
          "base_uri": "https://localhost:8080/",
          "height": 1000
        }
      },
      "source": [
        "td.info()"
      ],
      "execution_count": 0,
      "outputs": [
        {
          "output_type": "stream",
          "text": [
            "<class 'pandas.core.frame.DataFrame'>\n",
            "Int64Index: 2919 entries, 0 to 1458\n",
            "Data columns (total 79 columns):\n",
            "MSSubClass       2919 non-null int64\n",
            "MSZoning         2919 non-null int64\n",
            "LotFrontage      2919 non-null float64\n",
            "LotArea          2919 non-null int64\n",
            "Street           2919 non-null int64\n",
            "Alley            2919 non-null int64\n",
            "LotShape         2919 non-null int64\n",
            "LandContour      2919 non-null int64\n",
            "Utilities        2919 non-null int64\n",
            "LotConfig        2919 non-null int64\n",
            "LandSlope        2919 non-null int64\n",
            "Neighborhood     2919 non-null int64\n",
            "Condition1       2919 non-null int64\n",
            "Condition2       2919 non-null int64\n",
            "BldgType         2919 non-null int64\n",
            "HouseStyle       2919 non-null int64\n",
            "OverallQual      2919 non-null int64\n",
            "OverallCond      2919 non-null int64\n",
            "YearBuilt        2919 non-null int64\n",
            "YearRemodAdd     2919 non-null int64\n",
            "RoofStyle        2919 non-null int64\n",
            "RoofMatl         2919 non-null int64\n",
            "Exterior1st      2919 non-null int64\n",
            "Exterior2nd      2919 non-null int64\n",
            "MasVnrType       2919 non-null int64\n",
            "MasVnrArea       2919 non-null float64\n",
            "ExterQual        2919 non-null int64\n",
            "ExterCond        2919 non-null int64\n",
            "Foundation       2919 non-null int64\n",
            "BsmtQual         2919 non-null int64\n",
            "BsmtCond         2919 non-null int64\n",
            "BsmtExposure     2919 non-null int64\n",
            "BsmtFinType1     2919 non-null int64\n",
            "BsmtFinSF1       2919 non-null float64\n",
            "BsmtFinType2     2919 non-null int64\n",
            "BsmtFinSF2       2919 non-null float64\n",
            "BsmtUnfSF        2919 non-null float64\n",
            "TotalBsmtSF      2919 non-null float64\n",
            "Heating          2919 non-null int64\n",
            "HeatingQC        2919 non-null int64\n",
            "CentralAir       2919 non-null int64\n",
            "Electrical       2919 non-null int64\n",
            "1stFlrSF         2919 non-null int64\n",
            "2ndFlrSF         2919 non-null int64\n",
            "LowQualFinSF     2919 non-null int64\n",
            "GrLivArea        2919 non-null int64\n",
            "BsmtFullBath     2919 non-null float64\n",
            "BsmtHalfBath     2919 non-null float64\n",
            "FullBath         2919 non-null int64\n",
            "HalfBath         2919 non-null int64\n",
            "BedroomAbvGr     2919 non-null int64\n",
            "KitchenAbvGr     2919 non-null int64\n",
            "KitchenQual      2919 non-null int64\n",
            "TotRmsAbvGrd     2919 non-null int64\n",
            "Functional       2919 non-null int64\n",
            "Fireplaces       2919 non-null int64\n",
            "FireplaceQu      2919 non-null int64\n",
            "GarageType       2919 non-null int64\n",
            "GarageYrBlt      2919 non-null float64\n",
            "GarageFinish     2919 non-null int64\n",
            "GarageCars       2919 non-null float64\n",
            "GarageArea       2919 non-null float64\n",
            "GarageQual       2919 non-null int64\n",
            "GarageCond       2919 non-null int64\n",
            "PavedDrive       2919 non-null int64\n",
            "WoodDeckSF       2919 non-null int64\n",
            "OpenPorchSF      2919 non-null int64\n",
            "EnclosedPorch    2919 non-null int64\n",
            "3SsnPorch        2919 non-null int64\n",
            "ScreenPorch      2919 non-null int64\n",
            "PoolArea         2919 non-null int64\n",
            "PoolQC           2919 non-null int64\n",
            "Fence            2919 non-null int64\n",
            "MiscFeature      2919 non-null int64\n",
            "MiscVal          2919 non-null int64\n",
            "MoSold           2919 non-null int64\n",
            "YrSold           2919 non-null int64\n",
            "SaleType         2919 non-null int64\n",
            "SaleCondition    2919 non-null int64\n",
            "dtypes: float64(11), int64(68)\n",
            "memory usage: 1.8 MB\n"
          ],
          "name": "stdout"
        }
      ]
    },
    {
      "cell_type": "code",
      "metadata": {
        "id": "32JG7HrT8L41",
        "colab_type": "code",
        "colab": {}
      },
      "source": [
        "td = td.drop(['MoSold',\n",
        "              '3SsnPorch','BsmtFinSF2','BsmtHalfBath',\n",
        "             'MiscVal',\n",
        "              'LowQualFinSF','YrSold'], axis = 1)"
      ],
      "execution_count": 0,
      "outputs": []
    },
    {
      "cell_type": "code",
      "metadata": {
        "id": "f-vzQPJZeEfn",
        "colab_type": "code",
        "colab": {}
      },
      "source": [
        "td = td.drop(['Neighborhood','Condition2',\n",
        "                     'Exterior1st','Exterior2nd',\n",
        "                      'PoolQC','Alley'\n",
        "                     ], axis=1)"
      ],
      "execution_count": 0,
      "outputs": []
    },
    {
      "cell_type": "code",
      "metadata": {
        "id": "ahjvo2QX5eDO",
        "colab_type": "code",
        "colab": {}
      },
      "source": [
        "td['year_qual'] = td['YearBuilt']*td['OverallQual']\n",
        "td['year_r_qual'] = td['YearRemodAdd']*td['OverallQual']\n",
        "td['qual_bsmt'] = td['OverallQual']*td['TotalBsmtSF']\n",
        "td['livarea_qual'] = td['OverallQual']*td['GrLivArea']\n",
        "td['qual_bath'] = td['OverallQual']*td['FullBath']\n",
        "td['TotalArea'] = td['TotalBsmtSF'] + td['1stFlrSF'] + td['2ndFlrSF'] + td['GrLivArea'] + td['GarageArea']\n",
        "td['Bathrooms'] = td['FullBath'] + td['HalfBath']\n",
        "td['YearAverage'] = (td['YearRemodAdd'] + td['YearBuilt'])/2\n"
      ],
      "execution_count": 0,
      "outputs": []
    },
    {
      "cell_type": "code",
      "metadata": {
        "id": "mqSK94IF5t4I",
        "colab_type": "code",
        "colab": {}
      },
      "source": [
        "log_cols = ['livarea_qual','qual_bsmt',\n",
        "            'LotArea',\n",
        "           'MasVnrArea', 'TotalBsmtSF',\n",
        "           'GarageArea','GrLivArea',\n",
        "            ]\n",
        "for col in log_cols:\n",
        "    td[col] = np.log1p(td[col])"
      ],
      "execution_count": 0,
      "outputs": []
    },
    {
      "cell_type": "code",
      "metadata": {
        "id": "de2g5pTk5vkW",
        "colab_type": "code",
        "outputId": "3de6ee59-dc16-49c0-f36f-b90b30b3b4c7",
        "colab": {
          "base_uri": "https://localhost:8080/",
          "height": 693
        }
      },
      "source": [
        "num = train.select_dtypes(exclude = 'object')\n",
        "numcorr = num.corr()\n",
        "\n",
        "Num=numcorr['SalePrice'].sort_values(ascending=False).to_frame()\n",
        "cm = sns.light_palette(\"red\", as_cmap=True)\n",
        "s = Num.style.background_gradient(cmap=cm)\n",
        "s"
      ],
      "execution_count": 0,
      "outputs": [
        {
          "output_type": "execute_result",
          "data": {
            "text/html": [
              "<style  type=\"text/css\" >\n",
              "    #T_8d529754_3815_11ea_93fe_0242ac1c0002row0_col0 {\n",
              "            background-color:  #ff0000;\n",
              "            color:  #f1f1f1;\n",
              "        }    #T_8d529754_3815_11ea_93fe_0242ac1c0002row1_col0 {\n",
              "            background-color:  #ff2a2a;\n",
              "            color:  #f1f1f1;\n",
              "        }    #T_8d529754_3815_11ea_93fe_0242ac1c0002row2_col0 {\n",
              "            background-color:  #ff3a3a;\n",
              "            color:  #f1f1f1;\n",
              "        }    #T_8d529754_3815_11ea_93fe_0242ac1c0002row3_col0 {\n",
              "            background-color:  #ff4949;\n",
              "            color:  #000000;\n",
              "        }    #T_8d529754_3815_11ea_93fe_0242ac1c0002row4_col0 {\n",
              "            background-color:  #ff4c4c;\n",
              "            color:  #000000;\n",
              "        }    #T_8d529754_3815_11ea_93fe_0242ac1c0002row5_col0 {\n",
              "            background-color:  #ff4e4e;\n",
              "            color:  #000000;\n",
              "        }    #T_8d529754_3815_11ea_93fe_0242ac1c0002row6_col0 {\n",
              "            background-color:  #ff4f4f;\n",
              "            color:  #000000;\n",
              "        }    #T_8d529754_3815_11ea_93fe_0242ac1c0002row7_col0 {\n",
              "            background-color:  #ff5959;\n",
              "            color:  #000000;\n",
              "        }    #T_8d529754_3815_11ea_93fe_0242ac1c0002row8_col0 {\n",
              "            background-color:  #ff5e5e;\n",
              "            color:  #000000;\n",
              "        }    #T_8d529754_3815_11ea_93fe_0242ac1c0002row9_col0 {\n",
              "            background-color:  #ff6060;\n",
              "            color:  #000000;\n",
              "        }    #T_8d529754_3815_11ea_93fe_0242ac1c0002row10_col0 {\n",
              "            background-color:  #ff6464;\n",
              "            color:  #000000;\n",
              "        }    #T_8d529754_3815_11ea_93fe_0242ac1c0002row11_col0 {\n",
              "            background-color:  #ff6767;\n",
              "            color:  #000000;\n",
              "        }    #T_8d529754_3815_11ea_93fe_0242ac1c0002row12_col0 {\n",
              "            background-color:  #ff6969;\n",
              "            color:  #000000;\n",
              "        }    #T_8d529754_3815_11ea_93fe_0242ac1c0002row13_col0 {\n",
              "            background-color:  #ff6c6c;\n",
              "            color:  #000000;\n",
              "        }    #T_8d529754_3815_11ea_93fe_0242ac1c0002row14_col0 {\n",
              "            background-color:  #ff7c7c;\n",
              "            color:  #000000;\n",
              "        }    #T_8d529754_3815_11ea_93fe_0242ac1c0002row15_col0 {\n",
              "            background-color:  #ff8383;\n",
              "            color:  #000000;\n",
              "        }    #T_8d529754_3815_11ea_93fe_0242ac1c0002row16_col0 {\n",
              "            background-color:  #ff8989;\n",
              "            color:  #000000;\n",
              "        }    #T_8d529754_3815_11ea_93fe_0242ac1c0002row17_col0 {\n",
              "            background-color:  #ff8a8a;\n",
              "            color:  #000000;\n",
              "        }    #T_8d529754_3815_11ea_93fe_0242ac1c0002row18_col0 {\n",
              "            background-color:  #ff8b8b;\n",
              "            color:  #000000;\n",
              "        }    #T_8d529754_3815_11ea_93fe_0242ac1c0002row19_col0 {\n",
              "            background-color:  #ff9191;\n",
              "            color:  #000000;\n",
              "        }    #T_8d529754_3815_11ea_93fe_0242ac1c0002row20_col0 {\n",
              "            background-color:  #ff9494;\n",
              "            color:  #000000;\n",
              "        }    #T_8d529754_3815_11ea_93fe_0242ac1c0002row21_col0 {\n",
              "            background-color:  #ff9d9d;\n",
              "            color:  #000000;\n",
              "        }    #T_8d529754_3815_11ea_93fe_0242ac1c0002row22_col0 {\n",
              "            background-color:  #ff9f9f;\n",
              "            color:  #000000;\n",
              "        }    #T_8d529754_3815_11ea_93fe_0242ac1c0002row23_col0 {\n",
              "            background-color:  #ffa8a8;\n",
              "            color:  #000000;\n",
              "        }    #T_8d529754_3815_11ea_93fe_0242ac1c0002row24_col0 {\n",
              "            background-color:  #ffb4b4;\n",
              "            color:  #000000;\n",
              "        }    #T_8d529754_3815_11ea_93fe_0242ac1c0002row25_col0 {\n",
              "            background-color:  #ffb8b8;\n",
              "            color:  #000000;\n",
              "        }    #T_8d529754_3815_11ea_93fe_0242ac1c0002row26_col0 {\n",
              "            background-color:  #ffc1c1;\n",
              "            color:  #000000;\n",
              "        }    #T_8d529754_3815_11ea_93fe_0242ac1c0002row27_col0 {\n",
              "            background-color:  #ffc2c2;\n",
              "            color:  #000000;\n",
              "        }    #T_8d529754_3815_11ea_93fe_0242ac1c0002row28_col0 {\n",
              "            background-color:  #ffcccc;\n",
              "            color:  #000000;\n",
              "        }    #T_8d529754_3815_11ea_93fe_0242ac1c0002row29_col0 {\n",
              "            background-color:  #ffcece;\n",
              "            color:  #000000;\n",
              "        }    #T_8d529754_3815_11ea_93fe_0242ac1c0002row30_col0 {\n",
              "            background-color:  #ffcfcf;\n",
              "            color:  #000000;\n",
              "        }    #T_8d529754_3815_11ea_93fe_0242ac1c0002row31_col0 {\n",
              "            background-color:  #ffcfcf;\n",
              "            color:  #000000;\n",
              "        }    #T_8d529754_3815_11ea_93fe_0242ac1c0002row32_col0 {\n",
              "            background-color:  #ffd0d0;\n",
              "            color:  #000000;\n",
              "        }    #T_8d529754_3815_11ea_93fe_0242ac1c0002row33_col0 {\n",
              "            background-color:  #ffd0d0;\n",
              "            color:  #000000;\n",
              "        }    #T_8d529754_3815_11ea_93fe_0242ac1c0002row34_col0 {\n",
              "            background-color:  #ffdada;\n",
              "            color:  #000000;\n",
              "        }    #T_8d529754_3815_11ea_93fe_0242ac1c0002row35_col0 {\n",
              "            background-color:  #ffe5e5;\n",
              "            color:  #000000;\n",
              "        }    #T_8d529754_3815_11ea_93fe_0242ac1c0002row36_col0 {\n",
              "            background-color:  #ffe5e5;\n",
              "            color:  #000000;\n",
              "        }</style><table id=\"T_8d529754_3815_11ea_93fe_0242ac1c0002\" ><thead>    <tr>        <th class=\"blank level0\" ></th>        <th class=\"col_heading level0 col0\" >SalePrice</th>    </tr></thead><tbody>\n",
              "                <tr>\n",
              "                        <th id=\"T_8d529754_3815_11ea_93fe_0242ac1c0002level0_row0\" class=\"row_heading level0 row0\" >SalePrice</th>\n",
              "                        <td id=\"T_8d529754_3815_11ea_93fe_0242ac1c0002row0_col0\" class=\"data row0 col0\" >1</td>\n",
              "            </tr>\n",
              "            <tr>\n",
              "                        <th id=\"T_8d529754_3815_11ea_93fe_0242ac1c0002level0_row1\" class=\"row_heading level0 row1\" >OverallQual</th>\n",
              "                        <td id=\"T_8d529754_3815_11ea_93fe_0242ac1c0002row1_col0\" class=\"data row1 col0\" >0.790982</td>\n",
              "            </tr>\n",
              "            <tr>\n",
              "                        <th id=\"T_8d529754_3815_11ea_93fe_0242ac1c0002level0_row2\" class=\"row_heading level0 row2\" >GrLivArea</th>\n",
              "                        <td id=\"T_8d529754_3815_11ea_93fe_0242ac1c0002row2_col0\" class=\"data row2 col0\" >0.708624</td>\n",
              "            </tr>\n",
              "            <tr>\n",
              "                        <th id=\"T_8d529754_3815_11ea_93fe_0242ac1c0002level0_row3\" class=\"row_heading level0 row3\" >GarageCars</th>\n",
              "                        <td id=\"T_8d529754_3815_11ea_93fe_0242ac1c0002row3_col0\" class=\"data row3 col0\" >0.640409</td>\n",
              "            </tr>\n",
              "            <tr>\n",
              "                        <th id=\"T_8d529754_3815_11ea_93fe_0242ac1c0002level0_row4\" class=\"row_heading level0 row4\" >GarageArea</th>\n",
              "                        <td id=\"T_8d529754_3815_11ea_93fe_0242ac1c0002row4_col0\" class=\"data row4 col0\" >0.623431</td>\n",
              "            </tr>\n",
              "            <tr>\n",
              "                        <th id=\"T_8d529754_3815_11ea_93fe_0242ac1c0002level0_row5\" class=\"row_heading level0 row5\" >TotalBsmtSF</th>\n",
              "                        <td id=\"T_8d529754_3815_11ea_93fe_0242ac1c0002row5_col0\" class=\"data row5 col0\" >0.613581</td>\n",
              "            </tr>\n",
              "            <tr>\n",
              "                        <th id=\"T_8d529754_3815_11ea_93fe_0242ac1c0002level0_row6\" class=\"row_heading level0 row6\" >1stFlrSF</th>\n",
              "                        <td id=\"T_8d529754_3815_11ea_93fe_0242ac1c0002row6_col0\" class=\"data row6 col0\" >0.605852</td>\n",
              "            </tr>\n",
              "            <tr>\n",
              "                        <th id=\"T_8d529754_3815_11ea_93fe_0242ac1c0002level0_row7\" class=\"row_heading level0 row7\" >FullBath</th>\n",
              "                        <td id=\"T_8d529754_3815_11ea_93fe_0242ac1c0002row7_col0\" class=\"data row7 col0\" >0.560664</td>\n",
              "            </tr>\n",
              "            <tr>\n",
              "                        <th id=\"T_8d529754_3815_11ea_93fe_0242ac1c0002level0_row8\" class=\"row_heading level0 row8\" >TotRmsAbvGrd</th>\n",
              "                        <td id=\"T_8d529754_3815_11ea_93fe_0242ac1c0002row8_col0\" class=\"data row8 col0\" >0.533723</td>\n",
              "            </tr>\n",
              "            <tr>\n",
              "                        <th id=\"T_8d529754_3815_11ea_93fe_0242ac1c0002level0_row9\" class=\"row_heading level0 row9\" >YearBuilt</th>\n",
              "                        <td id=\"T_8d529754_3815_11ea_93fe_0242ac1c0002row9_col0\" class=\"data row9 col0\" >0.522897</td>\n",
              "            </tr>\n",
              "            <tr>\n",
              "                        <th id=\"T_8d529754_3815_11ea_93fe_0242ac1c0002level0_row10\" class=\"row_heading level0 row10\" >YearRemodAdd</th>\n",
              "                        <td id=\"T_8d529754_3815_11ea_93fe_0242ac1c0002row10_col0\" class=\"data row10 col0\" >0.507101</td>\n",
              "            </tr>\n",
              "            <tr>\n",
              "                        <th id=\"T_8d529754_3815_11ea_93fe_0242ac1c0002level0_row11\" class=\"row_heading level0 row11\" >GarageYrBlt</th>\n",
              "                        <td id=\"T_8d529754_3815_11ea_93fe_0242ac1c0002row11_col0\" class=\"data row11 col0\" >0.486362</td>\n",
              "            </tr>\n",
              "            <tr>\n",
              "                        <th id=\"T_8d529754_3815_11ea_93fe_0242ac1c0002level0_row12\" class=\"row_heading level0 row12\" >MasVnrArea</th>\n",
              "                        <td id=\"T_8d529754_3815_11ea_93fe_0242ac1c0002row12_col0\" class=\"data row12 col0\" >0.477493</td>\n",
              "            </tr>\n",
              "            <tr>\n",
              "                        <th id=\"T_8d529754_3815_11ea_93fe_0242ac1c0002level0_row13\" class=\"row_heading level0 row13\" >Fireplaces</th>\n",
              "                        <td id=\"T_8d529754_3815_11ea_93fe_0242ac1c0002row13_col0\" class=\"data row13 col0\" >0.466929</td>\n",
              "            </tr>\n",
              "            <tr>\n",
              "                        <th id=\"T_8d529754_3815_11ea_93fe_0242ac1c0002level0_row14\" class=\"row_heading level0 row14\" >BsmtFinSF1</th>\n",
              "                        <td id=\"T_8d529754_3815_11ea_93fe_0242ac1c0002row14_col0\" class=\"data row14 col0\" >0.38642</td>\n",
              "            </tr>\n",
              "            <tr>\n",
              "                        <th id=\"T_8d529754_3815_11ea_93fe_0242ac1c0002level0_row15\" class=\"row_heading level0 row15\" >LotFrontage</th>\n",
              "                        <td id=\"T_8d529754_3815_11ea_93fe_0242ac1c0002row15_col0\" class=\"data row15 col0\" >0.351799</td>\n",
              "            </tr>\n",
              "            <tr>\n",
              "                        <th id=\"T_8d529754_3815_11ea_93fe_0242ac1c0002level0_row16\" class=\"row_heading level0 row16\" >WoodDeckSF</th>\n",
              "                        <td id=\"T_8d529754_3815_11ea_93fe_0242ac1c0002row16_col0\" class=\"data row16 col0\" >0.324413</td>\n",
              "            </tr>\n",
              "            <tr>\n",
              "                        <th id=\"T_8d529754_3815_11ea_93fe_0242ac1c0002level0_row17\" class=\"row_heading level0 row17\" >2ndFlrSF</th>\n",
              "                        <td id=\"T_8d529754_3815_11ea_93fe_0242ac1c0002row17_col0\" class=\"data row17 col0\" >0.319334</td>\n",
              "            </tr>\n",
              "            <tr>\n",
              "                        <th id=\"T_8d529754_3815_11ea_93fe_0242ac1c0002level0_row18\" class=\"row_heading level0 row18\" >OpenPorchSF</th>\n",
              "                        <td id=\"T_8d529754_3815_11ea_93fe_0242ac1c0002row18_col0\" class=\"data row18 col0\" >0.315856</td>\n",
              "            </tr>\n",
              "            <tr>\n",
              "                        <th id=\"T_8d529754_3815_11ea_93fe_0242ac1c0002level0_row19\" class=\"row_heading level0 row19\" >HalfBath</th>\n",
              "                        <td id=\"T_8d529754_3815_11ea_93fe_0242ac1c0002row19_col0\" class=\"data row19 col0\" >0.284108</td>\n",
              "            </tr>\n",
              "            <tr>\n",
              "                        <th id=\"T_8d529754_3815_11ea_93fe_0242ac1c0002level0_row20\" class=\"row_heading level0 row20\" >LotArea</th>\n",
              "                        <td id=\"T_8d529754_3815_11ea_93fe_0242ac1c0002row20_col0\" class=\"data row20 col0\" >0.263843</td>\n",
              "            </tr>\n",
              "            <tr>\n",
              "                        <th id=\"T_8d529754_3815_11ea_93fe_0242ac1c0002level0_row21\" class=\"row_heading level0 row21\" >BsmtFullBath</th>\n",
              "                        <td id=\"T_8d529754_3815_11ea_93fe_0242ac1c0002row21_col0\" class=\"data row21 col0\" >0.227122</td>\n",
              "            </tr>\n",
              "            <tr>\n",
              "                        <th id=\"T_8d529754_3815_11ea_93fe_0242ac1c0002level0_row22\" class=\"row_heading level0 row22\" >BsmtUnfSF</th>\n",
              "                        <td id=\"T_8d529754_3815_11ea_93fe_0242ac1c0002row22_col0\" class=\"data row22 col0\" >0.214479</td>\n",
              "            </tr>\n",
              "            <tr>\n",
              "                        <th id=\"T_8d529754_3815_11ea_93fe_0242ac1c0002level0_row23\" class=\"row_heading level0 row23\" >BedroomAbvGr</th>\n",
              "                        <td id=\"T_8d529754_3815_11ea_93fe_0242ac1c0002row23_col0\" class=\"data row23 col0\" >0.168213</td>\n",
              "            </tr>\n",
              "            <tr>\n",
              "                        <th id=\"T_8d529754_3815_11ea_93fe_0242ac1c0002level0_row24\" class=\"row_heading level0 row24\" >ScreenPorch</th>\n",
              "                        <td id=\"T_8d529754_3815_11ea_93fe_0242ac1c0002row24_col0\" class=\"data row24 col0\" >0.111447</td>\n",
              "            </tr>\n",
              "            <tr>\n",
              "                        <th id=\"T_8d529754_3815_11ea_93fe_0242ac1c0002level0_row25\" class=\"row_heading level0 row25\" >PoolArea</th>\n",
              "                        <td id=\"T_8d529754_3815_11ea_93fe_0242ac1c0002row25_col0\" class=\"data row25 col0\" >0.0924035</td>\n",
              "            </tr>\n",
              "            <tr>\n",
              "                        <th id=\"T_8d529754_3815_11ea_93fe_0242ac1c0002level0_row26\" class=\"row_heading level0 row26\" >MoSold</th>\n",
              "                        <td id=\"T_8d529754_3815_11ea_93fe_0242ac1c0002row26_col0\" class=\"data row26 col0\" >0.0464322</td>\n",
              "            </tr>\n",
              "            <tr>\n",
              "                        <th id=\"T_8d529754_3815_11ea_93fe_0242ac1c0002level0_row27\" class=\"row_heading level0 row27\" >3SsnPorch</th>\n",
              "                        <td id=\"T_8d529754_3815_11ea_93fe_0242ac1c0002row27_col0\" class=\"data row27 col0\" >0.0445837</td>\n",
              "            </tr>\n",
              "            <tr>\n",
              "                        <th id=\"T_8d529754_3815_11ea_93fe_0242ac1c0002level0_row28\" class=\"row_heading level0 row28\" >BsmtFinSF2</th>\n",
              "                        <td id=\"T_8d529754_3815_11ea_93fe_0242ac1c0002row28_col0\" class=\"data row28 col0\" >-0.0113781</td>\n",
              "            </tr>\n",
              "            <tr>\n",
              "                        <th id=\"T_8d529754_3815_11ea_93fe_0242ac1c0002level0_row29\" class=\"row_heading level0 row29\" >BsmtHalfBath</th>\n",
              "                        <td id=\"T_8d529754_3815_11ea_93fe_0242ac1c0002row29_col0\" class=\"data row29 col0\" >-0.0168442</td>\n",
              "            </tr>\n",
              "            <tr>\n",
              "                        <th id=\"T_8d529754_3815_11ea_93fe_0242ac1c0002level0_row30\" class=\"row_heading level0 row30\" >MiscVal</th>\n",
              "                        <td id=\"T_8d529754_3815_11ea_93fe_0242ac1c0002row30_col0\" class=\"data row30 col0\" >-0.0211896</td>\n",
              "            </tr>\n",
              "            <tr>\n",
              "                        <th id=\"T_8d529754_3815_11ea_93fe_0242ac1c0002level0_row31\" class=\"row_heading level0 row31\" >Id</th>\n",
              "                        <td id=\"T_8d529754_3815_11ea_93fe_0242ac1c0002row31_col0\" class=\"data row31 col0\" >-0.0219167</td>\n",
              "            </tr>\n",
              "            <tr>\n",
              "                        <th id=\"T_8d529754_3815_11ea_93fe_0242ac1c0002level0_row32\" class=\"row_heading level0 row32\" >LowQualFinSF</th>\n",
              "                        <td id=\"T_8d529754_3815_11ea_93fe_0242ac1c0002row32_col0\" class=\"data row32 col0\" >-0.0256061</td>\n",
              "            </tr>\n",
              "            <tr>\n",
              "                        <th id=\"T_8d529754_3815_11ea_93fe_0242ac1c0002level0_row33\" class=\"row_heading level0 row33\" >YrSold</th>\n",
              "                        <td id=\"T_8d529754_3815_11ea_93fe_0242ac1c0002row33_col0\" class=\"data row33 col0\" >-0.0289226</td>\n",
              "            </tr>\n",
              "            <tr>\n",
              "                        <th id=\"T_8d529754_3815_11ea_93fe_0242ac1c0002level0_row34\" class=\"row_heading level0 row34\" >OverallCond</th>\n",
              "                        <td id=\"T_8d529754_3815_11ea_93fe_0242ac1c0002row34_col0\" class=\"data row34 col0\" >-0.0778559</td>\n",
              "            </tr>\n",
              "            <tr>\n",
              "                        <th id=\"T_8d529754_3815_11ea_93fe_0242ac1c0002level0_row35\" class=\"row_heading level0 row35\" >EnclosedPorch</th>\n",
              "                        <td id=\"T_8d529754_3815_11ea_93fe_0242ac1c0002row35_col0\" class=\"data row35 col0\" >-0.128578</td>\n",
              "            </tr>\n",
              "            <tr>\n",
              "                        <th id=\"T_8d529754_3815_11ea_93fe_0242ac1c0002level0_row36\" class=\"row_heading level0 row36\" >KitchenAbvGr</th>\n",
              "                        <td id=\"T_8d529754_3815_11ea_93fe_0242ac1c0002row36_col0\" class=\"data row36 col0\" >-0.135907</td>\n",
              "            </tr>\n",
              "    </tbody></table>"
            ],
            "text/plain": [
              "<pandas.io.formats.style.Styler at 0x7f0b0e1e2c50>"
            ]
          },
          "metadata": {
            "tags": []
          },
          "execution_count": 36
        }
      ]
    },
    {
      "cell_type": "code",
      "metadata": {
        "id": "cB7-eu2Z5yKW",
        "colab_type": "code",
        "outputId": "6c899161-5e39-47ce-f6f8-5050a1aee9ea",
        "colab": {
          "base_uri": "https://localhost:8080/",
          "height": 197
        }
      },
      "source": [
        "test_s = pd.read_csv('sample_submission.csv')\n",
        "test_s.head()"
      ],
      "execution_count": 0,
      "outputs": [
        {
          "output_type": "execute_result",
          "data": {
            "text/html": [
              "<div>\n",
              "<style scoped>\n",
              "    .dataframe tbody tr th:only-of-type {\n",
              "        vertical-align: middle;\n",
              "    }\n",
              "\n",
              "    .dataframe tbody tr th {\n",
              "        vertical-align: top;\n",
              "    }\n",
              "\n",
              "    .dataframe thead th {\n",
              "        text-align: right;\n",
              "    }\n",
              "</style>\n",
              "<table border=\"1\" class=\"dataframe\">\n",
              "  <thead>\n",
              "    <tr style=\"text-align: right;\">\n",
              "      <th></th>\n",
              "      <th>Id</th>\n",
              "      <th>SalePrice</th>\n",
              "    </tr>\n",
              "  </thead>\n",
              "  <tbody>\n",
              "    <tr>\n",
              "      <th>0</th>\n",
              "      <td>1461</td>\n",
              "      <td>169277.052498</td>\n",
              "    </tr>\n",
              "    <tr>\n",
              "      <th>1</th>\n",
              "      <td>1462</td>\n",
              "      <td>187758.393989</td>\n",
              "    </tr>\n",
              "    <tr>\n",
              "      <th>2</th>\n",
              "      <td>1463</td>\n",
              "      <td>183583.683570</td>\n",
              "    </tr>\n",
              "    <tr>\n",
              "      <th>3</th>\n",
              "      <td>1464</td>\n",
              "      <td>179317.477511</td>\n",
              "    </tr>\n",
              "    <tr>\n",
              "      <th>4</th>\n",
              "      <td>1465</td>\n",
              "      <td>150730.079977</td>\n",
              "    </tr>\n",
              "  </tbody>\n",
              "</table>\n",
              "</div>"
            ],
            "text/plain": [
              "     Id      SalePrice\n",
              "0  1461  169277.052498\n",
              "1  1462  187758.393989\n",
              "2  1463  183583.683570\n",
              "3  1464  179317.477511\n",
              "4  1465  150730.079977"
            ]
          },
          "metadata": {
            "tags": []
          },
          "execution_count": 37
        }
      ]
    },
    {
      "cell_type": "code",
      "metadata": {
        "id": "S22xjaK251G6",
        "colab_type": "code",
        "colab": {}
      },
      "source": [
        "train_x = td.iloc[0:len(train),]\n",
        "test_x = td.iloc[len(train): len(td),]\n",
        "\n",
        "train_y = np.log1p(train['SalePrice'])\n",
        "test_y = np.log1p(test_s['SalePrice'])"
      ],
      "execution_count": 0,
      "outputs": []
    },
    {
      "cell_type": "code",
      "metadata": {
        "id": "kI07DSTy53S4",
        "colab_type": "code",
        "colab": {}
      },
      "source": [
        "from sklearn.metrics import mean_absolute_error as mae\n",
        "from sklearn.metrics import mean_squared_error as mse\n",
        "from sklearn.metrics import r2_score\n",
        "from sklearn.model_selection import GridSearchCV, KFold, train_test_split, StratifiedKFold\n",
        "from sklearn.ensemble import RandomForestRegressor\n",
        "\n",
        "import matplotlib.pyplot as plt\n",
        "from sklearn.linear_model import LinearRegression\n"
      ],
      "execution_count": 0,
      "outputs": []
    },
    {
      "cell_type": "code",
      "metadata": {
        "id": "I_b8iJl956E6",
        "colab_type": "code",
        "colab": {}
      },
      "source": [
        "from sklearn.model_selection import cross_val_score\n",
        "from sklearn.metrics import mean_squared_error,make_scorer\n",
        "\n",
        "scorer = make_scorer(mean_squared_error,greater_is_better = False)\n",
        "\n",
        "def rmse_cv_train(model):\n",
        "  rmse=np.sqrt(-cross_val_score(model,train_x,train_y,scoring=scorer,cv=10))\n",
        "  return(rmse)\n",
        "\n",
        "def rmse_cv_test(model):\n",
        "  rmse=np.sqrt(-cross_val_score(model,test_x,test_y,scoring=scorer,cv=10))\n",
        "  return(rmse)"
      ],
      "execution_count": 0,
      "outputs": []
    },
    {
      "cell_type": "code",
      "metadata": {
        "id": "gc-lV0R_58JM",
        "colab_type": "code",
        "outputId": "b3c9dad3-3854-4b65-b81d-837cbb9d410f",
        "colab": {
          "base_uri": "https://localhost:8080/",
          "height": 34
        }
      },
      "source": [
        "#선형회귀\n",
        "lr = LinearRegression()\n",
        "lr.fit(train_x, train_y)\n",
        "\n",
        "print('rmse train', rmse_cv_train(lr).mean())"
      ],
      "execution_count": 0,
      "outputs": [
        {
          "output_type": "stream",
          "text": [
            "rmse train 0.13788206348287052\n"
          ],
          "name": "stdout"
        }
      ]
    },
    {
      "cell_type": "code",
      "metadata": {
        "id": "H3rbAy7T5-_t",
        "colab_type": "code",
        "outputId": "9bfe50eb-97e2-402e-b152-436e3c1f63c4",
        "colab": {
          "base_uri": "https://localhost:8080/",
          "height": 34
        }
      },
      "source": [
        "lr2 = LinearRegression()\n",
        "lr2.fit(test_x, test_y)\n",
        "\n",
        "print('rmse test', rmse_cv_test(lr2).mean())"
      ],
      "execution_count": 0,
      "outputs": [
        {
          "output_type": "stream",
          "text": [
            "rmse test 0.029147293673285002\n"
          ],
          "name": "stdout"
        }
      ]
    },
    {
      "cell_type": "code",
      "metadata": {
        "id": "6GHpe4YD2KaZ",
        "colab_type": "code",
        "outputId": "ea80ee71-f2ce-4c25-da9a-d4fdff99aa36",
        "colab": {
          "base_uri": "https://localhost:8080/",
          "height": 1000
        }
      },
      "source": [
        "plt.plot(train_x,train_y,'k.')\n",
        "plt.grid(True)\n",
        "plt.plot(train_x,lr.predict(train_x),color='r',alpha=0.1)"
      ],
      "execution_count": 0,
      "outputs": [
        {
          "output_type": "execute_result",
          "data": {
            "text/plain": [
              "[<matplotlib.lines.Line2D at 0x7f0b10fb1400>,\n",
              " <matplotlib.lines.Line2D at 0x7f0b11534358>,\n",
              " <matplotlib.lines.Line2D at 0x7f0b11534e10>,\n",
              " <matplotlib.lines.Line2D at 0x7f0b11534f60>,\n",
              " <matplotlib.lines.Line2D at 0x7f0b11534748>,\n",
              " <matplotlib.lines.Line2D at 0x7f0b115344e0>,\n",
              " <matplotlib.lines.Line2D at 0x7f0b0ddc2518>,\n",
              " <matplotlib.lines.Line2D at 0x7f0b0ddc2b70>,\n",
              " <matplotlib.lines.Line2D at 0x7f0b0ddc2278>,\n",
              " <matplotlib.lines.Line2D at 0x7f0b0ddc2ba8>,\n",
              " <matplotlib.lines.Line2D at 0x7f0b0ddc2400>,\n",
              " <matplotlib.lines.Line2D at 0x7f0b0ddc2748>,\n",
              " <matplotlib.lines.Line2D at 0x7f0b0ddc2588>,\n",
              " <matplotlib.lines.Line2D at 0x7f0b0ddc26a0>,\n",
              " <matplotlib.lines.Line2D at 0x7f0b0ddc2898>,\n",
              " <matplotlib.lines.Line2D at 0x7f0b0ddc2828>,\n",
              " <matplotlib.lines.Line2D at 0x7f0b11056358>,\n",
              " <matplotlib.lines.Line2D at 0x7f0b11056fd0>,\n",
              " <matplotlib.lines.Line2D at 0x7f0b11056e48>,\n",
              " <matplotlib.lines.Line2D at 0x7f0b11056c88>,\n",
              " <matplotlib.lines.Line2D at 0x7f0b110569e8>,\n",
              " <matplotlib.lines.Line2D at 0x7f0b11056860>,\n",
              " <matplotlib.lines.Line2D at 0x7f0b11056550>,\n",
              " <matplotlib.lines.Line2D at 0x7f0b11056438>,\n",
              " <matplotlib.lines.Line2D at 0x7f0b11056240>,\n",
              " <matplotlib.lines.Line2D at 0x7f0b11056320>,\n",
              " <matplotlib.lines.Line2D at 0x7f0b110354e0>,\n",
              " <matplotlib.lines.Line2D at 0x7f0b11035128>,\n",
              " <matplotlib.lines.Line2D at 0x7f0b11035550>,\n",
              " <matplotlib.lines.Line2D at 0x7f0b11035748>,\n",
              " <matplotlib.lines.Line2D at 0x7f0b11035780>,\n",
              " <matplotlib.lines.Line2D at 0x7f0b11035e80>,\n",
              " <matplotlib.lines.Line2D at 0x7f0b11035208>,\n",
              " <matplotlib.lines.Line2D at 0x7f0b11035a20>,\n",
              " <matplotlib.lines.Line2D at 0x7f0b110359b0>,\n",
              " <matplotlib.lines.Line2D at 0x7f0b11035fd0>,\n",
              " <matplotlib.lines.Line2D at 0x7f0b0acb59b0>,\n",
              " <matplotlib.lines.Line2D at 0x7f0b0acb5630>,\n",
              " <matplotlib.lines.Line2D at 0x7f0b0acb5438>,\n",
              " <matplotlib.lines.Line2D at 0x7f0b0acb56a0>,\n",
              " <matplotlib.lines.Line2D at 0x7f0b0acb54a8>,\n",
              " <matplotlib.lines.Line2D at 0x7f0b0acb5d68>,\n",
              " <matplotlib.lines.Line2D at 0x7f0b0acb59e8>,\n",
              " <matplotlib.lines.Line2D at 0x7f0b0acb5be0>,\n",
              " <matplotlib.lines.Line2D at 0x7f0b0acb5320>,\n",
              " <matplotlib.lines.Line2D at 0x7f0b0f0ad080>,\n",
              " <matplotlib.lines.Line2D at 0x7f0b0f0ad208>,\n",
              " <matplotlib.lines.Line2D at 0x7f0b0f0ad390>,\n",
              " <matplotlib.lines.Line2D at 0x7f0b0f0ad518>,\n",
              " <matplotlib.lines.Line2D at 0x7f0b0f0ad6a0>,\n",
              " <matplotlib.lines.Line2D at 0x7f0b0f0ad828>,\n",
              " <matplotlib.lines.Line2D at 0x7f0b0f0ad9b0>,\n",
              " <matplotlib.lines.Line2D at 0x7f0b0f0adb38>,\n",
              " <matplotlib.lines.Line2D at 0x7f0b0f0adcc0>,\n",
              " <matplotlib.lines.Line2D at 0x7f0b0f0ade48>,\n",
              " <matplotlib.lines.Line2D at 0x7f0b0f0adfd0>,\n",
              " <matplotlib.lines.Line2D at 0x7f0b0f09d198>,\n",
              " <matplotlib.lines.Line2D at 0x7f0b0f09d320>,\n",
              " <matplotlib.lines.Line2D at 0x7f0b0f09d4a8>,\n",
              " <matplotlib.lines.Line2D at 0x7f0b0f09d630>,\n",
              " <matplotlib.lines.Line2D at 0x7f0b0f09d7b8>,\n",
              " <matplotlib.lines.Line2D at 0x7f0b0f09d940>,\n",
              " <matplotlib.lines.Line2D at 0x7f0b0f09dac8>,\n",
              " <matplotlib.lines.Line2D at 0x7f0b0f09dc50>,\n",
              " <matplotlib.lines.Line2D at 0x7f0b0f09ddd8>,\n",
              " <matplotlib.lines.Line2D at 0x7f0b0f09df60>,\n",
              " <matplotlib.lines.Line2D at 0x7f0b0f094128>,\n",
              " <matplotlib.lines.Line2D at 0x7f0b0f0942b0>,\n",
              " <matplotlib.lines.Line2D at 0x7f0b0f094438>,\n",
              " <matplotlib.lines.Line2D at 0x7f0b0f0945c0>,\n",
              " <matplotlib.lines.Line2D at 0x7f0b0f094748>,\n",
              " <matplotlib.lines.Line2D at 0x7f0b0f0948d0>,\n",
              " <matplotlib.lines.Line2D at 0x7f0b0f094a58>,\n",
              " <matplotlib.lines.Line2D at 0x7f0b0f094be0>]"
            ]
          },
          "metadata": {
            "tags": []
          },
          "execution_count": 43
        },
        {
          "output_type": "display_data",
          "data": {
            "image/png": "[encoded data removed]",
            "text/plain": [
              "<Figure size 576x396 with 1 Axes>"
            ]
          },
          "metadata": {
            "tags": []
          }
        }
      ]
    },
    {
      "cell_type": "code",
      "metadata": {
        "id": "FdV2-5pf6BS8",
        "colab_type": "code",
        "outputId": "08c296b3-ac37-4c0e-999e-60a4a327a9ce",
        "colab": {
          "base_uri": "https://localhost:8080/",
          "height": 534
        }
      },
      "source": [
        "#확률적 경사하강법 스텝에서 하나의 샘플을 무작위로 추출하고 그 샘플에 대한 경사를 구한다. \n",
        "\n",
        "from sklearn.linear_model import SGDRegressor\n",
        "\n",
        "sgd_reg = SGDRegressor(max_iter=100,penalty = None,eta0=0.1)\n",
        "sgd_reg.fit(train_x, train_y)\n",
        "\n",
        "sgd_reg2 = SGDRegressor(max_iter=100,penalty = None,eta0=0.1)\n",
        "sgd_reg2.fit(test_x, test_y)\n",
        "\n",
        "\n",
        "print('rmse train: 확률 경사:', rmse_cv_train(sgd_reg).mean())\n",
        "print('train 수치 : ',sgd_reg.predict(train_x))\n",
        "print('rmse test: 확률 경사:', rmse_cv_test(sgd_reg).mean())\n",
        "print('test 수치 : ',sgd_reg2.predict(test_x))"
      ],
      "execution_count": 0,
      "outputs": [
        {
          "output_type": "stream",
          "text": [
            "/usr/local/lib/python3.6/dist-packages/sklearn/linear_model/_stochastic_gradient.py:1187: ConvergenceWarning: Maximum number of iteration reached before convergence. Consider increasing max_iter to improve the fit.\n",
            "  ConvergenceWarning)\n",
            "/usr/local/lib/python3.6/dist-packages/sklearn/linear_model/_stochastic_gradient.py:1187: ConvergenceWarning: Maximum number of iteration reached before convergence. Consider increasing max_iter to improve the fit.\n",
            "  ConvergenceWarning)\n",
            "/usr/local/lib/python3.6/dist-packages/sklearn/linear_model/_stochastic_gradient.py:1187: ConvergenceWarning: Maximum number of iteration reached before convergence. Consider increasing max_iter to improve the fit.\n",
            "  ConvergenceWarning)\n",
            "/usr/local/lib/python3.6/dist-packages/sklearn/linear_model/_stochastic_gradient.py:1187: ConvergenceWarning: Maximum number of iteration reached before convergence. Consider increasing max_iter to improve the fit.\n",
            "  ConvergenceWarning)\n",
            "/usr/local/lib/python3.6/dist-packages/sklearn/linear_model/_stochastic_gradient.py:1187: ConvergenceWarning: Maximum number of iteration reached before convergence. Consider increasing max_iter to improve the fit.\n",
            "  ConvergenceWarning)\n",
            "/usr/local/lib/python3.6/dist-packages/sklearn/linear_model/_stochastic_gradient.py:1187: ConvergenceWarning: Maximum number of iteration reached before convergence. Consider increasing max_iter to improve the fit.\n",
            "  ConvergenceWarning)\n"
          ],
          "name": "stderr"
        },
        {
          "output_type": "stream",
          "text": [
            "rmse train: 확률 경사: 7.503062494765487e+17\n",
            "train 수치 :  [-1.02628733e+18 -7.85612537e+17 -1.06079241e+18 ... -1.09086670e+18\n",
            " -5.73209282e+17 -5.57398652e+17]\n"
          ],
          "name": "stdout"
        },
        {
          "output_type": "stream",
          "text": [
            "/usr/local/lib/python3.6/dist-packages/sklearn/linear_model/_stochastic_gradient.py:1187: ConvergenceWarning: Maximum number of iteration reached before convergence. Consider increasing max_iter to improve the fit.\n",
            "  ConvergenceWarning)\n",
            "/usr/local/lib/python3.6/dist-packages/sklearn/linear_model/_stochastic_gradient.py:1187: ConvergenceWarning: Maximum number of iteration reached before convergence. Consider increasing max_iter to improve the fit.\n",
            "  ConvergenceWarning)\n",
            "/usr/local/lib/python3.6/dist-packages/sklearn/linear_model/_stochastic_gradient.py:1187: ConvergenceWarning: Maximum number of iteration reached before convergence. Consider increasing max_iter to improve the fit.\n",
            "  ConvergenceWarning)\n"
          ],
          "name": "stderr"
        },
        {
          "output_type": "stream",
          "text": [
            "rmse test: 확률 경사: 1.0734126179919834e+18\n",
            "test 수치 :  [4.97235021e+17 6.05580801e+17 6.27945710e+17 ... 5.75577287e+17\n",
            " 4.33088571e+17 8.21689914e+17]\n"
          ],
          "name": "stdout"
        },
        {
          "output_type": "stream",
          "text": [
            "/usr/local/lib/python3.6/dist-packages/sklearn/linear_model/_stochastic_gradient.py:1187: ConvergenceWarning: Maximum number of iteration reached before convergence. Consider increasing max_iter to improve the fit.\n",
            "  ConvergenceWarning)\n",
            "/usr/local/lib/python3.6/dist-packages/sklearn/linear_model/_stochastic_gradient.py:1187: ConvergenceWarning: Maximum number of iteration reached before convergence. Consider increasing max_iter to improve the fit.\n",
            "  ConvergenceWarning)\n"
          ],
          "name": "stderr"
        }
      ]
    },
    {
      "cell_type": "code",
      "metadata": {
        "id": "9JBv_fZTM-TA",
        "colab_type": "code",
        "outputId": "b255c637-be43-43bb-b41f-9d6fd824753d",
        "colab": {
          "base_uri": "https://localhost:8080/",
          "height": 34
        }
      },
      "source": [
        "#가지고 있는 데이터가 단순한 직선이 아닌 복잡한 형태라면 다항회귀를 사용한다. \n",
        "\n",
        "from sklearn.preprocessing import PolynomialFeatures\n",
        "\n",
        "poly_features = PolynomialFeatures(degree=2, include_bias=False)\n",
        "X_poly = poly_features.fit_transform(train_x)\n",
        "\n",
        "lin_reg = LinearRegression()\n",
        "lin_reg.fit(X_poly, train_y)\n",
        "\n",
        "print('rmse train', rmse_cv_train(lin_reg).mean())"
      ],
      "execution_count": 0,
      "outputs": [
        {
          "output_type": "stream",
          "text": [
            "rmse train 0.13788206348287052\n"
          ],
          "name": "stdout"
        }
      ]
    },
    {
      "cell_type": "code",
      "metadata": {
        "id": "2B6P-XrM3Qky",
        "colab_type": "code",
        "outputId": "fe7b227a-0cc8-4282-badd-161b09e9eb97",
        "colab": {
          "base_uri": "https://localhost:8080/",
          "height": 704
        }
      },
      "source": [
        "plt.plot(train_x,train_y,'k.')\n",
        "plt.grid(True)\n",
        "plt.plot(train_x,lin_reg.predict(train_x),color='r')"
      ],
      "execution_count": 0,
      "outputs": [
        {
          "output_type": "error",
          "ename": "ValueError",
          "evalue": "ignored",
          "traceback": [
            "\u001b[0;31m---------------------------------------------------------------------------\u001b[0m",
            "\u001b[0;31mValueError\u001b[0m                                Traceback (most recent call last)",
            "\u001b[0;32m<ipython-input-46-79a0f28f1cc8>\u001b[0m in \u001b[0;36m<module>\u001b[0;34m()\u001b[0m\n\u001b[1;32m      1\u001b[0m \u001b[0mplt\u001b[0m\u001b[0;34m.\u001b[0m\u001b[0mplot\u001b[0m\u001b[0;34m(\u001b[0m\u001b[0mtrain_x\u001b[0m\u001b[0;34m,\u001b[0m\u001b[0mtrain_y\u001b[0m\u001b[0;34m,\u001b[0m\u001b[0;34m'k.'\u001b[0m\u001b[0;34m)\u001b[0m\u001b[0;34m\u001b[0m\u001b[0;34m\u001b[0m\u001b[0m\n\u001b[1;32m      2\u001b[0m \u001b[0mplt\u001b[0m\u001b[0;34m.\u001b[0m\u001b[0mgrid\u001b[0m\u001b[0;34m(\u001b[0m\u001b[0;32mTrue\u001b[0m\u001b[0;34m)\u001b[0m\u001b[0;34m\u001b[0m\u001b[0;34m\u001b[0m\u001b[0m\n\u001b[0;32m----> 3\u001b[0;31m \u001b[0mplt\u001b[0m\u001b[0;34m.\u001b[0m\u001b[0mplot\u001b[0m\u001b[0;34m(\u001b[0m\u001b[0mtrain_x\u001b[0m\u001b[0;34m,\u001b[0m\u001b[0mlin_reg\u001b[0m\u001b[0;34m.\u001b[0m\u001b[0mpredict\u001b[0m\u001b[0;34m(\u001b[0m\u001b[0mtrain_x\u001b[0m\u001b[0;34m)\u001b[0m\u001b[0;34m,\u001b[0m\u001b[0mcolor\u001b[0m\u001b[0;34m=\u001b[0m\u001b[0;34m'r'\u001b[0m\u001b[0;34m)\u001b[0m\u001b[0;34m\u001b[0m\u001b[0;34m\u001b[0m\u001b[0m\n\u001b[0m",
            "\u001b[0;32m/usr/local/lib/python3.6/dist-packages/sklearn/linear_model/_base.py\u001b[0m in \u001b[0;36mpredict\u001b[0;34m(self, X)\u001b[0m\n\u001b[1;32m    223\u001b[0m             \u001b[0mReturns\u001b[0m \u001b[0mpredicted\u001b[0m \u001b[0mvalues\u001b[0m\u001b[0;34m.\u001b[0m\u001b[0;34m\u001b[0m\u001b[0;34m\u001b[0m\u001b[0m\n\u001b[1;32m    224\u001b[0m         \"\"\"\n\u001b[0;32m--> 225\u001b[0;31m         \u001b[0;32mreturn\u001b[0m \u001b[0mself\u001b[0m\u001b[0;34m.\u001b[0m\u001b[0m_decision_function\u001b[0m\u001b[0;34m(\u001b[0m\u001b[0mX\u001b[0m\u001b[0;34m)\u001b[0m\u001b[0;34m\u001b[0m\u001b[0;34m\u001b[0m\u001b[0m\n\u001b[0m\u001b[1;32m    226\u001b[0m \u001b[0;34m\u001b[0m\u001b[0m\n\u001b[1;32m    227\u001b[0m     \u001b[0m_preprocess_data\u001b[0m \u001b[0;34m=\u001b[0m \u001b[0mstaticmethod\u001b[0m\u001b[0;34m(\u001b[0m\u001b[0m_preprocess_data\u001b[0m\u001b[0;34m)\u001b[0m\u001b[0;34m\u001b[0m\u001b[0;34m\u001b[0m\u001b[0m\n",
            "\u001b[0;32m/usr/local/lib/python3.6/dist-packages/sklearn/linear_model/_base.py\u001b[0m in \u001b[0;36m_decision_function\u001b[0;34m(self, X)\u001b[0m\n\u001b[1;32m    207\u001b[0m         \u001b[0mX\u001b[0m \u001b[0;34m=\u001b[0m \u001b[0mcheck_array\u001b[0m\u001b[0;34m(\u001b[0m\u001b[0mX\u001b[0m\u001b[0;34m,\u001b[0m \u001b[0maccept_sparse\u001b[0m\u001b[0;34m=\u001b[0m\u001b[0;34m[\u001b[0m\u001b[0;34m'csr'\u001b[0m\u001b[0;34m,\u001b[0m \u001b[0;34m'csc'\u001b[0m\u001b[0;34m,\u001b[0m \u001b[0;34m'coo'\u001b[0m\u001b[0;34m]\u001b[0m\u001b[0;34m)\u001b[0m\u001b[0;34m\u001b[0m\u001b[0;34m\u001b[0m\u001b[0m\n\u001b[1;32m    208\u001b[0m         return safe_sparse_dot(X, self.coef_.T,\n\u001b[0;32m--> 209\u001b[0;31m                                dense_output=True) + self.intercept_\n\u001b[0m\u001b[1;32m    210\u001b[0m \u001b[0;34m\u001b[0m\u001b[0m\n\u001b[1;32m    211\u001b[0m     \u001b[0;32mdef\u001b[0m \u001b[0mpredict\u001b[0m\u001b[0;34m(\u001b[0m\u001b[0mself\u001b[0m\u001b[0;34m,\u001b[0m \u001b[0mX\u001b[0m\u001b[0;34m)\u001b[0m\u001b[0;34m:\u001b[0m\u001b[0;34m\u001b[0m\u001b[0;34m\u001b[0m\u001b[0m\n",
            "\u001b[0;32m/usr/local/lib/python3.6/dist-packages/sklearn/utils/extmath.py\u001b[0m in \u001b[0;36msafe_sparse_dot\u001b[0;34m(a, b, dense_output)\u001b[0m\n\u001b[1;32m    149\u001b[0m             \u001b[0mret\u001b[0m \u001b[0;34m=\u001b[0m \u001b[0mnp\u001b[0m\u001b[0;34m.\u001b[0m\u001b[0mdot\u001b[0m\u001b[0;34m(\u001b[0m\u001b[0ma\u001b[0m\u001b[0;34m,\u001b[0m \u001b[0mb\u001b[0m\u001b[0;34m)\u001b[0m\u001b[0;34m\u001b[0m\u001b[0;34m\u001b[0m\u001b[0m\n\u001b[1;32m    150\u001b[0m     \u001b[0;32melse\u001b[0m\u001b[0;34m:\u001b[0m\u001b[0;34m\u001b[0m\u001b[0;34m\u001b[0m\u001b[0m\n\u001b[0;32m--> 151\u001b[0;31m         \u001b[0mret\u001b[0m \u001b[0;34m=\u001b[0m \u001b[0ma\u001b[0m \u001b[0;34m@\u001b[0m \u001b[0mb\u001b[0m\u001b[0;34m\u001b[0m\u001b[0;34m\u001b[0m\u001b[0m\n\u001b[0m\u001b[1;32m    152\u001b[0m \u001b[0;34m\u001b[0m\u001b[0m\n\u001b[1;32m    153\u001b[0m     if (sparse.issparse(a) and sparse.issparse(b)\n",
            "\u001b[0;31mValueError\u001b[0m: matmul: Input operand 1 has a mismatch in its core dimension 0, with gufunc signature (n?,k),(k,m?)->(n?,m?) (size 2849 is different from 74)"
          ]
        },
        {
          "output_type": "display_data",
          "data": {
            "image/png": "[encoded data removed]",
            "text/plain": [
              "<Figure size 576x396 with 1 Axes>"
            ]
          },
          "metadata": {
            "tags": []
          }
        }
      ]
    },
    {
      "cell_type": "code",
      "metadata": {
        "id": "DDvtwLttNDE_",
        "colab_type": "code",
        "colab": {}
      },
      "source": [
        "from sklearn.ensemble import RandomForestRegressor\n",
        "\n",
        "forest_reg = RandomForestRegressor(n_estimators=10,random_state=42)\n",
        "forest_reg.fit(train_x,train_y)\n",
        "\n",
        "housing_predictions = forest_reg.predict(train_x)\n",
        "forest_mse = mean_squared_error(train_y, housing_predictions)\n",
        "forest_rmse = np.sqrt(forest_mse)\n",
        "forest_rmse\n"
      ],
      "execution_count": 0,
      "outputs": []
    },
    {
      "cell_type": "code",
      "metadata": {
        "id": "AdRgsSr1NKpM",
        "colab_type": "code",
        "colab": {}
      },
      "source": [
        "sample_submission = pd.read_csv('sample_submission.csv')\n",
        "sample_submission['SalePrice'] = np.exp(forest_reg.predict(test_x))-1\n",
        "sample_submission.to_csv('submission_RF.csv',index=False)\n"
      ],
      "execution_count": 0,
      "outputs": []
    },
    {
      "cell_type": "code",
      "metadata": {
        "id": "QgGzAvs9NXvP",
        "colab_type": "code",
        "colab": {}
      },
      "source": [
        "files.download('submission_RF.csv')"
      ],
      "execution_count": 0,
      "outputs": []
    },
    {
      "cell_type": "code",
      "metadata": {
        "id": "fuDKKWBYUk_P",
        "colab_type": "code",
        "outputId": "e11ecfb1-4df4-4c4b-efda-533ba1ca1d1c",
        "colab": {
          "base_uri": "https://localhost:8080/",
          "height": 34
        }
      },
      "source": [
        "from sklearn.linear_model import Ridge\n",
        "\n",
        "# Ridge model을 사용한 훈련 \n",
        "\n",
        "ridge_reg = Ridge(alpha=0.05,normalize=True)\n",
        "ridge_reg.fit(train_x,train_y)\n",
        "\n",
        "pred = ridge_reg.predict(train_x)\n",
        "\n",
        "mse = np.mean((pred - train_y)**2)\n",
        "\n",
        "print(mse)"
      ],
      "execution_count": 0,
      "outputs": [
        {
          "output_type": "stream",
          "text": [
            "0.01651220885583274\n"
          ],
          "name": "stdout"
        }
      ]
    },
    {
      "cell_type": "code",
      "metadata": {
        "id": "zPuzLiRPZaS0",
        "colab_type": "code",
        "colab": {}
      },
      "source": [
        "sample_submission = pd.read_csv('sample_submission.csv')\n",
        "sample_submission['SalePrice'] = np.exp(ridge_reg.predict(test_x))-1\n",
        "sample_submission.to_csv('submission_Ridge.csv',index=False)"
      ],
      "execution_count": 0,
      "outputs": []
    },
    {
      "cell_type": "code",
      "metadata": {
        "id": "OPD0IXfFbcH-",
        "colab_type": "code",
        "colab": {}
      },
      "source": [
        "files.download('submission_Ridge.csv')"
      ],
      "execution_count": 0,
      "outputs": []
    },
    {
      "cell_type": "code",
      "metadata": {
        "id": "0_leods9bhba",
        "colab_type": "code",
        "outputId": "f23a4e36-589d-44e2-c09a-7261a27acea9",
        "colab": {
          "base_uri": "https://localhost:8080/",
          "height": 34
        }
      },
      "source": [
        "from sklearn.linear_model import Lasso\n",
        "from sklearn.metrics import mean_squared_error\n",
        "\n",
        "lassoReg = Lasso(alpha=0.3,normalize=True)\n",
        "lassoReg.fit(train_x,train_y)\n",
        "\n",
        "pred_Lasso = lassoReg.predict(test_x)\n",
        "\n",
        "rmse = mean_squared_error(pred_Lasso,test_y)**0.5\n",
        "\n",
        "print(rmse)"
      ],
      "execution_count": 0,
      "outputs": [
        {
          "output_type": "stream",
          "text": [
            "0.11282579162486363\n"
          ],
          "name": "stdout"
        }
      ]
    },
    {
      "cell_type": "code",
      "metadata": {
        "id": "q9zfoCiRccMi",
        "colab_type": "code",
        "colab": {}
      },
      "source": [
        "sample_submission = pd.read_csv('sample_submission.csv')\n",
        "sample_submission['SalePrice'] = np.exp(lassoReg.predict(test_x))-1\n",
        "sample_submission.to_csv('submission_Lasso.csv',index=False)"
      ],
      "execution_count": 0,
      "outputs": []
    },
    {
      "cell_type": "code",
      "metadata": {
        "id": "xd8iiRYfc4a3",
        "colab_type": "code",
        "colab": {}
      },
      "source": [
        "files.download('submission_Lasso.csv')"
      ],
      "execution_count": 0,
      "outputs": []
    },
    {
      "cell_type": "code",
      "metadata": {
        "id": "RIP1L2VRc6_5",
        "colab_type": "code",
        "outputId": "a41554f4-cf55-4a6c-a910-6db3ff2112c5",
        "colab": {
          "base_uri": "https://localhost:8080/",
          "height": 52
        }
      },
      "source": [
        "#Elastic Net Regression 개 안좋음 찐따 임 \n",
        "from sklearn.linear_model import ElasticNet\n",
        "\n",
        "ENreg = ElasticNet(alpha=1,l1_ratio=0.5,normalize = False)\n",
        "ENreg.fit(train_x,train_y)\n",
        "\n",
        "pred_EN = ENreg.predict(test_x)\n",
        "\n",
        "mse = np.mean((pred_EN - test_y)**2)\n",
        "\n",
        "print(mse)\n",
        "rmse = mean_squared_error(pred_EN,test_y)**0.5\n",
        "\n",
        "print(rmse)"
      ],
      "execution_count": 0,
      "outputs": [
        {
          "output_type": "stream",
          "text": [
            "0.12839040875358648\n",
            "0.3583160738141485\n"
          ],
          "name": "stdout"
        }
      ]
    },
    {
      "cell_type": "code",
      "metadata": {
        "id": "biXHKbuxjssm",
        "colab_type": "code",
        "colab": {}
      },
      "source": [
        "sample_submission = pd.read_csv('sample_submission.csv')\n",
        "sample_submission['SalePrice'] = np.exp(ENreg.predict(test_x))-1\n",
        "sample_submission.to_csv('submission_EN.csv',index=False)"
      ],
      "execution_count": 0,
      "outputs": []
    },
    {
      "cell_type": "code",
      "metadata": {
        "id": "7oN6hkpcj0KW",
        "colab_type": "code",
        "colab": {}
      },
      "source": [
        "files.download('submission_EN.csv')"
      ],
      "execution_count": 0,
      "outputs": []
    },
    {
      "cell_type": "code",
      "metadata": {
        "id": "fB26ngAkgcUm",
        "colab_type": "code",
        "outputId": "6a2e6eaf-4842-4ef5-c93d-d1bd33169dec",
        "colab": {
          "base_uri": "https://localhost:8080/",
          "height": 34
        }
      },
      "source": [
        "from sklearn.ensemble import AdaBoostRegressor\n",
        "\n",
        "AdaReg = AdaBoostRegressor()\n",
        "AdaReg.fit(train_x,train_y)\n",
        "\n",
        "pred_Ada = AdaReg.predict(test_x)\n",
        "\n",
        "mse = np.mean((pred_Ada - test_y)**2)\n",
        "\n",
        "print(mse)"
      ],
      "execution_count": 0,
      "outputs": [
        {
          "output_type": "stream",
          "text": [
            "0.16013234807529247\n"
          ],
          "name": "stdout"
        }
      ]
    },
    {
      "cell_type": "code",
      "metadata": {
        "id": "Psj04fkdkC0y",
        "colab_type": "code",
        "colab": {}
      },
      "source": [
        "sample_submission = pd.read_csv('sample_submission.csv')\n",
        "sample_submission['SalePrice'] = np.exp(AdaReg.predict(test_x))-1\n",
        "sample_submission.to_csv('submission_Ada.csv',index=False)"
      ],
      "execution_count": 0,
      "outputs": []
    },
    {
      "cell_type": "code",
      "metadata": {
        "id": "PEZvfgr4kHzT",
        "colab_type": "code",
        "colab": {}
      },
      "source": [
        "files.download('submission_Ada.csv')"
      ],
      "execution_count": 0,
      "outputs": []
    },
    {
      "cell_type": "code",
      "metadata": {
        "id": "2CiZGH0ykOW5",
        "colab_type": "code",
        "outputId": "2d2f9c28-60f6-491d-bbca-2e9afb1e1e9d",
        "colab": {
          "base_uri": "https://localhost:8080/",
          "height": 34
        }
      },
      "source": [
        "from sklearn.ensemble import GradientBoostingRegressor\n",
        "\n",
        "Grad_reg = GradientBoostingRegressor()\n",
        "Grad_reg.fit(train_x,train_y)\n",
        "\n",
        "pred_Grad = Grad_reg.predict(test_x)\n",
        "\n",
        "mse = np.mean((pred_Grad - test_y)**2)\n",
        "\n",
        "print(mse)"
      ],
      "execution_count": 0,
      "outputs": [
        {
          "output_type": "stream",
          "text": [
            "0.14714181144423114\n"
          ],
          "name": "stdout"
        }
      ]
    },
    {
      "cell_type": "code",
      "metadata": {
        "id": "L0mViysLlATO",
        "colab_type": "code",
        "colab": {}
      },
      "source": [
        "sample_submission = pd.read_csv('sample_submission.csv')\n",
        "sample_submission['SalePrice'] = np.exp(Grad_reg.predict(test_x))-1\n",
        "sample_submission.to_csv('submission_Grad.csv',index=False)"
      ],
      "execution_count": 0,
      "outputs": []
    },
    {
      "cell_type": "code",
      "metadata": {
        "id": "pj-waKbzlI30",
        "colab_type": "code",
        "colab": {}
      },
      "source": [
        "files.download('submission_Grad.csv')"
      ],
      "execution_count": 0,
      "outputs": []
    },
    {
      "cell_type": "code",
      "metadata": {
        "id": "pNpj3_aJlNln",
        "colab_type": "code",
        "outputId": "650a1d21-e783-4059-fa90-726fa0f49020",
        "colab": {
          "base_uri": "https://localhost:8080/",
          "height": 1000
        }
      },
      "source": [
        "from sklearn.ensemble import RandomForestRegressor\n",
        "import xgboost as xgb # 여러개 결정트리를 사용해서 조합하는 ensemble알고리즘\n",
        "import lightgbm as lgb\n",
        "\n",
        "kf = StratifiedKFold(n_splits=5,random_state=1,shuffle=True)\n",
        "\n",
        "params = {'num_leaves':[10,30,50],\n",
        "         'n_estimators': [100,300,500],\n",
        "          'learning_rate': [0.01,0.1],\n",
        "          'min_child_samples': [20,40,60],\n",
        "          'feature_fraction': [0.8,0.9],\n",
        "          'bagging_fraction': [0.8,0.9],\n",
        "          'bagging_freq': [1,3]\n",
        "         }\n",
        "\n",
        "fit_lgb = lgb.LGBMRegressor(random_state=123,verbose=1)\n",
        "\n",
        "gbm = GridSearchCV(fit_lgb, params, cv=5,verbose=2)\n",
        "gbm.fit(train_x, train_y)\n",
        "\n",
        "print('Best parameters found by grid search are:', gbm.best_params_)\n",
        "print('Best score: ',gbm.best_score_)"
      ],
      "execution_count": 0,
      "outputs": [
        {
          "output_type": "stream",
          "text": [
            "Fitting 5 folds for each of 432 candidates, totalling 2160 fits\n",
            "[CV] bagging_fraction=0.8, bagging_freq=1, feature_fraction=0.8, learning_rate=0.01, min_child_samples=20, n_estimators=100, num_leaves=10 \n",
            "[CV]  bagging_fraction=0.8, bagging_freq=1, feature_fraction=0.8, learning_rate=0.01, min_child_samples=20, n_estimators=100, num_leaves=10, total=   0.2s\n",
            "[CV] bagging_fraction=0.8, bagging_freq=1, feature_fraction=0.8, learning_rate=0.01, min_child_samples=20, n_estimators=100, num_leaves=10 \n"
          ],
          "name": "stdout"
        },
        {
          "output_type": "stream",
          "text": [
            "[Parallel(n_jobs=1)]: Using backend SequentialBackend with 1 concurrent workers.\n",
            "[Parallel(n_jobs=1)]: Done   1 out of   1 | elapsed:    0.2s remaining:    0.0s\n"
          ],
          "name": "stderr"
        },
        {
          "output_type": "stream",
          "text": [
            "[CV]  bagging_fraction=0.8, bagging_freq=1, feature_fraction=0.8, learning_rate=0.01, min_child_samples=20, n_estimators=100, num_leaves=10, total=   0.2s\n",
            "[CV] bagging_fraction=0.8, bagging_freq=1, feature_fraction=0.8, learning_rate=0.01, min_child_samples=20, n_estimators=100, num_leaves=10 \n",
            "[CV]  bagging_fraction=0.8, bagging_freq=1, feature_fraction=0.8, learning_rate=0.01, min_child_samples=20, n_estimators=100, num_leaves=10, total=   0.2s\n",
            "[CV] bagging_fraction=0.8, bagging_freq=1, feature_fraction=0.8, learning_rate=0.01, min_child_samples=20, n_estimators=100, num_leaves=10 \n",
            "[CV]  bagging_fraction=0.8, bagging_freq=1, feature_fraction=0.8, learning_rate=0.01, min_child_samples=20, n_estimators=100, num_leaves=10, total=   0.2s\n",
            "[CV] bagging_fraction=0.8, bagging_freq=1, feature_fraction=0.8, learning_rate=0.01, min_child_samples=20, n_estimators=100, num_leaves=10 \n",
            "[CV]  bagging_fraction=0.8, bagging_freq=1, feature_fraction=0.8, learning_rate=0.01, min_child_samples=20, n_estimators=100, num_leaves=10, total=   0.2s\n",
            "[CV] bagging_fraction=0.8, bagging_freq=1, feature_fraction=0.8, learning_rate=0.01, min_child_samples=20, n_estimators=100, num_leaves=30 \n",
            "[CV]  bagging_fraction=0.8, bagging_freq=1, feature_fraction=0.8, learning_rate=0.01, min_child_samples=20, n_estimators=100, num_leaves=30, total=   0.3s\n",
            "[CV] bagging_fraction=0.8, bagging_freq=1, feature_fraction=0.8, learning_rate=0.01, min_child_samples=20, n_estimators=100, num_leaves=30 \n",
            "[CV]  bagging_fraction=0.8, bagging_freq=1, feature_fraction=0.8, learning_rate=0.01, min_child_samples=20, n_estimators=100, num_leaves=30, total=   0.3s\n",
            "[CV] bagging_fraction=0.8, bagging_freq=1, feature_fraction=0.8, learning_rate=0.01, min_child_samples=20, n_estimators=100, num_leaves=30 \n",
            "[CV]  bagging_fraction=0.8, bagging_freq=1, feature_fraction=0.8, learning_rate=0.01, min_child_samples=20, n_estimators=100, num_leaves=30, total=   0.3s\n",
            "[CV] bagging_fraction=0.8, bagging_freq=1, feature_fraction=0.8, learning_rate=0.01, min_child_samples=20, n_estimators=100, num_leaves=30 \n",
            "[CV]  bagging_fraction=0.8, bagging_freq=1, feature_fraction=0.8, learning_rate=0.01, min_child_samples=20, n_estimators=100, num_leaves=30, total=   0.3s\n",
            "[CV] bagging_fraction=0.8, bagging_freq=1, feature_fraction=0.8, learning_rate=0.01, min_child_samples=20, n_estimators=100, num_leaves=30 \n",
            "[CV]  bagging_fraction=0.8, bagging_freq=1, feature_fraction=0.8, learning_rate=0.01, min_child_samples=20, n_estimators=100, num_leaves=30, total=   0.3s\n",
            "[CV] bagging_fraction=0.8, bagging_freq=1, feature_fraction=0.8, learning_rate=0.01, min_child_samples=20, n_estimators=100, num_leaves=50 \n",
            "[CV]  bagging_fraction=0.8, bagging_freq=1, feature_fraction=0.8, learning_rate=0.01, min_child_samples=20, n_estimators=100, num_leaves=50, total=   0.4s\n",
            "[CV] bagging_fraction=0.8, bagging_freq=1, feature_fraction=0.8, learning_rate=0.01, min_child_samples=20, n_estimators=100, num_leaves=50 \n",
            "[CV]  bagging_fraction=0.8, bagging_freq=1, feature_fraction=0.8, learning_rate=0.01, min_child_samples=20, n_estimators=100, num_leaves=50, total=   0.4s\n",
            "[CV] bagging_fraction=0.8, bagging_freq=1, feature_fraction=0.8, learning_rate=0.01, min_child_samples=20, n_estimators=100, num_leaves=50 \n",
            "[CV]  bagging_fraction=0.8, bagging_freq=1, feature_fraction=0.8, learning_rate=0.01, min_child_samples=20, n_estimators=100, num_leaves=50, total=   0.4s\n",
            "[CV] bagging_fraction=0.8, bagging_freq=1, feature_fraction=0.8, learning_rate=0.01, min_child_samples=20, n_estimators=100, num_leaves=50 \n",
            "[CV]  bagging_fraction=0.8, bagging_freq=1, feature_fraction=0.8, learning_rate=0.01, min_child_samples=20, n_estimators=100, num_leaves=50, total=   0.4s\n",
            "[CV] bagging_fraction=0.8, bagging_freq=1, feature_fraction=0.8, learning_rate=0.01, min_child_samples=20, n_estimators=100, num_leaves=50 \n",
            "[CV]  bagging_fraction=0.8, bagging_freq=1, feature_fraction=0.8, learning_rate=0.01, min_child_samples=20, n_estimators=100, num_leaves=50, total=   0.4s\n",
            "[CV] bagging_fraction=0.8, bagging_freq=1, feature_fraction=0.8, learning_rate=0.01, min_child_samples=20, n_estimators=300, num_leaves=10 \n",
            "[CV]  bagging_fraction=0.8, bagging_freq=1, feature_fraction=0.8, learning_rate=0.01, min_child_samples=20, n_estimators=300, num_leaves=10, total=   0.4s\n",
            "[CV] bagging_fraction=0.8, bagging_freq=1, feature_fraction=0.8, learning_rate=0.01, min_child_samples=20, n_estimators=300, num_leaves=10 \n",
            "[CV]  bagging_fraction=0.8, bagging_freq=1, feature_fraction=0.8, learning_rate=0.01, min_child_samples=20, n_estimators=300, num_leaves=10, total=   0.4s\n",
            "[CV] bagging_fraction=0.8, bagging_freq=1, feature_fraction=0.8, learning_rate=0.01, min_child_samples=20, n_estimators=300, num_leaves=10 \n",
            "[CV]  bagging_fraction=0.8, bagging_freq=1, feature_fraction=0.8, learning_rate=0.01, min_child_samples=20, n_estimators=300, num_leaves=10, total=   0.4s\n",
            "[CV] bagging_fraction=0.8, bagging_freq=1, feature_fraction=0.8, learning_rate=0.01, min_child_samples=20, n_estimators=300, num_leaves=10 \n",
            "[CV]  bagging_fraction=0.8, bagging_freq=1, feature_fraction=0.8, learning_rate=0.01, min_child_samples=20, n_estimators=300, num_leaves=10, total=   0.4s\n",
            "[CV] bagging_fraction=0.8, bagging_freq=1, feature_fraction=0.8, learning_rate=0.01, min_child_samples=20, n_estimators=300, num_leaves=10 \n",
            "[CV]  bagging_fraction=0.8, bagging_freq=1, feature_fraction=0.8, learning_rate=0.01, min_child_samples=20, n_estimators=300, num_leaves=10, total=   0.4s\n",
            "[CV] bagging_fraction=0.8, bagging_freq=1, feature_fraction=0.8, learning_rate=0.01, min_child_samples=20, n_estimators=300, num_leaves=30 \n",
            "[CV]  bagging_fraction=0.8, bagging_freq=1, feature_fraction=0.8, learning_rate=0.01, min_child_samples=20, n_estimators=300, num_leaves=30, total=   0.8s\n",
            "[CV] bagging_fraction=0.8, bagging_freq=1, feature_fraction=0.8, learning_rate=0.01, min_child_samples=20, n_estimators=300, num_leaves=30 \n"
          ],
          "name": "stdout"
        },
        {
          "output_type": "error",
          "ename": "KeyboardInterrupt",
          "evalue": "ignored",
          "traceback": [
            "\u001b[0;31m---------------------------------------------------------------------------\u001b[0m",
            "\u001b[0;31mKeyboardInterrupt\u001b[0m                         Traceback (most recent call last)",
            "\u001b[0;32m<ipython-input-52-78310683d99a>\u001b[0m in \u001b[0;36m<module>\u001b[0;34m()\u001b[0m\n\u001b[1;32m     17\u001b[0m \u001b[0;34m\u001b[0m\u001b[0m\n\u001b[1;32m     18\u001b[0m \u001b[0mgbm\u001b[0m \u001b[0;34m=\u001b[0m \u001b[0mGridSearchCV\u001b[0m\u001b[0;34m(\u001b[0m\u001b[0mfit_lgb\u001b[0m\u001b[0;34m,\u001b[0m \u001b[0mparams\u001b[0m\u001b[0;34m,\u001b[0m \u001b[0mcv\u001b[0m\u001b[0;34m=\u001b[0m\u001b[0;36m5\u001b[0m\u001b[0;34m,\u001b[0m\u001b[0mverbose\u001b[0m\u001b[0;34m=\u001b[0m\u001b[0;36m2\u001b[0m\u001b[0;34m)\u001b[0m\u001b[0;34m\u001b[0m\u001b[0;34m\u001b[0m\u001b[0m\n\u001b[0;32m---> 19\u001b[0;31m \u001b[0mgbm\u001b[0m\u001b[0;34m.\u001b[0m\u001b[0mfit\u001b[0m\u001b[0;34m(\u001b[0m\u001b[0mtrain_x\u001b[0m\u001b[0;34m,\u001b[0m \u001b[0mtrain_y\u001b[0m\u001b[0;34m)\u001b[0m\u001b[0;34m\u001b[0m\u001b[0;34m\u001b[0m\u001b[0m\n\u001b[0m\u001b[1;32m     20\u001b[0m \u001b[0;34m\u001b[0m\u001b[0m\n\u001b[1;32m     21\u001b[0m \u001b[0mprint\u001b[0m\u001b[0;34m(\u001b[0m\u001b[0;34m'Best parameters found by grid search are:'\u001b[0m\u001b[0;34m,\u001b[0m \u001b[0mgbm\u001b[0m\u001b[0;34m.\u001b[0m\u001b[0mbest_params_\u001b[0m\u001b[0;34m)\u001b[0m\u001b[0;34m\u001b[0m\u001b[0;34m\u001b[0m\u001b[0m\n",
            "\u001b[0;32m/usr/local/lib/python3.6/dist-packages/sklearn/model_selection/_search.py\u001b[0m in \u001b[0;36mfit\u001b[0;34m(self, X, y, groups, **fit_params)\u001b[0m\n\u001b[1;32m    708\u001b[0m                 \u001b[0;32mreturn\u001b[0m \u001b[0mresults\u001b[0m\u001b[0;34m\u001b[0m\u001b[0;34m\u001b[0m\u001b[0m\n\u001b[1;32m    709\u001b[0m \u001b[0;34m\u001b[0m\u001b[0m\n\u001b[0;32m--> 710\u001b[0;31m             \u001b[0mself\u001b[0m\u001b[0;34m.\u001b[0m\u001b[0m_run_search\u001b[0m\u001b[0;34m(\u001b[0m\u001b[0mevaluate_candidates\u001b[0m\u001b[0;34m)\u001b[0m\u001b[0;34m\u001b[0m\u001b[0;34m\u001b[0m\u001b[0m\n\u001b[0m\u001b[1;32m    711\u001b[0m \u001b[0;34m\u001b[0m\u001b[0m\n\u001b[1;32m    712\u001b[0m         \u001b[0;31m# For multi-metric evaluation, store the best_index_, best_params_ and\u001b[0m\u001b[0;34m\u001b[0m\u001b[0;34m\u001b[0m\u001b[0;34m\u001b[0m\u001b[0m\n",
            "\u001b[0;32m/usr/local/lib/python3.6/dist-packages/sklearn/model_selection/_search.py\u001b[0m in \u001b[0;36m_run_search\u001b[0;34m(self, evaluate_candidates)\u001b[0m\n\u001b[1;32m   1149\u001b[0m     \u001b[0;32mdef\u001b[0m \u001b[0m_run_search\u001b[0m\u001b[0;34m(\u001b[0m\u001b[0mself\u001b[0m\u001b[0;34m,\u001b[0m \u001b[0mevaluate_candidates\u001b[0m\u001b[0;34m)\u001b[0m\u001b[0;34m:\u001b[0m\u001b[0;34m\u001b[0m\u001b[0;34m\u001b[0m\u001b[0m\n\u001b[1;32m   1150\u001b[0m         \u001b[0;34m\"\"\"Search all candidates in param_grid\"\"\"\u001b[0m\u001b[0;34m\u001b[0m\u001b[0;34m\u001b[0m\u001b[0m\n\u001b[0;32m-> 1151\u001b[0;31m         \u001b[0mevaluate_candidates\u001b[0m\u001b[0;34m(\u001b[0m\u001b[0mParameterGrid\u001b[0m\u001b[0;34m(\u001b[0m\u001b[0mself\u001b[0m\u001b[0;34m.\u001b[0m\u001b[0mparam_grid\u001b[0m\u001b[0;34m)\u001b[0m\u001b[0;34m)\u001b[0m\u001b[0;34m\u001b[0m\u001b[0;34m\u001b[0m\u001b[0m\n\u001b[0m\u001b[1;32m   1152\u001b[0m \u001b[0;34m\u001b[0m\u001b[0m\n\u001b[1;32m   1153\u001b[0m \u001b[0;34m\u001b[0m\u001b[0m\n",
            "\u001b[0;32m/usr/local/lib/python3.6/dist-packages/sklearn/model_selection/_search.py\u001b[0m in \u001b[0;36mevaluate_candidates\u001b[0;34m(candidate_params)\u001b[0m\n\u001b[1;32m    687\u001b[0m                                \u001b[0;32mfor\u001b[0m \u001b[0mparameters\u001b[0m\u001b[0;34m,\u001b[0m \u001b[0;34m(\u001b[0m\u001b[0mtrain\u001b[0m\u001b[0;34m,\u001b[0m \u001b[0mtest\u001b[0m\u001b[0;34m)\u001b[0m\u001b[0;34m\u001b[0m\u001b[0;34m\u001b[0m\u001b[0m\n\u001b[1;32m    688\u001b[0m                                in product(candidate_params,\n\u001b[0;32m--> 689\u001b[0;31m                                           cv.split(X, y, groups)))\n\u001b[0m\u001b[1;32m    690\u001b[0m \u001b[0;34m\u001b[0m\u001b[0m\n\u001b[1;32m    691\u001b[0m                 \u001b[0;32mif\u001b[0m \u001b[0mlen\u001b[0m\u001b[0;34m(\u001b[0m\u001b[0mout\u001b[0m\u001b[0;34m)\u001b[0m \u001b[0;34m<\u001b[0m \u001b[0;36m1\u001b[0m\u001b[0;34m:\u001b[0m\u001b[0;34m\u001b[0m\u001b[0;34m\u001b[0m\u001b[0m\n",
            "\u001b[0;32m/usr/local/lib/python3.6/dist-packages/joblib/parallel.py\u001b[0m in \u001b[0;36m__call__\u001b[0;34m(self, iterable)\u001b[0m\n\u001b[1;32m   1005\u001b[0m                 \u001b[0mself\u001b[0m\u001b[0;34m.\u001b[0m\u001b[0m_iterating\u001b[0m \u001b[0;34m=\u001b[0m \u001b[0mself\u001b[0m\u001b[0;34m.\u001b[0m\u001b[0m_original_iterator\u001b[0m \u001b[0;32mis\u001b[0m \u001b[0;32mnot\u001b[0m \u001b[0;32mNone\u001b[0m\u001b[0;34m\u001b[0m\u001b[0;34m\u001b[0m\u001b[0m\n\u001b[1;32m   1006\u001b[0m \u001b[0;34m\u001b[0m\u001b[0m\n\u001b[0;32m-> 1007\u001b[0;31m             \u001b[0;32mwhile\u001b[0m \u001b[0mself\u001b[0m\u001b[0;34m.\u001b[0m\u001b[0mdispatch_one_batch\u001b[0m\u001b[0;34m(\u001b[0m\u001b[0miterator\u001b[0m\u001b[0;34m)\u001b[0m\u001b[0;34m:\u001b[0m\u001b[0;34m\u001b[0m\u001b[0;34m\u001b[0m\u001b[0m\n\u001b[0m\u001b[1;32m   1008\u001b[0m                 \u001b[0;32mpass\u001b[0m\u001b[0;34m\u001b[0m\u001b[0;34m\u001b[0m\u001b[0m\n\u001b[1;32m   1009\u001b[0m \u001b[0;34m\u001b[0m\u001b[0m\n",
            "\u001b[0;32m/usr/local/lib/python3.6/dist-packages/joblib/parallel.py\u001b[0m in \u001b[0;36mdispatch_one_batch\u001b[0;34m(self, iterator)\u001b[0m\n\u001b[1;32m    833\u001b[0m                 \u001b[0;32mreturn\u001b[0m \u001b[0;32mFalse\u001b[0m\u001b[0;34m\u001b[0m\u001b[0;34m\u001b[0m\u001b[0m\n\u001b[1;32m    834\u001b[0m             \u001b[0;32melse\u001b[0m\u001b[0;34m:\u001b[0m\u001b[0;34m\u001b[0m\u001b[0;34m\u001b[0m\u001b[0m\n\u001b[0;32m--> 835\u001b[0;31m                 \u001b[0mself\u001b[0m\u001b[0;34m.\u001b[0m\u001b[0m_dispatch\u001b[0m\u001b[0;34m(\u001b[0m\u001b[0mtasks\u001b[0m\u001b[0;34m)\u001b[0m\u001b[0;34m\u001b[0m\u001b[0;34m\u001b[0m\u001b[0m\n\u001b[0m\u001b[1;32m    836\u001b[0m                 \u001b[0;32mreturn\u001b[0m \u001b[0;32mTrue\u001b[0m\u001b[0;34m\u001b[0m\u001b[0;34m\u001b[0m\u001b[0m\n\u001b[1;32m    837\u001b[0m \u001b[0;34m\u001b[0m\u001b[0m\n",
            "\u001b[0;32m/usr/local/lib/python3.6/dist-packages/joblib/parallel.py\u001b[0m in \u001b[0;36m_dispatch\u001b[0;34m(self, batch)\u001b[0m\n\u001b[1;32m    752\u001b[0m         \u001b[0;32mwith\u001b[0m \u001b[0mself\u001b[0m\u001b[0;34m.\u001b[0m\u001b[0m_lock\u001b[0m\u001b[0;34m:\u001b[0m\u001b[0;34m\u001b[0m\u001b[0;34m\u001b[0m\u001b[0m\n\u001b[1;32m    753\u001b[0m             \u001b[0mjob_idx\u001b[0m \u001b[0;34m=\u001b[0m \u001b[0mlen\u001b[0m\u001b[0;34m(\u001b[0m\u001b[0mself\u001b[0m\u001b[0;34m.\u001b[0m\u001b[0m_jobs\u001b[0m\u001b[0;34m)\u001b[0m\u001b[0;34m\u001b[0m\u001b[0;34m\u001b[0m\u001b[0m\n\u001b[0;32m--> 754\u001b[0;31m             \u001b[0mjob\u001b[0m \u001b[0;34m=\u001b[0m \u001b[0mself\u001b[0m\u001b[0;34m.\u001b[0m\u001b[0m_backend\u001b[0m\u001b[0;34m.\u001b[0m\u001b[0mapply_async\u001b[0m\u001b[0;34m(\u001b[0m\u001b[0mbatch\u001b[0m\u001b[0;34m,\u001b[0m \u001b[0mcallback\u001b[0m\u001b[0;34m=\u001b[0m\u001b[0mcb\u001b[0m\u001b[0;34m)\u001b[0m\u001b[0;34m\u001b[0m\u001b[0;34m\u001b[0m\u001b[0m\n\u001b[0m\u001b[1;32m    755\u001b[0m             \u001b[0;31m# A job can complete so quickly than its callback is\u001b[0m\u001b[0;34m\u001b[0m\u001b[0;34m\u001b[0m\u001b[0;34m\u001b[0m\u001b[0m\n\u001b[1;32m    756\u001b[0m             \u001b[0;31m# called before we get here, causing self._jobs to\u001b[0m\u001b[0;34m\u001b[0m\u001b[0;34m\u001b[0m\u001b[0;34m\u001b[0m\u001b[0m\n",
            "\u001b[0;32m/usr/local/lib/python3.6/dist-packages/joblib/_parallel_backends.py\u001b[0m in \u001b[0;36mapply_async\u001b[0;34m(self, func, callback)\u001b[0m\n\u001b[1;32m    207\u001b[0m     \u001b[0;32mdef\u001b[0m \u001b[0mapply_async\u001b[0m\u001b[0;34m(\u001b[0m\u001b[0mself\u001b[0m\u001b[0;34m,\u001b[0m \u001b[0mfunc\u001b[0m\u001b[0;34m,\u001b[0m \u001b[0mcallback\u001b[0m\u001b[0;34m=\u001b[0m\u001b[0;32mNone\u001b[0m\u001b[0;34m)\u001b[0m\u001b[0;34m:\u001b[0m\u001b[0;34m\u001b[0m\u001b[0;34m\u001b[0m\u001b[0m\n\u001b[1;32m    208\u001b[0m         \u001b[0;34m\"\"\"Schedule a func to be run\"\"\"\u001b[0m\u001b[0;34m\u001b[0m\u001b[0;34m\u001b[0m\u001b[0m\n\u001b[0;32m--> 209\u001b[0;31m         \u001b[0mresult\u001b[0m \u001b[0;34m=\u001b[0m \u001b[0mImmediateResult\u001b[0m\u001b[0;34m(\u001b[0m\u001b[0mfunc\u001b[0m\u001b[0;34m)\u001b[0m\u001b[0;34m\u001b[0m\u001b[0;34m\u001b[0m\u001b[0m\n\u001b[0m\u001b[1;32m    210\u001b[0m         \u001b[0;32mif\u001b[0m \u001b[0mcallback\u001b[0m\u001b[0;34m:\u001b[0m\u001b[0;34m\u001b[0m\u001b[0;34m\u001b[0m\u001b[0m\n\u001b[1;32m    211\u001b[0m             \u001b[0mcallback\u001b[0m\u001b[0;34m(\u001b[0m\u001b[0mresult\u001b[0m\u001b[0;34m)\u001b[0m\u001b[0;34m\u001b[0m\u001b[0;34m\u001b[0m\u001b[0m\n",
            "\u001b[0;32m/usr/local/lib/python3.6/dist-packages/joblib/_parallel_backends.py\u001b[0m in \u001b[0;36m__init__\u001b[0;34m(self, batch)\u001b[0m\n\u001b[1;32m    588\u001b[0m         \u001b[0;31m# Don't delay the application, to avoid keeping the input\u001b[0m\u001b[0;34m\u001b[0m\u001b[0;34m\u001b[0m\u001b[0;34m\u001b[0m\u001b[0m\n\u001b[1;32m    589\u001b[0m         \u001b[0;31m# arguments in memory\u001b[0m\u001b[0;34m\u001b[0m\u001b[0;34m\u001b[0m\u001b[0;34m\u001b[0m\u001b[0m\n\u001b[0;32m--> 590\u001b[0;31m         \u001b[0mself\u001b[0m\u001b[0;34m.\u001b[0m\u001b[0mresults\u001b[0m \u001b[0;34m=\u001b[0m \u001b[0mbatch\u001b[0m\u001b[0;34m(\u001b[0m\u001b[0;34m)\u001b[0m\u001b[0;34m\u001b[0m\u001b[0;34m\u001b[0m\u001b[0m\n\u001b[0m\u001b[1;32m    591\u001b[0m \u001b[0;34m\u001b[0m\u001b[0m\n\u001b[1;32m    592\u001b[0m     \u001b[0;32mdef\u001b[0m \u001b[0mget\u001b[0m\u001b[0;34m(\u001b[0m\u001b[0mself\u001b[0m\u001b[0;34m)\u001b[0m\u001b[0;34m:\u001b[0m\u001b[0;34m\u001b[0m\u001b[0;34m\u001b[0m\u001b[0m\n",
            "\u001b[0;32m/usr/local/lib/python3.6/dist-packages/joblib/parallel.py\u001b[0m in \u001b[0;36m__call__\u001b[0;34m(self)\u001b[0m\n\u001b[1;32m    254\u001b[0m         \u001b[0;32mwith\u001b[0m \u001b[0mparallel_backend\u001b[0m\u001b[0;34m(\u001b[0m\u001b[0mself\u001b[0m\u001b[0;34m.\u001b[0m\u001b[0m_backend\u001b[0m\u001b[0;34m,\u001b[0m \u001b[0mn_jobs\u001b[0m\u001b[0;34m=\u001b[0m\u001b[0mself\u001b[0m\u001b[0;34m.\u001b[0m\u001b[0m_n_jobs\u001b[0m\u001b[0;34m)\u001b[0m\u001b[0;34m:\u001b[0m\u001b[0;34m\u001b[0m\u001b[0;34m\u001b[0m\u001b[0m\n\u001b[1;32m    255\u001b[0m             return [func(*args, **kwargs)\n\u001b[0;32m--> 256\u001b[0;31m                     for func, args, kwargs in self.items]\n\u001b[0m\u001b[1;32m    257\u001b[0m \u001b[0;34m\u001b[0m\u001b[0m\n\u001b[1;32m    258\u001b[0m     \u001b[0;32mdef\u001b[0m \u001b[0m__len__\u001b[0m\u001b[0;34m(\u001b[0m\u001b[0mself\u001b[0m\u001b[0;34m)\u001b[0m\u001b[0;34m:\u001b[0m\u001b[0;34m\u001b[0m\u001b[0;34m\u001b[0m\u001b[0m\n",
            "\u001b[0;32m/usr/local/lib/python3.6/dist-packages/joblib/parallel.py\u001b[0m in \u001b[0;36m<listcomp>\u001b[0;34m(.0)\u001b[0m\n\u001b[1;32m    254\u001b[0m         \u001b[0;32mwith\u001b[0m \u001b[0mparallel_backend\u001b[0m\u001b[0;34m(\u001b[0m\u001b[0mself\u001b[0m\u001b[0;34m.\u001b[0m\u001b[0m_backend\u001b[0m\u001b[0;34m,\u001b[0m \u001b[0mn_jobs\u001b[0m\u001b[0;34m=\u001b[0m\u001b[0mself\u001b[0m\u001b[0;34m.\u001b[0m\u001b[0m_n_jobs\u001b[0m\u001b[0;34m)\u001b[0m\u001b[0;34m:\u001b[0m\u001b[0;34m\u001b[0m\u001b[0;34m\u001b[0m\u001b[0m\n\u001b[1;32m    255\u001b[0m             return [func(*args, **kwargs)\n\u001b[0;32m--> 256\u001b[0;31m                     for func, args, kwargs in self.items]\n\u001b[0m\u001b[1;32m    257\u001b[0m \u001b[0;34m\u001b[0m\u001b[0m\n\u001b[1;32m    258\u001b[0m     \u001b[0;32mdef\u001b[0m \u001b[0m__len__\u001b[0m\u001b[0;34m(\u001b[0m\u001b[0mself\u001b[0m\u001b[0;34m)\u001b[0m\u001b[0;34m:\u001b[0m\u001b[0;34m\u001b[0m\u001b[0;34m\u001b[0m\u001b[0m\n",
            "\u001b[0;32m/usr/local/lib/python3.6/dist-packages/sklearn/model_selection/_validation.py\u001b[0m in \u001b[0;36m_fit_and_score\u001b[0;34m(estimator, X, y, scorer, train, test, verbose, parameters, fit_params, return_train_score, return_parameters, return_n_test_samples, return_times, return_estimator, error_score)\u001b[0m\n\u001b[1;32m    513\u001b[0m             \u001b[0mestimator\u001b[0m\u001b[0;34m.\u001b[0m\u001b[0mfit\u001b[0m\u001b[0;34m(\u001b[0m\u001b[0mX_train\u001b[0m\u001b[0;34m,\u001b[0m \u001b[0;34m**\u001b[0m\u001b[0mfit_params\u001b[0m\u001b[0;34m)\u001b[0m\u001b[0;34m\u001b[0m\u001b[0;34m\u001b[0m\u001b[0m\n\u001b[1;32m    514\u001b[0m         \u001b[0;32melse\u001b[0m\u001b[0;34m:\u001b[0m\u001b[0;34m\u001b[0m\u001b[0;34m\u001b[0m\u001b[0m\n\u001b[0;32m--> 515\u001b[0;31m             \u001b[0mestimator\u001b[0m\u001b[0;34m.\u001b[0m\u001b[0mfit\u001b[0m\u001b[0;34m(\u001b[0m\u001b[0mX_train\u001b[0m\u001b[0;34m,\u001b[0m \u001b[0my_train\u001b[0m\u001b[0;34m,\u001b[0m \u001b[0;34m**\u001b[0m\u001b[0mfit_params\u001b[0m\u001b[0;34m)\u001b[0m\u001b[0;34m\u001b[0m\u001b[0;34m\u001b[0m\u001b[0m\n\u001b[0m\u001b[1;32m    516\u001b[0m \u001b[0;34m\u001b[0m\u001b[0m\n\u001b[1;32m    517\u001b[0m     \u001b[0;32mexcept\u001b[0m \u001b[0mException\u001b[0m \u001b[0;32mas\u001b[0m \u001b[0me\u001b[0m\u001b[0;34m:\u001b[0m\u001b[0;34m\u001b[0m\u001b[0;34m\u001b[0m\u001b[0m\n",
            "\u001b[0;32m/usr/local/lib/python3.6/dist-packages/lightgbm/sklearn.py\u001b[0m in \u001b[0;36mfit\u001b[0;34m(self, X, y, sample_weight, init_score, eval_set, eval_names, eval_sample_weight, eval_init_score, eval_metric, early_stopping_rounds, verbose, feature_name, categorical_feature, callbacks)\u001b[0m\n\u001b[1;32m    683\u001b[0m                                        \u001b[0mverbose\u001b[0m\u001b[0;34m=\u001b[0m\u001b[0mverbose\u001b[0m\u001b[0;34m,\u001b[0m \u001b[0mfeature_name\u001b[0m\u001b[0;34m=\u001b[0m\u001b[0mfeature_name\u001b[0m\u001b[0;34m,\u001b[0m\u001b[0;34m\u001b[0m\u001b[0;34m\u001b[0m\u001b[0m\n\u001b[1;32m    684\u001b[0m                                        \u001b[0mcategorical_feature\u001b[0m\u001b[0;34m=\u001b[0m\u001b[0mcategorical_feature\u001b[0m\u001b[0;34m,\u001b[0m\u001b[0;34m\u001b[0m\u001b[0;34m\u001b[0m\u001b[0m\n\u001b[0;32m--> 685\u001b[0;31m                                        callbacks=callbacks)\n\u001b[0m\u001b[1;32m    686\u001b[0m         \u001b[0;32mreturn\u001b[0m \u001b[0mself\u001b[0m\u001b[0;34m\u001b[0m\u001b[0;34m\u001b[0m\u001b[0m\n\u001b[1;32m    687\u001b[0m \u001b[0;34m\u001b[0m\u001b[0m\n",
            "\u001b[0;32m/usr/local/lib/python3.6/dist-packages/lightgbm/sklearn.py\u001b[0m in \u001b[0;36mfit\u001b[0;34m(self, X, y, sample_weight, init_score, group, eval_set, eval_names, eval_sample_weight, eval_class_weight, eval_init_score, eval_group, eval_metric, early_stopping_rounds, verbose, feature_name, categorical_feature, callbacks)\u001b[0m\n\u001b[1;32m    542\u001b[0m                               \u001b[0mverbose_eval\u001b[0m\u001b[0;34m=\u001b[0m\u001b[0mverbose\u001b[0m\u001b[0;34m,\u001b[0m \u001b[0mfeature_name\u001b[0m\u001b[0;34m=\u001b[0m\u001b[0mfeature_name\u001b[0m\u001b[0;34m,\u001b[0m\u001b[0;34m\u001b[0m\u001b[0;34m\u001b[0m\u001b[0m\n\u001b[1;32m    543\u001b[0m                               \u001b[0mcategorical_feature\u001b[0m\u001b[0;34m=\u001b[0m\u001b[0mcategorical_feature\u001b[0m\u001b[0;34m,\u001b[0m\u001b[0;34m\u001b[0m\u001b[0;34m\u001b[0m\u001b[0m\n\u001b[0;32m--> 544\u001b[0;31m                               callbacks=callbacks)\n\u001b[0m\u001b[1;32m    545\u001b[0m \u001b[0;34m\u001b[0m\u001b[0m\n\u001b[1;32m    546\u001b[0m         \u001b[0;32mif\u001b[0m \u001b[0mevals_result\u001b[0m\u001b[0;34m:\u001b[0m\u001b[0;34m\u001b[0m\u001b[0;34m\u001b[0m\u001b[0m\n",
            "\u001b[0;32m/usr/local/lib/python3.6/dist-packages/lightgbm/engine.py\u001b[0m in \u001b[0;36mtrain\u001b[0;34m(params, train_set, num_boost_round, valid_sets, valid_names, fobj, feval, init_model, feature_name, categorical_feature, early_stopping_rounds, evals_result, verbose_eval, learning_rates, keep_training_booster, callbacks)\u001b[0m\n\u001b[1;32m    216\u001b[0m                                     evaluation_result_list=None))\n\u001b[1;32m    217\u001b[0m \u001b[0;34m\u001b[0m\u001b[0m\n\u001b[0;32m--> 218\u001b[0;31m         \u001b[0mbooster\u001b[0m\u001b[0;34m.\u001b[0m\u001b[0mupdate\u001b[0m\u001b[0;34m(\u001b[0m\u001b[0mfobj\u001b[0m\u001b[0;34m=\u001b[0m\u001b[0mfobj\u001b[0m\u001b[0;34m)\u001b[0m\u001b[0;34m\u001b[0m\u001b[0;34m\u001b[0m\u001b[0m\n\u001b[0m\u001b[1;32m    219\u001b[0m \u001b[0;34m\u001b[0m\u001b[0m\n\u001b[1;32m    220\u001b[0m         \u001b[0mevaluation_result_list\u001b[0m \u001b[0;34m=\u001b[0m \u001b[0;34m[\u001b[0m\u001b[0;34m]\u001b[0m\u001b[0;34m\u001b[0m\u001b[0;34m\u001b[0m\u001b[0m\n",
            "\u001b[0;32m/usr/local/lib/python3.6/dist-packages/lightgbm/basic.py\u001b[0m in \u001b[0;36mupdate\u001b[0;34m(self, train_set, fobj)\u001b[0m\n\u001b[1;32m   1800\u001b[0m             _safe_call(_LIB.LGBM_BoosterUpdateOneIter(\n\u001b[1;32m   1801\u001b[0m                 \u001b[0mself\u001b[0m\u001b[0;34m.\u001b[0m\u001b[0mhandle\u001b[0m\u001b[0;34m,\u001b[0m\u001b[0;34m\u001b[0m\u001b[0;34m\u001b[0m\u001b[0m\n\u001b[0;32m-> 1802\u001b[0;31m                 ctypes.byref(is_finished)))\n\u001b[0m\u001b[1;32m   1803\u001b[0m             \u001b[0mself\u001b[0m\u001b[0;34m.\u001b[0m\u001b[0m__is_predicted_cur_iter\u001b[0m \u001b[0;34m=\u001b[0m \u001b[0;34m[\u001b[0m\u001b[0;32mFalse\u001b[0m \u001b[0;32mfor\u001b[0m \u001b[0m_\u001b[0m \u001b[0;32min\u001b[0m \u001b[0mrange_\u001b[0m\u001b[0;34m(\u001b[0m\u001b[0mself\u001b[0m\u001b[0;34m.\u001b[0m\u001b[0m__num_dataset\u001b[0m\u001b[0;34m)\u001b[0m\u001b[0;34m]\u001b[0m\u001b[0;34m\u001b[0m\u001b[0;34m\u001b[0m\u001b[0m\n\u001b[1;32m   1804\u001b[0m             \u001b[0;32mreturn\u001b[0m \u001b[0mis_finished\u001b[0m\u001b[0;34m.\u001b[0m\u001b[0mvalue\u001b[0m \u001b[0;34m==\u001b[0m \u001b[0;36m1\u001b[0m\u001b[0;34m\u001b[0m\u001b[0;34m\u001b[0m\u001b[0m\n",
            "\u001b[0;31mKeyboardInterrupt\u001b[0m: "
          ]
        }
      ]
    },
    {
      "cell_type": "code",
      "metadata": {
        "id": "E_oJeVFBmKmB",
        "colab_type": "code",
        "outputId": "4f81ce72-a9f8-45a1-b999-522beed875c8",
        "colab": {
          "base_uri": "https://localhost:8080/",
          "height": 34
        }
      },
      "source": [
        "lgb_reg = lgb.LGBMRegressor(bagging_fraction=0.9,bagging_freq= 3,feature_fraction=0.8,learning_rate=0.1,min_child_samples=40,n_estimators=300,num_leaves=10)\n",
        "\n",
        "lgb_reg.fit(train_x,train_y)\n",
        "\n",
        "pred_lgb = lgb_reg.predict(test_x)\n",
        "\n",
        "mse = np.mean((pred_lgb - test_y)**2)\n",
        "\n",
        "print(mse)\n"
      ],
      "execution_count": 0,
      "outputs": [
        {
          "output_type": "stream",
          "text": [
            "0.1514441165350969\n"
          ],
          "name": "stdout"
        }
      ]
    },
    {
      "cell_type": "code",
      "metadata": {
        "id": "iSp8jajzsyOr",
        "colab_type": "code",
        "colab": {}
      },
      "source": [
        "sample_submission = pd.read_csv('sample_submission.csv')\n",
        "sample_submission['SalePrice'] = np.exp(lgb_reg.predict(test_x))-1\n",
        "sample_submission.to_csv('submission_lgb.csv',index=False)"
      ],
      "execution_count": 0,
      "outputs": []
    },
    {
      "cell_type": "code",
      "metadata": {
        "id": "DzSFU2kztZaT",
        "colab_type": "code",
        "colab": {}
      },
      "source": [
        "files.download('submission_lgb.csv')"
      ],
      "execution_count": 0,
      "outputs": []
    },
    {
      "cell_type": "code",
      "metadata": {
        "id": "l4l_yETatdl-",
        "colab_type": "code",
        "outputId": "01a65031-2396-4bfb-b453-9bbffeb7d641",
        "colab": {
          "base_uri": "https://localhost:8080/",
          "height": 107
        }
      },
      "source": [
        "from sklearn.ensemble import RandomForestRegressor\n",
        "import xgboost as xgb # 여러개 결정트리를 사용해서 조합하는 ensemble알고리즘\n",
        "import lightgbm as lgb\n",
        "\n",
        "\n",
        "xgb_reg = xgb.XGBRegressor()\n",
        "\n",
        "xgb_reg.fit(train_x,train_y)\n",
        "\n",
        "pred_xgb = xgb_reg.predict(test_x)\n",
        "\n",
        "mse = np.mean((pred_xgb - test_y)**2)\n",
        "\n",
        "print(mse)\n"
      ],
      "execution_count": 0,
      "outputs": [
        {
          "output_type": "stream",
          "text": [
            "/usr/local/lib/python3.6/dist-packages/xgboost/core.py:587: FutureWarning: Series.base is deprecated and will be removed in a future version\n",
            "  if getattr(data, 'base', None) is not None and \\\n"
          ],
          "name": "stderr"
        },
        {
          "output_type": "stream",
          "text": [
            "[04:06:58] WARNING: /workspace/src/objective/regression_obj.cu:152: reg:linear is now deprecated in favor of reg:squarederror.\n",
            "0.1466689390562947\n"
          ],
          "name": "stdout"
        }
      ]
    },
    {
      "cell_type": "code",
      "metadata": {
        "id": "sAJK4gaU54_q",
        "colab_type": "code",
        "colab": {}
      },
      "source": [
        "sample_submission = pd.read_csv('sample_submission.csv')\n",
        "sample_submission['SalePrice'] = np.exp(xgb_reg.predict(test_x))-1\n",
        "sample_submission.to_csv('submission_xgb.csv',index=False)"
      ],
      "execution_count": 0,
      "outputs": []
    },
    {
      "cell_type": "code",
      "metadata": {
        "id": "Ad4qT34d_WRQ",
        "colab_type": "code",
        "colab": {}
      },
      "source": [
        "files.download('submission_xgb.csv')"
      ],
      "execution_count": 0,
      "outputs": []
    },
    {
      "cell_type": "code",
      "metadata": {
        "id": "nJ0hilco_bQ0",
        "colab_type": "code",
        "outputId": "095fbba1-4c14-4f13-c074-960fdc7588db",
        "colab": {
          "base_uri": "https://localhost:8080/",
          "height": 107
        }
      },
      "source": [
        "xgb_reg = xgb.XGBRegressor(colsample_bytree=0.4,\n",
        "                 gamma=0,                 \n",
        "                 learning_rate=0.07,\n",
        "                 max_depth=5,\n",
        "                 min_child_weight=1.5,\n",
        "                 n_estimators=10000,                                                                    \n",
        "                 reg_alpha=0.75,\n",
        "                 reg_lambda=0.45,\n",
        "                 subsample=0.6,\n",
        "                 seed=42,\n",
        "                                     random_state=123)\n",
        "xgb_reg.fit(train_x,train_y)\n",
        "\n",
        "pred_xgb = xgb_reg.predict(test_x)\n",
        "\n",
        "mse = np.mean((pred_xgb - test_y)**2)\n",
        "\n",
        "print(mse)\n"
      ],
      "execution_count": 0,
      "outputs": [
        {
          "output_type": "stream",
          "text": [
            "/usr/local/lib/python3.6/dist-packages/xgboost/core.py:587: FutureWarning: Series.base is deprecated and will be removed in a future version\n",
            "  if getattr(data, 'base', None) is not None and \\\n"
          ],
          "name": "stderr"
        },
        {
          "output_type": "stream",
          "text": [
            "[04:07:00] WARNING: /workspace/src/objective/regression_obj.cu:152: reg:linear is now deprecated in favor of reg:squarederror.\n",
            "0.15445346545322347\n"
          ],
          "name": "stdout"
        }
      ]
    },
    {
      "cell_type": "code",
      "metadata": {
        "id": "5wKQlQqLApw5",
        "colab_type": "code",
        "colab": {}
      },
      "source": [
        "sample_submission = pd.read_csv('sample_submission.csv')\n",
        "sample_submission['SalePrice'] = np.exp(xgb_reg.predict(test_x))-1\n",
        "sample_submission.to_csv('submission_xgb.csv',index=False)"
      ],
      "execution_count": 0,
      "outputs": []
    },
    {
      "cell_type": "code",
      "metadata": {
        "id": "tE0xXnt0A4-9",
        "colab_type": "code",
        "outputId": "e0d1e172-9042-4dec-c7d3-131fbaab56bd",
        "colab": {
          "base_uri": "https://localhost:8080/",
          "height": 105
        }
      },
      "source": [
        "!ls"
      ],
      "execution_count": 0,
      "outputs": [
        {
          "output_type": "stream",
          "text": [
            "data_description.txt   submission_EN.csv     submission_Ridge.csv\n",
            "kaggle.json\t       submission_Grad.csv   submission_vote.csv\n",
            "sample_data\t       submission_Lasso.csv  submission_xgb.csv\n",
            "sample_submission.csv  submission_lgb.csv    test.csv\n",
            "submission_Ada.csv     submission_RF.csv     train.csv\n"
          ],
          "name": "stdout"
        }
      ]
    },
    {
      "cell_type": "code",
      "metadata": {
        "id": "RvnG7xpKA0z2",
        "colab_type": "code",
        "colab": {}
      },
      "source": [
        "files.download('submission_xgb.csv')"
      ],
      "execution_count": 0,
      "outputs": []
    },
    {
      "cell_type": "code",
      "metadata": {
        "id": "vqE8-MYACgOO",
        "colab_type": "code",
        "outputId": "d326e137-aa23-48bc-97b6-da819c678111",
        "colab": {
          "base_uri": "https://localhost:8080/",
          "height": 261
        }
      },
      "source": [
        "from sklearn.ensemble import VotingRegressor\n",
        "voting = VotingRegressor([('lightgbm',lgb_reg),('xgboost',xgb_reg),('Random forest',forest_reg),('Lasso',lassoReg),('Ridge',ridge_reg),('EN',ENreg),('lin',lin_reg),('Ada',AdaReg),('grad',Grad_reg)])\n",
        "\n",
        "voting.fit(train_x,train_y)\n",
        "\n",
        "pred_vote = voting.predict(test_x)\n",
        "\n",
        "mse = np.mean((pred_vote - test_y)**2)\n",
        "\n",
        "print(mse)\n"
      ],
      "execution_count": 0,
      "outputs": [
        {
          "output_type": "error",
          "ename": "NameError",
          "evalue": "ignored",
          "traceback": [
            "\u001b[0;31m---------------------------------------------------------------------------\u001b[0m",
            "\u001b[0;31mNameError\u001b[0m                                 Traceback (most recent call last)",
            "\u001b[0;32m<ipython-input-56-b52e688851b6>\u001b[0m in \u001b[0;36m<module>\u001b[0;34m()\u001b[0m\n\u001b[1;32m      1\u001b[0m \u001b[0;32mfrom\u001b[0m \u001b[0msklearn\u001b[0m\u001b[0;34m.\u001b[0m\u001b[0mensemble\u001b[0m \u001b[0;32mimport\u001b[0m \u001b[0mVotingRegressor\u001b[0m\u001b[0;34m\u001b[0m\u001b[0;34m\u001b[0m\u001b[0m\n\u001b[0;32m----> 2\u001b[0;31m \u001b[0mvoting\u001b[0m \u001b[0;34m=\u001b[0m \u001b[0mVotingRegressor\u001b[0m\u001b[0;34m(\u001b[0m\u001b[0;34m[\u001b[0m\u001b[0;34m(\u001b[0m\u001b[0;34m'lightgbm'\u001b[0m\u001b[0;34m,\u001b[0m\u001b[0mlgb_reg\u001b[0m\u001b[0;34m)\u001b[0m\u001b[0;34m,\u001b[0m\u001b[0;34m(\u001b[0m\u001b[0;34m'xgboost'\u001b[0m\u001b[0;34m,\u001b[0m\u001b[0mxgb_reg\u001b[0m\u001b[0;34m)\u001b[0m\u001b[0;34m,\u001b[0m\u001b[0;34m(\u001b[0m\u001b[0;34m'Random forest'\u001b[0m\u001b[0;34m,\u001b[0m\u001b[0mforest_reg\u001b[0m\u001b[0;34m)\u001b[0m\u001b[0;34m,\u001b[0m\u001b[0;34m(\u001b[0m\u001b[0;34m'Lasso'\u001b[0m\u001b[0;34m,\u001b[0m\u001b[0mlassoReg\u001b[0m\u001b[0;34m)\u001b[0m\u001b[0;34m,\u001b[0m\u001b[0;34m(\u001b[0m\u001b[0;34m'Ridge'\u001b[0m\u001b[0;34m,\u001b[0m\u001b[0mridge_reg\u001b[0m\u001b[0;34m)\u001b[0m\u001b[0;34m,\u001b[0m\u001b[0;34m(\u001b[0m\u001b[0;34m'EN'\u001b[0m\u001b[0;34m,\u001b[0m\u001b[0mENreg\u001b[0m\u001b[0;34m)\u001b[0m\u001b[0;34m,\u001b[0m\u001b[0;34m(\u001b[0m\u001b[0;34m'lin'\u001b[0m\u001b[0;34m,\u001b[0m\u001b[0mlin_reg\u001b[0m\u001b[0;34m)\u001b[0m\u001b[0;34m,\u001b[0m\u001b[0;34m(\u001b[0m\u001b[0;34m'Ada'\u001b[0m\u001b[0;34m,\u001b[0m\u001b[0mAdaReg\u001b[0m\u001b[0;34m)\u001b[0m\u001b[0;34m,\u001b[0m\u001b[0;34m(\u001b[0m\u001b[0;34m'grad'\u001b[0m\u001b[0;34m,\u001b[0m\u001b[0mGrad_reg\u001b[0m\u001b[0;34m)\u001b[0m\u001b[0;34m]\u001b[0m\u001b[0;34m)\u001b[0m\u001b[0;34m\u001b[0m\u001b[0;34m\u001b[0m\u001b[0m\n\u001b[0m\u001b[1;32m      3\u001b[0m \u001b[0;34m\u001b[0m\u001b[0m\n\u001b[1;32m      4\u001b[0m \u001b[0mvoting\u001b[0m\u001b[0;34m.\u001b[0m\u001b[0mfit\u001b[0m\u001b[0;34m(\u001b[0m\u001b[0mtrain_x\u001b[0m\u001b[0;34m,\u001b[0m\u001b[0mtrain_y\u001b[0m\u001b[0;34m)\u001b[0m\u001b[0;34m\u001b[0m\u001b[0;34m\u001b[0m\u001b[0m\n\u001b[1;32m      5\u001b[0m \u001b[0;34m\u001b[0m\u001b[0m\n",
            "\u001b[0;31mNameError\u001b[0m: name 'forest_reg' is not defined"
          ]
        }
      ]
    },
    {
      "cell_type": "code",
      "metadata": {
        "id": "jQGM2WOTDAFp",
        "colab_type": "code",
        "colab": {}
      },
      "source": [
        "sample_submission = pd.read_csv('sample_submission.csv')\n",
        "sample_submission['SalePrice'] = np.exp(voting.predict(test_x))-1\n",
        "sample_submission.to_csv('submission_vote.csv',index=False)"
      ],
      "execution_count": 0,
      "outputs": []
    },
    {
      "cell_type": "code",
      "metadata": {
        "id": "p0wB9yqoDeQE",
        "colab_type": "code",
        "colab": {}
      },
      "source": [
        "files.download('submission_vote.csv')"
      ],
      "execution_count": 0,
      "outputs": []
    },
    {
      "cell_type": "code",
      "metadata": {
        "id": "-aJwGcvQhIfx",
        "colab_type": "code",
        "outputId": "3b6e6261-2a86-464b-ac43-3ef0ac39d2d9",
        "colab": {
          "base_uri": "https://localhost:8080/",
          "height": 123
        }
      },
      "source": [
        "train_y.head()"
      ],
      "execution_count": 0,
      "outputs": [
        {
          "output_type": "execute_result",
          "data": {
            "text/plain": [
              "0    12.247699\n",
              "1    12.109016\n",
              "2    12.317171\n",
              "3    11.849405\n",
              "4    12.429220\n",
              "Name: SalePrice, dtype: float64"
            ]
          },
          "metadata": {
            "tags": []
          },
          "execution_count": 61
        }
      ]
    },
    {
      "cell_type": "code",
      "metadata": {
        "id": "rMKZTyiYgDED",
        "colab_type": "code",
        "outputId": "d483706b-a08c-4ac1-9406-24825bca632a",
        "colab": {
          "base_uri": "https://localhost:8080/",
          "height": 34
        }
      },
      "source": [
        "from sklearn.neighbors import KNeighborsRegressor\n",
        "\n",
        "\n",
        "knn_reg = KNeighborsRegressor(algorithm='auto', leaf_size=30, metric='manhattan',\n",
        "                    metric_params=None, n_jobs=None, n_neighbors=11, p=2,\n",
        "                    weights='distance')\n",
        "knn_reg.fit(train_x, train_y)\n",
        "\n",
        "\n",
        "\n",
        "pred_knn = knn_reg.predict(test_x)\n",
        "\n",
        "mse = np.mean((pred_knn - test_y)**2)\n",
        "\n",
        "print(mse)"
      ],
      "execution_count": 0,
      "outputs": [
        {
          "output_type": "stream",
          "text": [
            "0.14015319335308302\n"
          ],
          "name": "stdout"
        }
      ]
    },
    {
      "cell_type": "code",
      "metadata": {
        "id": "flfJ-bp5liCZ",
        "colab_type": "code",
        "colab": {}
      },
      "source": [
        "sample_submission = pd.read_csv('sample_submission.csv')\n",
        "sample_submission['SalePrice'] = np.exp(knn_reg.predict(test_x))-1\n",
        "sample_submission.to_csv('submission_knn.csv',index=False)"
      ],
      "execution_count": 0,
      "outputs": []
    },
    {
      "cell_type": "code",
      "metadata": {
        "id": "f6C7hCkDmX1h",
        "colab_type": "code",
        "colab": {}
      },
      "source": [
        "files.download('submission_knn.csv')"
      ],
      "execution_count": 0,
      "outputs": []
    },
    {
      "cell_type": "code",
      "metadata": {
        "id": "SX8FHj8cmdR-",
        "colab_type": "code",
        "outputId": "ab6a5503-1d89-4d3d-c4bb-015d25c0a674",
        "colab": {
          "base_uri": "https://localhost:8080/",
          "height": 158
        }
      },
      "source": [
        "from sklearn.model_selection import GridSearchCV\n",
        "\n",
        "grid_params = {'n_neighbors':[3,5,7,9,11,13,15],'weights':['uniform','distance'],'metric':['euclidean','manhattan']}\n",
        "\n",
        "gs = GridSearchCV(KNeighborsRegressor(),grid_params,verbose=1,cv=3,n_jobs=-1)\n",
        "\n",
        "gs_results = gs.fit(train_x,train_y)\n",
        "\n",
        "print('best score is ',gs_results.best_score_)\n",
        "print('best estimator is ',gs_results.best_estimator_)\n",
        "print('best params is ',gs_results.best_params_)"
      ],
      "execution_count": 0,
      "outputs": [
        {
          "output_type": "stream",
          "text": [
            "Fitting 3 folds for each of 28 candidates, totalling 84 fits\n"
          ],
          "name": "stdout"
        },
        {
          "output_type": "stream",
          "text": [
            "[Parallel(n_jobs=-1)]: Using backend LokyBackend with 2 concurrent workers.\n"
          ],
          "name": "stderr"
        },
        {
          "output_type": "stream",
          "text": [
            "best score is  0.8408160094990627\n",
            "best estimator is  KNeighborsRegressor(algorithm='auto', leaf_size=30, metric='manhattan',\n",
            "                    metric_params=None, n_jobs=None, n_neighbors=11, p=2,\n",
            "                    weights='distance')\n",
            "best params is  {'metric': 'manhattan', 'n_neighbors': 11, 'weights': 'distance'}\n"
          ],
          "name": "stdout"
        },
        {
          "output_type": "stream",
          "text": [
            "[Parallel(n_jobs=-1)]: Done  84 out of  84 | elapsed:    3.8s finished\n"
          ],
          "name": "stderr"
        }
      ]
    },
    {
      "cell_type": "code",
      "metadata": {
        "id": "K_D8uXXmpEN1",
        "colab_type": "code",
        "outputId": "6de29d37-7de2-4baf-f0b0-6ad749f5c943",
        "colab": {
          "base_uri": "https://localhost:8080/",
          "height": 34
        }
      },
      "source": [
        "from sklearn.ensemble import ExtraTreesRegressor\n",
        "\n",
        "ExTree_reg = ExtraTreesRegressor()\n",
        "ExTree_reg.fit(train_x, train_y)\n",
        "\n",
        "\n",
        "\n",
        "pred_extree = ExTree_reg.predict(test_x)\n",
        "\n",
        "mse = np.mean((pred_extree - test_y)**2)\n",
        "\n",
        "print(mse)"
      ],
      "execution_count": 0,
      "outputs": [
        {
          "output_type": "stream",
          "text": [
            "0.1404519700858601\n"
          ],
          "name": "stdout"
        }
      ]
    },
    {
      "cell_type": "code",
      "metadata": {
        "id": "ZWU1OS2vuaAw",
        "colab_type": "code",
        "colab": {}
      },
      "source": [
        "sample_submission = pd.read_csv('sample_submission.csv')\n",
        "sample_submission['SalePrice'] = np.exp(ExTree_reg.predict(test_x))-1\n",
        "sample_submission.to_csv('submission_extree.csv',index=False)"
      ],
      "execution_count": 0,
      "outputs": []
    },
    {
      "cell_type": "code",
      "metadata": {
        "id": "In4HuVUXue19",
        "colab_type": "code",
        "colab": {}
      },
      "source": [
        "files.download('submission_extree.csv')"
      ],
      "execution_count": 0,
      "outputs": []
    },
    {
      "cell_type": "code",
      "metadata": {
        "id": "Ha1HOknF5ZjC",
        "colab_type": "code",
        "outputId": "a3f7c9c9-4b6a-443f-f62d-9d88df347889",
        "colab": {
          "base_uri": "https://localhost:8080/",
          "height": 34
        }
      },
      "source": [
        "from sklearn.feature_selection import RFE\n",
        "\n",
        "model = LinearRegression()\n",
        "rfe = RFE(model, 8)\n",
        "rfe.fit(train_x, train_y)\n",
        "\n",
        "pred = rfe.predict(test_x)\n",
        "\n",
        "mse = np.mean((pred - test_y)**2)\n",
        "\n",
        "print(mse)"
      ],
      "execution_count": 0,
      "outputs": [
        {
          "output_type": "stream",
          "text": [
            "0.1308283004141695\n"
          ],
          "name": "stdout"
        }
      ]
    },
    {
      "cell_type": "code",
      "metadata": {
        "id": "ZHa6iXiXqXCM",
        "colab_type": "code",
        "outputId": "cfd0647f-36aa-4933-f7f2-2c9df7cb8921",
        "colab": {
          "base_uri": "https://localhost:8080/",
          "height": 303
        }
      },
      "source": [
        "!pip install eli5"
      ],
      "execution_count": 0,
      "outputs": [
        {
          "output_type": "stream",
          "text": [
            "Collecting eli5\n",
            "\u001b[?25l  Downloading https://files.pythonhosted.org/packages/97/2f/c85c7d8f8548e460829971785347e14e45fa5c6617da374711dec8cb38cc/eli5-0.10.1-py2.py3-none-any.whl (105kB)\n",
            "\r\u001b[K     |███                             | 10kB 17.8MB/s eta 0:00:01\r\u001b[K     |██████▏                         | 20kB 1.8MB/s eta 0:00:01\r\u001b[K     |█████████▎                      | 30kB 2.6MB/s eta 0:00:01\r\u001b[K     |████████████▍                   | 40kB 1.7MB/s eta 0:00:01\r\u001b[K     |███████████████▌                | 51kB 2.1MB/s eta 0:00:01\r\u001b[K     |██████████████████▋             | 61kB 2.5MB/s eta 0:00:01\r\u001b[K     |█████████████████████▊          | 71kB 2.9MB/s eta 0:00:01\r\u001b[K     |████████████████████████▊       | 81kB 2.3MB/s eta 0:00:01\r\u001b[K     |███████████████████████████▉    | 92kB 2.5MB/s eta 0:00:01\r\u001b[K     |███████████████████████████████ | 102kB 2.8MB/s eta 0:00:01\r\u001b[K     |████████████████████████████████| 112kB 2.8MB/s \n",
            "\u001b[?25hRequirement already satisfied: numpy>=1.9.0 in /usr/local/lib/python3.6/dist-packages (from eli5) (1.17.5)\n",
            "Requirement already satisfied: six in /usr/local/lib/python3.6/dist-packages (from eli5) (1.12.0)\n",
            "Requirement already satisfied: graphviz in /usr/local/lib/python3.6/dist-packages (from eli5) (0.10.1)\n",
            "Requirement already satisfied: scikit-learn>=0.18 in /usr/local/lib/python3.6/dist-packages (from eli5) (0.22.1)\n",
            "Requirement already satisfied: tabulate>=0.7.7 in /usr/local/lib/python3.6/dist-packages (from eli5) (0.8.6)\n",
            "Requirement already satisfied: jinja2 in /usr/local/lib/python3.6/dist-packages (from eli5) (2.10.3)\n",
            "Requirement already satisfied: attrs>16.0.0 in /usr/local/lib/python3.6/dist-packages (from eli5) (19.3.0)\n",
            "Requirement already satisfied: scipy in /usr/local/lib/python3.6/dist-packages (from eli5) (1.4.1)\n",
            "Requirement already satisfied: joblib>=0.11 in /usr/local/lib/python3.6/dist-packages (from scikit-learn>=0.18->eli5) (0.14.1)\n",
            "Requirement already satisfied: MarkupSafe>=0.23 in /usr/local/lib/python3.6/dist-packages (from jinja2->eli5) (1.1.1)\n",
            "Installing collected packages: eli5\n",
            "Successfully installed eli5-0.10.1\n"
          ],
          "name": "stdout"
        }
      ]
    },
    {
      "cell_type": "code",
      "metadata": {
        "id": "AM_ZuJIKkd6Z",
        "colab_type": "code",
        "outputId": "d2145e08-7118-4b1c-d428-92d45435905a",
        "colab": {
          "base_uri": "https://localhost:8080/",
          "height": 740
        }
      },
      "source": [
        "#permutaion importance \n",
        "#어떤 feature의 importance를 무작위로 석어서  model의 성능을 측정 하고\n",
        "# 그 결과 값이 많이 하락한 경우에 그 feature의 의존도가 높다고 판단하는 기법 \n",
        "import eli5\n",
        "from eli5.sklearn import PermutationImportance\n",
        "from sklearn.linear_model import Ridge\n",
        "\n",
        "\n",
        "lin_mod = Ridge().fit(train_x,train_y)\n",
        "\n",
        "\n",
        "perm = PermutationImportance(lin_mod, random_state=1).fit(test_x, test_y)\n",
        "\n",
        "print(eli5.format_as_text(eli5.explain_weights(perm, feature_names = test_x.columns.tolist())))"
      ],
      "execution_count": 0,
      "outputs": [
        {
          "output_type": "stream",
          "text": [
            "/usr/local/lib/python3.6/dist-packages/sklearn/utils/deprecation.py:144: FutureWarning: The sklearn.metrics.scorer module is  deprecated in version 0.22 and will be removed in version 0.24. The corresponding classes / functions should instead be imported from sklearn.metrics. Anything that cannot be imported from sklearn.metrics is now part of the private API.\n",
            "  warnings.warn(message, FutureWarning)\n",
            "/usr/local/lib/python3.6/dist-packages/sklearn/utils/deprecation.py:144: FutureWarning: The sklearn.feature_selection.base module is  deprecated in version 0.22 and will be removed in version 0.24. The corresponding classes / functions should instead be imported from sklearn.feature_selection. Anything that cannot be imported from sklearn.feature_selection is now part of the private API.\n",
            "  warnings.warn(message, FutureWarning)\n",
            "Using TensorFlow backend.\n"
          ],
          "name": "stderr"
        },
        {
          "output_type": "display_data",
          "data": {
            "text/html": [
              "<p style=\"color: red;\">\n",
              "The default version of TensorFlow in Colab will soon switch to TensorFlow 2.x.<br>\n",
              "We recommend you <a href=\"https://www.tensorflow.org/guide/migrate\" target=\"_blank\">upgrade</a> now \n",
              "or ensure your notebook will continue to use TensorFlow 1.x via the <code>%tensorflow_version 1.x</code> magic:\n",
              "<a href=\"https://colab.research.google.com/notebooks/tensorflow_version.ipynb\" target=\"_blank\">more info</a>.</p>\n"
            ],
            "text/plain": [
              "<IPython.core.display.HTML object>"
            ]
          },
          "metadata": {
            "tags": []
          }
        },
        {
          "output_type": "stream",
          "text": [
            "Explained as: feature importances\n",
            "\n",
            "Feature importances, computed as a decrease in score when feature\n",
            "values are permuted (i.e. become noise). This is also known as \n",
            "permutation importance.\n",
            "\n",
            "If feature importances are computed on the same data as used for training, \n",
            "they don't reflect importance of features for generalization. Use a held-out\n",
            "dataset if you want generalization feature importances.\n",
            "\n",
            "309.2313 ± 7.5634  year_qual\n",
            "198.9220 ± 7.7692  year_r_qual\n",
            "38.7930 ± 3.4498  qual_bsmt\n",
            "14.7350 ± 0.7424  TotalBsmtSF\n",
            "2.7610 ± 0.1020  YearRemodAdd\n",
            "2.6667 ± 0.1813  OverallQual\n",
            "1.3459 ± 0.1086  1stFlrSF\n",
            "0.9786 ± 0.0964  2ndFlrSF\n",
            "0.8555 ± 0.1702  OverallCond\n",
            "0.7447 ± 0.0814  GarageYrBlt\n",
            "0.5194 ± 0.0443  BsmtFinSF1\n",
            "0.4225 ± 0.0510  BsmtUnfSF\n",
            "0.2283 ± 0.0097  GarageArea\n",
            "0.1746 ± 0.0338  EnclosedPorch\n",
            "0.1083 ± 0.0101  GarageType\n",
            "0.0919 ± 0.0120  OpenPorchSF\n",
            "0.0633 ± 0.0355  LotFrontage\n",
            "0.0601 ± 0.0062  Electrical\n",
            "0.0476 ± 0.0052  HouseStyle\n",
            "0.0387 ± 0.0231  MSSubClass\n",
            "         … 54 more …          \n"
          ],
          "name": "stdout"
        }
      ]
    },
    {
      "cell_type": "code",
      "metadata": {
        "id": "BagXhhCBqVp_",
        "colab_type": "code",
        "colab": {}
      },
      "source": [
        ""
      ],
      "execution_count": 0,
      "outputs": []
    }
  ]
}