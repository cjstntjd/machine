{
  "nbformat": 4,
  "nbformat_minor": 0,
  "metadata": {
    "colab": {
      "name": "전국주택분양가.ipynb",
      "provenance": [],
      "authorship_tag": "ABX9TyO/CU/HNGlvjHCNtEDVas9/",
      "include_colab_link": true
    },
    "kernelspec": {
      "name": "python3",
      "display_name": "Python 3"
    }
  },
  "cells": [
    {
      "cell_type": "markdown",
      "metadata": {
        "id": "view-in-github",
        "colab_type": "text"
      },
      "source": [
        "<a href=\"https://colab.research.google.com/github/cjstntjd/machine/blob/master/%EC%A0%84%EA%B5%AD%EC%A3%BC%ED%83%9D%EB%B6%84%EC%96%91%EA%B0%80.ipynb\" target=\"_parent\"><img src=\"https://colab.research.google.com/assets/colab-badge.svg\" alt=\"Open In Colab\"/></a>"
      ]
    },
    {
      "cell_type": "code",
      "metadata": {
        "id": "tw0xMV6ZO2kt",
        "colab_type": "code",
        "outputId": "faaed329-9a24-45b6-8b80-5a1115532ff5",
        "colab": {
          "base_uri": "https://localhost:8080/",
          "height": 34
        }
      },
      "source": [
        "from google.colab import drive\n",
        "drive.mount('/gdrive',force_remount = True)"
      ],
      "execution_count": 0,
      "outputs": [
        {
          "output_type": "stream",
          "text": [
            "Mounted at /gdrive\n"
          ],
          "name": "stdout"
        }
      ]
    },
    {
      "cell_type": "code",
      "metadata": {
        "id": "sluU4gi9O5Fp",
        "colab_type": "code",
        "colab": {}
      },
      "source": [
        "import numpy as np \n",
        "import pandas as pd \n",
        "import matplotlib.pyplot as plt\n",
        "from sklearn.datasets import load_boston\n",
        "import seaborn as sns"
      ],
      "execution_count": 0,
      "outputs": []
    },
    {
      "cell_type": "code",
      "metadata": {
        "id": "Q8d5PtD6PJDU",
        "colab_type": "code",
        "colab": {}
      },
      "source": [
        "df = pd.read_csv('/gdrive/My Drive/자료들/apartment_price.csv',encoding='euc-kr')"
      ],
      "execution_count": 0,
      "outputs": []
    },
    {
      "cell_type": "code",
      "metadata": {
        "id": "DgHohY7HPPMD",
        "colab_type": "code",
        "outputId": "6e00d44d-0001-4e2a-b400-27c559f59368",
        "colab": {
          "base_uri": "https://localhost:8080/",
          "height": 197
        }
      },
      "source": [
        "df.head()"
      ],
      "execution_count": 0,
      "outputs": [
        {
          "output_type": "execute_result",
          "data": {
            "text/html": [
              "<div>\n",
              "<style scoped>\n",
              "    .dataframe tbody tr th:only-of-type {\n",
              "        vertical-align: middle;\n",
              "    }\n",
              "\n",
              "    .dataframe tbody tr th {\n",
              "        vertical-align: top;\n",
              "    }\n",
              "\n",
              "    .dataframe thead th {\n",
              "        text-align: right;\n",
              "    }\n",
              "</style>\n",
              "<table border=\"1\" class=\"dataframe\">\n",
              "  <thead>\n",
              "    <tr style=\"text-align: right;\">\n",
              "      <th></th>\n",
              "      <th>area</th>\n",
              "      <th>part</th>\n",
              "      <th>year</th>\n",
              "      <th>month</th>\n",
              "      <th>price</th>\n",
              "    </tr>\n",
              "  </thead>\n",
              "  <tbody>\n",
              "    <tr>\n",
              "      <th>0</th>\n",
              "      <td>서울</td>\n",
              "      <td>전체</td>\n",
              "      <td>2015</td>\n",
              "      <td>10</td>\n",
              "      <td>5841</td>\n",
              "    </tr>\n",
              "    <tr>\n",
              "      <th>1</th>\n",
              "      <td>서울</td>\n",
              "      <td>전용면적 60㎡이하</td>\n",
              "      <td>2015</td>\n",
              "      <td>10</td>\n",
              "      <td>5652</td>\n",
              "    </tr>\n",
              "    <tr>\n",
              "      <th>2</th>\n",
              "      <td>서울</td>\n",
              "      <td>전용면적 60㎡초과 85㎡이하</td>\n",
              "      <td>2015</td>\n",
              "      <td>10</td>\n",
              "      <td>5882</td>\n",
              "    </tr>\n",
              "    <tr>\n",
              "      <th>3</th>\n",
              "      <td>서울</td>\n",
              "      <td>전용면적 85㎡초과 102㎡이하</td>\n",
              "      <td>2015</td>\n",
              "      <td>10</td>\n",
              "      <td>5721</td>\n",
              "    </tr>\n",
              "    <tr>\n",
              "      <th>4</th>\n",
              "      <td>서울</td>\n",
              "      <td>전용면적 102㎡초과</td>\n",
              "      <td>2015</td>\n",
              "      <td>10</td>\n",
              "      <td>5879</td>\n",
              "    </tr>\n",
              "  </tbody>\n",
              "</table>\n",
              "</div>"
            ],
            "text/plain": [
              "  area               part  year  month price\n",
              "0   서울                 전체  2015     10  5841\n",
              "1   서울         전용면적 60㎡이하  2015     10  5652\n",
              "2   서울   전용면적 60㎡초과 85㎡이하  2015     10  5882\n",
              "3   서울  전용면적 85㎡초과 102㎡이하  2015     10  5721\n",
              "4   서울        전용면적 102㎡초과  2015     10  5879"
            ]
          },
          "metadata": {
            "tags": []
          },
          "execution_count": 8
        }
      ]
    },
    {
      "cell_type": "code",
      "metadata": {
        "id": "hUtmHUxYegVY",
        "colab_type": "code",
        "outputId": "c2522d97-5e50-481e-95e9-ebf7a7e8e0a1",
        "colab": {
          "base_uri": "https://localhost:8080/",
          "height": 194
        }
      },
      "source": [
        "df.info()"
      ],
      "execution_count": 0,
      "outputs": [
        {
          "output_type": "stream",
          "text": [
            "<class 'pandas.core.frame.DataFrame'>\n",
            "RangeIndex: 4250 entries, 0 to 4249\n",
            "Data columns (total 5 columns):\n",
            "area     4250 non-null object\n",
            "part     4250 non-null object\n",
            "year     4250 non-null int64\n",
            "month    4250 non-null int64\n",
            "price    3982 non-null object\n",
            "dtypes: int64(2), object(3)\n",
            "memory usage: 166.1+ KB\n"
          ],
          "name": "stdout"
        }
      ]
    },
    {
      "cell_type": "code",
      "metadata": {
        "id": "_4REbyv7ekdh",
        "colab_type": "code",
        "colab": {}
      },
      "source": [
        "df=df.dropna(how='any')"
      ],
      "execution_count": 0,
      "outputs": []
    },
    {
      "cell_type": "code",
      "metadata": {
        "id": "sl3GmrIMfBui",
        "colab_type": "code",
        "outputId": "c802ac4d-190f-4399-e061-985677991fe6",
        "colab": {
          "base_uri": "https://localhost:8080/",
          "height": 194
        }
      },
      "source": [
        "df.info()"
      ],
      "execution_count": 0,
      "outputs": [
        {
          "output_type": "stream",
          "text": [
            "<class 'pandas.core.frame.DataFrame'>\n",
            "Int64Index: 3982 entries, 0 to 4249\n",
            "Data columns (total 5 columns):\n",
            "area     3982 non-null object\n",
            "part     3982 non-null object\n",
            "year     3982 non-null int64\n",
            "month    3982 non-null int64\n",
            "price    3982 non-null object\n",
            "dtypes: int64(2), object(3)\n",
            "memory usage: 186.7+ KB\n"
          ],
          "name": "stdout"
        }
      ]
    },
    {
      "cell_type": "code",
      "metadata": {
        "id": "dYtDtNusfEQ5",
        "colab_type": "code",
        "outputId": "d5ec7d85-a5b0-408e-f78b-984d00c55738",
        "colab": {
          "base_uri": "https://localhost:8080/",
          "height": 230
        }
      },
      "source": [
        "df['price'].value_counts()"
      ],
      "execution_count": 0,
      "outputs": [
        {
          "output_type": "execute_result",
          "data": {
            "text/plain": [
              "2221    17\n",
              "        16\n",
              "3226    15\n",
              "2776    14\n",
              "2657    14\n",
              "        ..\n",
              "2593     1\n",
              "3949     1\n",
              "2420     1\n",
              "4931     1\n",
              "2006     1\n",
              "Name: price, Length: 1733, dtype: int64"
            ]
          },
          "metadata": {
            "tags": []
          },
          "execution_count": 17
        }
      ]
    },
    {
      "cell_type": "code",
      "metadata": {
        "id": "7pcQwzb3gVuG",
        "colab_type": "code",
        "outputId": "5e19381e-8595-40f9-94ef-f2c6837fea4f",
        "colab": {
          "base_uri": "https://localhost:8080/",
          "height": 34
        }
      },
      "source": [
        "#object 변수 찾아서 카운트 해놓기\n",
        "object_var = [col for col in df.columns if df[col].dtype == 'object']\n",
        "print('number of object',object_var)"
      ],
      "execution_count": 0,
      "outputs": [
        {
          "output_type": "stream",
          "text": [
            "number of object ['area', 'part', 'price']\n"
          ],
          "name": "stdout"
        }
      ]
    },
    {
      "cell_type": "code",
      "metadata": {
        "id": "wyRL_K4qiowN",
        "colab_type": "code",
        "outputId": "eb71ae62-935d-434f-e998-72188c0169f9",
        "colab": {
          "base_uri": "https://localhost:8080/",
          "height": 197
        }
      },
      "source": [
        "from sklearn.preprocessing import LabelEncoder\n",
        "\n",
        "for col in object_var:\n",
        "  le=LabelEncoder()\n",
        "  df[col] = le.fit_transform(df[col])\n",
        "\n",
        "df.head()"
      ],
      "execution_count": 0,
      "outputs": [
        {
          "output_type": "execute_result",
          "data": {
            "text/html": [
              "<div>\n",
              "<style scoped>\n",
              "    .dataframe tbody tr th:only-of-type {\n",
              "        vertical-align: middle;\n",
              "    }\n",
              "\n",
              "    .dataframe tbody tr th {\n",
              "        vertical-align: top;\n",
              "    }\n",
              "\n",
              "    .dataframe thead th {\n",
              "        text-align: right;\n",
              "    }\n",
              "</style>\n",
              "<table border=\"1\" class=\"dataframe\">\n",
              "  <thead>\n",
              "    <tr style=\"text-align: right;\">\n",
              "      <th></th>\n",
              "      <th>area</th>\n",
              "      <th>part</th>\n",
              "      <th>year</th>\n",
              "      <th>month</th>\n",
              "      <th>price</th>\n",
              "    </tr>\n",
              "  </thead>\n",
              "  <tbody>\n",
              "    <tr>\n",
              "      <th>0</th>\n",
              "      <td>8</td>\n",
              "      <td>4</td>\n",
              "      <td>2015</td>\n",
              "      <td>10</td>\n",
              "      <td>1527</td>\n",
              "    </tr>\n",
              "    <tr>\n",
              "      <th>1</th>\n",
              "      <td>8</td>\n",
              "      <td>1</td>\n",
              "      <td>2015</td>\n",
              "      <td>10</td>\n",
              "      <td>1523</td>\n",
              "    </tr>\n",
              "    <tr>\n",
              "      <th>2</th>\n",
              "      <td>8</td>\n",
              "      <td>2</td>\n",
              "      <td>2015</td>\n",
              "      <td>10</td>\n",
              "      <td>1531</td>\n",
              "    </tr>\n",
              "    <tr>\n",
              "      <th>3</th>\n",
              "      <td>8</td>\n",
              "      <td>3</td>\n",
              "      <td>2015</td>\n",
              "      <td>10</td>\n",
              "      <td>1526</td>\n",
              "    </tr>\n",
              "    <tr>\n",
              "      <th>4</th>\n",
              "      <td>8</td>\n",
              "      <td>0</td>\n",
              "      <td>2015</td>\n",
              "      <td>10</td>\n",
              "      <td>1530</td>\n",
              "    </tr>\n",
              "  </tbody>\n",
              "</table>\n",
              "</div>"
            ],
            "text/plain": [
              "   area  part  year  month  price\n",
              "0     8     4  2015     10   1527\n",
              "1     8     1  2015     10   1523\n",
              "2     8     2  2015     10   1531\n",
              "3     8     3  2015     10   1526\n",
              "4     8     0  2015     10   1530"
            ]
          },
          "metadata": {
            "tags": []
          },
          "execution_count": 19
        }
      ]
    },
    {
      "cell_type": "code",
      "metadata": {
        "id": "jFgvsm_airhI",
        "colab_type": "code",
        "outputId": "1b4c3f00-b802-4d6d-b50f-2f70396909f8",
        "colab": {
          "base_uri": "https://localhost:8080/",
          "height": 194
        }
      },
      "source": [
        "df.info()"
      ],
      "execution_count": 0,
      "outputs": [
        {
          "output_type": "stream",
          "text": [
            "<class 'pandas.core.frame.DataFrame'>\n",
            "Int64Index: 3982 entries, 0 to 4249\n",
            "Data columns (total 5 columns):\n",
            "area     3982 non-null int64\n",
            "part     3982 non-null int64\n",
            "year     3982 non-null int64\n",
            "month    3982 non-null int64\n",
            "price    3982 non-null int64\n",
            "dtypes: int64(5)\n",
            "memory usage: 186.7 KB\n"
          ],
          "name": "stdout"
        }
      ]
    },
    {
      "cell_type": "code",
      "metadata": {
        "id": "kcRXhuXxjI9Q",
        "colab_type": "code",
        "colab": {}
      },
      "source": [
        "log_cols = ['price','year']\n",
        "\n",
        "for col in log_cols:\n",
        "  df[col] = np.log1p(df[col])"
      ],
      "execution_count": 0,
      "outputs": []
    },
    {
      "cell_type": "code",
      "metadata": {
        "id": "4ZKMKekjjQCl",
        "colab_type": "code",
        "outputId": "98d5b507-39a8-4b5e-ca54-b51b0f44e6e4",
        "colab": {
          "base_uri": "https://localhost:8080/",
          "height": 406
        }
      },
      "source": [
        "from sklearn import preprocessing\n",
        "\n",
        "x=df.values.astype(float)\n",
        "min_max_scaler = preprocessing.MinMaxScaler()\n",
        "x_scaled  = min_max_scaler.fit_transform(x)\n",
        "\n",
        "df= pd.DataFrame(x_scaled,columns=df.columns)\n",
        "\n",
        "df"
      ],
      "execution_count": 0,
      "outputs": [
        {
          "output_type": "execute_result",
          "data": {
            "text/html": [
              "<div>\n",
              "<style scoped>\n",
              "    .dataframe tbody tr th:only-of-type {\n",
              "        vertical-align: middle;\n",
              "    }\n",
              "\n",
              "    .dataframe tbody tr th {\n",
              "        vertical-align: top;\n",
              "    }\n",
              "\n",
              "    .dataframe thead th {\n",
              "        text-align: right;\n",
              "    }\n",
              "</style>\n",
              "<table border=\"1\" class=\"dataframe\">\n",
              "  <thead>\n",
              "    <tr style=\"text-align: right;\">\n",
              "      <th></th>\n",
              "      <th>area</th>\n",
              "      <th>part</th>\n",
              "      <th>year</th>\n",
              "      <th>month</th>\n",
              "      <th>price</th>\n",
              "    </tr>\n",
              "  </thead>\n",
              "  <tbody>\n",
              "    <tr>\n",
              "      <th>0</th>\n",
              "      <td>0.500</td>\n",
              "      <td>1.00</td>\n",
              "      <td>0.0</td>\n",
              "      <td>0.818182</td>\n",
              "      <td>0.983119</td>\n",
              "    </tr>\n",
              "    <tr>\n",
              "      <th>1</th>\n",
              "      <td>0.500</td>\n",
              "      <td>0.25</td>\n",
              "      <td>0.0</td>\n",
              "      <td>0.818182</td>\n",
              "      <td>0.982767</td>\n",
              "    </tr>\n",
              "    <tr>\n",
              "      <th>2</th>\n",
              "      <td>0.500</td>\n",
              "      <td>0.50</td>\n",
              "      <td>0.0</td>\n",
              "      <td>0.818182</td>\n",
              "      <td>0.983469</td>\n",
              "    </tr>\n",
              "    <tr>\n",
              "      <th>3</th>\n",
              "      <td>0.500</td>\n",
              "      <td>0.75</td>\n",
              "      <td>0.0</td>\n",
              "      <td>0.818182</td>\n",
              "      <td>0.983031</td>\n",
              "    </tr>\n",
              "    <tr>\n",
              "      <th>4</th>\n",
              "      <td>0.500</td>\n",
              "      <td>0.00</td>\n",
              "      <td>0.0</td>\n",
              "      <td>0.818182</td>\n",
              "      <td>0.983382</td>\n",
              "    </tr>\n",
              "    <tr>\n",
              "      <th>...</th>\n",
              "      <td>...</td>\n",
              "      <td>...</td>\n",
              "      <td>...</td>\n",
              "      <td>...</td>\n",
              "      <td>...</td>\n",
              "    </tr>\n",
              "    <tr>\n",
              "      <th>3977</th>\n",
              "      <td>0.125</td>\n",
              "      <td>0.75</td>\n",
              "      <td>1.0</td>\n",
              "      <td>0.909091</td>\n",
              "      <td>0.921353</td>\n",
              "    </tr>\n",
              "    <tr>\n",
              "      <th>3978</th>\n",
              "      <td>0.125</td>\n",
              "      <td>0.00</td>\n",
              "      <td>1.0</td>\n",
              "      <td>0.909091</td>\n",
              "      <td>0.971004</td>\n",
              "    </tr>\n",
              "    <tr>\n",
              "      <th>3979</th>\n",
              "      <td>0.875</td>\n",
              "      <td>1.00</td>\n",
              "      <td>1.0</td>\n",
              "      <td>0.909091</td>\n",
              "      <td>0.958530</td>\n",
              "    </tr>\n",
              "    <tr>\n",
              "      <th>3980</th>\n",
              "      <td>0.875</td>\n",
              "      <td>0.50</td>\n",
              "      <td>1.0</td>\n",
              "      <td>0.909091</td>\n",
              "      <td>0.958846</td>\n",
              "    </tr>\n",
              "    <tr>\n",
              "      <th>3981</th>\n",
              "      <td>0.875</td>\n",
              "      <td>0.00</td>\n",
              "      <td>1.0</td>\n",
              "      <td>0.909091</td>\n",
              "      <td>0.944309</td>\n",
              "    </tr>\n",
              "  </tbody>\n",
              "</table>\n",
              "<p>3982 rows × 5 columns</p>\n",
              "</div>"
            ],
            "text/plain": [
              "       area  part  year     month     price\n",
              "0     0.500  1.00   0.0  0.818182  0.983119\n",
              "1     0.500  0.25   0.0  0.818182  0.982767\n",
              "2     0.500  0.50   0.0  0.818182  0.983469\n",
              "3     0.500  0.75   0.0  0.818182  0.983031\n",
              "4     0.500  0.00   0.0  0.818182  0.983382\n",
              "...     ...   ...   ...       ...       ...\n",
              "3977  0.125  0.75   1.0  0.909091  0.921353\n",
              "3978  0.125  0.00   1.0  0.909091  0.971004\n",
              "3979  0.875  1.00   1.0  0.909091  0.958530\n",
              "3980  0.875  0.50   1.0  0.909091  0.958846\n",
              "3981  0.875  0.00   1.0  0.909091  0.944309\n",
              "\n",
              "[3982 rows x 5 columns]"
            ]
          },
          "metadata": {
            "tags": []
          },
          "execution_count": 22
        }
      ]
    },
    {
      "cell_type": "code",
      "metadata": {
        "id": "l8vLYOvFjSgI",
        "colab_type": "code",
        "outputId": "9b3b8bf3-64b5-45b9-a0fb-86c030f95bbe",
        "colab": {
          "base_uri": "https://localhost:8080/",
          "height": 322
        }
      },
      "source": [
        "corr = df.corr()\n",
        "\n",
        "plt.subplots(1,0,figsize = (15,3))\n",
        "corr['price'].sort_values(ascending = False).to_frame().plot.bar(color = 'blue')\n",
        "plt.axhline(y = 0.5, color = 'r', linestyle = '-')\n",
        "plt.title('Corrplot vs price')\n",
        "plt.show()"
      ],
      "execution_count": 0,
      "outputs": [
        {
          "output_type": "display_data",
          "data": {
            "text/plain": [
              "<Figure size 1080x216 with 0 Axes>"
            ]
          },
          "metadata": {
            "tags": []
          }
        },
        {
          "output_type": "display_data",
          "data": {
            "image/png": "[encoded data removed]",
            "text/plain": [
              "<Figure size 432x288 with 1 Axes>"
            ]
          },
          "metadata": {
            "tags": []
          }
        }
      ]
    },
    {
      "cell_type": "code",
      "metadata": {
        "id": "WfhOpBIxjVbb",
        "colab_type": "code",
        "outputId": "3e523eed-ebb6-47f6-86e0-e64a9038c663",
        "colab": {
          "base_uri": "https://localhost:8080/",
          "height": 34
        }
      },
      "source": [
        "from sklearn.model_selection import train_test_split\n",
        "from sklearn.linear_model import LinearRegression\n",
        "\n",
        "train,test = train_test_split(df,test_size=0.3)\n",
        "\n",
        "train_y = train['price']\n",
        "train_x = train.drop(['price'],axis=1)\n",
        "test_y = test['price']\n",
        "test_x = test.drop(['price'],axis=1)\n",
        "\n",
        "lr = LinearRegression()\n",
        "lr.fit(train_x, train_y)\n",
        "\n",
        "pred = lr.predict(test_x)\n",
        "\n",
        "mse = np.mean((pred - test_y)**2)\n",
        "\n",
        "print(mse)"
      ],
      "execution_count": 0,
      "outputs": [
        {
          "output_type": "stream",
          "text": [
            "0.015159348734492867\n"
          ],
          "name": "stdout"
        }
      ]
    },
    {
      "cell_type": "code",
      "metadata": {
        "id": "9z17XeWCjYly",
        "colab_type": "code",
        "colab": {}
      },
      "source": [
        ""
      ],
      "execution_count": 0,
      "outputs": []
    }
  ]
}