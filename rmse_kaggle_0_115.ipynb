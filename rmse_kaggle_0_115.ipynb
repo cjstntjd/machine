{
  "nbformat": 4,
  "nbformat_minor": 0,
  "metadata": {
    "colab": {
      "name": "rmse_kaggle_0.115.ipynb",
      "provenance": [],
      "authorship_tag": "ABX9TyOzyglFgEC5zPhvzLuxeP+7",
      "include_colab_link": true
    },
    "kernelspec": {
      "name": "python3",
      "display_name": "Python 3"
    }
  },
  "cells": [
    {
      "cell_type": "markdown",
      "metadata": {
        "id": "view-in-github",
        "colab_type": "text"
      },
      "source": [
        "<a href=\"https://colab.research.google.com/github/cjstntjd/machine/blob/master/rmse_kaggle_0_115.ipynb\" target=\"_parent\"><img src=\"https://colab.research.google.com/assets/colab-badge.svg\" alt=\"Open In Colab\"/></a>"
      ]
    },
    {
      "cell_type": "code",
      "metadata": {
        "id": "wH8D_IRis-Tt",
        "colab_type": "code",
        "outputId": "74dc7282-c779-4aa9-8370-d427412e27b6",
        "colab": {
          "base_uri": "https://localhost:8080/",
          "height": 127
        }
      },
      "source": [
        "from google.colab import drive\n",
        "drive.mount('/gdrive',force_remount = True)"
      ],
      "execution_count": 0,
      "outputs": [
        {
          "output_type": "stream",
          "text": [
            "Go to this URL in a browser: https://accounts.google.com/o/oauth2/auth?client_id=947318989803-6bn6qk8qdgf4n4g3pfee6491hc0brc4i.apps.googleusercontent.com&redirect_uri=urn%3aietf%3awg%3aoauth%3a2.0%3aoob&response_type=code&scope=email%20https%3a%2f%2fwww.googleapis.com%2fauth%2fdocs.test%20https%3a%2f%2fwww.googleapis.com%2fauth%2fdrive%20https%3a%2f%2fwww.googleapis.com%2fauth%2fdrive.photos.readonly%20https%3a%2f%2fwww.googleapis.com%2fauth%2fpeopleapi.readonly\n",
            "\n",
            "Enter your authorization code:\n",
            "··········\n",
            "Mounted at /gdrive\n"
          ],
          "name": "stdout"
        }
      ]
    },
    {
      "cell_type": "code",
      "metadata": {
        "id": "1x7nXBkrtBUN",
        "colab_type": "code",
        "outputId": "7faf995e-6b1c-4bc8-af77-c913566698db",
        "colab": {
          "resources": {
            "http://localhost:8080/nbextensions/google.colab/files.js": {
              "data": "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",
              "ok": true,
              "headers": [
                [
                  "content-type",
                  "application/javascript"
                ]
              ],
              "status": 200,
              "status_text": ""
            }
          },
          "base_uri": "https://localhost:8080/",
          "height": 314
        }
      },
      "source": [
        "!pip install kaggle\n",
        "from google.colab import files\n",
        "files.upload()"
      ],
      "execution_count": 0,
      "outputs": [
        {
          "output_type": "stream",
          "text": [
            "Requirement already satisfied: kaggle in /usr/local/lib/python3.6/dist-packages (1.5.6)\n",
            "Requirement already satisfied: urllib3<1.25,>=1.21.1 in /usr/local/lib/python3.6/dist-packages (from kaggle) (1.24.3)\n",
            "Requirement already satisfied: tqdm in /usr/local/lib/python3.6/dist-packages (from kaggle) (4.28.1)\n",
            "Requirement already satisfied: six>=1.10 in /usr/local/lib/python3.6/dist-packages (from kaggle) (1.12.0)\n",
            "Requirement already satisfied: python-slugify in /usr/local/lib/python3.6/dist-packages (from kaggle) (4.0.0)\n",
            "Requirement already satisfied: certifi in /usr/local/lib/python3.6/dist-packages (from kaggle) (2019.11.28)\n",
            "Requirement already satisfied: requests in /usr/local/lib/python3.6/dist-packages (from kaggle) (2.21.0)\n",
            "Requirement already satisfied: python-dateutil in /usr/local/lib/python3.6/dist-packages (from kaggle) (2.6.1)\n",
            "Requirement already satisfied: text-unidecode>=1.3 in /usr/local/lib/python3.6/dist-packages (from python-slugify->kaggle) (1.3)\n",
            "Requirement already satisfied: idna<2.9,>=2.5 in /usr/local/lib/python3.6/dist-packages (from requests->kaggle) (2.8)\n",
            "Requirement already satisfied: chardet<3.1.0,>=3.0.2 in /usr/local/lib/python3.6/dist-packages (from requests->kaggle) (3.0.4)\n"
          ],
          "name": "stdout"
        },
        {
          "output_type": "display_data",
          "data": {
            "text/html": [
              "\n",
              "     <input type=\"file\" id=\"files-05991a6d-9b99-4eee-aa12-a1d8c86dbf72\" name=\"files[]\" multiple disabled />\n",
              "     <output id=\"result-05991a6d-9b99-4eee-aa12-a1d8c86dbf72\">\n",
              "      Upload widget is only available when the cell has been executed in the\n",
              "      current browser session. Please rerun this cell to enable.\n",
              "      </output>\n",
              "      <script src=\"/nbextensions/google.colab/files.js\"></script> "
            ],
            "text/plain": [
              "<IPython.core.display.HTML object>"
            ]
          },
          "metadata": {
            "tags": []
          }
        },
        {
          "output_type": "stream",
          "text": [
            "Saving kaggle.json to kaggle.json\n"
          ],
          "name": "stdout"
        },
        {
          "output_type": "execute_result",
          "data": {
            "text/plain": [
              "{'kaggle.json': b'{\"username\":\"neopchi\",\"key\":\"e9314cf98c2827f1e4630b82b2cd2508\"}'}"
            ]
          },
          "metadata": {
            "tags": []
          },
          "execution_count": 2
        }
      ]
    },
    {
      "cell_type": "code",
      "metadata": {
        "id": "sKPLt96FtI9C",
        "colab_type": "code",
        "outputId": "5a611656-9781-4fac-dd42-46c1f5081910",
        "colab": {
          "base_uri": "https://localhost:8080/",
          "height": 251
        }
      },
      "source": [
        "!mkdir -p ~/.kaggle\n",
        "!cp kaggle.json ~/.kaggle/\n",
        "\n",
        "!chmod 600 ~/.kaggle/kaggle.json\n",
        "\n",
        "!kaggle competitions download -c house-prices-advanced-regression-techniques"
      ],
      "execution_count": 0,
      "outputs": [
        {
          "output_type": "stream",
          "text": [
            "Warning: Looks like you're using an outdated API Version, please consider updating (server 1.5.6 / client 1.5.4)\n",
            "Downloading data_description.txt to /content\n",
            "  0% 0.00/13.1k [00:00<?, ?B/s]\n",
            "100% 13.1k/13.1k [00:00<00:00, 22.1MB/s]\n",
            "Downloading test.csv to /content\n",
            "  0% 0.00/441k [00:00<?, ?B/s]\n",
            "100% 441k/441k [00:00<00:00, 62.0MB/s]\n",
            "Downloading train.csv to /content\n",
            "  0% 0.00/450k [00:00<?, ?B/s]\n",
            "100% 450k/450k [00:00<00:00, 62.4MB/s]\n",
            "Downloading sample_submission.csv to /content\n",
            "  0% 0.00/31.2k [00:00<?, ?B/s]\n",
            "100% 31.2k/31.2k [00:00<00:00, 31.0MB/s]\n"
          ],
          "name": "stdout"
        }
      ]
    },
    {
      "cell_type": "code",
      "metadata": {
        "id": "ZCTlc7xKtPzn",
        "colab_type": "code",
        "outputId": "d3bfa276-c431-4541-e234-8e80d43972da",
        "colab": {
          "base_uri": "https://localhost:8080/",
          "height": 55
        }
      },
      "source": [
        "'''\n",
        "MSSubClass: Identifies the type of dwelling involved in the sale.\t\n",
        "\n",
        "        20\t1-STORY 1946 & NEWER ALL STYLES\n",
        "        30\t1-STORY 1945 & OLDER\n",
        "        40\t1-STORY W/FINISHED ATTIC ALL AGES\n",
        "        45\t1-1/2 STORY - UNFINISHED ALL AGES\n",
        "        50\t1-1/2 STORY FINISHED ALL AGES\n",
        "        60\t2-STORY 1946 & NEWER\n",
        "        70\t2-STORY 1945 & OLDER\n",
        "        75\t2-1/2 STORY ALL AGES\n",
        "        80\tSPLIT OR MULTI-LEVEL\n",
        "        85\tSPLIT FOYER\n",
        "        90\tDUPLEX - ALL STYLES AND AGES\n",
        "       120\t1-STORY PUD (Planned Unit Development) - 1946 & NEWER\n",
        "       150\t1-1/2 STORY PUD - ALL AGES\n",
        "       160\t2-STORY PUD - 1946 & NEWER\n",
        "       180\tPUD - MULTILEVEL - INCL SPLIT LEV/FOYER\n",
        "       190\t2 FAMILY CONVERSION - ALL STYLES AND AGES\n",
        "       \n",
        "생긴건 숫자지만 결국엔 10 단위로 나뉘어진 카테고리형 데이터 -> object로 바꿔주기\n",
        "\n",
        "       Street: Type of road access to property\n",
        "\n",
        "       Grvl\tGravel\t\n",
        "       Pave\tPaved\n",
        "       \t\n",
        "      Alley: Type of alley access to property\n",
        "\n",
        "       Grvl\tGravel\n",
        "       Pave\tPaved\n",
        "       NA \tNo alley access\n",
        " 두개는 같은 값을 갖는 변수 나중에 묶어서 파생변수 만들기\n",
        "\n",
        " Condition1: Proximity to various conditions\n",
        "\t\n",
        "       Artery\tAdjacent to arterial street\n",
        "       Feedr\tAdjacent to feeder street\t\n",
        "       Norm\tNormal\t\n",
        "       RRNn\tWithin 200' of North-South Railroad\n",
        "       RRAn\tAdjacent to North-South Railroad\n",
        "       PosN\tNear positive off-site feature--park, greenbelt, etc.\n",
        "       PosA\tAdjacent to postive off-site feature\n",
        "       RRNe\tWithin 200' of East-West Railroad\n",
        "       RRAe\tAdjacent to East-West Railroad\n",
        "\t\n",
        "Condition2: Proximity to various conditions (if more than one is present)\n",
        "\t\t\n",
        "       Artery\tAdjacent to arterial street\n",
        "       Feedr\tAdjacent to feeder street\t\n",
        "       Norm\tNormal\t\n",
        "       RRNn\tWithin 200' of North-South Railroad\n",
        "       RRAn\tAdjacent to North-South Railroad\n",
        "       PosN\tNear positive off-site feature--park, greenbelt, etc.\n",
        "       PosA\tAdjacent to postive off-site feature\n",
        "       RRNe\tWithin 200' of East-West Railroad\n",
        "       RRAe\tAdjacent to East-West Railroad\n",
        "\n",
        "얘네 둘도 같은 카테고리에 속함 묶어서 계산\n",
        "OverallQual: Rates the overall material and finish of the house\n",
        "\n",
        "       10\tVery Excellent\n",
        "       9\tExcellent\n",
        "       8\tVery Good\n",
        "       7\tGood\n",
        "       6\tAbove Average\n",
        "       5\tAverage\n",
        "       4\tBelow Average\n",
        "       3\tFair\n",
        "       2\tPoor\n",
        "       1\tVery Poor\n",
        "\t\n",
        "OverallCond: Rates the overall condition of the house\n",
        "\n",
        "       10\tVery Excellent\n",
        "       9\tExcellent\n",
        "       8\tVery Good\n",
        "       7\tGood\n",
        "       6\tAbove Average\t\n",
        "       5\tAverage\n",
        "       4\tBelow Average\t\n",
        "       3\tFair\n",
        "       2\tPoor\n",
        "       1\tVery Poor\n",
        "\n",
        "condition 값임 묶어서 계산\n",
        "\n",
        "\n",
        "Exterior1st: Exterior covering on house\n",
        "Exterior2nd: Exterior covering on house (if more than one material)\n",
        "\n",
        "묶어서 계산 \n",
        "\n",
        "ExterQual: Evaluates the quality of the material on the exterior \n",
        "\t\t\n",
        "       Ex\tExcellent\n",
        "       Gd\tGood\n",
        "       TA\tAverage/Typical\n",
        "       Fa\tFair\n",
        "       Po\tPoor\n",
        "\t\t\n",
        "ExterCond: Evaluates the present condition of the material on the exterior\n",
        "\t\t\n",
        "       Ex\tExcellent\n",
        "       Gd\tGood\n",
        "       TA\tAverage/Typical\n",
        "       Fa\tFair\n",
        "       Po\tPoor\n",
        "\n",
        "이렇게 범주형 카테고리가 몇개 있음 묶어서 보고 퀄리티를 포함하는 측면이면 아가 데이터와 묶어서 생각하기 \n",
        "BsmtQual: Evaluates the height of the basement\n",
        "BsmtCond: Evaluates the general condition of the basement\n",
        "BsmtExposure: Refers to walkout or garden level walls\n",
        "전부 퀄리티 적인 측면을 요소로 하는 데이터 들임 하나로 합치면 데이터 양도 줄이고 하나의 파생변수로 기능할수있음\n",
        "\n",
        "BsmtFinType1: Rating of basement finished area\n",
        "BsmtFinType2: Rating of basement finished area (if multiple types)\n",
        "\n",
        "포함\n",
        "\n",
        "1stFlrSF: First Floor square feet\n",
        " \n",
        "2ndFlrSF: Second floor square feet\n",
        "\n",
        "LowQualFinSF: Low quality finished square feet (all floors)\n",
        "\n",
        "GrLivArea: Above grade (ground) living area square feet\n",
        "\n",
        "BsmtFullBath: Basement full bathrooms\n",
        "\n",
        "BsmtHalfBath: Basement half bathrooms\n",
        "\n",
        "FullBath: Full bathrooms above grade\n",
        "\n",
        "HalfBath: Half baths above grade\n",
        "\n",
        "Bedroom: Bedrooms above grade (does NOT include basement bedrooms)\n",
        "\n",
        "Kitchen: Kitchens above grade\n",
        "숫자형 데이터 임 \n",
        "\n",
        "GarageQual: Garage quality\n",
        "\n",
        "       Ex\tExcellent\n",
        "       Gd\tGood\n",
        "       TA\tTypical/Average\n",
        "       Fa\tFair\n",
        "       Po\tPoor\n",
        "       NA\tNo Garage\n",
        "\t\t\n",
        "GarageCond: Garage condition\n",
        "\n",
        "       Ex\tExcellent\n",
        "       Gd\tGood\n",
        "       TA\tTypical/Average\n",
        "       Fa\tFair\n",
        "       Po\tPoor\n",
        "       NA\tNo Garage\n",
        "하나로 묶어서 생각할것 퀄리티 적인 측면의 데이터는 합산해도 상관 없음 \n",
        "\n",
        "MiscVal: $Value of miscellaneous feature\n",
        "\n",
        "MoSold: Month Sold (MM)\n",
        "\n",
        "YrSold: Year Sold (YYYY)\n",
        "\n",
        "year의 대표값을 선정하는 알고리즘을 짜면 아까보다 더 좋은 성능을 기대할수 있음 \n",
        "\n",
        "\n",
        "       '''\n"
      ],
      "execution_count": 0,
      "outputs": [
        {
          "output_type": "execute_result",
          "data": {
            "text/plain": [
              "\"\\nMSSubClass: Identifies the type of dwelling involved in the sale.\\t\\n\\n        20\\t1-STORY 1946 & NEWER ALL STYLES\\n        30\\t1-STORY 1945 & OLDER\\n        40\\t1-STORY W/FINISHED ATTIC ALL AGES\\n        45\\t1-1/2 STORY - UNFINISHED ALL AGES\\n        50\\t1-1/2 STORY FINISHED ALL AGES\\n        60\\t2-STORY 1946 & NEWER\\n        70\\t2-STORY 1945 & OLDER\\n        75\\t2-1/2 STORY ALL AGES\\n        80\\tSPLIT OR MULTI-LEVEL\\n        85\\tSPLIT FOYER\\n        90\\tDUPLEX - ALL STYLES AND AGES\\n       120\\t1-STORY PUD (Planned Unit Development) - 1946 & NEWER\\n       150\\t1-1/2 STORY PUD - ALL AGES\\n       160\\t2-STORY PUD - 1946 & NEWER\\n       180\\tPUD - MULTILEVEL - INCL SPLIT LEV/FOYER\\n       190\\t2 FAMILY CONVERSION - ALL STYLES AND AGES\\n       \\n생긴건 숫자지만 결국엔 10 단위로 나뉘어진 카테고리형 데이터 -> object로 바꿔주기\\n\\n       Street: Type of road access to property\\n\\n       Grvl\\tGravel\\t\\n       Pave\\tPaved\\n       \\t\\n      Alley: Type of alley access to property\\n\\n       Grvl\\tGravel\\n       Pave\\tPaved\\n       NA \\tNo alley access\\n 두개는 같은 값을 갖는 변수 나중에 묶어서 파생변수 만들기\\n\\n Condition1: Proximity to various conditions\\n\\t\\n       Artery\\tAdjacent to arterial street\\n       Feedr\\tAdjacent to feeder street\\t\\n       Norm\\tNormal\\t\\n       RRNn\\tWithin 200' of North-South Railroad\\n       RRAn\\tAdjacent to North-South Railroad\\n       PosN\\tNear positive off-site feature--park, greenbelt, etc.\\n       PosA\\tAdjacent to postive off-site feature\\n       RRNe\\tWithin 200' of East-West Railroad\\n       RRAe\\tAdjacent to East-West Railroad\\n\\t\\nCondition2: Proximity to various conditions (if more than one is present)\\n\\t\\t\\n       Artery\\tAdjacent to arterial street\\n       Feedr\\tAdjacent to feeder street\\t\\n       Norm\\tNormal\\t\\n       RRNn\\tWithin 200' of North-South Railroad\\n       RRAn\\tAdjacent to North-South Railroad\\n       PosN\\tNear positive off-site feature--park, greenbelt, etc.\\n       PosA\\tAdjacent to postive off-site feature\\n       RRNe\\tWithin 200' of East-West Railroad\\n       RRAe\\tAdjacent to East-West Railroad\\n\\n얘네 둘도 같은 카테고리에 속함 묶어서 계산\\nOverallQual: Rates the overall material and finish of the house\\n\\n       10\\tVery Excellent\\n       9\\tExcellent\\n       8\\tVery Good\\n       7\\tGood\\n       6\\tAbove Average\\n       5\\tAverage\\n       4\\tBelow Average\\n       3\\tFair\\n       2\\tPoor\\n       1\\tVery Poor\\n\\t\\nOverallCond: Rates the overall condition of the house\\n\\n       10\\tVery Excellent\\n       9\\tExcellent\\n       8\\tVery Good\\n       7\\tGood\\n       6\\tAbove Average\\t\\n       5\\tAverage\\n       4\\tBelow Average\\t\\n       3\\tFair\\n       2\\tPoor\\n       1\\tVery Poor\\n\\ncondition 값임 묶어서 계산\\n\\n\\nExterior1st: Exterior covering on house\\nExterior2nd: Exterior covering on house (if more than one material)\\n\\n묶어서 계산 \\n\\nExterQual: Evaluates the quality of the material on the exterior \\n\\t\\t\\n       Ex\\tExcellent\\n       Gd\\tGood\\n       TA\\tAverage/Typical\\n       Fa\\tFair\\n       Po\\tPoor\\n\\t\\t\\nExterCond: Evaluates the present condition of the material on the exterior\\n\\t\\t\\n       Ex\\tExcellent\\n       Gd\\tGood\\n       TA\\tAverage/Typical\\n       Fa\\tFair\\n       Po\\tPoor\\n\\n이렇게 범주형 카테고리가 몇개 있음 묶어서 보고 퀄리티를 포함하는 측면이면 아가 데이터와 묶어서 생각하기 \\nBsmtQual: Evaluates the height of the basement\\nBsmtCond: Evaluates the general condition of the basement\\nBsmtExposure: Refers to walkout or garden level walls\\n전부 퀄리티 적인 측면을 요소로 하는 데이터 들임 하나로 합치면 데이터 양도 줄이고 하나의 파생변수로 기능할수있음\\n\\nBsmtFinType1: Rating of basement finished area\\nBsmtFinType2: Rating of basement finished area (if multiple types)\\n\\n포함\\n\\n1stFlrSF: First Floor square feet\\n \\n2ndFlrSF: Second floor square feet\\n\\nLowQualFinSF: Low quality finished square feet (all floors)\\n\\nGrLivArea: Above grade (ground) living area square feet\\n\\nBsmtFullBath: Basement full bathrooms\\n\\nBsmtHalfBath: Basement half bathrooms\\n\\nFullBath: Full bathrooms above grade\\n\\nHalfBath: Half baths above grade\\n\\nBedroom: Bedrooms above grade (does NOT include basement bedrooms)\\n\\nKitchen: Kitchens above grade\\n숫자형 데이터 임 \\n\\nGarageQual: Garage quality\\n\\n       Ex\\tExcellent\\n       Gd\\tGood\\n       TA\\tTypical/Average\\n       Fa\\tFair\\n       Po\\tPoor\\n       NA\\tNo Garage\\n\\t\\t\\nGarageCond: Garage condition\\n\\n       Ex\\tExcellent\\n       Gd\\tGood\\n       TA\\tTypical/Average\\n       Fa\\tFair\\n       Po\\tPoor\\n       NA\\tNo Garage\\n하나로 묶어서 생각할것 퀄리티 적인 측면의 데이터는 합산해도 상관 없음 \\n\\nMiscVal: $Value of miscellaneous feature\\n\\nMoSold: Month Sold (MM)\\n\\nYrSold: Year Sold (YYYY)\\n\\nyear의 대표값을 선정하는 알고리즘을 짜면 아까보다 더 좋은 성능을 기대할수 있음 \\n\\n\\n       \""
            ]
          },
          "metadata": {
            "tags": []
          },
          "execution_count": 5
        }
      ]
    },
    {
      "cell_type": "code",
      "metadata": {
        "id": "6gmfB095tUYP",
        "colab_type": "code",
        "colab": {}
      },
      "source": [
        "import numpy as np\n",
        "import matplotlib.pyplot as plt\n",
        "import seaborn as sns\n",
        "import pandas as pd\n",
        "from sklearn import preprocessing\n",
        "%matplotlib inline\n",
        "\n",
        "\n",
        "from sklearn.base import BaseEstimator, TransformerMixin, RegressorMixin, clone\n",
        "from sklearn.model_selection import KFold, cross_val_score, train_test_split\n",
        "from sklearn.pipeline import make_pipeline\n",
        "from sklearn.linear_model import ElasticNet, Lasso,  BayesianRidge, LassoLarsIC\n",
        "from sklearn.ensemble import RandomForestRegressor,  GradientBoostingRegressor\n",
        "from sklearn.kernel_ridge import KernelRidge\n",
        "from sklearn.preprocessing import RobustScaler\n",
        "from sklearn.metrics import mean_squared_error\n",
        "import xgboost as xgb\n",
        "import lightgbm as lgb\n",
        "from sklearn.linear_model import LinearRegression\n",
        "from sklearn.model_selection import cross_val_score\n",
        "from sklearn.metrics import mean_squared_error,make_scorer"
      ],
      "execution_count": 0,
      "outputs": []
    },
    {
      "cell_type": "code",
      "metadata": {
        "id": "XElvY0ZItXf4",
        "colab_type": "code",
        "outputId": "860f4145-5c87-4e42-ab96-20bd62501db6",
        "colab": {
          "base_uri": "https://localhost:8080/",
          "height": 253
        }
      },
      "source": [
        "a = pd.read_csv('train.csv')\n",
        "b = pd.read_csv('test.csv')\n",
        "\n",
        "a.head()"
      ],
      "execution_count": 0,
      "outputs": [
        {
          "output_type": "execute_result",
          "data": {
            "text/html": [
              "<div>\n",
              "<style scoped>\n",
              "    .dataframe tbody tr th:only-of-type {\n",
              "        vertical-align: middle;\n",
              "    }\n",
              "\n",
              "    .dataframe tbody tr th {\n",
              "        vertical-align: top;\n",
              "    }\n",
              "\n",
              "    .dataframe thead th {\n",
              "        text-align: right;\n",
              "    }\n",
              "</style>\n",
              "<table border=\"1\" class=\"dataframe\">\n",
              "  <thead>\n",
              "    <tr style=\"text-align: right;\">\n",
              "      <th></th>\n",
              "      <th>Id</th>\n",
              "      <th>MSSubClass</th>\n",
              "      <th>MSZoning</th>\n",
              "      <th>LotFrontage</th>\n",
              "      <th>LotArea</th>\n",
              "      <th>Street</th>\n",
              "      <th>Alley</th>\n",
              "      <th>LotShape</th>\n",
              "      <th>LandContour</th>\n",
              "      <th>Utilities</th>\n",
              "      <th>LotConfig</th>\n",
              "      <th>LandSlope</th>\n",
              "      <th>Neighborhood</th>\n",
              "      <th>Condition1</th>\n",
              "      <th>Condition2</th>\n",
              "      <th>BldgType</th>\n",
              "      <th>HouseStyle</th>\n",
              "      <th>OverallQual</th>\n",
              "      <th>OverallCond</th>\n",
              "      <th>YearBuilt</th>\n",
              "      <th>YearRemodAdd</th>\n",
              "      <th>RoofStyle</th>\n",
              "      <th>RoofMatl</th>\n",
              "      <th>Exterior1st</th>\n",
              "      <th>Exterior2nd</th>\n",
              "      <th>MasVnrType</th>\n",
              "      <th>MasVnrArea</th>\n",
              "      <th>ExterQual</th>\n",
              "      <th>ExterCond</th>\n",
              "      <th>Foundation</th>\n",
              "      <th>BsmtQual</th>\n",
              "      <th>BsmtCond</th>\n",
              "      <th>BsmtExposure</th>\n",
              "      <th>BsmtFinType1</th>\n",
              "      <th>BsmtFinSF1</th>\n",
              "      <th>BsmtFinType2</th>\n",
              "      <th>BsmtFinSF2</th>\n",
              "      <th>BsmtUnfSF</th>\n",
              "      <th>TotalBsmtSF</th>\n",
              "      <th>Heating</th>\n",
              "      <th>...</th>\n",
              "      <th>CentralAir</th>\n",
              "      <th>Electrical</th>\n",
              "      <th>1stFlrSF</th>\n",
              "      <th>2ndFlrSF</th>\n",
              "      <th>LowQualFinSF</th>\n",
              "      <th>GrLivArea</th>\n",
              "      <th>BsmtFullBath</th>\n",
              "      <th>BsmtHalfBath</th>\n",
              "      <th>FullBath</th>\n",
              "      <th>HalfBath</th>\n",
              "      <th>BedroomAbvGr</th>\n",
              "      <th>KitchenAbvGr</th>\n",
              "      <th>KitchenQual</th>\n",
              "      <th>TotRmsAbvGrd</th>\n",
              "      <th>Functional</th>\n",
              "      <th>Fireplaces</th>\n",
              "      <th>FireplaceQu</th>\n",
              "      <th>GarageType</th>\n",
              "      <th>GarageYrBlt</th>\n",
              "      <th>GarageFinish</th>\n",
              "      <th>GarageCars</th>\n",
              "      <th>GarageArea</th>\n",
              "      <th>GarageQual</th>\n",
              "      <th>GarageCond</th>\n",
              "      <th>PavedDrive</th>\n",
              "      <th>WoodDeckSF</th>\n",
              "      <th>OpenPorchSF</th>\n",
              "      <th>EnclosedPorch</th>\n",
              "      <th>3SsnPorch</th>\n",
              "      <th>ScreenPorch</th>\n",
              "      <th>PoolArea</th>\n",
              "      <th>PoolQC</th>\n",
              "      <th>Fence</th>\n",
              "      <th>MiscFeature</th>\n",
              "      <th>MiscVal</th>\n",
              "      <th>MoSold</th>\n",
              "      <th>YrSold</th>\n",
              "      <th>SaleType</th>\n",
              "      <th>SaleCondition</th>\n",
              "      <th>SalePrice</th>\n",
              "    </tr>\n",
              "  </thead>\n",
              "  <tbody>\n",
              "    <tr>\n",
              "      <th>0</th>\n",
              "      <td>1</td>\n",
              "      <td>60</td>\n",
              "      <td>RL</td>\n",
              "      <td>65.0</td>\n",
              "      <td>8450</td>\n",
              "      <td>Pave</td>\n",
              "      <td>NaN</td>\n",
              "      <td>Reg</td>\n",
              "      <td>Lvl</td>\n",
              "      <td>AllPub</td>\n",
              "      <td>Inside</td>\n",
              "      <td>Gtl</td>\n",
              "      <td>CollgCr</td>\n",
              "      <td>Norm</td>\n",
              "      <td>Norm</td>\n",
              "      <td>1Fam</td>\n",
              "      <td>2Story</td>\n",
              "      <td>7</td>\n",
              "      <td>5</td>\n",
              "      <td>2003</td>\n",
              "      <td>2003</td>\n",
              "      <td>Gable</td>\n",
              "      <td>CompShg</td>\n",
              "      <td>VinylSd</td>\n",
              "      <td>VinylSd</td>\n",
              "      <td>BrkFace</td>\n",
              "      <td>196.0</td>\n",
              "      <td>Gd</td>\n",
              "      <td>TA</td>\n",
              "      <td>PConc</td>\n",
              "      <td>Gd</td>\n",
              "      <td>TA</td>\n",
              "      <td>No</td>\n",
              "      <td>GLQ</td>\n",
              "      <td>706</td>\n",
              "      <td>Unf</td>\n",
              "      <td>0</td>\n",
              "      <td>150</td>\n",
              "      <td>856</td>\n",
              "      <td>GasA</td>\n",
              "      <td>...</td>\n",
              "      <td>Y</td>\n",
              "      <td>SBrkr</td>\n",
              "      <td>856</td>\n",
              "      <td>854</td>\n",
              "      <td>0</td>\n",
              "      <td>1710</td>\n",
              "      <td>1</td>\n",
              "      <td>0</td>\n",
              "      <td>2</td>\n",
              "      <td>1</td>\n",
              "      <td>3</td>\n",
              "      <td>1</td>\n",
              "      <td>Gd</td>\n",
              "      <td>8</td>\n",
              "      <td>Typ</td>\n",
              "      <td>0</td>\n",
              "      <td>NaN</td>\n",
              "      <td>Attchd</td>\n",
              "      <td>2003.0</td>\n",
              "      <td>RFn</td>\n",
              "      <td>2</td>\n",
              "      <td>548</td>\n",
              "      <td>TA</td>\n",
              "      <td>TA</td>\n",
              "      <td>Y</td>\n",
              "      <td>0</td>\n",
              "      <td>61</td>\n",
              "      <td>0</td>\n",
              "      <td>0</td>\n",
              "      <td>0</td>\n",
              "      <td>0</td>\n",
              "      <td>NaN</td>\n",
              "      <td>NaN</td>\n",
              "      <td>NaN</td>\n",
              "      <td>0</td>\n",
              "      <td>2</td>\n",
              "      <td>2008</td>\n",
              "      <td>WD</td>\n",
              "      <td>Normal</td>\n",
              "      <td>208500</td>\n",
              "    </tr>\n",
              "    <tr>\n",
              "      <th>1</th>\n",
              "      <td>2</td>\n",
              "      <td>20</td>\n",
              "      <td>RL</td>\n",
              "      <td>80.0</td>\n",
              "      <td>9600</td>\n",
              "      <td>Pave</td>\n",
              "      <td>NaN</td>\n",
              "      <td>Reg</td>\n",
              "      <td>Lvl</td>\n",
              "      <td>AllPub</td>\n",
              "      <td>FR2</td>\n",
              "      <td>Gtl</td>\n",
              "      <td>Veenker</td>\n",
              "      <td>Feedr</td>\n",
              "      <td>Norm</td>\n",
              "      <td>1Fam</td>\n",
              "      <td>1Story</td>\n",
              "      <td>6</td>\n",
              "      <td>8</td>\n",
              "      <td>1976</td>\n",
              "      <td>1976</td>\n",
              "      <td>Gable</td>\n",
              "      <td>CompShg</td>\n",
              "      <td>MetalSd</td>\n",
              "      <td>MetalSd</td>\n",
              "      <td>None</td>\n",
              "      <td>0.0</td>\n",
              "      <td>TA</td>\n",
              "      <td>TA</td>\n",
              "      <td>CBlock</td>\n",
              "      <td>Gd</td>\n",
              "      <td>TA</td>\n",
              "      <td>Gd</td>\n",
              "      <td>ALQ</td>\n",
              "      <td>978</td>\n",
              "      <td>Unf</td>\n",
              "      <td>0</td>\n",
              "      <td>284</td>\n",
              "      <td>1262</td>\n",
              "      <td>GasA</td>\n",
              "      <td>...</td>\n",
              "      <td>Y</td>\n",
              "      <td>SBrkr</td>\n",
              "      <td>1262</td>\n",
              "      <td>0</td>\n",
              "      <td>0</td>\n",
              "      <td>1262</td>\n",
              "      <td>0</td>\n",
              "      <td>1</td>\n",
              "      <td>2</td>\n",
              "      <td>0</td>\n",
              "      <td>3</td>\n",
              "      <td>1</td>\n",
              "      <td>TA</td>\n",
              "      <td>6</td>\n",
              "      <td>Typ</td>\n",
              "      <td>1</td>\n",
              "      <td>TA</td>\n",
              "      <td>Attchd</td>\n",
              "      <td>1976.0</td>\n",
              "      <td>RFn</td>\n",
              "      <td>2</td>\n",
              "      <td>460</td>\n",
              "      <td>TA</td>\n",
              "      <td>TA</td>\n",
              "      <td>Y</td>\n",
              "      <td>298</td>\n",
              "      <td>0</td>\n",
              "      <td>0</td>\n",
              "      <td>0</td>\n",
              "      <td>0</td>\n",
              "      <td>0</td>\n",
              "      <td>NaN</td>\n",
              "      <td>NaN</td>\n",
              "      <td>NaN</td>\n",
              "      <td>0</td>\n",
              "      <td>5</td>\n",
              "      <td>2007</td>\n",
              "      <td>WD</td>\n",
              "      <td>Normal</td>\n",
              "      <td>181500</td>\n",
              "    </tr>\n",
              "    <tr>\n",
              "      <th>2</th>\n",
              "      <td>3</td>\n",
              "      <td>60</td>\n",
              "      <td>RL</td>\n",
              "      <td>68.0</td>\n",
              "      <td>11250</td>\n",
              "      <td>Pave</td>\n",
              "      <td>NaN</td>\n",
              "      <td>IR1</td>\n",
              "      <td>Lvl</td>\n",
              "      <td>AllPub</td>\n",
              "      <td>Inside</td>\n",
              "      <td>Gtl</td>\n",
              "      <td>CollgCr</td>\n",
              "      <td>Norm</td>\n",
              "      <td>Norm</td>\n",
              "      <td>1Fam</td>\n",
              "      <td>2Story</td>\n",
              "      <td>7</td>\n",
              "      <td>5</td>\n",
              "      <td>2001</td>\n",
              "      <td>2002</td>\n",
              "      <td>Gable</td>\n",
              "      <td>CompShg</td>\n",
              "      <td>VinylSd</td>\n",
              "      <td>VinylSd</td>\n",
              "      <td>BrkFace</td>\n",
              "      <td>162.0</td>\n",
              "      <td>Gd</td>\n",
              "      <td>TA</td>\n",
              "      <td>PConc</td>\n",
              "      <td>Gd</td>\n",
              "      <td>TA</td>\n",
              "      <td>Mn</td>\n",
              "      <td>GLQ</td>\n",
              "      <td>486</td>\n",
              "      <td>Unf</td>\n",
              "      <td>0</td>\n",
              "      <td>434</td>\n",
              "      <td>920</td>\n",
              "      <td>GasA</td>\n",
              "      <td>...</td>\n",
              "      <td>Y</td>\n",
              "      <td>SBrkr</td>\n",
              "      <td>920</td>\n",
              "      <td>866</td>\n",
              "      <td>0</td>\n",
              "      <td>1786</td>\n",
              "      <td>1</td>\n",
              "      <td>0</td>\n",
              "      <td>2</td>\n",
              "      <td>1</td>\n",
              "      <td>3</td>\n",
              "      <td>1</td>\n",
              "      <td>Gd</td>\n",
              "      <td>6</td>\n",
              "      <td>Typ</td>\n",
              "      <td>1</td>\n",
              "      <td>TA</td>\n",
              "      <td>Attchd</td>\n",
              "      <td>2001.0</td>\n",
              "      <td>RFn</td>\n",
              "      <td>2</td>\n",
              "      <td>608</td>\n",
              "      <td>TA</td>\n",
              "      <td>TA</td>\n",
              "      <td>Y</td>\n",
              "      <td>0</td>\n",
              "      <td>42</td>\n",
              "      <td>0</td>\n",
              "      <td>0</td>\n",
              "      <td>0</td>\n",
              "      <td>0</td>\n",
              "      <td>NaN</td>\n",
              "      <td>NaN</td>\n",
              "      <td>NaN</td>\n",
              "      <td>0</td>\n",
              "      <td>9</td>\n",
              "      <td>2008</td>\n",
              "      <td>WD</td>\n",
              "      <td>Normal</td>\n",
              "      <td>223500</td>\n",
              "    </tr>\n",
              "    <tr>\n",
              "      <th>3</th>\n",
              "      <td>4</td>\n",
              "      <td>70</td>\n",
              "      <td>RL</td>\n",
              "      <td>60.0</td>\n",
              "      <td>9550</td>\n",
              "      <td>Pave</td>\n",
              "      <td>NaN</td>\n",
              "      <td>IR1</td>\n",
              "      <td>Lvl</td>\n",
              "      <td>AllPub</td>\n",
              "      <td>Corner</td>\n",
              "      <td>Gtl</td>\n",
              "      <td>Crawfor</td>\n",
              "      <td>Norm</td>\n",
              "      <td>Norm</td>\n",
              "      <td>1Fam</td>\n",
              "      <td>2Story</td>\n",
              "      <td>7</td>\n",
              "      <td>5</td>\n",
              "      <td>1915</td>\n",
              "      <td>1970</td>\n",
              "      <td>Gable</td>\n",
              "      <td>CompShg</td>\n",
              "      <td>Wd Sdng</td>\n",
              "      <td>Wd Shng</td>\n",
              "      <td>None</td>\n",
              "      <td>0.0</td>\n",
              "      <td>TA</td>\n",
              "      <td>TA</td>\n",
              "      <td>BrkTil</td>\n",
              "      <td>TA</td>\n",
              "      <td>Gd</td>\n",
              "      <td>No</td>\n",
              "      <td>ALQ</td>\n",
              "      <td>216</td>\n",
              "      <td>Unf</td>\n",
              "      <td>0</td>\n",
              "      <td>540</td>\n",
              "      <td>756</td>\n",
              "      <td>GasA</td>\n",
              "      <td>...</td>\n",
              "      <td>Y</td>\n",
              "      <td>SBrkr</td>\n",
              "      <td>961</td>\n",
              "      <td>756</td>\n",
              "      <td>0</td>\n",
              "      <td>1717</td>\n",
              "      <td>1</td>\n",
              "      <td>0</td>\n",
              "      <td>1</td>\n",
              "      <td>0</td>\n",
              "      <td>3</td>\n",
              "      <td>1</td>\n",
              "      <td>Gd</td>\n",
              "      <td>7</td>\n",
              "      <td>Typ</td>\n",
              "      <td>1</td>\n",
              "      <td>Gd</td>\n",
              "      <td>Detchd</td>\n",
              "      <td>1998.0</td>\n",
              "      <td>Unf</td>\n",
              "      <td>3</td>\n",
              "      <td>642</td>\n",
              "      <td>TA</td>\n",
              "      <td>TA</td>\n",
              "      <td>Y</td>\n",
              "      <td>0</td>\n",
              "      <td>35</td>\n",
              "      <td>272</td>\n",
              "      <td>0</td>\n",
              "      <td>0</td>\n",
              "      <td>0</td>\n",
              "      <td>NaN</td>\n",
              "      <td>NaN</td>\n",
              "      <td>NaN</td>\n",
              "      <td>0</td>\n",
              "      <td>2</td>\n",
              "      <td>2006</td>\n",
              "      <td>WD</td>\n",
              "      <td>Abnorml</td>\n",
              "      <td>140000</td>\n",
              "    </tr>\n",
              "    <tr>\n",
              "      <th>4</th>\n",
              "      <td>5</td>\n",
              "      <td>60</td>\n",
              "      <td>RL</td>\n",
              "      <td>84.0</td>\n",
              "      <td>14260</td>\n",
              "      <td>Pave</td>\n",
              "      <td>NaN</td>\n",
              "      <td>IR1</td>\n",
              "      <td>Lvl</td>\n",
              "      <td>AllPub</td>\n",
              "      <td>FR2</td>\n",
              "      <td>Gtl</td>\n",
              "      <td>NoRidge</td>\n",
              "      <td>Norm</td>\n",
              "      <td>Norm</td>\n",
              "      <td>1Fam</td>\n",
              "      <td>2Story</td>\n",
              "      <td>8</td>\n",
              "      <td>5</td>\n",
              "      <td>2000</td>\n",
              "      <td>2000</td>\n",
              "      <td>Gable</td>\n",
              "      <td>CompShg</td>\n",
              "      <td>VinylSd</td>\n",
              "      <td>VinylSd</td>\n",
              "      <td>BrkFace</td>\n",
              "      <td>350.0</td>\n",
              "      <td>Gd</td>\n",
              "      <td>TA</td>\n",
              "      <td>PConc</td>\n",
              "      <td>Gd</td>\n",
              "      <td>TA</td>\n",
              "      <td>Av</td>\n",
              "      <td>GLQ</td>\n",
              "      <td>655</td>\n",
              "      <td>Unf</td>\n",
              "      <td>0</td>\n",
              "      <td>490</td>\n",
              "      <td>1145</td>\n",
              "      <td>GasA</td>\n",
              "      <td>...</td>\n",
              "      <td>Y</td>\n",
              "      <td>SBrkr</td>\n",
              "      <td>1145</td>\n",
              "      <td>1053</td>\n",
              "      <td>0</td>\n",
              "      <td>2198</td>\n",
              "      <td>1</td>\n",
              "      <td>0</td>\n",
              "      <td>2</td>\n",
              "      <td>1</td>\n",
              "      <td>4</td>\n",
              "      <td>1</td>\n",
              "      <td>Gd</td>\n",
              "      <td>9</td>\n",
              "      <td>Typ</td>\n",
              "      <td>1</td>\n",
              "      <td>TA</td>\n",
              "      <td>Attchd</td>\n",
              "      <td>2000.0</td>\n",
              "      <td>RFn</td>\n",
              "      <td>3</td>\n",
              "      <td>836</td>\n",
              "      <td>TA</td>\n",
              "      <td>TA</td>\n",
              "      <td>Y</td>\n",
              "      <td>192</td>\n",
              "      <td>84</td>\n",
              "      <td>0</td>\n",
              "      <td>0</td>\n",
              "      <td>0</td>\n",
              "      <td>0</td>\n",
              "      <td>NaN</td>\n",
              "      <td>NaN</td>\n",
              "      <td>NaN</td>\n",
              "      <td>0</td>\n",
              "      <td>12</td>\n",
              "      <td>2008</td>\n",
              "      <td>WD</td>\n",
              "      <td>Normal</td>\n",
              "      <td>250000</td>\n",
              "    </tr>\n",
              "  </tbody>\n",
              "</table>\n",
              "<p>5 rows × 81 columns</p>\n",
              "</div>"
            ],
            "text/plain": [
              "   Id  MSSubClass MSZoning  ...  SaleType  SaleCondition SalePrice\n",
              "0   1          60       RL  ...        WD         Normal    208500\n",
              "1   2          20       RL  ...        WD         Normal    181500\n",
              "2   3          60       RL  ...        WD         Normal    223500\n",
              "3   4          70       RL  ...        WD        Abnorml    140000\n",
              "4   5          60       RL  ...        WD         Normal    250000\n",
              "\n",
              "[5 rows x 81 columns]"
            ]
          },
          "metadata": {
            "tags": []
          },
          "execution_count": 7
        }
      ]
    },
    {
      "cell_type": "code",
      "metadata": {
        "id": "_-M3FWLXtwgC",
        "colab_type": "code",
        "outputId": "1b82f1e0-9ea7-4b79-eff8-18a292bad695",
        "colab": {
          "base_uri": "https://localhost:8080/",
          "height": 460
        }
      },
      "source": [
        "numcorr=a.corr()\n",
        "Num=numcorr['SalePrice'].sort_values(ascending=False).head(20).to_frame()\n",
        "\n",
        "cm = sns.light_palette(\"cyan\", as_cmap=True)\n",
        "\n",
        "corr = Num.style.background_gradient(cmap=cm)\n",
        "corr\n",
        "# overall quality, the living area, basement area, garage cars,garage area는 높은 상관관계를 가짐\n",
        "# 전반적으로 퀄리티가 좋으면 일어나는 가격이 높아지는 주요한 원인\n",
        "# fullBath 1stfloor surface 같은 품목도 사치적인 부분이라 높은 가격의 원인이 됨\n",
        "# 0.5이상이면 일단 관계가 있나보다 하는 정도로 파악 하고 관찰 해보면 새로지은 연도가 가격의 원인이 됨을 알수 있음 "
      ],
      "execution_count": 0,
      "outputs": [
        {
          "output_type": "execute_result",
          "data": {
            "text/html": [
              "<style  type=\"text/css\" >\n",
              "    #T_fa553210_44f6_11ea_b45c_0242ac1c0002row0_col0 {\n",
              "            background-color:  #00ffff;\n",
              "            color:  #000000;\n",
              "        }    #T_fa553210_44f6_11ea_b45c_0242ac1c0002row1_col0 {\n",
              "            background-color:  #43ffff;\n",
              "            color:  #000000;\n",
              "        }    #T_fa553210_44f6_11ea_b45c_0242ac1c0002row2_col0 {\n",
              "            background-color:  #5effff;\n",
              "            color:  #000000;\n",
              "        }    #T_fa553210_44f6_11ea_b45c_0242ac1c0002row3_col0 {\n",
              "            background-color:  #73ffff;\n",
              "            color:  #000000;\n",
              "        }    #T_fa553210_44f6_11ea_b45c_0242ac1c0002row4_col0 {\n",
              "            background-color:  #79ffff;\n",
              "            color:  #000000;\n",
              "        }    #T_fa553210_44f6_11ea_b45c_0242ac1c0002row5_col0 {\n",
              "            background-color:  #7cffff;\n",
              "            color:  #000000;\n",
              "        }    #T_fa553210_44f6_11ea_b45c_0242ac1c0002row6_col0 {\n",
              "            background-color:  #7effff;\n",
              "            color:  #000000;\n",
              "        }    #T_fa553210_44f6_11ea_b45c_0242ac1c0002row7_col0 {\n",
              "            background-color:  #8dffff;\n",
              "            color:  #000000;\n",
              "        }    #T_fa553210_44f6_11ea_b45c_0242ac1c0002row8_col0 {\n",
              "            background-color:  #95ffff;\n",
              "            color:  #000000;\n",
              "        }    #T_fa553210_44f6_11ea_b45c_0242ac1c0002row9_col0 {\n",
              "            background-color:  #99ffff;\n",
              "            color:  #000000;\n",
              "        }    #T_fa553210_44f6_11ea_b45c_0242ac1c0002row10_col0 {\n",
              "            background-color:  #9effff;\n",
              "            color:  #000000;\n",
              "        }    #T_fa553210_44f6_11ea_b45c_0242ac1c0002row11_col0 {\n",
              "            background-color:  #a5ffff;\n",
              "            color:  #000000;\n",
              "        }    #T_fa553210_44f6_11ea_b45c_0242ac1c0002row12_col0 {\n",
              "            background-color:  #a7ffff;\n",
              "            color:  #000000;\n",
              "        }    #T_fa553210_44f6_11ea_b45c_0242ac1c0002row13_col0 {\n",
              "            background-color:  #abffff;\n",
              "            color:  #000000;\n",
              "        }    #T_fa553210_44f6_11ea_b45c_0242ac1c0002row14_col0 {\n",
              "            background-color:  #c5ffff;\n",
              "            color:  #000000;\n",
              "        }    #T_fa553210_44f6_11ea_b45c_0242ac1c0002row15_col0 {\n",
              "            background-color:  #d0ffff;\n",
              "            color:  #000000;\n",
              "        }    #T_fa553210_44f6_11ea_b45c_0242ac1c0002row16_col0 {\n",
              "            background-color:  #d9ffff;\n",
              "            color:  #000000;\n",
              "        }    #T_fa553210_44f6_11ea_b45c_0242ac1c0002row17_col0 {\n",
              "            background-color:  #dbffff;\n",
              "            color:  #000000;\n",
              "        }    #T_fa553210_44f6_11ea_b45c_0242ac1c0002row18_col0 {\n",
              "            background-color:  #dcffff;\n",
              "            color:  #000000;\n",
              "        }    #T_fa553210_44f6_11ea_b45c_0242ac1c0002row19_col0 {\n",
              "            background-color:  #e5ffff;\n",
              "            color:  #000000;\n",
              "        }</style><table id=\"T_fa553210_44f6_11ea_b45c_0242ac1c0002\" ><thead>    <tr>        <th class=\"blank level0\" ></th>        <th class=\"col_heading level0 col0\" >SalePrice</th>    </tr></thead><tbody>\n",
              "                <tr>\n",
              "                        <th id=\"T_fa553210_44f6_11ea_b45c_0242ac1c0002level0_row0\" class=\"row_heading level0 row0\" >SalePrice</th>\n",
              "                        <td id=\"T_fa553210_44f6_11ea_b45c_0242ac1c0002row0_col0\" class=\"data row0 col0\" >1</td>\n",
              "            </tr>\n",
              "            <tr>\n",
              "                        <th id=\"T_fa553210_44f6_11ea_b45c_0242ac1c0002level0_row1\" class=\"row_heading level0 row1\" >OverallQual</th>\n",
              "                        <td id=\"T_fa553210_44f6_11ea_b45c_0242ac1c0002row1_col0\" class=\"data row1 col0\" >0.790982</td>\n",
              "            </tr>\n",
              "            <tr>\n",
              "                        <th id=\"T_fa553210_44f6_11ea_b45c_0242ac1c0002level0_row2\" class=\"row_heading level0 row2\" >GrLivArea</th>\n",
              "                        <td id=\"T_fa553210_44f6_11ea_b45c_0242ac1c0002row2_col0\" class=\"data row2 col0\" >0.708624</td>\n",
              "            </tr>\n",
              "            <tr>\n",
              "                        <th id=\"T_fa553210_44f6_11ea_b45c_0242ac1c0002level0_row3\" class=\"row_heading level0 row3\" >GarageCars</th>\n",
              "                        <td id=\"T_fa553210_44f6_11ea_b45c_0242ac1c0002row3_col0\" class=\"data row3 col0\" >0.640409</td>\n",
              "            </tr>\n",
              "            <tr>\n",
              "                        <th id=\"T_fa553210_44f6_11ea_b45c_0242ac1c0002level0_row4\" class=\"row_heading level0 row4\" >GarageArea</th>\n",
              "                        <td id=\"T_fa553210_44f6_11ea_b45c_0242ac1c0002row4_col0\" class=\"data row4 col0\" >0.623431</td>\n",
              "            </tr>\n",
              "            <tr>\n",
              "                        <th id=\"T_fa553210_44f6_11ea_b45c_0242ac1c0002level0_row5\" class=\"row_heading level0 row5\" >TotalBsmtSF</th>\n",
              "                        <td id=\"T_fa553210_44f6_11ea_b45c_0242ac1c0002row5_col0\" class=\"data row5 col0\" >0.613581</td>\n",
              "            </tr>\n",
              "            <tr>\n",
              "                        <th id=\"T_fa553210_44f6_11ea_b45c_0242ac1c0002level0_row6\" class=\"row_heading level0 row6\" >1stFlrSF</th>\n",
              "                        <td id=\"T_fa553210_44f6_11ea_b45c_0242ac1c0002row6_col0\" class=\"data row6 col0\" >0.605852</td>\n",
              "            </tr>\n",
              "            <tr>\n",
              "                        <th id=\"T_fa553210_44f6_11ea_b45c_0242ac1c0002level0_row7\" class=\"row_heading level0 row7\" >FullBath</th>\n",
              "                        <td id=\"T_fa553210_44f6_11ea_b45c_0242ac1c0002row7_col0\" class=\"data row7 col0\" >0.560664</td>\n",
              "            </tr>\n",
              "            <tr>\n",
              "                        <th id=\"T_fa553210_44f6_11ea_b45c_0242ac1c0002level0_row8\" class=\"row_heading level0 row8\" >TotRmsAbvGrd</th>\n",
              "                        <td id=\"T_fa553210_44f6_11ea_b45c_0242ac1c0002row8_col0\" class=\"data row8 col0\" >0.533723</td>\n",
              "            </tr>\n",
              "            <tr>\n",
              "                        <th id=\"T_fa553210_44f6_11ea_b45c_0242ac1c0002level0_row9\" class=\"row_heading level0 row9\" >YearBuilt</th>\n",
              "                        <td id=\"T_fa553210_44f6_11ea_b45c_0242ac1c0002row9_col0\" class=\"data row9 col0\" >0.522897</td>\n",
              "            </tr>\n",
              "            <tr>\n",
              "                        <th id=\"T_fa553210_44f6_11ea_b45c_0242ac1c0002level0_row10\" class=\"row_heading level0 row10\" >YearRemodAdd</th>\n",
              "                        <td id=\"T_fa553210_44f6_11ea_b45c_0242ac1c0002row10_col0\" class=\"data row10 col0\" >0.507101</td>\n",
              "            </tr>\n",
              "            <tr>\n",
              "                        <th id=\"T_fa553210_44f6_11ea_b45c_0242ac1c0002level0_row11\" class=\"row_heading level0 row11\" >GarageYrBlt</th>\n",
              "                        <td id=\"T_fa553210_44f6_11ea_b45c_0242ac1c0002row11_col0\" class=\"data row11 col0\" >0.486362</td>\n",
              "            </tr>\n",
              "            <tr>\n",
              "                        <th id=\"T_fa553210_44f6_11ea_b45c_0242ac1c0002level0_row12\" class=\"row_heading level0 row12\" >MasVnrArea</th>\n",
              "                        <td id=\"T_fa553210_44f6_11ea_b45c_0242ac1c0002row12_col0\" class=\"data row12 col0\" >0.477493</td>\n",
              "            </tr>\n",
              "            <tr>\n",
              "                        <th id=\"T_fa553210_44f6_11ea_b45c_0242ac1c0002level0_row13\" class=\"row_heading level0 row13\" >Fireplaces</th>\n",
              "                        <td id=\"T_fa553210_44f6_11ea_b45c_0242ac1c0002row13_col0\" class=\"data row13 col0\" >0.466929</td>\n",
              "            </tr>\n",
              "            <tr>\n",
              "                        <th id=\"T_fa553210_44f6_11ea_b45c_0242ac1c0002level0_row14\" class=\"row_heading level0 row14\" >BsmtFinSF1</th>\n",
              "                        <td id=\"T_fa553210_44f6_11ea_b45c_0242ac1c0002row14_col0\" class=\"data row14 col0\" >0.38642</td>\n",
              "            </tr>\n",
              "            <tr>\n",
              "                        <th id=\"T_fa553210_44f6_11ea_b45c_0242ac1c0002level0_row15\" class=\"row_heading level0 row15\" >LotFrontage</th>\n",
              "                        <td id=\"T_fa553210_44f6_11ea_b45c_0242ac1c0002row15_col0\" class=\"data row15 col0\" >0.351799</td>\n",
              "            </tr>\n",
              "            <tr>\n",
              "                        <th id=\"T_fa553210_44f6_11ea_b45c_0242ac1c0002level0_row16\" class=\"row_heading level0 row16\" >WoodDeckSF</th>\n",
              "                        <td id=\"T_fa553210_44f6_11ea_b45c_0242ac1c0002row16_col0\" class=\"data row16 col0\" >0.324413</td>\n",
              "            </tr>\n",
              "            <tr>\n",
              "                        <th id=\"T_fa553210_44f6_11ea_b45c_0242ac1c0002level0_row17\" class=\"row_heading level0 row17\" >2ndFlrSF</th>\n",
              "                        <td id=\"T_fa553210_44f6_11ea_b45c_0242ac1c0002row17_col0\" class=\"data row17 col0\" >0.319334</td>\n",
              "            </tr>\n",
              "            <tr>\n",
              "                        <th id=\"T_fa553210_44f6_11ea_b45c_0242ac1c0002level0_row18\" class=\"row_heading level0 row18\" >OpenPorchSF</th>\n",
              "                        <td id=\"T_fa553210_44f6_11ea_b45c_0242ac1c0002row18_col0\" class=\"data row18 col0\" >0.315856</td>\n",
              "            </tr>\n",
              "            <tr>\n",
              "                        <th id=\"T_fa553210_44f6_11ea_b45c_0242ac1c0002level0_row19\" class=\"row_heading level0 row19\" >HalfBath</th>\n",
              "                        <td id=\"T_fa553210_44f6_11ea_b45c_0242ac1c0002row19_col0\" class=\"data row19 col0\" >0.284108</td>\n",
              "            </tr>\n",
              "    </tbody></table>"
            ],
            "text/plain": [
              "<pandas.io.formats.style.Styler at 0x7f369332c940>"
            ]
          },
          "metadata": {
            "tags": []
          },
          "execution_count": 8
        }
      ]
    },
    {
      "cell_type": "code",
      "metadata": {
        "id": "EnMIMy_pt2b1",
        "colab_type": "code",
        "outputId": "804dc7cb-abcd-4d6c-d589-339d6094e07b",
        "colab": {
          "base_uri": "https://localhost:8080/",
          "height": 394
        }
      },
      "source": [
        "plt.figure(figsize=(15,6))\n",
        "plt.scatter(x=a['GrLivArea'], y=a['SalePrice'], color='red', alpha=0.5)\n",
        "plt.show()"
      ],
      "execution_count": 0,
      "outputs": [
        {
          "output_type": "display_data",
          "data": {
            "image/png": "[encoded data removed]",
            "text/plain": [
              "<Figure size 1080x432 with 1 Axes>"
            ]
          },
          "metadata": {
            "tags": []
          }
        }
      ]
    },
    {
      "cell_type": "code",
      "metadata": {
        "id": "qvsvcOGmvWuv",
        "colab_type": "code",
        "outputId": "703ab8f8-36b2-4517-fffc-72592daba47c",
        "colab": {
          "base_uri": "https://localhost:8080/",
          "height": 319
        }
      },
      "source": [
        "plt.subplots(1,0,figsize = (15,3))\n",
        "a.isnull().mean().sort_values(ascending = False).plot.bar(color = 'blue')\n",
        "plt.title('Missing values average per columns in train data', fontsize = 20)\n",
        "plt.show()"
      ],
      "execution_count": 0,
      "outputs": [
        {
          "output_type": "display_data",
          "data": {
            "image/png": "[encoded data removed]",
            "text/plain": [
              "<Figure size 1080x216 with 1 Axes>"
            ]
          },
          "metadata": {
            "tags": []
          }
        }
      ]
    },
    {
      "cell_type": "code",
      "metadata": {
        "id": "nZVEGkv7v3FE",
        "colab_type": "code",
        "outputId": "456b3b36-2e25-4d10-862b-eaaf6acf8658",
        "colab": {
          "base_uri": "https://localhost:8080/",
          "height": 319
        }
      },
      "source": [
        "plt.subplots(1,0,figsize = (15,3))\n",
        "b.isnull().mean().sort_values(ascending = False).plot.bar(color = 'blue')\n",
        "plt.title('Missing values average per columns in test data', fontsize = 20)\n",
        "plt.show()"
      ],
      "execution_count": 0,
      "outputs": [
        {
          "output_type": "display_data",
          "data": {
            "image/png": "[encoded data removed]",
            "text/plain": [
              "<Figure size 1080x216 with 1 Axes>"
            ]
          },
          "metadata": {
            "tags": []
          }
        }
      ]
    },
    {
      "cell_type": "code",
      "metadata": {
        "id": "AfMsCLObv_Ml",
        "colab_type": "code",
        "outputId": "b1d536ee-3eda-4f2f-d8b8-0adf6def2045",
        "colab": {
          "base_uri": "https://localhost:8080/",
          "height": 35
        }
      },
      "source": [
        "na = a.shape[0]\n",
        "nb = b.shape[0]\n",
        "y_train = a['SalePrice'].to_frame()\n",
        "\n",
        "c1 = pd.concat((a, b), sort=False).reset_index(drop=True)\n",
        "\n",
        "\n",
        "c1.drop(['SalePrice'], axis=1, inplace=True)\n",
        "c1.drop(['Id'], axis=1, inplace=True)\n",
        "print(\"Total size is :\",c1.shape)"
      ],
      "execution_count": 0,
      "outputs": [
        {
          "output_type": "stream",
          "text": [
            "Total size is : (2919, 79)\n"
          ],
          "name": "stdout"
        }
      ]
    },
    {
      "cell_type": "code",
      "metadata": {
        "id": "ma3YjQy9xWp_",
        "colab_type": "code",
        "outputId": "94458183-8c58-468e-e304-5d9f4e8018bb",
        "colab": {
          "base_uri": "https://localhost:8080/",
          "height": 35
        }
      },
      "source": [
        "c=c1.dropna(thresh=len(c1)*0.9, axis=1)\n",
        "print('We dropped ',c1.shape[1]-c.shape[1], ' features in the combined set')\n",
        "\n",
        "#빈칸 많은것은 다 잘라내야 의미가 있음\n",
        "#0.9 밑으로 적재된 데이터는 모두 잘라냄 "
      ],
      "execution_count": 0,
      "outputs": [
        {
          "output_type": "stream",
          "text": [
            "We dropped  6  features in the combined set\n"
          ],
          "name": "stdout"
        }
      ]
    },
    {
      "cell_type": "code",
      "metadata": {
        "id": "Am6FtTObBm01",
        "colab_type": "code",
        "outputId": "19469ae7-9008-4f48-a067-e17572a3da7e",
        "colab": {
          "base_uri": "https://localhost:8080/",
          "height": 508
        }
      },
      "source": [
        "allna = (c.isnull().sum() / len(c))\n",
        "allna = allna.drop(allna[allna == 0].index).sort_values(ascending=False)\n",
        "plt.figure(figsize=(12, 8))\n",
        "allna.plot.barh(color='green')\n",
        "plt.title('Missing values per column', fontsize=25, weight='bold' )\n",
        "plt.show()\n",
        "#값이 없는 애들을 찾아서 채워줘야함 아까 많은 애들은 전부 잘라 냈고 적은 애들 기준으로 부족한건 채워줌 "
      ],
      "execution_count": 0,
      "outputs": [
        {
          "output_type": "display_data",
          "data": {
            "image/png": "[encoded data removed]",
            "text/plain": [
              "<Figure size 864x576 with 1 Axes>"
            ]
          },
          "metadata": {
            "tags": []
          }
        }
      ]
    },
    {
      "cell_type": "code",
      "metadata": {
        "id": "sDeAd8TFCDqO",
        "colab_type": "code",
        "outputId": "a9a08299-6a48-4dd9-c44a-685027b01aca",
        "colab": {
          "base_uri": "https://localhost:8080/",
          "height": 35
        }
      },
      "source": [
        "print('90%넘는거 잘라내고 난 나머지 : ',c.shape)"
      ],
      "execution_count": 0,
      "outputs": [
        {
          "output_type": "stream",
          "text": [
            "90%넘는거 잘라내고 난 나머지 :  (2919, 73)\n"
          ],
          "name": "stdout"
        }
      ]
    },
    {
      "cell_type": "code",
      "metadata": {
        "id": "BDvuGbzuCfsi",
        "colab_type": "code",
        "outputId": "1df9e7b6-bfdc-4f1c-a6c2-daa5f3ef4135",
        "colab": {
          "base_uri": "https://localhost:8080/",
          "height": 35
        }
      },
      "source": [
        "#빈칸인 애들 전부 찾기\n",
        "NA=c[['GarageType', 'GarageFinish', 'GarageQual', 'GarageCond','GarageYrBlt','BsmtFinType2','BsmtFinType1','BsmtCond', 'BsmtQual','BsmtExposure', 'MasVnrArea','MasVnrType','Electrical','MSZoning','BsmtFullBath','BsmtHalfBath','Utilities','Functional','Exterior1st','BsmtUnfSF','Exterior2nd','TotalBsmtSF','GarageArea','GarageCars','KitchenQual','BsmtFinSF2','BsmtFinSF1','SaleType']]\n",
        "print(len(NA))"
      ],
      "execution_count": 0,
      "outputs": [
        {
          "output_type": "stream",
          "text": [
            "2919\n"
          ],
          "name": "stdout"
        }
      ]
    },
    {
      "cell_type": "code",
      "metadata": {
        "id": "ap_VgJo6Cy1P",
        "colab_type": "code",
        "outputId": "f7aa68d6-65fa-42fa-a703-24143516b45f",
        "colab": {
          "base_uri": "https://localhost:8080/",
          "height": 53
        }
      },
      "source": [
        "#범주형과 범주형이 아닌 데이터들로 나눠서 처리\n",
        "NAcat=NA.select_dtypes(include='object')\n",
        "NAnum=NA.select_dtypes(exclude='object')\n",
        "\n",
        "print('We have :',NAcat.shape[1],'categorical miss val')\n",
        "print('We have :',NAnum.shape[1],'numerical miss val')"
      ],
      "execution_count": 0,
      "outputs": [
        {
          "output_type": "stream",
          "text": [
            "We have : 18 categorical miss val\n",
            "We have : 10 numerical miss val\n"
          ],
          "name": "stdout"
        }
      ]
    },
    {
      "cell_type": "code",
      "metadata": {
        "id": "TuiyyZFWC7J2",
        "colab_type": "code",
        "outputId": "d1e2d72e-cdb9-455a-a751-c185478184ce",
        "colab": {
          "base_uri": "https://localhost:8080/",
          "height": 224
        }
      },
      "source": [
        "NAnum.head()"
      ],
      "execution_count": 0,
      "outputs": [
        {
          "output_type": "execute_result",
          "data": {
            "text/html": [
              "<div>\n",
              "<style scoped>\n",
              "    .dataframe tbody tr th:only-of-type {\n",
              "        vertical-align: middle;\n",
              "    }\n",
              "\n",
              "    .dataframe tbody tr th {\n",
              "        vertical-align: top;\n",
              "    }\n",
              "\n",
              "    .dataframe thead th {\n",
              "        text-align: right;\n",
              "    }\n",
              "</style>\n",
              "<table border=\"1\" class=\"dataframe\">\n",
              "  <thead>\n",
              "    <tr style=\"text-align: right;\">\n",
              "      <th></th>\n",
              "      <th>GarageYrBlt</th>\n",
              "      <th>MasVnrArea</th>\n",
              "      <th>BsmtFullBath</th>\n",
              "      <th>BsmtHalfBath</th>\n",
              "      <th>BsmtUnfSF</th>\n",
              "      <th>TotalBsmtSF</th>\n",
              "      <th>GarageArea</th>\n",
              "      <th>GarageCars</th>\n",
              "      <th>BsmtFinSF2</th>\n",
              "      <th>BsmtFinSF1</th>\n",
              "    </tr>\n",
              "  </thead>\n",
              "  <tbody>\n",
              "    <tr>\n",
              "      <th>0</th>\n",
              "      <td>2003.0</td>\n",
              "      <td>196.0</td>\n",
              "      <td>1.0</td>\n",
              "      <td>0.0</td>\n",
              "      <td>150.0</td>\n",
              "      <td>856.0</td>\n",
              "      <td>548.0</td>\n",
              "      <td>2.0</td>\n",
              "      <td>0.0</td>\n",
              "      <td>706.0</td>\n",
              "    </tr>\n",
              "    <tr>\n",
              "      <th>1</th>\n",
              "      <td>1976.0</td>\n",
              "      <td>0.0</td>\n",
              "      <td>0.0</td>\n",
              "      <td>1.0</td>\n",
              "      <td>284.0</td>\n",
              "      <td>1262.0</td>\n",
              "      <td>460.0</td>\n",
              "      <td>2.0</td>\n",
              "      <td>0.0</td>\n",
              "      <td>978.0</td>\n",
              "    </tr>\n",
              "    <tr>\n",
              "      <th>2</th>\n",
              "      <td>2001.0</td>\n",
              "      <td>162.0</td>\n",
              "      <td>1.0</td>\n",
              "      <td>0.0</td>\n",
              "      <td>434.0</td>\n",
              "      <td>920.0</td>\n",
              "      <td>608.0</td>\n",
              "      <td>2.0</td>\n",
              "      <td>0.0</td>\n",
              "      <td>486.0</td>\n",
              "    </tr>\n",
              "    <tr>\n",
              "      <th>3</th>\n",
              "      <td>1998.0</td>\n",
              "      <td>0.0</td>\n",
              "      <td>1.0</td>\n",
              "      <td>0.0</td>\n",
              "      <td>540.0</td>\n",
              "      <td>756.0</td>\n",
              "      <td>642.0</td>\n",
              "      <td>3.0</td>\n",
              "      <td>0.0</td>\n",
              "      <td>216.0</td>\n",
              "    </tr>\n",
              "    <tr>\n",
              "      <th>4</th>\n",
              "      <td>2000.0</td>\n",
              "      <td>350.0</td>\n",
              "      <td>1.0</td>\n",
              "      <td>0.0</td>\n",
              "      <td>490.0</td>\n",
              "      <td>1145.0</td>\n",
              "      <td>836.0</td>\n",
              "      <td>3.0</td>\n",
              "      <td>0.0</td>\n",
              "      <td>655.0</td>\n",
              "    </tr>\n",
              "  </tbody>\n",
              "</table>\n",
              "</div>"
            ],
            "text/plain": [
              "   GarageYrBlt  MasVnrArea  BsmtFullBath  ...  GarageCars  BsmtFinSF2  BsmtFinSF1\n",
              "0       2003.0       196.0           1.0  ...         2.0         0.0       706.0\n",
              "1       1976.0         0.0           0.0  ...         2.0         0.0       978.0\n",
              "2       2001.0       162.0           1.0  ...         2.0         0.0       486.0\n",
              "3       1998.0         0.0           1.0  ...         3.0         0.0       216.0\n",
              "4       2000.0       350.0           1.0  ...         3.0         0.0       655.0\n",
              "\n",
              "[5 rows x 10 columns]"
            ]
          },
          "metadata": {
            "tags": []
          },
          "execution_count": 18
        }
      ]
    },
    {
      "cell_type": "code",
      "metadata": {
        "id": "RZlR3XW1Te6R",
        "colab_type": "code",
        "outputId": "53475b44-8722-45b9-af9e-943f11a50672",
        "colab": {
          "base_uri": "https://localhost:8080/",
          "height": 145
        }
      },
      "source": [
        "#MasVnrArea = 석조 바닥을 의미함 없는 값은 0 을 넣어도 무방 하므로 fillna 에 0\n",
        "c['MasVnrArea']=c['MasVnrArea'].fillna(0)"
      ],
      "execution_count": 0,
      "outputs": [
        {
          "output_type": "stream",
          "text": [
            "/usr/local/lib/python3.6/dist-packages/ipykernel_launcher.py:1: SettingWithCopyWarning: \n",
            "A value is trying to be set on a copy of a slice from a DataFrame.\n",
            "Try using .loc[row_indexer,col_indexer] = value instead\n",
            "\n",
            "See the caveats in the documentation: http://pandas.pydata.org/pandas-docs/stable/user_guide/indexing.html#returning-a-view-versus-a-copy\n",
            "  \"\"\"Entry point for launching an IPython kernel.\n"
          ],
          "name": "stderr"
        }
      ]
    },
    {
      "cell_type": "code",
      "metadata": {
        "id": "FD-y8GlZT07i",
        "colab_type": "code",
        "outputId": "34dde3ca-f903-468b-9a63-ec4d0869da6b",
        "colab": {
          "base_uri": "https://localhost:8080/",
          "height": 145
        }
      },
      "source": [
        "c['GarageYrBlt']=c[\"GarageYrBlt\"].fillna(1980)"
      ],
      "execution_count": 0,
      "outputs": [
        {
          "output_type": "stream",
          "text": [
            "/usr/local/lib/python3.6/dist-packages/ipykernel_launcher.py:1: SettingWithCopyWarning: \n",
            "A value is trying to be set on a copy of a slice from a DataFrame.\n",
            "Try using .loc[row_indexer,col_indexer] = value instead\n",
            "\n",
            "See the caveats in the documentation: http://pandas.pydata.org/pandas-docs/stable/user_guide/indexing.html#returning-a-view-versus-a-copy\n",
            "  \"\"\"Entry point for launching an IPython kernel.\n"
          ],
          "name": "stderr"
        }
      ]
    },
    {
      "cell_type": "code",
      "metadata": {
        "id": "YlO6RGgGUDnf",
        "colab_type": "code",
        "outputId": "e3ebdbae-6290-42ca-8cb3-92d13eb0fa22",
        "colab": {
          "base_uri": "https://localhost:8080/",
          "height": 1000
        }
      },
      "source": [
        "c.info()"
      ],
      "execution_count": 0,
      "outputs": [
        {
          "output_type": "stream",
          "text": [
            "<class 'pandas.core.frame.DataFrame'>\n",
            "RangeIndex: 2919 entries, 0 to 2918\n",
            "Data columns (total 73 columns):\n",
            "MSSubClass       2919 non-null int64\n",
            "MSZoning         2915 non-null object\n",
            "LotArea          2919 non-null int64\n",
            "Street           2919 non-null object\n",
            "LotShape         2919 non-null object\n",
            "LandContour      2919 non-null object\n",
            "Utilities        2917 non-null object\n",
            "LotConfig        2919 non-null object\n",
            "LandSlope        2919 non-null object\n",
            "Neighborhood     2919 non-null object\n",
            "Condition1       2919 non-null object\n",
            "Condition2       2919 non-null object\n",
            "BldgType         2919 non-null object\n",
            "HouseStyle       2919 non-null object\n",
            "OverallQual      2919 non-null int64\n",
            "OverallCond      2919 non-null int64\n",
            "YearBuilt        2919 non-null int64\n",
            "YearRemodAdd     2919 non-null int64\n",
            "RoofStyle        2919 non-null object\n",
            "RoofMatl         2919 non-null object\n",
            "Exterior1st      2918 non-null object\n",
            "Exterior2nd      2918 non-null object\n",
            "MasVnrType       2895 non-null object\n",
            "MasVnrArea       2919 non-null float64\n",
            "ExterQual        2919 non-null object\n",
            "ExterCond        2919 non-null object\n",
            "Foundation       2919 non-null object\n",
            "BsmtQual         2838 non-null object\n",
            "BsmtCond         2837 non-null object\n",
            "BsmtExposure     2837 non-null object\n",
            "BsmtFinType1     2840 non-null object\n",
            "BsmtFinSF1       2918 non-null float64\n",
            "BsmtFinType2     2839 non-null object\n",
            "BsmtFinSF2       2918 non-null float64\n",
            "BsmtUnfSF        2918 non-null float64\n",
            "TotalBsmtSF      2918 non-null float64\n",
            "Heating          2919 non-null object\n",
            "HeatingQC        2919 non-null object\n",
            "CentralAir       2919 non-null object\n",
            "Electrical       2918 non-null object\n",
            "1stFlrSF         2919 non-null int64\n",
            "2ndFlrSF         2919 non-null int64\n",
            "LowQualFinSF     2919 non-null int64\n",
            "GrLivArea        2919 non-null int64\n",
            "BsmtFullBath     2917 non-null float64\n",
            "BsmtHalfBath     2917 non-null float64\n",
            "FullBath         2919 non-null int64\n",
            "HalfBath         2919 non-null int64\n",
            "BedroomAbvGr     2919 non-null int64\n",
            "KitchenAbvGr     2919 non-null int64\n",
            "KitchenQual      2918 non-null object\n",
            "TotRmsAbvGrd     2919 non-null int64\n",
            "Functional       2917 non-null object\n",
            "Fireplaces       2919 non-null int64\n",
            "GarageType       2762 non-null object\n",
            "GarageYrBlt      2919 non-null float64\n",
            "GarageFinish     2760 non-null object\n",
            "GarageCars       2918 non-null float64\n",
            "GarageArea       2918 non-null float64\n",
            "GarageQual       2760 non-null object\n",
            "GarageCond       2760 non-null object\n",
            "PavedDrive       2919 non-null object\n",
            "WoodDeckSF       2919 non-null int64\n",
            "OpenPorchSF      2919 non-null int64\n",
            "EnclosedPorch    2919 non-null int64\n",
            "3SsnPorch        2919 non-null int64\n",
            "ScreenPorch      2919 non-null int64\n",
            "PoolArea         2919 non-null int64\n",
            "MiscVal          2919 non-null int64\n",
            "MoSold           2919 non-null int64\n",
            "YrSold           2919 non-null int64\n",
            "SaleType         2918 non-null object\n",
            "SaleCondition    2919 non-null object\n",
            "dtypes: float64(10), int64(25), object(38)\n",
            "memory usage: 1.6+ MB\n"
          ],
          "name": "stdout"
        }
      ]
    },
    {
      "cell_type": "code",
      "metadata": {
        "id": "4Vu3pRLwUPlH",
        "colab_type": "code",
        "outputId": "d5e11bdb-8ee0-4c4e-ba26-b8d03b7a5d8d",
        "colab": {
          "base_uri": "https://localhost:8080/",
          "height": 224
        }
      },
      "source": [
        "NAcat.head()"
      ],
      "execution_count": 0,
      "outputs": [
        {
          "output_type": "execute_result",
          "data": {
            "text/html": [
              "<div>\n",
              "<style scoped>\n",
              "    .dataframe tbody tr th:only-of-type {\n",
              "        vertical-align: middle;\n",
              "    }\n",
              "\n",
              "    .dataframe tbody tr th {\n",
              "        vertical-align: top;\n",
              "    }\n",
              "\n",
              "    .dataframe thead th {\n",
              "        text-align: right;\n",
              "    }\n",
              "</style>\n",
              "<table border=\"1\" class=\"dataframe\">\n",
              "  <thead>\n",
              "    <tr style=\"text-align: right;\">\n",
              "      <th></th>\n",
              "      <th>GarageType</th>\n",
              "      <th>GarageFinish</th>\n",
              "      <th>GarageQual</th>\n",
              "      <th>GarageCond</th>\n",
              "      <th>BsmtFinType2</th>\n",
              "      <th>BsmtFinType1</th>\n",
              "      <th>BsmtCond</th>\n",
              "      <th>BsmtQual</th>\n",
              "      <th>BsmtExposure</th>\n",
              "      <th>MasVnrType</th>\n",
              "      <th>Electrical</th>\n",
              "      <th>MSZoning</th>\n",
              "      <th>Utilities</th>\n",
              "      <th>Functional</th>\n",
              "      <th>Exterior1st</th>\n",
              "      <th>Exterior2nd</th>\n",
              "      <th>KitchenQual</th>\n",
              "      <th>SaleType</th>\n",
              "    </tr>\n",
              "  </thead>\n",
              "  <tbody>\n",
              "    <tr>\n",
              "      <th>0</th>\n",
              "      <td>Attchd</td>\n",
              "      <td>RFn</td>\n",
              "      <td>TA</td>\n",
              "      <td>TA</td>\n",
              "      <td>Unf</td>\n",
              "      <td>GLQ</td>\n",
              "      <td>TA</td>\n",
              "      <td>Gd</td>\n",
              "      <td>No</td>\n",
              "      <td>BrkFace</td>\n",
              "      <td>SBrkr</td>\n",
              "      <td>RL</td>\n",
              "      <td>AllPub</td>\n",
              "      <td>Typ</td>\n",
              "      <td>VinylSd</td>\n",
              "      <td>VinylSd</td>\n",
              "      <td>Gd</td>\n",
              "      <td>WD</td>\n",
              "    </tr>\n",
              "    <tr>\n",
              "      <th>1</th>\n",
              "      <td>Attchd</td>\n",
              "      <td>RFn</td>\n",
              "      <td>TA</td>\n",
              "      <td>TA</td>\n",
              "      <td>Unf</td>\n",
              "      <td>ALQ</td>\n",
              "      <td>TA</td>\n",
              "      <td>Gd</td>\n",
              "      <td>Gd</td>\n",
              "      <td>None</td>\n",
              "      <td>SBrkr</td>\n",
              "      <td>RL</td>\n",
              "      <td>AllPub</td>\n",
              "      <td>Typ</td>\n",
              "      <td>MetalSd</td>\n",
              "      <td>MetalSd</td>\n",
              "      <td>TA</td>\n",
              "      <td>WD</td>\n",
              "    </tr>\n",
              "    <tr>\n",
              "      <th>2</th>\n",
              "      <td>Attchd</td>\n",
              "      <td>RFn</td>\n",
              "      <td>TA</td>\n",
              "      <td>TA</td>\n",
              "      <td>Unf</td>\n",
              "      <td>GLQ</td>\n",
              "      <td>TA</td>\n",
              "      <td>Gd</td>\n",
              "      <td>Mn</td>\n",
              "      <td>BrkFace</td>\n",
              "      <td>SBrkr</td>\n",
              "      <td>RL</td>\n",
              "      <td>AllPub</td>\n",
              "      <td>Typ</td>\n",
              "      <td>VinylSd</td>\n",
              "      <td>VinylSd</td>\n",
              "      <td>Gd</td>\n",
              "      <td>WD</td>\n",
              "    </tr>\n",
              "    <tr>\n",
              "      <th>3</th>\n",
              "      <td>Detchd</td>\n",
              "      <td>Unf</td>\n",
              "      <td>TA</td>\n",
              "      <td>TA</td>\n",
              "      <td>Unf</td>\n",
              "      <td>ALQ</td>\n",
              "      <td>Gd</td>\n",
              "      <td>TA</td>\n",
              "      <td>No</td>\n",
              "      <td>None</td>\n",
              "      <td>SBrkr</td>\n",
              "      <td>RL</td>\n",
              "      <td>AllPub</td>\n",
              "      <td>Typ</td>\n",
              "      <td>Wd Sdng</td>\n",
              "      <td>Wd Shng</td>\n",
              "      <td>Gd</td>\n",
              "      <td>WD</td>\n",
              "    </tr>\n",
              "    <tr>\n",
              "      <th>4</th>\n",
              "      <td>Attchd</td>\n",
              "      <td>RFn</td>\n",
              "      <td>TA</td>\n",
              "      <td>TA</td>\n",
              "      <td>Unf</td>\n",
              "      <td>GLQ</td>\n",
              "      <td>TA</td>\n",
              "      <td>Gd</td>\n",
              "      <td>Av</td>\n",
              "      <td>BrkFace</td>\n",
              "      <td>SBrkr</td>\n",
              "      <td>RL</td>\n",
              "      <td>AllPub</td>\n",
              "      <td>Typ</td>\n",
              "      <td>VinylSd</td>\n",
              "      <td>VinylSd</td>\n",
              "      <td>Gd</td>\n",
              "      <td>WD</td>\n",
              "    </tr>\n",
              "  </tbody>\n",
              "</table>\n",
              "</div>"
            ],
            "text/plain": [
              "  GarageType GarageFinish GarageQual  ... Exterior2nd KitchenQual SaleType\n",
              "0     Attchd          RFn         TA  ...     VinylSd          Gd       WD\n",
              "1     Attchd          RFn         TA  ...     MetalSd          TA       WD\n",
              "2     Attchd          RFn         TA  ...     VinylSd          Gd       WD\n",
              "3     Detchd          Unf         TA  ...     Wd Shng          Gd       WD\n",
              "4     Attchd          RFn         TA  ...     VinylSd          Gd       WD\n",
              "\n",
              "[5 rows x 18 columns]"
            ]
          },
          "metadata": {
            "tags": []
          },
          "execution_count": 22
        }
      ]
    },
    {
      "cell_type": "code",
      "metadata": {
        "id": "qiDsvW2z5IKN",
        "colab_type": "code",
        "outputId": "3b926330-233f-4ff6-b1af-7979d0a14d73",
        "colab": {
          "base_uri": "https://localhost:8080/",
          "height": 100
        }
      },
      "source": [
        "NAcat1= NAcat.isnull().sum().to_frame().sort_values(by=[0]).T\n",
        "NAcat1\n",
        "#빈칸 개수 세보고 적절한 값을 찾아보기 "
      ],
      "execution_count": 0,
      "outputs": [
        {
          "output_type": "execute_result",
          "data": {
            "text/html": [
              "<div>\n",
              "<style scoped>\n",
              "    .dataframe tbody tr th:only-of-type {\n",
              "        vertical-align: middle;\n",
              "    }\n",
              "\n",
              "    .dataframe tbody tr th {\n",
              "        vertical-align: top;\n",
              "    }\n",
              "\n",
              "    .dataframe thead th {\n",
              "        text-align: right;\n",
              "    }\n",
              "</style>\n",
              "<table border=\"1\" class=\"dataframe\">\n",
              "  <thead>\n",
              "    <tr style=\"text-align: right;\">\n",
              "      <th></th>\n",
              "      <th>SaleType</th>\n",
              "      <th>Exterior2nd</th>\n",
              "      <th>Exterior1st</th>\n",
              "      <th>KitchenQual</th>\n",
              "      <th>Electrical</th>\n",
              "      <th>Functional</th>\n",
              "      <th>Utilities</th>\n",
              "      <th>MSZoning</th>\n",
              "      <th>MasVnrType</th>\n",
              "      <th>BsmtFinType1</th>\n",
              "      <th>BsmtFinType2</th>\n",
              "      <th>BsmtQual</th>\n",
              "      <th>BsmtExposure</th>\n",
              "      <th>BsmtCond</th>\n",
              "      <th>GarageType</th>\n",
              "      <th>GarageCond</th>\n",
              "      <th>GarageQual</th>\n",
              "      <th>GarageFinish</th>\n",
              "    </tr>\n",
              "  </thead>\n",
              "  <tbody>\n",
              "    <tr>\n",
              "      <th>0</th>\n",
              "      <td>1</td>\n",
              "      <td>1</td>\n",
              "      <td>1</td>\n",
              "      <td>1</td>\n",
              "      <td>1</td>\n",
              "      <td>2</td>\n",
              "      <td>2</td>\n",
              "      <td>4</td>\n",
              "      <td>24</td>\n",
              "      <td>79</td>\n",
              "      <td>80</td>\n",
              "      <td>81</td>\n",
              "      <td>82</td>\n",
              "      <td>82</td>\n",
              "      <td>157</td>\n",
              "      <td>159</td>\n",
              "      <td>159</td>\n",
              "      <td>159</td>\n",
              "    </tr>\n",
              "  </tbody>\n",
              "</table>\n",
              "</div>"
            ],
            "text/plain": [
              "   SaleType  Exterior2nd  Exterior1st  ...  GarageCond  GarageQual  GarageFinish\n",
              "0         1            1            1  ...         159         159           159\n",
              "\n",
              "[1 rows x 18 columns]"
            ]
          },
          "metadata": {
            "tags": []
          },
          "execution_count": 23
        }
      ]
    },
    {
      "cell_type": "code",
      "metadata": {
        "id": "CXvg4_9m5Tlx",
        "colab_type": "code",
        "outputId": "76aabc09-6ed9-4801-b19a-2184e78c0887",
        "colab": {
          "base_uri": "https://localhost:8080/",
          "height": 901
        }
      },
      "source": [
        "c['Electrical']=c['Electrical'].fillna(method='ffill')\n",
        "c['SaleType']=c['SaleType'].fillna(method='ffill')\n",
        "c['KitchenQual']=c['KitchenQual'].fillna(method='ffill')\n",
        "c['Exterior1st']=c['Exterior1st'].fillna(method='ffill')\n",
        "c['Exterior2nd']=c['Exterior2nd'].fillna(method='ffill')\n",
        "c['Functional']=c['Functional'].fillna(method='ffill')\n",
        "c['Utilities']=c['Utilities'].fillna(method='ffill')\n",
        "c['MSZoning']=c['MSZoning'].fillna(method='ffill')\n",
        "#foward fill 로 데이터 채우기 "
      ],
      "execution_count": 0,
      "outputs": [
        {
          "output_type": "stream",
          "text": [
            "/usr/local/lib/python3.6/dist-packages/ipykernel_launcher.py:1: SettingWithCopyWarning: \n",
            "A value is trying to be set on a copy of a slice from a DataFrame.\n",
            "Try using .loc[row_indexer,col_indexer] = value instead\n",
            "\n",
            "See the caveats in the documentation: http://pandas.pydata.org/pandas-docs/stable/user_guide/indexing.html#returning-a-view-versus-a-copy\n",
            "  \"\"\"Entry point for launching an IPython kernel.\n",
            "/usr/local/lib/python3.6/dist-packages/ipykernel_launcher.py:2: SettingWithCopyWarning: \n",
            "A value is trying to be set on a copy of a slice from a DataFrame.\n",
            "Try using .loc[row_indexer,col_indexer] = value instead\n",
            "\n",
            "See the caveats in the documentation: http://pandas.pydata.org/pandas-docs/stable/user_guide/indexing.html#returning-a-view-versus-a-copy\n",
            "  \n",
            "/usr/local/lib/python3.6/dist-packages/ipykernel_launcher.py:3: SettingWithCopyWarning: \n",
            "A value is trying to be set on a copy of a slice from a DataFrame.\n",
            "Try using .loc[row_indexer,col_indexer] = value instead\n",
            "\n",
            "See the caveats in the documentation: http://pandas.pydata.org/pandas-docs/stable/user_guide/indexing.html#returning-a-view-versus-a-copy\n",
            "  This is separate from the ipykernel package so we can avoid doing imports until\n",
            "/usr/local/lib/python3.6/dist-packages/ipykernel_launcher.py:4: SettingWithCopyWarning: \n",
            "A value is trying to be set on a copy of a slice from a DataFrame.\n",
            "Try using .loc[row_indexer,col_indexer] = value instead\n",
            "\n",
            "See the caveats in the documentation: http://pandas.pydata.org/pandas-docs/stable/user_guide/indexing.html#returning-a-view-versus-a-copy\n",
            "  after removing the cwd from sys.path.\n",
            "/usr/local/lib/python3.6/dist-packages/ipykernel_launcher.py:5: SettingWithCopyWarning: \n",
            "A value is trying to be set on a copy of a slice from a DataFrame.\n",
            "Try using .loc[row_indexer,col_indexer] = value instead\n",
            "\n",
            "See the caveats in the documentation: http://pandas.pydata.org/pandas-docs/stable/user_guide/indexing.html#returning-a-view-versus-a-copy\n",
            "  \"\"\"\n",
            "/usr/local/lib/python3.6/dist-packages/ipykernel_launcher.py:6: SettingWithCopyWarning: \n",
            "A value is trying to be set on a copy of a slice from a DataFrame.\n",
            "Try using .loc[row_indexer,col_indexer] = value instead\n",
            "\n",
            "See the caveats in the documentation: http://pandas.pydata.org/pandas-docs/stable/user_guide/indexing.html#returning-a-view-versus-a-copy\n",
            "  \n",
            "/usr/local/lib/python3.6/dist-packages/ipykernel_launcher.py:7: SettingWithCopyWarning: \n",
            "A value is trying to be set on a copy of a slice from a DataFrame.\n",
            "Try using .loc[row_indexer,col_indexer] = value instead\n",
            "\n",
            "See the caveats in the documentation: http://pandas.pydata.org/pandas-docs/stable/user_guide/indexing.html#returning-a-view-versus-a-copy\n",
            "  import sys\n",
            "/usr/local/lib/python3.6/dist-packages/ipykernel_launcher.py:8: SettingWithCopyWarning: \n",
            "A value is trying to be set on a copy of a slice from a DataFrame.\n",
            "Try using .loc[row_indexer,col_indexer] = value instead\n",
            "\n",
            "See the caveats in the documentation: http://pandas.pydata.org/pandas-docs/stable/user_guide/indexing.html#returning-a-view-versus-a-copy\n",
            "  \n"
          ],
          "name": "stderr"
        }
      ]
    },
    {
      "cell_type": "code",
      "metadata": {
        "id": "zsv3RP6U7B3m",
        "colab_type": "code",
        "outputId": "0da37633-5a63-4a33-c24f-65a44bcd1b6b",
        "colab": {
          "base_uri": "https://localhost:8080/",
          "height": 1000
        }
      },
      "source": [
        "c.info()"
      ],
      "execution_count": 0,
      "outputs": [
        {
          "output_type": "stream",
          "text": [
            "<class 'pandas.core.frame.DataFrame'>\n",
            "RangeIndex: 2919 entries, 0 to 2918\n",
            "Data columns (total 73 columns):\n",
            "MSSubClass       2919 non-null int64\n",
            "MSZoning         2919 non-null object\n",
            "LotArea          2919 non-null int64\n",
            "Street           2919 non-null object\n",
            "LotShape         2919 non-null object\n",
            "LandContour      2919 non-null object\n",
            "Utilities        2919 non-null object\n",
            "LotConfig        2919 non-null object\n",
            "LandSlope        2919 non-null object\n",
            "Neighborhood     2919 non-null object\n",
            "Condition1       2919 non-null object\n",
            "Condition2       2919 non-null object\n",
            "BldgType         2919 non-null object\n",
            "HouseStyle       2919 non-null object\n",
            "OverallQual      2919 non-null int64\n",
            "OverallCond      2919 non-null int64\n",
            "YearBuilt        2919 non-null int64\n",
            "YearRemodAdd     2919 non-null int64\n",
            "RoofStyle        2919 non-null object\n",
            "RoofMatl         2919 non-null object\n",
            "Exterior1st      2919 non-null object\n",
            "Exterior2nd      2919 non-null object\n",
            "MasVnrType       2895 non-null object\n",
            "MasVnrArea       2919 non-null float64\n",
            "ExterQual        2919 non-null object\n",
            "ExterCond        2919 non-null object\n",
            "Foundation       2919 non-null object\n",
            "BsmtQual         2838 non-null object\n",
            "BsmtCond         2837 non-null object\n",
            "BsmtExposure     2837 non-null object\n",
            "BsmtFinType1     2840 non-null object\n",
            "BsmtFinSF1       2918 non-null float64\n",
            "BsmtFinType2     2839 non-null object\n",
            "BsmtFinSF2       2918 non-null float64\n",
            "BsmtUnfSF        2918 non-null float64\n",
            "TotalBsmtSF      2918 non-null float64\n",
            "Heating          2919 non-null object\n",
            "HeatingQC        2919 non-null object\n",
            "CentralAir       2919 non-null object\n",
            "Electrical       2919 non-null object\n",
            "1stFlrSF         2919 non-null int64\n",
            "2ndFlrSF         2919 non-null int64\n",
            "LowQualFinSF     2919 non-null int64\n",
            "GrLivArea        2919 non-null int64\n",
            "BsmtFullBath     2917 non-null float64\n",
            "BsmtHalfBath     2917 non-null float64\n",
            "FullBath         2919 non-null int64\n",
            "HalfBath         2919 non-null int64\n",
            "BedroomAbvGr     2919 non-null int64\n",
            "KitchenAbvGr     2919 non-null int64\n",
            "KitchenQual      2919 non-null object\n",
            "TotRmsAbvGrd     2919 non-null int64\n",
            "Functional       2919 non-null object\n",
            "Fireplaces       2919 non-null int64\n",
            "GarageType       2762 non-null object\n",
            "GarageYrBlt      2919 non-null float64\n",
            "GarageFinish     2760 non-null object\n",
            "GarageCars       2918 non-null float64\n",
            "GarageArea       2918 non-null float64\n",
            "GarageQual       2760 non-null object\n",
            "GarageCond       2760 non-null object\n",
            "PavedDrive       2919 non-null object\n",
            "WoodDeckSF       2919 non-null int64\n",
            "OpenPorchSF      2919 non-null int64\n",
            "EnclosedPorch    2919 non-null int64\n",
            "3SsnPorch        2919 non-null int64\n",
            "ScreenPorch      2919 non-null int64\n",
            "PoolArea         2919 non-null int64\n",
            "MiscVal          2919 non-null int64\n",
            "MoSold           2919 non-null int64\n",
            "YrSold           2919 non-null int64\n",
            "SaleType         2919 non-null object\n",
            "SaleCondition    2919 non-null object\n",
            "dtypes: float64(10), int64(25), object(38)\n",
            "memory usage: 1.6+ MB\n"
          ],
          "name": "stdout"
        }
      ]
    },
    {
      "cell_type": "code",
      "metadata": {
        "id": "IJhvQCie7Jjm",
        "colab_type": "code",
        "outputId": "1d42d5c7-a6b4-4ed2-b5dd-2a212717a976",
        "colab": {
          "base_uri": "https://localhost:8080/",
          "height": 145
        }
      },
      "source": [
        "NAcols=c.columns\n",
        "for col in NAcols:\n",
        "    if c[col].dtype == \"object\":\n",
        "        c[col] = c[col].fillna(\"Miss\")\n",
        "#범주형에는 miss를 넣고 "
      ],
      "execution_count": 0,
      "outputs": [
        {
          "output_type": "stream",
          "text": [
            "/usr/local/lib/python3.6/dist-packages/ipykernel_launcher.py:4: SettingWithCopyWarning: \n",
            "A value is trying to be set on a copy of a slice from a DataFrame.\n",
            "Try using .loc[row_indexer,col_indexer] = value instead\n",
            "\n",
            "See the caveats in the documentation: http://pandas.pydata.org/pandas-docs/stable/user_guide/indexing.html#returning-a-view-versus-a-copy\n",
            "  after removing the cwd from sys.path.\n"
          ],
          "name": "stderr"
        }
      ]
    },
    {
      "cell_type": "code",
      "metadata": {
        "id": "L859Anrv7ecV",
        "colab_type": "code",
        "outputId": "8dbdf273-1e26-4794-b541-c9c6b40f724b",
        "colab": {
          "base_uri": "https://localhost:8080/",
          "height": 145
        }
      },
      "source": [
        "for col in NAcols:\n",
        "    if c[col].dtype != \"object\":\n",
        "        c[col]= c[col].fillna(0)\n",
        "#빈칸에는 0 을 넣자\n",
        "\n",
        "#차고연도 처럼 연속된 숫자인데 차고가 없을수 있음 해당 값은 0이 들어가야 맞고 \n",
        "#풀 욕실의 유무와 같은 피쳐 들도 결국에는 없는것이므로 miss를 넣어서 빈칸을 채우는 것이 맞음 "
      ],
      "execution_count": 0,
      "outputs": [
        {
          "output_type": "stream",
          "text": [
            "/usr/local/lib/python3.6/dist-packages/ipykernel_launcher.py:3: SettingWithCopyWarning: \n",
            "A value is trying to be set on a copy of a slice from a DataFrame.\n",
            "Try using .loc[row_indexer,col_indexer] = value instead\n",
            "\n",
            "See the caveats in the documentation: http://pandas.pydata.org/pandas-docs/stable/user_guide/indexing.html#returning-a-view-versus-a-copy\n",
            "  This is separate from the ipykernel package so we can avoid doing imports until\n"
          ],
          "name": "stderr"
        }
      ]
    },
    {
      "cell_type": "code",
      "metadata": {
        "id": "gxMkmdk07gn0",
        "colab_type": "code",
        "outputId": "0ccc28de-3ca8-4409-96c0-2abab9078a42",
        "colab": {
          "base_uri": "https://localhost:8080/",
          "height": 125
        }
      },
      "source": [
        "c.isnull().sum().sort_values(ascending=False).head()\n",
        "#모든 칸을 다 채움"
      ],
      "execution_count": 0,
      "outputs": [
        {
          "output_type": "execute_result",
          "data": {
            "text/plain": [
              "SaleCondition    0\n",
              "TotalBsmtSF      0\n",
              "RoofMatl         0\n",
              "Exterior1st      0\n",
              "Exterior2nd      0\n",
              "dtype: int64"
            ]
          },
          "metadata": {
            "tags": []
          },
          "execution_count": 28
        }
      ]
    },
    {
      "cell_type": "code",
      "metadata": {
        "id": "Aamld2jo8kzY",
        "colab_type": "code",
        "outputId": "e97d29f9-1098-42e3-ac5d-ed88d25023ad",
        "colab": {
          "base_uri": "https://localhost:8080/",
          "height": 361
        }
      },
      "source": [
        "# 두개로 나눠진 피처는 하나로 합치는것이 좋음\n",
        "#파생변수를 많이 만든다고 해서 좋은것이 아님 \n",
        "#적절한 데이터를 선별해서 넣어두고 영향을 갖는것만 선별하는것이 옳음\n",
        "c['TotalArea'] = c['TotalBsmtSF'] + c['1stFlrSF'] + c['2ndFlrSF'] + c['GrLivArea'] +c['GarageArea']\n",
        "\n",
        "c['Bathrooms'] = c['FullBath'] + c['HalfBath']*0.5 \n",
        "\n",
        "c['Year average']= (c['YearRemodAdd']+c['YearBuilt'])/2"
      ],
      "execution_count": 0,
      "outputs": [
        {
          "output_type": "stream",
          "text": [
            "/usr/local/lib/python3.6/dist-packages/ipykernel_launcher.py:1: SettingWithCopyWarning: \n",
            "A value is trying to be set on a copy of a slice from a DataFrame.\n",
            "Try using .loc[row_indexer,col_indexer] = value instead\n",
            "\n",
            "See the caveats in the documentation: http://pandas.pydata.org/pandas-docs/stable/user_guide/indexing.html#returning-a-view-versus-a-copy\n",
            "  \"\"\"Entry point for launching an IPython kernel.\n",
            "/usr/local/lib/python3.6/dist-packages/ipykernel_launcher.py:3: SettingWithCopyWarning: \n",
            "A value is trying to be set on a copy of a slice from a DataFrame.\n",
            "Try using .loc[row_indexer,col_indexer] = value instead\n",
            "\n",
            "See the caveats in the documentation: http://pandas.pydata.org/pandas-docs/stable/user_guide/indexing.html#returning-a-view-versus-a-copy\n",
            "  This is separate from the ipykernel package so we can avoid doing imports until\n",
            "/usr/local/lib/python3.6/dist-packages/ipykernel_launcher.py:5: SettingWithCopyWarning: \n",
            "A value is trying to be set on a copy of a slice from a DataFrame.\n",
            "Try using .loc[row_indexer,col_indexer] = value instead\n",
            "\n",
            "See the caveats in the documentation: http://pandas.pydata.org/pandas-docs/stable/user_guide/indexing.html#returning-a-view-versus-a-copy\n",
            "  \"\"\"\n"
          ],
          "name": "stderr"
        }
      ]
    },
    {
      "cell_type": "code",
      "metadata": {
        "id": "7TDBXXvc9ApN",
        "colab_type": "code",
        "outputId": "92852fd0-7c89-41c4-fcee-5c9d4d8ee29d",
        "colab": {
          "base_uri": "https://localhost:8080/",
          "height": 361
        }
      },
      "source": [
        "#실제로 범주형인 애들을 int에서 str으로 바꿈 \n",
        "#월은 실제로 12월이 범주임 \n",
        "c['MoSold'] = c['MoSold'].astype(str)\n",
        "c['MSSubClass'] = c['MSSubClass'].apply(str)\n",
        "c['YrSold'] = c['YrSold'].astype(str)"
      ],
      "execution_count": 0,
      "outputs": [
        {
          "output_type": "stream",
          "text": [
            "/usr/local/lib/python3.6/dist-packages/ipykernel_launcher.py:1: SettingWithCopyWarning: \n",
            "A value is trying to be set on a copy of a slice from a DataFrame.\n",
            "Try using .loc[row_indexer,col_indexer] = value instead\n",
            "\n",
            "See the caveats in the documentation: http://pandas.pydata.org/pandas-docs/stable/user_guide/indexing.html#returning-a-view-versus-a-copy\n",
            "  \"\"\"Entry point for launching an IPython kernel.\n",
            "/usr/local/lib/python3.6/dist-packages/ipykernel_launcher.py:2: SettingWithCopyWarning: \n",
            "A value is trying to be set on a copy of a slice from a DataFrame.\n",
            "Try using .loc[row_indexer,col_indexer] = value instead\n",
            "\n",
            "See the caveats in the documentation: http://pandas.pydata.org/pandas-docs/stable/user_guide/indexing.html#returning-a-view-versus-a-copy\n",
            "  \n",
            "/usr/local/lib/python3.6/dist-packages/ipykernel_launcher.py:3: SettingWithCopyWarning: \n",
            "A value is trying to be set on a copy of a slice from a DataFrame.\n",
            "Try using .loc[row_indexer,col_indexer] = value instead\n",
            "\n",
            "See the caveats in the documentation: http://pandas.pydata.org/pandas-docs/stable/user_guide/indexing.html#returning-a-view-versus-a-copy\n",
            "  This is separate from the ipykernel package so we can avoid doing imports until\n"
          ],
          "name": "stderr"
        }
      ]
    },
    {
      "cell_type": "code",
      "metadata": {
        "id": "DisEuULR9Vdt",
        "colab_type": "code",
        "outputId": "88872e99-d8e4-4215-f1bb-e3c4380630da",
        "colab": {
          "base_uri": "https://localhost:8080/",
          "height": 71
        }
      },
      "source": [
        "cb=pd.get_dummies(c)\n",
        "print(\"the shape of the original dataset\",c.shape)\n",
        "print(\"the shape of the encoded dataset\",cb.shape)\n",
        "print(\"We have \",cb.shape[1]- c.shape[1], 'new encoded features')"
      ],
      "execution_count": 0,
      "outputs": [
        {
          "output_type": "stream",
          "text": [
            "the shape of the original dataset (2919, 76)\n",
            "the shape of the encoded dataset (2919, 312)\n",
            "We have  236 new encoded features\n"
          ],
          "name": "stdout"
        }
      ]
    },
    {
      "cell_type": "code",
      "metadata": {
        "id": "T1VrYQ4S9bwW",
        "colab_type": "code",
        "outputId": "c0a19d23-4c2b-469c-e549-65d037804f4b",
        "colab": {
          "base_uri": "https://localhost:8080/",
          "height": 53
        }
      },
      "source": [
        "#왜도 값을 보정해 줘야 함 -> 로그를 취해주면 좋음\n",
        "print(\"Skewness before log transform: \", a['GrLivArea'].skew())\n",
        "print(\"Kurtosis before log transform: \", a['GrLivArea'].kurt())"
      ],
      "execution_count": 0,
      "outputs": [
        {
          "output_type": "stream",
          "text": [
            "Skewness before log transform:  1.3665603560164552\n",
            "Kurtosis before log transform:  4.895120580693174\n"
          ],
          "name": "stdout"
        }
      ]
    },
    {
      "cell_type": "code",
      "metadata": {
        "id": "1OGLsS9z93Uu",
        "colab_type": "code",
        "outputId": "5ad0331a-516d-4afd-d94f-2e5d13d9f052",
        "colab": {
          "base_uri": "https://localhost:8080/",
          "height": 145
        }
      },
      "source": [
        "from scipy.stats import skew\n",
        "\n",
        "numeric_feats = c.dtypes[c.dtypes != \"object\"].index\n",
        "\n",
        "skewed_feats = c[numeric_feats].apply(lambda x: skew(x.dropna())) #compute skewness\n",
        "skewed_feats = skewed_feats[skewed_feats > 0.75]\n",
        "skewed_feats = skewed_feats.index\n",
        "\n",
        "c[skewed_feats] = np.log1p(c[skewed_feats])"
      ],
      "execution_count": 0,
      "outputs": [
        {
          "output_type": "stream",
          "text": [
            "/usr/local/lib/python3.6/dist-packages/pandas/core/frame.py:3509: SettingWithCopyWarning: \n",
            "A value is trying to be set on a copy of a slice from a DataFrame.\n",
            "Try using .loc[row_indexer,col_indexer] = value instead\n",
            "\n",
            "See the caveats in the documentation: http://pandas.pydata.org/pandas-docs/stable/user_guide/indexing.html#returning-a-view-versus-a-copy\n",
            "  self[k1] = value[k2]\n"
          ],
          "name": "stderr"
        }
      ]
    },
    {
      "cell_type": "code",
      "metadata": {
        "id": "Mz0gcUj8965b",
        "colab_type": "code",
        "outputId": "5f7202a8-6a15-4d45-d010-28387de7da92",
        "colab": {
          "base_uri": "https://localhost:8080/",
          "height": 53
        }
      },
      "source": [
        "print(\"Skewness after log transform: \", c['GrLivArea'].skew())\n",
        "print(\"Kurtosis after log transform: \", c['GrLivArea'].kurt())"
      ],
      "execution_count": 0,
      "outputs": [
        {
          "output_type": "stream",
          "text": [
            "Skewness after log transform:  0.013194362973261277\n",
            "Kurtosis after log transform:  0.21187007351190523\n"
          ],
          "name": "stdout"
        }
      ]
    },
    {
      "cell_type": "code",
      "metadata": {
        "id": "yzNzSXRF-OJe",
        "colab_type": "code",
        "colab": {}
      },
      "source": [
        "Train = cb[:na]\n",
        "Test = cb[na:] "
      ],
      "execution_count": 0,
      "outputs": []
    },
    {
      "cell_type": "code",
      "metadata": {
        "id": "7pGE2sLP-S6_",
        "colab_type": "code",
        "outputId": "d4f39701-5b98-4183-e10d-e1224993a34a",
        "colab": {
          "base_uri": "https://localhost:8080/",
          "height": 35
        }
      },
      "source": [
        "train=Train[(Train['GrLivArea'] < 4600) & (Train['MasVnrArea'] < 1500)]\n",
        "\n",
        "print('We removed ',Train.shape[0]- train.shape[0],'outliers')"
      ],
      "execution_count": 0,
      "outputs": [
        {
          "output_type": "stream",
          "text": [
            "We removed  3 outliers\n"
          ],
          "name": "stdout"
        }
      ]
    },
    {
      "cell_type": "code",
      "metadata": {
        "id": "ydng7ulC-1HB",
        "colab_type": "code",
        "outputId": "682b3fb9-365b-44eb-fbff-60ae3cb23d2e",
        "colab": {
          "base_uri": "https://localhost:8080/",
          "height": 53
        }
      },
      "source": [
        "target=a[['SalePrice']]\n",
        "target.loc[1298]"
      ],
      "execution_count": 0,
      "outputs": [
        {
          "output_type": "execute_result",
          "data": {
            "text/plain": [
              "SalePrice    160000\n",
              "Name: 1298, dtype: int64"
            ]
          },
          "metadata": {
            "tags": []
          },
          "execution_count": 37
        }
      ]
    },
    {
      "cell_type": "code",
      "metadata": {
        "id": "1DcS2HCM-6LE",
        "colab_type": "code",
        "outputId": "c56fbde1-2f44-4ee9-d7ec-0728c6cb90c8",
        "colab": {
          "base_uri": "https://localhost:8080/",
          "height": 53
        }
      },
      "source": [
        "target.loc[523]"
      ],
      "execution_count": 0,
      "outputs": [
        {
          "output_type": "execute_result",
          "data": {
            "text/plain": [
              "SalePrice    184750\n",
              "Name: 523, dtype: int64"
            ]
          },
          "metadata": {
            "tags": []
          },
          "execution_count": 38
        }
      ]
    },
    {
      "cell_type": "code",
      "metadata": {
        "id": "5CV3Z6zA-8F_",
        "colab_type": "code",
        "outputId": "117041db-06b1-446b-ebd9-ff3179f0a7b8",
        "colab": {
          "base_uri": "https://localhost:8080/",
          "height": 127
        }
      },
      "source": [
        "pos = [1298,523, 297]\n",
        "target.drop(target.index[pos], inplace=True)"
      ],
      "execution_count": 0,
      "outputs": [
        {
          "output_type": "stream",
          "text": [
            "/usr/local/lib/python3.6/dist-packages/pandas/core/frame.py:4117: SettingWithCopyWarning: \n",
            "A value is trying to be set on a copy of a slice from a DataFrame\n",
            "\n",
            "See the caveats in the documentation: http://pandas.pydata.org/pandas-docs/stable/user_guide/indexing.html#returning-a-view-versus-a-copy\n",
            "  errors=errors,\n"
          ],
          "name": "stderr"
        }
      ]
    },
    {
      "cell_type": "code",
      "metadata": {
        "id": "vScjOnR1-_xv",
        "colab_type": "code",
        "outputId": "99033134-72e3-4ecc-9465-22bfd32e0e5a",
        "colab": {
          "base_uri": "https://localhost:8080/",
          "height": 71
        }
      },
      "source": [
        "print('We make sure that both train and target sets have the same row number after removing the outliers:')\n",
        "print( 'Train: ',train.shape[0], 'rows')\n",
        "print('Target:', target.shape[0],'rows')"
      ],
      "execution_count": 0,
      "outputs": [
        {
          "output_type": "stream",
          "text": [
            "We make sure that both train and target sets have the same row number after removing the outliers:\n",
            "Train:  1457 rows\n",
            "Target: 1457 rows\n"
          ],
          "name": "stdout"
        }
      ]
    },
    {
      "cell_type": "code",
      "metadata": {
        "id": "-Pt-cCC9_CGU",
        "colab_type": "code",
        "outputId": "d95011d8-b1ff-4e5e-95d3-a24b3b35011e",
        "colab": {
          "base_uri": "https://localhost:8080/",
          "height": 360
        }
      },
      "source": [
        "plt.style.use('seaborn')\n",
        "sns.set_style('whitegrid')\n",
        "fig = plt.figure(figsize=(15,5))\n",
        "#1 rows 2 cols\n",
        "#first row, first col\n",
        "ax1 = plt.subplot2grid((1,2),(0,0))\n",
        "plt.scatter(x=a['GrLivArea'], y=a['SalePrice'], color=('orchid'), alpha=0.5)\n",
        "plt.title('Area-Price plot with outliers',weight='bold', fontsize=18)\n",
        "plt.axvline(x=4600, color='r', linestyle='-')\n",
        "#first row sec col\n",
        "ax1 = plt.subplot2grid((1,2),(0,1))\n",
        "plt.scatter(x=train['GrLivArea'], y=target['SalePrice'], color='navy', alpha=0.5)\n",
        "plt.axvline(x=4600, color='r', linestyle='-')\n",
        "plt.title('Area-Price plot without outliers',weight='bold', fontsize=18)\n",
        "plt.show()"
      ],
      "execution_count": 0,
      "outputs": [
        {
          "output_type": "display_data",
          "data": {
            "image/png": "[encoded data removed]",
            "text/plain": [
              "<Figure size 1080x360 with 2 Axes>"
            ]
          },
          "metadata": {
            "tags": []
          }
        }
      ]
    },
    {
      "cell_type": "code",
      "metadata": {
        "id": "znxgoSrE_FWb",
        "colab_type": "code",
        "outputId": "8b0ca82b-e86b-4947-c1a6-ec646215aaf9",
        "colab": {
          "base_uri": "https://localhost:8080/",
          "height": 53
        }
      },
      "source": [
        "print(\"Skewness before log transform: \", target['SalePrice'].skew())\n",
        "print(\"Kurtosis before log transform: \",target['SalePrice'].kurt())"
      ],
      "execution_count": 0,
      "outputs": [
        {
          "output_type": "stream",
          "text": [
            "Skewness before log transform:  1.8829247000823222\n",
            "Kurtosis before log transform:  6.527120338179705\n"
          ],
          "name": "stdout"
        }
      ]
    },
    {
      "cell_type": "code",
      "metadata": {
        "id": "FVinMciq_JoW",
        "colab_type": "code",
        "outputId": "e900abc8-1a15-4840-8abd-da9392f85caf",
        "colab": {
          "base_uri": "https://localhost:8080/",
          "height": 145
        }
      },
      "source": [
        "target[\"SalePrice\"] = np.log1p(target[\"SalePrice\"])"
      ],
      "execution_count": 0,
      "outputs": [
        {
          "output_type": "stream",
          "text": [
            "/usr/local/lib/python3.6/dist-packages/ipykernel_launcher.py:1: SettingWithCopyWarning: \n",
            "A value is trying to be set on a copy of a slice from a DataFrame.\n",
            "Try using .loc[row_indexer,col_indexer] = value instead\n",
            "\n",
            "See the caveats in the documentation: http://pandas.pydata.org/pandas-docs/stable/user_guide/indexing.html#returning-a-view-versus-a-copy\n",
            "  \"\"\"Entry point for launching an IPython kernel.\n"
          ],
          "name": "stderr"
        }
      ]
    },
    {
      "cell_type": "code",
      "metadata": {
        "id": "mMWtNxZ2_MM5",
        "colab_type": "code",
        "outputId": "b284b7ec-9165-4c4f-c51e-c4c7302a032b",
        "colab": {
          "base_uri": "https://localhost:8080/",
          "height": 360
        }
      },
      "source": [
        "plt.style.use('seaborn')\n",
        "sns.set_style('whitegrid')\n",
        "fig = plt.figure(figsize=(15,5))\n",
        "#1 rows 2 cols\n",
        "#first row, first col\n",
        "ax1 = plt.subplot2grid((1,2),(0,0))\n",
        "plt.hist(a.SalePrice, bins=10, color='mediumpurple',alpha=0.5)\n",
        "plt.title('Sale price distribution before normalization',weight='bold', fontsize=18)\n",
        "#first row sec col\n",
        "ax1 = plt.subplot2grid((1,2),(0,1))\n",
        "plt.hist(target.SalePrice, bins=10, color='darkcyan',alpha=0.5)\n",
        "plt.title('Sale price distribution after normalization',weight='bold', fontsize=18)\n",
        "plt.show()"
      ],
      "execution_count": 0,
      "outputs": [
        {
          "output_type": "display_data",
          "data": {
            "image/png": "[encoded data removed]",
            "text/plain": [
              "<Figure size 1080x360 with 2 Axes>"
            ]
          },
          "metadata": {
            "tags": []
          }
        }
      ]
    },
    {
      "cell_type": "code",
      "metadata": {
        "id": "w3S-owTa_OSg",
        "colab_type": "code",
        "outputId": "c3dbf669-78fd-4bd7-aee4-608a8aba2ed6",
        "colab": {
          "base_uri": "https://localhost:8080/",
          "height": 53
        }
      },
      "source": [
        "print(\"Skewness after log transform: \", target['SalePrice'].skew())\n",
        "print(\"Kurtosis after log transform: \",target['SalePrice'].kurt())"
      ],
      "execution_count": 0,
      "outputs": [
        {
          "output_type": "stream",
          "text": [
            "Skewness after log transform:  0.12299462625720967\n",
            "Kurtosis after log transform:  0.8062416349541652\n"
          ],
          "name": "stdout"
        }
      ]
    },
    {
      "cell_type": "code",
      "metadata": {
        "id": "iecYv3ma_RJu",
        "colab_type": "code",
        "colab": {}
      },
      "source": [
        "x=train\n",
        "y=np.array(target)"
      ],
      "execution_count": 0,
      "outputs": []
    },
    {
      "cell_type": "code",
      "metadata": {
        "id": "Dtx0EGi3_Tkx",
        "colab_type": "code",
        "colab": {}
      },
      "source": [
        "from sklearn.model_selection import train_test_split\n",
        "x_train, x_test, y_train, y_test = train_test_split(x, y,test_size = .33, random_state=0)"
      ],
      "execution_count": 0,
      "outputs": []
    },
    {
      "cell_type": "code",
      "metadata": {
        "id": "TIcwYFbb_VkL",
        "colab_type": "code",
        "colab": {}
      },
      "source": [
        "from sklearn.preprocessing import RobustScaler\n",
        "scaler= RobustScaler()\n",
        "# transform \"x_train\"\n",
        "x_train = scaler.fit_transform(x_train)\n",
        "# transform \"x_test\"\n",
        "x_test = scaler.transform(x_test)\n",
        "#Transform the test set\n",
        "X_test= scaler.transform(Test)"
      ],
      "execution_count": 0,
      "outputs": []
    },
    {
      "cell_type": "code",
      "metadata": {
        "id": "5Qfd6sTY_ZXd",
        "colab_type": "code",
        "outputId": "d834801b-97cd-4b14-eff8-ff5d146e6c91",
        "colab": {
          "base_uri": "https://localhost:8080/",
          "height": 53
        }
      },
      "source": [
        "from sklearn.linear_model import LinearRegression\n",
        "from sklearn.model_selection import cross_val_score, GridSearchCV, KFold, RandomizedSearchCV, train_test_split\n",
        "import math\n",
        "import sklearn.model_selection as ms\n",
        "import sklearn.metrics as sklm\n",
        "\n",
        "lreg=LinearRegression()\n",
        "MSEs=ms.cross_val_score(lreg, x, y, scoring='neg_mean_squared_error', cv=5)\n",
        "meanMSE=np.mean(MSEs)\n",
        "print(meanMSE)\n",
        "print('RMSE = '+str(math.sqrt(-meanMSE)))"
      ],
      "execution_count": 0,
      "outputs": [
        {
          "output_type": "stream",
          "text": [
            "-843.1493313448473\n",
            "RMSE = 29.037033790400272\n"
          ],
          "name": "stdout"
        }
      ]
    },
    {
      "cell_type": "code",
      "metadata": {
        "id": "9qfzyDSO_elT",
        "colab_type": "code",
        "outputId": "08ddfb6e-5181-4db2-bf1b-d48137290e01",
        "colab": {
          "base_uri": "https://localhost:8080/",
          "height": 53
        }
      },
      "source": [
        "import sklearn.model_selection as GridSearchCV\n",
        "from sklearn.linear_model import Ridge\n",
        "\n",
        "ridge=Ridge()\n",
        "parameters= {'alpha':[x for x in range(1,101)]}\n",
        "\n",
        "ridge_reg=ms.GridSearchCV(ridge, param_grid=parameters, scoring='neg_mean_squared_error', cv=15)\n",
        "ridge_reg.fit(x_train,y_train)\n",
        "print(\"The best value of Alpha is: \",ridge_reg.best_params_)\n",
        "print(\"The best score achieved with Alpha=14 is: \",math.sqrt(-ridge_reg.best_score_))"
      ],
      "execution_count": 0,
      "outputs": [
        {
          "output_type": "stream",
          "text": [
            "The best value of Alpha is:  {'alpha': 19}\n",
            "The best score achieved with Alpha=14 is:  0.11466410440453538\n"
          ],
          "name": "stdout"
        }
      ]
    },
    {
      "cell_type": "code",
      "metadata": {
        "id": "DNFRBQqa_yoI",
        "colab_type": "code",
        "outputId": "013d385b-a9d6-465c-e4fb-9803941032b3",
        "colab": {
          "base_uri": "https://localhost:8080/",
          "height": 53
        }
      },
      "source": [
        "ridge_mod=Ridge(alpha=19)\n",
        "ridge_mod.fit(x_train,y_train)\n",
        "y_pred_train=ridge_mod.predict(x_train)\n",
        "y_pred_test=ridge_mod.predict(x_test)\n",
        "\n",
        "print('Root Mean Square Error train = ' + str(math.sqrt(sklm.mean_squared_error(y_train, y_pred_train))))\n",
        "print('Root Mean Square Error test = ' + str(math.sqrt(sklm.mean_squared_error(y_test, y_pred_test))))   "
      ],
      "execution_count": 0,
      "outputs": [
        {
          "output_type": "stream",
          "text": [
            "Root Mean Square Error train = 0.0942565848310746\n",
            "Root Mean Square Error test = 0.11416603124671765\n"
          ],
          "name": "stdout"
        }
      ]
    },
    {
      "cell_type": "code",
      "metadata": {
        "id": "cPzHHHA-_7oR",
        "colab_type": "code",
        "outputId": "dc0dc97b-146b-4682-f2a1-e2a1c546f771",
        "colab": {
          "base_uri": "https://localhost:8080/",
          "height": 595
        }
      },
      "source": [
        "from sklearn.linear_model import Lasso\n",
        "\n",
        "parameters= {'alpha':[0.0001,0.0009,0.001,0.002,0.003,0.01,0.1,1,10,100]}\n",
        "\n",
        "lasso=Lasso()\n",
        "lasso_reg=ms.GridSearchCV(lasso, param_grid=parameters, scoring='neg_mean_squared_error', cv=15)\n",
        "lasso_reg.fit(x_train,y_train)\n",
        "\n",
        "print('The best value of Alpha is: ',lasso_reg.best_params_)"
      ],
      "execution_count": 0,
      "outputs": [
        {
          "output_type": "stream",
          "text": [
            "/usr/local/lib/python3.6/dist-packages/sklearn/linear_model/_coordinate_descent.py:476: ConvergenceWarning: Objective did not converge. You might want to increase the number of iterations. Duality gap: 2.235782260552761, tolerance: 0.014337348695729273\n",
            "  positive)\n",
            "/usr/local/lib/python3.6/dist-packages/sklearn/linear_model/_coordinate_descent.py:476: ConvergenceWarning: Objective did not converge. You might want to increase the number of iterations. Duality gap: 2.1548082543359035, tolerance: 0.014098270889750604\n",
            "  positive)\n",
            "/usr/local/lib/python3.6/dist-packages/sklearn/linear_model/_coordinate_descent.py:476: ConvergenceWarning: Objective did not converge. You might want to increase the number of iterations. Duality gap: 2.4305034915344774, tolerance: 0.013936688230136017\n",
            "  positive)\n",
            "/usr/local/lib/python3.6/dist-packages/sklearn/linear_model/_coordinate_descent.py:476: ConvergenceWarning: Objective did not converge. You might want to increase the number of iterations. Duality gap: 2.5842457099232434, tolerance: 0.014532974888958394\n",
            "  positive)\n",
            "/usr/local/lib/python3.6/dist-packages/sklearn/linear_model/_coordinate_descent.py:476: ConvergenceWarning: Objective did not converge. You might want to increase the number of iterations. Duality gap: 2.2178833343707693, tolerance: 0.014318635461382134\n",
            "  positive)\n",
            "/usr/local/lib/python3.6/dist-packages/sklearn/linear_model/_coordinate_descent.py:476: ConvergenceWarning: Objective did not converge. You might want to increase the number of iterations. Duality gap: 2.8041043101224052, tolerance: 0.01417002293062289\n",
            "  positive)\n",
            "/usr/local/lib/python3.6/dist-packages/sklearn/linear_model/_coordinate_descent.py:476: ConvergenceWarning: Objective did not converge. You might want to increase the number of iterations. Duality gap: 2.0689072410165457, tolerance: 0.014476067387568388\n",
            "  positive)\n",
            "/usr/local/lib/python3.6/dist-packages/sklearn/linear_model/_coordinate_descent.py:476: ConvergenceWarning: Objective did not converge. You might want to increase the number of iterations. Duality gap: 1.093888805229501, tolerance: 0.014370245123998447\n",
            "  positive)\n",
            "/usr/local/lib/python3.6/dist-packages/sklearn/linear_model/_coordinate_descent.py:476: ConvergenceWarning: Objective did not converge. You might want to increase the number of iterations. Duality gap: 1.5302264607940774, tolerance: 0.014493246419504908\n",
            "  positive)\n",
            "/usr/local/lib/python3.6/dist-packages/sklearn/linear_model/_coordinate_descent.py:476: ConvergenceWarning: Objective did not converge. You might want to increase the number of iterations. Duality gap: 2.0558085647806266, tolerance: 0.014621635627413003\n",
            "  positive)\n",
            "/usr/local/lib/python3.6/dist-packages/sklearn/linear_model/_coordinate_descent.py:476: ConvergenceWarning: Objective did not converge. You might want to increase the number of iterations. Duality gap: 2.2878647044118803, tolerance: 0.01444256532407834\n",
            "  positive)\n",
            "/usr/local/lib/python3.6/dist-packages/sklearn/linear_model/_coordinate_descent.py:476: ConvergenceWarning: Objective did not converge. You might want to increase the number of iterations. Duality gap: 2.385223881796338, tolerance: 0.014204280768030614\n",
            "  positive)\n",
            "/usr/local/lib/python3.6/dist-packages/sklearn/linear_model/_coordinate_descent.py:476: ConvergenceWarning: Objective did not converge. You might want to increase the number of iterations. Duality gap: 2.0262637711880354, tolerance: 0.014685492036584816\n",
            "  positive)\n",
            "/usr/local/lib/python3.6/dist-packages/sklearn/linear_model/_coordinate_descent.py:476: ConvergenceWarning: Objective did not converge. You might want to increase the number of iterations. Duality gap: 1.4348634440676875, tolerance: 0.01430015034886365\n",
            "  positive)\n",
            "/usr/local/lib/python3.6/dist-packages/sklearn/linear_model/_coordinate_descent.py:476: ConvergenceWarning: Objective did not converge. You might want to increase the number of iterations. Duality gap: 2.902344056525398, tolerance: 0.014499580216334516\n",
            "  positive)\n"
          ],
          "name": "stderr"
        },
        {
          "output_type": "stream",
          "text": [
            "The best value of Alpha is:  {'alpha': 0.0009}\n"
          ],
          "name": "stdout"
        }
      ]
    },
    {
      "cell_type": "code",
      "metadata": {
        "id": "B68CLGcK__76",
        "colab_type": "code",
        "outputId": "cdd12eaa-deaf-4eac-cf9f-5110b9f16272",
        "colab": {
          "base_uri": "https://localhost:8080/",
          "height": 53
        }
      },
      "source": [
        "lasso_mod=Lasso(alpha=0.0009)\n",
        "lasso_mod.fit(x_train,y_train)\n",
        "y_lasso_train=lasso_mod.predict(x_train)\n",
        "y_lasso_test=lasso_mod.predict(x_test)\n",
        "\n",
        "print('Root Mean Square Error train = ' + str(math.sqrt(sklm.mean_squared_error(y_train, y_lasso_train))))\n",
        "print('Root Mean Square Error test = ' + str(math.sqrt(sklm.mean_squared_error(y_test, y_lasso_test))))"
      ],
      "execution_count": 0,
      "outputs": [
        {
          "output_type": "stream",
          "text": [
            "Root Mean Square Error train = 0.09924012932671498\n",
            "Root Mean Square Error test = 0.11069063861528478\n"
          ],
          "name": "stdout"
        }
      ]
    },
    {
      "cell_type": "code",
      "metadata": {
        "id": "ebb2ZwrrAH6A",
        "colab_type": "code",
        "outputId": "b08e9ddf-6628-4b30-9b44-b1886463a7f1",
        "colab": {
          "base_uri": "https://localhost:8080/",
          "height": 377
        }
      },
      "source": [
        "coefs = pd.Series(lasso_mod.coef_, index = x.columns)\n",
        "\n",
        "imp_coefs = pd.concat([coefs.sort_values().head(10),\n",
        "                     coefs.sort_values().tail(10)])\n",
        "imp_coefs.plot(kind = \"barh\", color='yellowgreen')\n",
        "plt.xlabel(\"Lasso coefficient\", weight='bold')\n",
        "plt.title(\"Feature importance in the Lasso Model\", weight='bold')\n",
        "plt.show()"
      ],
      "execution_count": 0,
      "outputs": [
        {
          "output_type": "display_data",
          "data": {
            "image/png": "[encoded data removed]",
            "text/plain": [
              "<Figure size 576x396 with 1 Axes>"
            ]
          },
          "metadata": {
            "tags": []
          }
        }
      ]
    },
    {
      "cell_type": "code",
      "metadata": {
        "id": "vIRgosRmAMri",
        "colab_type": "code",
        "outputId": "3373c85e-5606-401e-8c3d-274a480c6b3a",
        "colab": {
          "base_uri": "https://localhost:8080/",
          "height": 35
        }
      },
      "source": [
        "print(\"Lasso kept \",sum(coefs != 0), \"important features and dropped the other \", sum(coefs == 0),\" features\")"
      ],
      "execution_count": 0,
      "outputs": [
        {
          "output_type": "stream",
          "text": [
            "Lasso kept  88 important features and dropped the other  224  features\n"
          ],
          "name": "stdout"
        }
      ]
    },
    {
      "cell_type": "code",
      "metadata": {
        "id": "zlc210o6ATsv",
        "colab_type": "code",
        "outputId": "a16dff31-756b-4555-8e8e-e7a3d3b55300",
        "colab": {
          "base_uri": "https://localhost:8080/",
          "height": 53
        }
      },
      "source": [
        "from sklearn.linear_model import ElasticNetCV\n",
        "\n",
        "alphas = [10,1,0.1,0.01,0.001,0.002,0.003,0.004,0.005,0.00054255]\n",
        "l1ratio = [0.1, 0.3,0.5, 0.9, 0.95, 0.99, 1]\n",
        "\n",
        "elastic_cv = ElasticNetCV(cv=5, max_iter=1e7, alphas=alphas,  l1_ratio=l1ratio)\n",
        "\n",
        "elasticmod = elastic_cv.fit(x_train, y_train.ravel())\n",
        "ela_pred=elasticmod.predict(x_test)\n",
        "print('Root Mean Square Error test = ' + str(math.sqrt(sklm.mean_squared_error(y_test, ela_pred))))\n",
        "print(elastic_cv.alpha_)"
      ],
      "execution_count": 0,
      "outputs": [
        {
          "output_type": "stream",
          "text": [
            "Root Mean Square Error test = 0.11412946425369974\n",
            "0.003\n"
          ],
          "name": "stdout"
        }
      ]
    },
    {
      "cell_type": "code",
      "metadata": {
        "id": "NaxTwTVWAbWa",
        "colab_type": "code",
        "outputId": "8ca025b1-7e17-4e51-d7a7-13de5a16d774",
        "colab": {
          "base_uri": "https://localhost:8080/",
          "height": 53
        }
      },
      "source": [
        "from sklearn.linear_model import ElasticNetCV\n",
        "\n",
        "alphas = [0.003]\n",
        "l1ratio = [0.1, 0.3,0.5, 0.9, 0.95, 0.99, 1]\n",
        "\n",
        "elastic_cv = ElasticNetCV(cv=5, max_iter=1e7, alphas=alphas,  l1_ratio=l1ratio)\n",
        "\n",
        "elasticmod = elastic_cv.fit(x_train, y_train.ravel())\n",
        "ela_pred=elasticmod.predict(x_test)\n",
        "print('Root Mean Square Error test = ' + str(math.sqrt(sklm.mean_squared_error(y_test, ela_pred))))\n",
        "print(elastic_cv.alpha_)"
      ],
      "execution_count": 0,
      "outputs": [
        {
          "output_type": "stream",
          "text": [
            "Root Mean Square Error test = 0.11412946425369974\n",
            "0.003\n"
          ],
          "name": "stdout"
        }
      ]
    },
    {
      "cell_type": "code",
      "metadata": {
        "id": "51iPY6qSAlTy",
        "colab_type": "code",
        "outputId": "1eba577a-ebc3-4c17-c04c-cb0218651c6e",
        "colab": {
          "base_uri": "https://localhost:8080/",
          "height": 55
        }
      },
      "source": [
        "'''from xgboost.sklearn import XGBRegressor\n",
        "\n",
        "xg_reg = XGBRegressor()\n",
        "xgparam_grid= {'learning_rate' : [0.01],'n_estimators':[2000, 3460, 4000],\n",
        "                                     'max_depth':[3], 'min_child_weight':[0,3,5],\n",
        "                                     'colsample_bytree':[0.5,0.7],\n",
        "                                     'reg_alpha':[0.0001,0.001,0.01,0.1,10,100],\n",
        "                                    'reg_lambda':[1,0.01,0.8,0.001,0.0001]}\n",
        "\n",
        "xg_grid = GridSearchCV.GridSearchCV(xg_reg, param_grid=xgparam_grid, cv=5, scoring='neg_mean_squared_error', n_jobs=-1)\n",
        "xg_grid.fit(x_train,y_train)\n",
        "print(xg_grid.best_estimator_)\n",
        "print(xg_grid.best_score_)'''"
      ],
      "execution_count": 0,
      "outputs": [
        {
          "output_type": "execute_result",
          "data": {
            "text/plain": [
              "\"from xgboost.sklearn import XGBRegressor\\n\\nxg_reg = XGBRegressor()\\nxgparam_grid= {'learning_rate' : [0.01],'n_estimators':[2000, 3460, 4000],\\n                                     'max_depth':[3], 'min_child_weight':[0,3,5],\\n                                     'colsample_bytree':[0.5,0.7],\\n                                     'reg_alpha':[0.0001,0.001,0.01,0.1,10,100],\\n                                    'reg_lambda':[1,0.01,0.8,0.001,0.0001]}\\n\\nxg_grid = GridSearchCV.GridSearchCV(xg_reg, param_grid=xgparam_grid, cv=5, scoring='neg_mean_squared_error', n_jobs=-1)\\nxg_grid.fit(x_train,y_train)\\nprint(xg_grid.best_estimator_)\\nprint(xg_grid.best_score_)\""
            ]
          },
          "metadata": {
            "tags": []
          },
          "execution_count": 58
        }
      ]
    },
    {
      "cell_type": "code",
      "metadata": {
        "id": "X6-cRt2XAski",
        "colab_type": "code",
        "outputId": "e99dca0e-9af0-4f55-a920-64ea4446eb70",
        "colab": {
          "base_uri": "https://localhost:8080/",
          "height": 35
        }
      },
      "source": [
        "from xgboost.sklearn import XGBRegressor\n",
        "xgb= XGBRegressor(base_score=0.5, booster='gbtree', colsample_bylevel=1,\n",
        "             colsample_bynode=1, colsample_bytree=0.5, gamma=0,\n",
        "             importance_type='gain', learning_rate=0.01, max_delta_step=0,\n",
        "             max_depth=3, min_child_weight=0, missing=None, n_estimators=4000,\n",
        "             n_jobs=1, nthread=None, objective='reg:squarederror', random_state=0,\n",
        "             reg_alpha=0.0001, reg_lambda=0.01, scale_pos_weight=1, seed=None,\n",
        "             silent=None, subsample=1, verbosity=1)\n",
        "xgmod=xgb.fit(x_train,y_train)\n",
        "xg_pred=xgmod.predict(x_test)\n",
        "print('Root Mean Square Error test = ' + str(math.sqrt(sklm.mean_squared_error(y_test, xg_pred))))"
      ],
      "execution_count": 0,
      "outputs": [
        {
          "output_type": "stream",
          "text": [
            "Root Mean Square Error test = 0.11613085302161598\n"
          ],
          "name": "stdout"
        }
      ]
    },
    {
      "cell_type": "code",
      "metadata": {
        "id": "kE097MrRB_Ys",
        "colab_type": "code",
        "outputId": "e0623fbe-a6c0-4bd8-a192-6c9f62d11cef",
        "colab": {
          "base_uri": "https://localhost:8080/",
          "height": 35
        }
      },
      "source": [
        "from sklearn.ensemble import VotingRegressor\n",
        "\n",
        "vote_mod = VotingRegressor([('Ridge', ridge_mod), ('Lasso', lasso_mod), ('Elastic', elastic_cv), \n",
        "                            ('XGBRegressor', xgb)])\n",
        "vote= vote_mod.fit(x_train, y_train.ravel())\n",
        "vote_pred=vote.predict(x_test)\n",
        "\n",
        "print('Root Mean Square Error test = ' + str(math.sqrt(sklm.mean_squared_error(y_test, vote_pred))))"
      ],
      "execution_count": 0,
      "outputs": [
        {
          "output_type": "stream",
          "text": [
            "Root Mean Square Error test = 0.10913969846952667\n"
          ],
          "name": "stdout"
        }
      ]
    },
    {
      "cell_type": "code",
      "metadata": {
        "id": "FQBonFZrCG7D",
        "colab_type": "code",
        "outputId": "b51a2a6c-2b00-4f33-a6ab-477e8374219c",
        "colab": {
          "base_uri": "https://localhost:8080/",
          "height": 35
        }
      },
      "source": [
        "from mlxtend.regressor import StackingRegressor\n",
        "\n",
        "\n",
        "stregr = StackingRegressor(regressors=[elastic_cv,ridge_mod, lasso_mod, vote_mod], \n",
        "                           meta_regressor=xgb, use_features_in_secondary=True\n",
        "                          )\n",
        "\n",
        "stack_mod=stregr.fit(x_train, y_train.ravel())\n",
        "stacking_pred=stack_mod.predict(x_test)\n",
        "\n",
        "print('Root Mean Square Error test = ' + str(math.sqrt(sklm.mean_squared_error(y_test, stacking_pred))))"
      ],
      "execution_count": 0,
      "outputs": [
        {
          "output_type": "stream",
          "text": [
            "Root Mean Square Error test = 0.11301226275302864\n"
          ],
          "name": "stdout"
        }
      ]
    },
    {
      "cell_type": "code",
      "metadata": {
        "id": "heF6zHM7CdZb",
        "colab_type": "code",
        "outputId": "62868f3c-decc-45a2-f544-4d496009e5e8",
        "colab": {
          "base_uri": "https://localhost:8080/",
          "height": 35
        }
      },
      "source": [
        "final_test=(0.2*vote_pred+0.6*stacking_pred+ 0.2*y_lasso_test)\n",
        "print('Root Mean Square Error test = ' + str(math.sqrt(sklm.mean_squared_error(y_test, final_test))))"
      ],
      "execution_count": 0,
      "outputs": [
        {
          "output_type": "stream",
          "text": [
            "Root Mean Square Error test = 0.10948652905830386\n"
          ],
          "name": "stdout"
        }
      ]
    },
    {
      "cell_type": "code",
      "metadata": {
        "id": "ULJAsRJZCd64",
        "colab_type": "code",
        "colab": {}
      },
      "source": [
        "#VotingRegressor to predict the final Test\n",
        "vote_test = vote_mod.predict(X_test)\n",
        "final1=np.expm1(vote_test)\n",
        "\n",
        "#StackingRegressor to predict the final Test\n",
        "stack_test = stregr.predict(X_test)\n",
        "final2=np.expm1(stack_test)\n",
        "\n",
        "#LassoRegressor to predict the final Test\n",
        "lasso_test = lasso_mod.predict(X_test)\n",
        "final3=np.expm1(lasso_test)"
      ],
      "execution_count": 0,
      "outputs": []
    },
    {
      "cell_type": "code",
      "metadata": {
        "id": "w-b4OX5wClfS",
        "colab_type": "code",
        "outputId": "39655528-b4cd-4f3a-ccc2-8d146c50e73b",
        "colab": {
          "base_uri": "https://localhost:8080/",
          "height": 204
        }
      },
      "source": [
        "#Submission of the results predicted by the average of Voting/Stacking/Lasso\n",
        "final=(0.2*final1+0.6*final2+0.2*final3)\n",
        "\n",
        "final_submission = pd.DataFrame({\n",
        "        \"Id\": b[\"Id\"],\n",
        "        \"SalePrice\": final\n",
        "    })\n",
        "final_submission.to_csv(\"final_submission2.csv\", index=False)\n",
        "final_submission.head()"
      ],
      "execution_count": 0,
      "outputs": [
        {
          "output_type": "execute_result",
          "data": {
            "text/html": [
              "<div>\n",
              "<style scoped>\n",
              "    .dataframe tbody tr th:only-of-type {\n",
              "        vertical-align: middle;\n",
              "    }\n",
              "\n",
              "    .dataframe tbody tr th {\n",
              "        vertical-align: top;\n",
              "    }\n",
              "\n",
              "    .dataframe thead th {\n",
              "        text-align: right;\n",
              "    }\n",
              "</style>\n",
              "<table border=\"1\" class=\"dataframe\">\n",
              "  <thead>\n",
              "    <tr style=\"text-align: right;\">\n",
              "      <th></th>\n",
              "      <th>Id</th>\n",
              "      <th>SalePrice</th>\n",
              "    </tr>\n",
              "  </thead>\n",
              "  <tbody>\n",
              "    <tr>\n",
              "      <th>0</th>\n",
              "      <td>1461</td>\n",
              "      <td>121198.407530</td>\n",
              "    </tr>\n",
              "    <tr>\n",
              "      <th>1</th>\n",
              "      <td>1462</td>\n",
              "      <td>158872.007980</td>\n",
              "    </tr>\n",
              "    <tr>\n",
              "      <th>2</th>\n",
              "      <td>1463</td>\n",
              "      <td>181153.589277</td>\n",
              "    </tr>\n",
              "    <tr>\n",
              "      <th>3</th>\n",
              "      <td>1464</td>\n",
              "      <td>195265.268864</td>\n",
              "    </tr>\n",
              "    <tr>\n",
              "      <th>4</th>\n",
              "      <td>1465</td>\n",
              "      <td>190070.376947</td>\n",
              "    </tr>\n",
              "  </tbody>\n",
              "</table>\n",
              "</div>"
            ],
            "text/plain": [
              "     Id      SalePrice\n",
              "0  1461  121198.407530\n",
              "1  1462  158872.007980\n",
              "2  1463  181153.589277\n",
              "3  1464  195265.268864\n",
              "4  1465  190070.376947"
            ]
          },
          "metadata": {
            "tags": []
          },
          "execution_count": 65
        }
      ]
    },
    {
      "cell_type": "code",
      "metadata": {
        "id": "rvqvfIt6Cn4r",
        "colab_type": "code",
        "outputId": "12d3d25f-50ad-4017-a3ad-053c72bcc6d8",
        "colab": {
          "base_uri": "https://localhost:8080/",
          "height": 53
        }
      },
      "source": [
        "!ls"
      ],
      "execution_count": 0,
      "outputs": [
        {
          "output_type": "stream",
          "text": [
            "data_description.txt   kaggle.json  sample_submission.csv  train.csv\n",
            "final_submission2.csv  sample_data  test.csv\n"
          ],
          "name": "stdout"
        }
      ]
    },
    {
      "cell_type": "code",
      "metadata": {
        "id": "mYHeJisvCuNv",
        "colab_type": "code",
        "colab": {}
      },
      "source": [
        "files.download('final_submission2.csv')"
      ],
      "execution_count": 0,
      "outputs": []
    },
    {
      "cell_type": "code",
      "metadata": {
        "id": "o2SmS6msC1kv",
        "colab_type": "code",
        "colab": {}
      },
      "source": [
        ""
      ],
      "execution_count": 0,
      "outputs": []
    }
  ]
}